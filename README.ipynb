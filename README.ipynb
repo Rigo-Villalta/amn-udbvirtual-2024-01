{
 "cells": [
  {
   "cell_type": "markdown",
   "metadata": {},
   "source": [
    "#Notebooks para Análisis de Métodos Numéricos. Universidad Don Bosco, Ciclo 01 2024.\n"
   ]
  },
  {
   "cell_type": "markdown",
   "metadata": {},
   "source": [
    "El presente repositorio es un conjunto de cuadernos de trabajo en jupyter para desarrollar la materia de Análisis de Métodos Númericos de UDB Virtual en el Ciclo 01 2024.\n",
    "\n",
    "Autor: Rigoberto Alcides Villalta - VV000329"
   ]
  }
 ],
 "metadata": {
  "kernelspec": {
   "display_name": "venv",
   "language": "python",
   "name": "python3"
  },
  "language_info": {
   "name": "python",
   "version": "3.10.12"
  }
 },
 "nbformat": 4,
 "nbformat_minor": 2
}
