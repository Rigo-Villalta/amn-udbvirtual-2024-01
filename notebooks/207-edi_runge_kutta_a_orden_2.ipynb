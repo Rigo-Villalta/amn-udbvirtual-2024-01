{
 "cells": [
  {
   "cell_type": "markdown",
   "metadata": {},
   "source": [
    "Ejemplo de vídeo https://youtu.be/L49aY9cecjc?si=p9nB3onkcMgKrgRt hecho con Runge-Kutta de orden 2 para comparar resultados y tener un ejemplo\n",
    "\n",
    "NOTA: Si sale un ejercicio de orden 2 o 3 nos tienen que proporcionar las constantes."
   ]
  },
  {
   "cell_type": "code",
   "execution_count": 7,
   "metadata": {},
   "outputs": [
    {
     "data": {
      "text/latex": [
       "$\\displaystyle \\operatorname{fy}{\\left(t \\right)} = \\frac{t \\left(\\sin{\\left(2 t \\right)} + \\frac{2}{\\pi}\\right)}{2}$"
      ],
      "text/plain": [
       "Eq(fy(t), t*(sin(2*t) + 2/pi)/2)"
      ]
     },
     "execution_count": 7,
     "metadata": {},
     "output_type": "execute_result"
    }
   ],
   "source": [
    "from sympy import *\n",
    "from numpy import arange\n",
    "\n",
    "fy = symbols(\"fy\", cls=Function)\n",
    "t, y = symbols(\"t y\")\n",
    "\n",
    "h = pi/16\n",
    "\n",
    "eq = Eq(fy(t).diff(),(fy(t)/t) + t*cos(2*t))\n",
    "f = (y/t) + t*cos(2*t)\n",
    "\n",
    "\n",
    "# Calculamos la solucion particular F\n",
    "condiciones_iniciales = {fy(pi):1}\n",
    "F = dsolve(eq, ics=condiciones_iniciales, hint='lie_group',)\n",
    "F"
   ]
  },
  {
   "cell_type": "code",
   "execution_count": 8,
   "metadata": {},
   "outputs": [
    {
     "data": {
      "text/plain": [
       "[pi, 17*pi/16, 9*pi/8, 19*pi/16, 5*pi/4, 21*pi/16, 11*pi/8, 23*pi/16, 3*pi/2]"
      ]
     },
     "execution_count": 8,
     "metadata": {},
     "output_type": "execute_result"
    }
   ],
   "source": [
    "# creamos nuestro intervalo\n",
    "T = [t for t in arange(pi, ((3*pi) /2) + h/2, h)]\n",
    "T"
   ]
  },
  {
   "cell_type": "code",
   "execution_count": 9,
   "metadata": {},
   "outputs": [
    {
     "data": {
      "text/plain": [
       "[1,\n",
       " 1.7736056430171907,\n",
       " 2.5235672535025784,\n",
       " 3.1301428170274463,\n",
       " 3.487595498731741,\n",
       " 3.5240555120738044,\n",
       " 3.2168293446922256,\n",
       " 2.600171953184987,\n",
       " 1.7636903485140474]"
      ]
     },
     "execution_count": 9,
     "metadata": {},
     "output_type": "execute_result"
    }
   ],
   "source": [
    "# Declaro la lista con y_0 = 0\n",
    "\n",
    "Y = [1]\n",
    "K1 = [0]\n",
    "K2 = [0]\n",
    "\n",
    "# Hago un for para aplicar la fórmula\n",
    "for i in range(1, len(T)):\n",
    "    k1 = f.subs({t: T[i-1], y: Y[i-1]})\n",
    "    k2 = f.subs({t: T[i-1] + h, y: Y[i-1] + k1})\n",
    "    K1.append(k1)\n",
    "    K2.append(k2)\n",
    "    Y.append(float(Y[i-1] + h*0.5*(k1 + k2 )))\n",
    "\n",
    "Y"
   ]
  },
  {
   "cell_type": "code",
   "execution_count": 10,
   "metadata": {},
   "outputs": [
    {
     "data": {
      "text/plain": [
       "[1.0,\n",
       " 1.701187588002118,\n",
       " 2.3745608263570404,\n",
       " 2.910831559082787,\n",
       " 3.2134954084936207,\n",
       " 3.2172348810915015,\n",
       " 2.9022410099919385,\n",
       " 2.301606736708748,\n",
       " 1.5]"
      ]
     },
     "execution_count": 10,
     "metadata": {},
     "output_type": "execute_result"
    }
   ],
   "source": [
    "# Si la solución particular es viable,\n",
    "# calculamos los valores exactos\n",
    "solucion_exacta = []\n",
    "for i in range(len(T)):\n",
    "    solucion_exacta.append(float(F.rhs.subs({t: T[i]})))\n",
    "solucion_exacta"
   ]
  },
  {
   "cell_type": "code",
   "execution_count": 13,
   "metadata": {},
   "outputs": [
    {
     "data": {
      "text/html": [
       "<pre style=\"white-space:pre;overflow-x:auto;line-height:normal;font-family:Menlo,'DejaVu Sans Mono',consolas,'Courier New',monospace\">┏━━━━━━━━━━━━━━━━━━┳━━━━━━━━━━━━━━━━━━┳━━━━━━━━━━━━━━━━━━┳━━━━━━━━━━━━━━━━━━┳━━━━━━━━━━━━━━━━━━┳━━━━━━━━━━━━━━━━━━┓\n",
       "┃<span style=\"font-weight: bold\"> ti               </span>┃<span style=\"font-weight: bold\"> k1               </span>┃<span style=\"font-weight: bold\"> k2               </span>┃<span style=\"font-weight: bold\"> Yi               </span>┃<span style=\"font-weight: bold\"> F(ti)            </span>┃<span style=\"font-weight: bold\"> Error            </span>┃\n",
       "┡━━━━━━━━━━━━━━━━━━╇━━━━━━━━━━━━━━━━━━╇━━━━━━━━━━━━━━━━━━╇━━━━━━━━━━━━━━━━━━╇━━━━━━━━━━━━━━━━━━╇━━━━━━━━━━━━━━━━━━┩\n",
       "│ 3.14159265358979 │ 0.0              │ 0.0              │ 1.0              │ 1.0              │ 0.0              │\n",
       "│ 3                │                  │                  │                  │                  │                  │\n",
       "│ 3.33794219443915 │ 3.45990253977358 │ 4.41997983398450 │ 1.77360564301719 │ 1.70118758800211 │ 0.07241805501507 │\n",
       "│ 54               │ 4                │ 2                │ 07               │ 8                │ 281              │\n",
       "│ 3.53429173528851 │ 3.61520349566695 │ 4.02384274035916 │ 2.52356725350257 │ 2.37456082635704 │ 0.14900642714553 │\n",
       "│ 73               │ 08               │ 5                │ 84               │ 04               │ 802              │\n",
       "│ 3.73064127613787 │ 3.21314512403812 │ 2.96538283076090 │ 3.13014281702744 │ 2.91083155908278 │ 0.21931125794465 │\n",
       "│ 95               │ 3                │ 05               │ 63               │ 7                │ 922              │\n",
       "│ 3.92699081698724 │ 2.26669073801386 │ 1.37429237972644 │ 3.48759549873174 │ 3.21349540849362 │ 0.27410009023812 │\n",
       "│ 14               │ 26               │ 9                │ 1                │ 07               │ 03               │\n",
       "│ 4.12334035783660 │ 0.88810890100512 │ -0.5167302546956 │ 3.52405551207380 │ 3.21723488109150 │ 0.30682063098230 │\n",
       "│ 4                │ 11               │ 261              │ 44               │ 15               │ 294              │\n",
       "│ 4.31968989868596 │ -0.7232736912674 │ -2.4061063526337 │ 3.21682934469222 │ 2.90224100999193 │ 0.31458833470028 │\n",
       "│ 6                │ 964              │ 05               │ 56               │ 85               │ 713              │\n",
       "│ 4.51603943953532 │ -2.3097921417426 │ -3.9714284696193 │ 2.60017195318498 │ 2.30160673670874 │ 0.29856521647623 │\n",
       "│ 7                │ 694              │ 28               │ 7                │ 8                │ 91               │\n",
       "│ 4.71238898038469 │ -3.5965126229123 │ -4.9238190371721 │ 1.76369034851404 │ 1.5              │ 0.26369034851404 │\n",
       "│                  │ 64               │ 59               │ 74               │                  │ 74               │\n",
       "└──────────────────┴──────────────────┴──────────────────┴──────────────────┴──────────────────┴──────────────────┘\n",
       "</pre>\n"
      ],
      "text/plain": [
       "┏━━━━━━━━━━━━━━━━━━┳━━━━━━━━━━━━━━━━━━┳━━━━━━━━━━━━━━━━━━┳━━━━━━━━━━━━━━━━━━┳━━━━━━━━━━━━━━━━━━┳━━━━━━━━━━━━━━━━━━┓\n",
       "┃\u001b[1m \u001b[0m\u001b[1mti              \u001b[0m\u001b[1m \u001b[0m┃\u001b[1m \u001b[0m\u001b[1mk1              \u001b[0m\u001b[1m \u001b[0m┃\u001b[1m \u001b[0m\u001b[1mk2              \u001b[0m\u001b[1m \u001b[0m┃\u001b[1m \u001b[0m\u001b[1mYi              \u001b[0m\u001b[1m \u001b[0m┃\u001b[1m \u001b[0m\u001b[1mF(ti)           \u001b[0m\u001b[1m \u001b[0m┃\u001b[1m \u001b[0m\u001b[1mError           \u001b[0m\u001b[1m \u001b[0m┃\n",
       "┡━━━━━━━━━━━━━━━━━━╇━━━━━━━━━━━━━━━━━━╇━━━━━━━━━━━━━━━━━━╇━━━━━━━━━━━━━━━━━━╇━━━━━━━━━━━━━━━━━━╇━━━━━━━━━━━━━━━━━━┩\n",
       "│ 3.14159265358979 │ 0.0              │ 0.0              │ 1.0              │ 1.0              │ 0.0              │\n",
       "│ 3                │                  │                  │                  │                  │                  │\n",
       "│ 3.33794219443915 │ 3.45990253977358 │ 4.41997983398450 │ 1.77360564301719 │ 1.70118758800211 │ 0.07241805501507 │\n",
       "│ 54               │ 4                │ 2                │ 07               │ 8                │ 281              │\n",
       "│ 3.53429173528851 │ 3.61520349566695 │ 4.02384274035916 │ 2.52356725350257 │ 2.37456082635704 │ 0.14900642714553 │\n",
       "│ 73               │ 08               │ 5                │ 84               │ 04               │ 802              │\n",
       "│ 3.73064127613787 │ 3.21314512403812 │ 2.96538283076090 │ 3.13014281702744 │ 2.91083155908278 │ 0.21931125794465 │\n",
       "│ 95               │ 3                │ 05               │ 63               │ 7                │ 922              │\n",
       "│ 3.92699081698724 │ 2.26669073801386 │ 1.37429237972644 │ 3.48759549873174 │ 3.21349540849362 │ 0.27410009023812 │\n",
       "│ 14               │ 26               │ 9                │ 1                │ 07               │ 03               │\n",
       "│ 4.12334035783660 │ 0.88810890100512 │ -0.5167302546956 │ 3.52405551207380 │ 3.21723488109150 │ 0.30682063098230 │\n",
       "│ 4                │ 11               │ 261              │ 44               │ 15               │ 294              │\n",
       "│ 4.31968989868596 │ -0.7232736912674 │ -2.4061063526337 │ 3.21682934469222 │ 2.90224100999193 │ 0.31458833470028 │\n",
       "│ 6                │ 964              │ 05               │ 56               │ 85               │ 713              │\n",
       "│ 4.51603943953532 │ -2.3097921417426 │ -3.9714284696193 │ 2.60017195318498 │ 2.30160673670874 │ 0.29856521647623 │\n",
       "│ 7                │ 694              │ 28               │ 7                │ 8                │ 91               │\n",
       "│ 4.71238898038469 │ -3.5965126229123 │ -4.9238190371721 │ 1.76369034851404 │ 1.5              │ 0.26369034851404 │\n",
       "│                  │ 64               │ 59               │ 74               │                  │ 74               │\n",
       "└──────────────────┴──────────────────┴──────────────────┴──────────────────┴──────────────────┴──────────────────┘\n"
      ]
     },
     "metadata": {},
     "output_type": "display_data"
    }
   ],
   "source": [
    "# pasamos todos los datos a una lista anidada para poder desplegarlos en una tabla\n",
    "\n",
    "from utils import imprimir_tabla\n",
    "\n",
    "lista_tabla = [[\"ti\", \"k1\", \"k2\", \"Yi\", \"F(ti)\", \"Error\"]]\n",
    "\n",
    "for i in range(len(T)):\n",
    "    lista_tabla.append(\n",
    "        [\n",
    "            str(float(T[i])),\n",
    "            str(float(K1[i])),\n",
    "            str(float(K2[i])),\n",
    "            str(float(Y[i])),\n",
    "            str(solucion_exacta[i]),\n",
    "            str(abs(Y[i] - solucion_exacta[i])),\n",
    "        ]\n",
    "    )\n",
    "\n",
    "imprimir_tabla(lista_tabla)"
   ]
  }
 ],
 "metadata": {
  "kernelspec": {
   "display_name": "venv",
   "language": "python",
   "name": "python3"
  },
  "language_info": {
   "codemirror_mode": {
    "name": "ipython",
    "version": 3
   },
   "file_extension": ".py",
   "mimetype": "text/x-python",
   "name": "python",
   "nbconvert_exporter": "python",
   "pygments_lexer": "ipython3",
   "version": "3.10.12"
  }
 },
 "nbformat": 4,
 "nbformat_minor": 2
}
