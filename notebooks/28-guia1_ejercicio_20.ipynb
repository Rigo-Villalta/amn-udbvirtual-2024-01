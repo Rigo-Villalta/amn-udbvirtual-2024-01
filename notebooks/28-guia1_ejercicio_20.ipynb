{
 "cells": [
  {
   "cell_type": "markdown",
   "metadata": {},
   "source": [
    "Un hombre en un bote de remos situado en P (ver figura) a 5 millas en línea recta del punto A más cercano a una costa, desea llegar al punto B, a 6 millas de A a lo largo de la costa, en el tiempo más corto. ¿A qué distancia del punto A debería desembarcar si puede remar a 2 millas por hora y caminar a 4 millas por hora? Emplee el método de la secante con una precisión de 10−7. Use 15 decimales.\n",
    "\n",
    "![Imagen del poste](../images/poste.png)"
   ]
  },
  {
   "cell_type": "markdown",
   "metadata": {},
   "source": [
    "### Análisis del problema\n",
    "\n",
    "Dado que la pesona va a remar en la trayectoria de *P* a *C*, donde sabemos que *C* es desconocido, ponemos llamar a esta distancia *h*, esta trayectoria *h* tomando en cuenta que es una hipotenusa vendria dada por pitágoras, si denominamos a la distancia entre *A* y *C* como *x*, tendríamos que:\n",
    "\n",
    "$$ h = \\sqrt{5^2 + x^2}  $$\n",
    "\n",
    "El tiempo que le tomará es igual a la distancia entre la velocidad\n",
    "\n",
    "$$ tiempo_r = \\frac{espacio}{velocidad} = \\frac{\\sqrt{5^2 + x^2}}{2 m.h } $$\n",
    "\n",
    "Si tenemos *x* para encontrar la distancia de *C* a *B* seria *6 - x*, por tanto la función es:\n",
    "\n",
    "$$ tiempo_p = \\frac{espacio}{velocidad} = \\frac{6-x}{4 m.h } $$\n",
    "\n",
    "Por lo tanto nuestra función total a optimizar es: \n",
    "\n",
    "$$ tiempo =  \\frac{\\sqrt{25 + x^2}}{2} +  \\frac{6-x}{4} $$\n",
    "\n",
    "Dado que necesitamos el menor tiempo posible, lo que debemos hacer es derivar la función, ya que en el punto en que la pendiente de nuestra función sea cero, tendremos el menor tiempo posible\n",
    "\n",
    "$$ F_x = \\frac{x}{2 \\sqrt{25 + x^2}} - \\frac{1}{4} $$\n",
    "$$ 0 = \\frac{x}{2 \\sqrt{25 + x^2}} - \\frac{1}{4} $$\n",
    "\n",
    "Dado que hablamos de tiempo y por las velocidades que se tienen y las distancias, podemos pensar en que la distancia total podrá der hasta el triple de el lado conocido (5), si esto es de 15 millas y dividimos la distancia en 2 temos 7.5 millas a 2 millas por hora, son 3.75 horas (3 horas 40 minutos) y 7.5 millas por hora a 4 millas por hora que son 1.875 horas, un aproximado de 1 hora 40 minutos, un aproximado de 5 horas, así que partiremos de pensar que el menor tiempo posible son 2 horas y el máximo 8."
   ]
  },
  {
   "cell_type": "code",
   "execution_count": 2,
   "metadata": {},
   "outputs": [
    {
     "data": {
      "text/html": [
       "<pre style=\"white-space:pre;overflow-x:auto;line-height:normal;font-family:Menlo,'DejaVu Sans Mono',consolas,'Courier New',monospace\">┏━━━━━━━━━━━━━━━━┳━━━━━━━━━━━━━━━━━━━┳━━━━━━━━━━━━━━━━━━━┳━━━━━━━━━━━━━━━━━━━┳━━━━━━━━━━━━━━━━━━━┓\n",
       "┃<span style=\"font-weight: bold\"> # de iteración </span>┃<span style=\"font-weight: bold\"> x0                </span>┃<span style=\"font-weight: bold\"> x1                </span>┃<span style=\"font-weight: bold\"> x2                </span>┃<span style=\"font-weight: bold\"> error             </span>┃\n",
       "┡━━━━━━━━━━━━━━━━╇━━━━━━━━━━━━━━━━━━━╇━━━━━━━━━━━━━━━━━━━╇━━━━━━━━━━━━━━━━━━━╇━━━━━━━━━━━━━━━━━━━┩\n",
       "│ 1              │ 2.000000000000000 │ 8.000000000000000 │ 3.619059152868730 │ 4.380940847131270 │\n",
       "│ 2              │ 8.000000000000000 │ 3.619059152868730 │ 2.173547702928416 │ 1.445511449940314 │\n",
       "│ 3              │ 3.619059152868730 │ 2.173547702928416 │ 2.954048401658996 │ 0.780500698730580 │\n",
       "│ 4              │ 2.173547702928416 │ 2.954048401658996 │ 2.892557871216257 │ 0.061490530442738 │\n",
       "│ 5              │ 2.954048401658996 │ 2.892557871216257 │ 2.886700210850719 │ 0.005857660365538 │\n",
       "│ 6              │ 2.892557871216257 │ 2.886700210850719 │ 2.886751384541230 │ 0.000051173690511 │\n",
       "│ 7              │ 2.886700210850719 │ 2.886751384541230 │ 2.886751345948385 │ &lt;-- solución      │\n",
       "└────────────────┴───────────────────┴───────────────────┴───────────────────┴───────────────────┘\n",
       "</pre>\n"
      ],
      "text/plain": [
       "┏━━━━━━━━━━━━━━━━┳━━━━━━━━━━━━━━━━━━━┳━━━━━━━━━━━━━━━━━━━┳━━━━━━━━━━━━━━━━━━━┳━━━━━━━━━━━━━━━━━━━┓\n",
       "┃\u001b[1m \u001b[0m\u001b[1m# de iteración\u001b[0m\u001b[1m \u001b[0m┃\u001b[1m \u001b[0m\u001b[1mx0               \u001b[0m\u001b[1m \u001b[0m┃\u001b[1m \u001b[0m\u001b[1mx1               \u001b[0m\u001b[1m \u001b[0m┃\u001b[1m \u001b[0m\u001b[1mx2               \u001b[0m\u001b[1m \u001b[0m┃\u001b[1m \u001b[0m\u001b[1merror            \u001b[0m\u001b[1m \u001b[0m┃\n",
       "┡━━━━━━━━━━━━━━━━╇━━━━━━━━━━━━━━━━━━━╇━━━━━━━━━━━━━━━━━━━╇━━━━━━━━━━━━━━━━━━━╇━━━━━━━━━━━━━━━━━━━┩\n",
       "│ 1              │ 2.000000000000000 │ 8.000000000000000 │ 3.619059152868730 │ 4.380940847131270 │\n",
       "│ 2              │ 8.000000000000000 │ 3.619059152868730 │ 2.173547702928416 │ 1.445511449940314 │\n",
       "│ 3              │ 3.619059152868730 │ 2.173547702928416 │ 2.954048401658996 │ 0.780500698730580 │\n",
       "│ 4              │ 2.173547702928416 │ 2.954048401658996 │ 2.892557871216257 │ 0.061490530442738 │\n",
       "│ 5              │ 2.954048401658996 │ 2.892557871216257 │ 2.886700210850719 │ 0.005857660365538 │\n",
       "│ 6              │ 2.892557871216257 │ 2.886700210850719 │ 2.886751384541230 │ 0.000051173690511 │\n",
       "│ 7              │ 2.886700210850719 │ 2.886751384541230 │ 2.886751345948385 │ <-- solución      │\n",
       "└────────────────┴───────────────────┴───────────────────┴───────────────────┴───────────────────┘\n"
      ]
     },
     "metadata": {},
     "output_type": "display_data"
    }
   ],
   "source": [
    "from math import sqrt\n",
    "\n",
    "from metodos_numericos import metodo_de_secante\n",
    "from utils import imprimir_tabla\n",
    "\n",
    "def f(x):\n",
    "    return (x / (2 * sqrt(25 + x**2))) - 0.25\n",
    "\n",
    "\n",
    "resultado = metodo_de_secante(2, 8, f, tolerancia=1E-7, resultado=[])\n",
    "imprimir_tabla(resultado)"
   ]
  },
  {
   "cell_type": "markdown",
   "metadata": {},
   "source": [
    "Por lo tanto, la distancia a la que tiene que trazar su curso el navegante es a aproximadamente **2.886751345948385** millas del punto A."
   ]
  }
 ],
 "metadata": {
  "kernelspec": {
   "display_name": "venv",
   "language": "python",
   "name": "python3"
  },
  "language_info": {
   "codemirror_mode": {
    "name": "ipython",
    "version": 3
   },
   "file_extension": ".py",
   "mimetype": "text/x-python",
   "name": "python",
   "nbconvert_exporter": "python",
   "pygments_lexer": "ipython3",
   "version": "3.10.12"
  }
 },
 "nbformat": 4,
 "nbformat_minor": 2
}
