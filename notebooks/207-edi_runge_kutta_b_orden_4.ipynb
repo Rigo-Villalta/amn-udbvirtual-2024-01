{
 "cells": [
  {
   "cell_type": "markdown",
   "metadata": {},
   "source": [
    "Ejemplo de vídeo https://youtu.be/L49aY9cecjc?si=p9nB3onkcMgKrgRt\n",
    "\n",
    "Emplee el método de Runge Kutta de 4º orden para obtener la solución\n",
    "(paso a soluciona en python de una por el tiempo)"
   ]
  },
  {
   "cell_type": "code",
   "execution_count": 2,
   "metadata": {},
   "outputs": [
    {
     "data": {
      "text/latex": [
       "$\\displaystyle \\operatorname{fy}{\\left(t \\right)} = \\frac{t \\left(\\sin{\\left(2 t \\right)} + \\frac{2}{\\pi}\\right)}{2}$"
      ],
      "text/plain": [
       "Eq(fy(t), t*(sin(2*t) + 2/pi)/2)"
      ]
     },
     "execution_count": 2,
     "metadata": {},
     "output_type": "execute_result"
    }
   ],
   "source": [
    "from sympy import *\n",
    "from numpy import arange\n",
    "\n",
    "fy = symbols(\"fy\", cls=Function)\n",
    "t, y = symbols(\"t y\")\n",
    "\n",
    "h = pi/16\n",
    "\n",
    "eq = Eq(fy(t).diff(),(fy(t)/t) + t*cos(2*t))\n",
    "f = (y/t) + t*cos(2*t)\n",
    "\n",
    "\n",
    "# Calculamos la solucion particular F\n",
    "condiciones_iniciales = {fy(pi):1}\n",
    "F = dsolve(eq, ics=condiciones_iniciales, hint='lie_group',)\n",
    "F"
   ]
  },
  {
   "cell_type": "code",
   "execution_count": 3,
   "metadata": {},
   "outputs": [
    {
     "data": {
      "text/plain": [
       "[pi, 17*pi/16, 9*pi/8, 19*pi/16, 5*pi/4, 21*pi/16, 11*pi/8, 23*pi/16, 3*pi/2]"
      ]
     },
     "execution_count": 3,
     "metadata": {},
     "output_type": "execute_result"
    }
   ],
   "source": [
    "# creamos nuestro intervalo\n",
    "T = [t for t in arange(pi, ((3*pi) /2) + h/2, h)]\n",
    "T"
   ]
  },
  {
   "cell_type": "code",
   "execution_count": 4,
   "metadata": {},
   "outputs": [
    {
     "data": {
      "text/plain": [
       "[1,\n",
       " 1.70119931027517,\n",
       " 2.3836929310622597,\n",
       " 2.938057940659406,\n",
       " 3.265988831843952,\n",
       " 3.2989030074510493,\n",
       " 3.0127446482670446,\n",
       " 2.436068591711833,\n",
       " 1.6495000821564847]"
      ]
     },
     "execution_count": 4,
     "metadata": {},
     "output_type": "execute_result"
    }
   ],
   "source": [
    "# Declaro la lista con y_0 = 0\n",
    "\n",
    "Y = [1]\n",
    "K1 = [0]\n",
    "K2 = [0]\n",
    "K3 = [0]\n",
    "K4 = [0]\n",
    "\n",
    "# Hago un for para aplicar la fórmula\n",
    "for i in range(1, len(T)):\n",
    "    k1 = f.subs({t: T[i-1], y: Y[i-1]})\n",
    "    k2 = f.subs({t: T[i-1] + 0.5*h, y: Y[i-1] + 0.5*h*k1})\n",
    "    k3 = f.subs({t: T[i-1] + 0.5*h, y: Y[i-1] + 0.5*h*k2})\n",
    "    k4 = f.subs({t: T[i-1] + 0.5*h, y: Y[i-1] + 0.5*h*k3})\n",
    "    K1.append(k1)\n",
    "    K2.append(k2)\n",
    "    K3.append(k3)\n",
    "    K4.append(k4)\n",
    "    Y.append(float(Y[i-1] + h/6 *(k1 + 2*k2 + 2*k3 + k4)))\n",
    "\n",
    "Y"
   ]
  },
  {
   "cell_type": "code",
   "execution_count": 5,
   "metadata": {},
   "outputs": [
    {
     "data": {
      "text/plain": [
       "[1.0,\n",
       " 1.701187588002118,\n",
       " 2.3745608263570404,\n",
       " 2.910831559082787,\n",
       " 3.2134954084936207,\n",
       " 3.2172348810915015,\n",
       " 2.9022410099919385,\n",
       " 2.301606736708748,\n",
       " 1.5]"
      ]
     },
     "execution_count": 5,
     "metadata": {},
     "output_type": "execute_result"
    }
   ],
   "source": [
    "# Si la solución particular es viable,\n",
    "# calculamos los valores exactos\n",
    "solucion_exacta = []\n",
    "for i in range(len(T)):\n",
    "    solucion_exacta.append(float(F.rhs.subs({t: T[i]})))\n",
    "solucion_exacta"
   ]
  },
  {
   "cell_type": "code",
   "execution_count": 6,
   "metadata": {},
   "outputs": [
    {
     "data": {
      "text/html": [
       "<pre style=\"white-space:pre;overflow-x:auto;line-height:normal;font-family:Menlo,'DejaVu Sans Mono',consolas,'Courier New',monospace\">┏━━━━━━━━━━━━━┳━━━━━━━━━━━━━┳━━━━━━━━━━━━━┳━━━━━━━━━━━━━┳━━━━━━━━━━━━━━┳━━━━━━━━━━━━━┳━━━━━━━━━━━━━━┳━━━━━━━━━━━━━┓\n",
       "┃<span style=\"font-weight: bold\"> ti          </span>┃<span style=\"font-weight: bold\"> k1          </span>┃<span style=\"font-weight: bold\"> k2          </span>┃<span style=\"font-weight: bold\"> k3          </span>┃<span style=\"font-weight: bold\"> k4           </span>┃<span style=\"font-weight: bold\"> Yi          </span>┃<span style=\"font-weight: bold\"> F(ti)        </span>┃<span style=\"font-weight: bold\"> Error       </span>┃\n",
       "┡━━━━━━━━━━━━━╇━━━━━━━━━━━━━╇━━━━━━━━━━━━━╇━━━━━━━━━━━━━╇━━━━━━━━━━━━━━╇━━━━━━━━━━━━━╇━━━━━━━━━━━━━━╇━━━━━━━━━━━━━┩\n",
       "│ 3.141592653 │ 0.0         │ 0.0         │ 0.0         │ 0.0          │ 1.0         │ 1.0          │ 0.0         │\n",
       "│ 589793      │             │             │             │              │             │              │             │\n",
       "│ 3.337942194 │ 3.459902539 │ 3.591025864 │ 3.594999299 │ 3.5951197061 │ 1.701199310 │ 1.7011875880 │ 1.172227305 │\n",
       "│ 4391554     │ 773584      │ 9685876     │ 065406      │ 59249        │ 27517       │ 02118        │ 2017229e-05 │\n",
       "│ 3.534291735 │ 3.593511588 │ 3.454792139 │ 3.450828726 │ 3.4507154865 │ 2.383692931 │ 2.3745608263 │ 0.009132104 │\n",
       "│ 2885173     │ 340741      │ 769789      │ 953476      │ 87296        │ 0622597     │ 570404       │ 705219302   │\n",
       "│ 3.730641276 │ 3.173568786 │ 2.760081225 │ 2.748905885 │ 2.7486038496 │ 2.938057940 │ 2.9108315590 │ 0.027226381 │\n",
       "│ 1378795     │ 5661113     │ 318744      │ 825572      │ 230543       │ 659406      │ 82787        │ 57661894    │\n",
       "│ 3.926990816 │ 2.215202304 │ 1.571119179 │ 1.554604227 │ 1.5541807674 │ 3.265988831 │ 3.2134954084 │ 0.052493423 │\n",
       "│ 9872414     │ 216525      │ 6280557     │ 7155308     │ 100816       │ 843952      │ 936207       │ 35033136    │\n",
       "│ 4.123340357 │ 0.831677226 │ 0.046406376 │ 0.027253428 │ 0.0267862834 │ 3.298903007 │ 3.2172348810 │ 0.081668126 │\n",
       "│ 836604      │ 6734239     │ 056993846   │ 48098333    │ 18153804     │ 4510493     │ 915015       │ 35954779    │\n",
       "│ 4.319689898 │ -0.77787808 │ -1.58198832 │ -1.60068856 │ -1.601123456 │ 3.012744648 │ 2.9022410099 │ 0.110503638 │\n",
       "│ 685966      │ 60259455    │ 90705603    │ 72809001    │ 5416057      │ 2670446     │ 919385       │ 27510612    │\n",
       "│ 4.516039439 │ -2.35703736 │ -3.04375294 │ -3.05901328 │ -3.059352407 │ 2.436068591 │ 2.3016067367 │ 0.134461855 │\n",
       "│ 535327      │ 10088167    │ 28773455    │ 9141091     │ 946952       │ 711833      │ 08748        │ 00308516    │\n",
       "│ 4.712388980 │ -3.63285051 │ -4.07489932 │ -4.08430462 │ -4.084504733 │ 1.649500082 │ 1.5          │ 0.149500082 │\n",
       "│ 38469       │ 66952487    │ 6680811     │ 0510291     │ 144961       │ 1564847     │              │ 1564847     │\n",
       "└─────────────┴─────────────┴─────────────┴─────────────┴──────────────┴─────────────┴──────────────┴─────────────┘\n",
       "</pre>\n"
      ],
      "text/plain": [
       "┏━━━━━━━━━━━━━┳━━━━━━━━━━━━━┳━━━━━━━━━━━━━┳━━━━━━━━━━━━━┳━━━━━━━━━━━━━━┳━━━━━━━━━━━━━┳━━━━━━━━━━━━━━┳━━━━━━━━━━━━━┓\n",
       "┃\u001b[1m \u001b[0m\u001b[1mti         \u001b[0m\u001b[1m \u001b[0m┃\u001b[1m \u001b[0m\u001b[1mk1         \u001b[0m\u001b[1m \u001b[0m┃\u001b[1m \u001b[0m\u001b[1mk2         \u001b[0m\u001b[1m \u001b[0m┃\u001b[1m \u001b[0m\u001b[1mk3         \u001b[0m\u001b[1m \u001b[0m┃\u001b[1m \u001b[0m\u001b[1mk4          \u001b[0m\u001b[1m \u001b[0m┃\u001b[1m \u001b[0m\u001b[1mYi         \u001b[0m\u001b[1m \u001b[0m┃\u001b[1m \u001b[0m\u001b[1mF(ti)       \u001b[0m\u001b[1m \u001b[0m┃\u001b[1m \u001b[0m\u001b[1mError      \u001b[0m\u001b[1m \u001b[0m┃\n",
       "┡━━━━━━━━━━━━━╇━━━━━━━━━━━━━╇━━━━━━━━━━━━━╇━━━━━━━━━━━━━╇━━━━━━━━━━━━━━╇━━━━━━━━━━━━━╇━━━━━━━━━━━━━━╇━━━━━━━━━━━━━┩\n",
       "│ 3.141592653 │ 0.0         │ 0.0         │ 0.0         │ 0.0          │ 1.0         │ 1.0          │ 0.0         │\n",
       "│ 589793      │             │             │             │              │             │              │             │\n",
       "│ 3.337942194 │ 3.459902539 │ 3.591025864 │ 3.594999299 │ 3.5951197061 │ 1.701199310 │ 1.7011875880 │ 1.172227305 │\n",
       "│ 4391554     │ 773584      │ 9685876     │ 065406      │ 59249        │ 27517       │ 02118        │ 2017229e-05 │\n",
       "│ 3.534291735 │ 3.593511588 │ 3.454792139 │ 3.450828726 │ 3.4507154865 │ 2.383692931 │ 2.3745608263 │ 0.009132104 │\n",
       "│ 2885173     │ 340741      │ 769789      │ 953476      │ 87296        │ 0622597     │ 570404       │ 705219302   │\n",
       "│ 3.730641276 │ 3.173568786 │ 2.760081225 │ 2.748905885 │ 2.7486038496 │ 2.938057940 │ 2.9108315590 │ 0.027226381 │\n",
       "│ 1378795     │ 5661113     │ 318744      │ 825572      │ 230543       │ 659406      │ 82787        │ 57661894    │\n",
       "│ 3.926990816 │ 2.215202304 │ 1.571119179 │ 1.554604227 │ 1.5541807674 │ 3.265988831 │ 3.2134954084 │ 0.052493423 │\n",
       "│ 9872414     │ 216525      │ 6280557     │ 7155308     │ 100816       │ 843952      │ 936207       │ 35033136    │\n",
       "│ 4.123340357 │ 0.831677226 │ 0.046406376 │ 0.027253428 │ 0.0267862834 │ 3.298903007 │ 3.2172348810 │ 0.081668126 │\n",
       "│ 836604      │ 6734239     │ 056993846   │ 48098333    │ 18153804     │ 4510493     │ 915015       │ 35954779    │\n",
       "│ 4.319689898 │ -0.77787808 │ -1.58198832 │ -1.60068856 │ -1.601123456 │ 3.012744648 │ 2.9022410099 │ 0.110503638 │\n",
       "│ 685966      │ 60259455    │ 90705603    │ 72809001    │ 5416057      │ 2670446     │ 919385       │ 27510612    │\n",
       "│ 4.516039439 │ -2.35703736 │ -3.04375294 │ -3.05901328 │ -3.059352407 │ 2.436068591 │ 2.3016067367 │ 0.134461855 │\n",
       "│ 535327      │ 10088167    │ 28773455    │ 9141091     │ 946952       │ 711833      │ 08748        │ 00308516    │\n",
       "│ 4.712388980 │ -3.63285051 │ -4.07489932 │ -4.08430462 │ -4.084504733 │ 1.649500082 │ 1.5          │ 0.149500082 │\n",
       "│ 38469       │ 66952487    │ 6680811     │ 0510291     │ 144961       │ 1564847     │              │ 1564847     │\n",
       "└─────────────┴─────────────┴─────────────┴─────────────┴──────────────┴─────────────┴──────────────┴─────────────┘\n"
      ]
     },
     "metadata": {},
     "output_type": "display_data"
    }
   ],
   "source": [
    "# pasamos todos los datos a una lista anidada para poder desplegarlos en una tabla\n",
    "\n",
    "from utils import imprimir_tabla\n",
    "\n",
    "lista_tabla = [[\"ti\", \"k1\", \"k2\", \"k3\", \"k4\", \"Yi\", \"F(ti)\", \"Error\"]]\n",
    "\n",
    "for i in range(len(T)):\n",
    "    lista_tabla.append(\n",
    "        [\n",
    "            str(float(T[i])),\n",
    "            str(float(K1[i])),\n",
    "            str(float(K2[i])),\n",
    "            str(float(K3[i])),\n",
    "            str(float(K4[i])),\n",
    "            str(float(Y[i])),\n",
    "            str(solucion_exacta[i]),\n",
    "            str(abs(Y[i] - solucion_exacta[i])),\n",
    "        ]\n",
    "    )\n",
    "\n",
    "imprimir_tabla(lista_tabla)"
   ]
  }
 ],
 "metadata": {
  "kernelspec": {
   "display_name": "venv",
   "language": "python",
   "name": "python3"
  },
  "language_info": {
   "codemirror_mode": {
    "name": "ipython",
    "version": 3
   },
   "file_extension": ".py",
   "mimetype": "text/x-python",
   "name": "python",
   "nbconvert_exporter": "python",
   "pygments_lexer": "ipython3",
   "version": "3.10.12"
  }
 },
 "nbformat": 4,
 "nbformat_minor": 2
}
