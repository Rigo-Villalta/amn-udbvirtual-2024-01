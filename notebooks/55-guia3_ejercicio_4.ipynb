{
 "cells": [
  {
   "cell_type": "markdown",
   "metadata": {},
   "source": [
    "4. En un circuito con un voltaje 𝑉(𝑡) y una inductancia L, la primera ley de Kirchhoff nos da la siguiente relación:\n",
    "\n",
    "$$ V(t) = l \\frac{di}{dt} + Ri $$\n",
    "\n",
    "Donde *R* es la resistencia del circuito e *i* es la corriente. Suponga que medimos la corriente con varios valores de *t* y obtenemos:\n",
    "\n",
    "| t | 1.00 | 1.01 | 1.02 | 1.03 | 1.04 | \n",
    "|---|-----|-----|-----|-----|-----|\n",
    "| i| 3.10 | 3.12 | 3.14 | 3.18 | 3.34 |\n",
    "\n",
    "Donde *t* se mide en segundos, *i* se d en amperios, la inductancia *L* es una constante de 0.98 henrios y la resistencia es de 0.142 ohmios. Aproxime el voltaje *V(t)* cuando t= 1.00 y t=1.02\n",
    "\n",
    "NOTA: Debe ocupar todos los datos de la tabla.\n",
    "\n",
    "### Solución\n",
    "\n",
    "Para este caso ocuparemos las fórmulas progresiva y centrada de 5 puntos para el cálculo de la derivada numérica evaluada en los puntos dados.\n",
    "\n",
    "El dato buscado es el voltaje en función del tiempo, pero la incognita es la derivada de la corriente respecto al tiempo, para ello ocupamos de la siguiente forma los puntos:\n",
    "\n",
    "Para V(t) = 1.00\n",
    "\n",
    "$$ \\frac{di}{dt} (1.00) = \\frac{-25f(c)+ 48f(c+h)-36f(c+2h) + 16f(c+3h)-3f(c+4h)}{12h} $$\n",
    "\n",
    "En donde:\n",
    "\n",
    "f(c) = 3.10\n",
    "\n",
    "f(c + h) = 3.12\n",
    "\n",
    "f(c + 2h) = 3.14\n",
    "\n",
    "f(c + 3h )= 3.18\n",
    "\n",
    "f(c + 4h) = 3.34\n",
    "\n",
    "Ahora podemos sustituir en el programa"
   ]
  },
  {
   "cell_type": "code",
   "execution_count": 1,
   "metadata": {},
   "outputs": [
    {
     "name": "stdout",
     "output_type": "stream",
     "text": [
      "El valor aproximado de f'(1.00) es:  0.6666666666665637\n"
     ]
    }
   ],
   "source": [
    "# Para t=1.00\n",
    "\n",
    "# 1.01 - 1.00\n",
    "h = 0.01\n",
    "l = 0.98\n",
    "R = 0.142\n",
    "\n",
    "f_prima_de_uno = (-25*3.10 + 48*3.12 - 36*3.14 + 16*3.18 - 3*3.34) / (12*h)\n",
    "print(\"El valor aproximado de f'(1.00) es: \", f_prima_de_uno)\n"
   ]
  },
  {
   "cell_type": "code",
   "execution_count": 2,
   "metadata": {},
   "outputs": [
    {
     "name": "stdout",
     "output_type": "stream",
     "text": [
      "V(1.00) es aproximadamente: 1.0935333333332324\n"
     ]
    }
   ],
   "source": [
    "#Calculamos el valor del voltaje aproximado\n",
    "\n",
    "v_de_uno = l * 0.6666666666665637 + R*3.10\n",
    "print(\"V(1.00) es aproximadamente:\", v_de_uno)"
   ]
  },
  {
   "cell_type": "markdown",
   "metadata": {},
   "source": [
    " Ahora calculamos el f'(1.02) con la fórmula centrada de 5 puntos\n",
    "\n",
    " $$ f'(1.02) = \\frac{f(c-2h) - 8f(c-h) + 8f(c+h) - f(c+2h)}{12h} $$\n",
    "\n",
    " En donde:\n",
    "\n",
    " f(c-2h) = 3.10\n",
    "\n",
    " f(c-h) = 3.12\n",
    "\n",
    " f(c+h) = 3.18\n",
    "\n",
    " f(c+2h) = 3.34\n",
    "\n",
    " sustituimos en el programa"
   ]
  },
  {
   "cell_type": "code",
   "execution_count": 3,
   "metadata": {},
   "outputs": [
    {
     "name": "stdout",
     "output_type": "stream",
     "text": [
      "V(1.02) es aproximadamente: 2.000000000000017\n"
     ]
    }
   ],
   "source": [
    "f_prima_de_1_0_2 = (3.10 - 8*3.12 + 8*3.18 - 3.34) / (12*h)\n",
    "print(\"V(1.02) es aproximadamente:\",f_prima_de_1_0_2)"
   ]
  },
  {
   "cell_type": "code",
   "execution_count": 14,
   "metadata": {},
   "outputs": [
    {
     "name": "stdout",
     "output_type": "stream",
     "text": [
      "V(1.02) es aproximadamente: 2.4087199999999998\n"
     ]
    }
   ],
   "source": [
    "# calculamos el voltaje en base al tiempo\n",
    "\n",
    "v_de_1_0_2 = l * 2 + R*3.16\n",
    "print(\"V(1.02) es aproximadamente:\", v_de_1_0_2)\n"
   ]
  }
 ],
 "metadata": {
  "kernelspec": {
   "display_name": "venv",
   "language": "python",
   "name": "python3"
  },
  "language_info": {
   "codemirror_mode": {
    "name": "ipython",
    "version": 3
   },
   "file_extension": ".py",
   "mimetype": "text/x-python",
   "name": "python",
   "nbconvert_exporter": "python",
   "pygments_lexer": "ipython3",
   "version": "3.10.12"
  }
 },
 "nbformat": 4,
 "nbformat_minor": 2
}
