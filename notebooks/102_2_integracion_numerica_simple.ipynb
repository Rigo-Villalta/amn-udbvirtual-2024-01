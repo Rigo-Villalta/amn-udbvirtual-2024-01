{
 "cells": [
  {
   "cell_type": "markdown",
   "metadata": {},
   "source": [
    "Para la integración numérica simple se utilizan fórmulas en la cuales todas cumplen las siguientes caracteristicas:\n",
    "\n",
    "- Tenmos nuestra integral definida donde los límites van de *a* a *b*.\n",
    "- La integral es sobre una función de una variable *f(x)*.\n",
    "- Nos dan un *n*,  a partir del cual se escoge la fórmula, a mayor n mejor la aproximación.\n",
    "\n",
    "El resto es pasar la fórmula a Python"
   ]
  },
  {
   "cell_type": "code",
   "execution_count": 42,
   "metadata": {},
   "outputs": [
    {
     "name": "stdout",
     "output_type": "stream",
     "text": [
      "79.67668823340318\n"
     ]
    }
   ],
   "source": [
    "# Integración numérica simple en Python.\n",
    "\n",
    "from sympy import *\n",
    "\n",
    "# Voy a a ocupar la misma función y los mismos límites para todos los\n",
    "# ejemplos. Por lo tanto solo va a variar la aproximación un poco.\n",
    "# El ejemplo de la integral es de: https://youtu.be/8zXIfq9ttoE?si=vC-V-5-KXvlxgxxa\n",
    "\n",
    "x = symbols(\"x\")\n",
    "\n",
    "f = pi * (5-x**2)**2 - (5 - 4*x + x**2)**2\n",
    "\n",
    "a = 0\n",
    "b = 2\n",
    "\n",
    "# Evaluamos el valor exacto para ir midiendo como mejora la aproximación\n",
    "# mientras el n es mayor\n",
    "valor_exacto = float(integrate(f, (x, a, b)))\n",
    "print(valor_exacto)"
   ]
  },
  {
   "cell_type": "code",
   "execution_count": 43,
   "metadata": {},
   "outputs": [
    {
     "name": "stdout",
     "output_type": "stream",
     "text": [
      "55.68140899333462\n"
     ]
    }
   ],
   "source": [
    "# fórmula Regla del trapecio (n=1)\n",
    "\n",
    "n=1\n",
    "h= b-a\n",
    "x0 = a\n",
    "x1 = b\n",
    "\n",
    "valor_aproximado = (h/2) * (f.subs(x, x0) + f.subs(x, x1))\n",
    "print(float(valor_aproximado))"
   ]
  },
  {
   "cell_type": "code",
   "execution_count": 44,
   "metadata": {},
   "outputs": [
    {
     "name": "stdout",
     "output_type": "stream",
     "text": [
      "80.2477796076938\n"
     ]
    }
   ],
   "source": [
    "# fórmula regla de Simpson (n=2)\n",
    "\n",
    "n = 2\n",
    "h = (b-a) / 2\n",
    "x0 = a\n",
    "x1 = a + h\n",
    "x2 = b\n",
    "\n",
    "valor_aproximado = (h / 3) * (\n",
    "    f.subs(x, x0) + 4 * f.subs(x, x1) + f.subs(x, x2)\n",
    ")\n",
    "print(float(valor_aproximado))"
   ]
  },
  {
   "cell_type": "code",
   "execution_count": 45,
   "metadata": {},
   "outputs": [
    {
     "name": "stdout",
     "output_type": "stream",
     "text": [
      "79.93050662197679\n"
     ]
    }
   ],
   "source": [
    "# Fórmula de 3/8 de Simpson (n=3)\n",
    "\n",
    "n=3\n",
    "h = (b-a) / 3\n",
    "x0 = a\n",
    "x1 = a + h\n",
    "x2 = a + 2*h\n",
    "x3 = b\n",
    "\n",
    "valor_aproximado = ((3 * h) / 8) * (\n",
    "    f.subs(x, x0) + \n",
    "    3 * f.subs(x, x1) + \n",
    "    3 * f.subs(x, x2) + \n",
    "    f.subs(x, x3)\n",
    ")\n",
    "\n",
    "print(float(valor_aproximado))"
   ]
  },
  {
   "cell_type": "code",
   "execution_count": 46,
   "metadata": {},
   "outputs": [
    {
     "name": "stdout",
     "output_type": "stream",
     "text": [
      "79.67668823340318\n",
      "4.2491218152318284e-15\n"
     ]
    }
   ],
   "source": [
    "# Fórmula regla de Boole(n=4)\n",
    "n=4\n",
    "h = (b-a) / 4\n",
    "x0 = a\n",
    "x1 = a + h\n",
    "x2 = a + 2*h\n",
    "x3 = a + 3*h\n",
    "x4 = b\n",
    "\n",
    "valor_aproximado = ((2 * h) / 45) * (\n",
    "    7 * f.subs(x, x0) + \n",
    "    32 * f.subs(x, x1) + \n",
    "    12 * f.subs(x, x2) + \n",
    "    32 * f.subs(x, x3) +\n",
    "    7 * f.subs(x, x4)\n",
    ")\n",
    "\n",
    "print(float(valor_aproximado))\n",
    "\n",
    "# Aquí el error ya es mínimo, así que lo calculamos\n",
    "error = abs(valor_exacto-valor_aproximado)\n",
    "print(float(error))"
   ]
  },
  {
   "cell_type": "code",
   "execution_count": 47,
   "metadata": {},
   "outputs": [
    {
     "name": "stdout",
     "output_type": "stream",
     "text": [
      "79.67668823340317\n",
      "1.8073236572023414e-14\n"
     ]
    }
   ],
   "source": [
    "# Fórmula cerrada de Newton-Cotes con n=5\n",
    "n=5\n",
    "h = (b-a) / 5\n",
    "x0 = a\n",
    "x1 = a + h\n",
    "x2 = a + 2*h\n",
    "x3 = a + 3*h\n",
    "x4 = a + 4*h\n",
    "x5 = b\n",
    "\n",
    "valor_aproximado = ((5 * h) / 288) * (\n",
    "    19 * f.subs(x, x0) + \n",
    "    75 * f.subs(x, x1) + \n",
    "    50 * f.subs(x, x2) + \n",
    "    50 * f.subs(x, x3) +\n",
    "    75 * f.subs(x, x4) +\n",
    "    19 * f.subs(x, x5)\n",
    ")\n",
    "\n",
    "print(float(valor_aproximado))\n",
    "\n",
    "error = abs(valor_exacto-valor_aproximado)\n",
    "print(float(error))"
   ]
  },
  {
   "cell_type": "code",
   "execution_count": 48,
   "metadata": {},
   "outputs": [
    {
     "name": "stdout",
     "output_type": "stream",
     "text": [
      "79.6766882334032\n",
      "1.8459976530433833e-14\n"
     ]
    }
   ],
   "source": [
    "# Fórmula cerrada de Newton-Cotes con n=6\n",
    "n=6\n",
    "h = (b-a) / 6\n",
    "x0 = a\n",
    "x1 = a + h\n",
    "x2 = a + 2*h\n",
    "x3 = a + 3*h\n",
    "x4 = a + 4*h\n",
    "x5 = a + 5*h\n",
    "x6 = b\n",
    "\n",
    "valor_aproximado = ( h / 140) * (\n",
    "    41 * f.subs(x, x0) + \n",
    "    216 * f.subs(x, x1) + \n",
    "    27 * f.subs(x, x2) + \n",
    "    272 * f.subs(x, x3) +\n",
    "    27 * f.subs(x, x4) +\n",
    "    216 * f.subs(x, x5) +\n",
    "    41 * f.subs(x, x6)\n",
    ")\n",
    "\n",
    "print(float(valor_aproximado))\n",
    "\n",
    "error = abs(valor_exacto-valor_aproximado)\n",
    "print(float(error))"
   ]
  },
  {
   "cell_type": "code",
   "execution_count": 49,
   "metadata": {},
   "outputs": [
    {
     "name": "stdout",
     "output_type": "stream",
     "text": [
      "0.011047495548577825\n"
     ]
    }
   ],
   "source": [
    "# pruebas contras ejemplos de clase 10\n",
    "\n",
    "# n = 1\n",
    "\n",
    "f = 1 / (exp(x) + exp(-x))\n",
    "\n",
    "a = 3\n",
    "b = 3.25 \n",
    "n=1\n",
    "h= b-a\n",
    "x0 = a\n",
    "x1 = b\n",
    "\n",
    "valor_aproximado = (h/2) * (f.subs(x, x0) + f.subs(x, x1))\n",
    "print(float(valor_aproximado))"
   ]
  },
  {
   "cell_type": "code",
   "execution_count": 50,
   "metadata": {},
   "outputs": [
    {
     "name": "stdout",
     "output_type": "stream",
     "text": [
      "1.3089969389957472\n"
     ]
    }
   ],
   "source": [
    "# n = 2\n",
    "\n",
    "f = (cos(x))**2\n",
    "\n",
    "a = - pi/4\n",
    "b = pi/4\n",
    "\n",
    "h = (b-a) / 2\n",
    "x0 = a\n",
    "x1 = a + h\n",
    "x2 = b\n",
    "\n",
    "valor_aproximado = (h / 3) * (\n",
    "    f.subs(x, x0) + 4 * f.subs(x, x1) + f.subs(x, x2)\n",
    ")\n",
    "print(float(valor_aproximado))"
   ]
  },
  {
   "cell_type": "code",
   "execution_count": 51,
   "metadata": {},
   "outputs": [
    {
     "name": "stdout",
     "output_type": "stream",
     "text": [
      "1.3143968149336276\n"
     ]
    }
   ],
   "source": [
    "# n = 3\n",
    "\n",
    "f = 1 + exp(-x)* sin(4*x)\n",
    "\n",
    "a = 0\n",
    "b = 1\n",
    "h = (b-a) / 3\n",
    "x0 = a\n",
    "x1 = a + h\n",
    "x2 = a + 2*h\n",
    "x3 = b\n",
    "\n",
    "valor_aproximado = ((3 * h) / 8) * (\n",
    "    f.subs(x, x0) + \n",
    "    3 * f.subs(x, x1) + \n",
    "    3 * f.subs(x, x2) + \n",
    "    f.subs(x, x3)\n",
    ")\n",
    "\n",
    "print(float(valor_aproximado))"
   ]
  },
  {
   "cell_type": "code",
   "execution_count": 52,
   "metadata": {},
   "outputs": [
    {
     "name": "stdout",
     "output_type": "stream",
     "text": [
      "0.2928931825612639\n"
     ]
    }
   ],
   "source": [
    "# n = 4\n",
    "\n",
    "f = sin(x)\n",
    "\n",
    "a = 0\n",
    "b = pi / 4\n",
    "h = (b-a) / 4\n",
    "x0 = a\n",
    "x1 = a + h\n",
    "x2 = a + 2*h\n",
    "x3 = a + 3*h\n",
    "x4 = b\n",
    "\n",
    "valor_aproximado = ((2 * h) / 45) * (\n",
    "    7 * f.subs(x, x0) + \n",
    "    32 * f.subs(x, x1) + \n",
    "    12 * f.subs(x, x2) + \n",
    "    32 * f.subs(x, x3) +\n",
    "    7 * f.subs(x, x4)\n",
    ")\n",
    "\n",
    "print(float(valor_aproximado))\n"
   ]
  },
  {
   "cell_type": "code",
   "execution_count": 55,
   "metadata": {},
   "outputs": [
    {
     "name": "stdout",
     "output_type": "stream",
     "text": [
      "2.960709143772823\n"
     ]
    }
   ],
   "source": [
    "# n = 5 , ejemplo de https://youtu.be/1h9cV50XX2g?si=_YkInmzbKqdzSDi_&t=2572\n",
    "\n",
    "f = sqrt( 1 + (1/4)* (x**3 - x**(-3))**2 )\n",
    "\n",
    "a = 1/2\n",
    "b = 2\n",
    "h = (b-a) / 5\n",
    "x0 = a\n",
    "x1 = a + h\n",
    "x2 = a + 2*h\n",
    "x3 = a + 3*h\n",
    "x4 = a + 4*h\n",
    "x5 = b\n",
    "\n",
    "valor_aproximado = ((5 * h) / 288) * (\n",
    "    19 * f.subs(x, x0) + \n",
    "    75 * f.subs(x, x1) + \n",
    "    50 * f.subs(x, x2) + \n",
    "    50 * f.subs(x, x3) +\n",
    "    75 * f.subs(x, x4) +\n",
    "    19 * f.subs(x, x5)\n",
    ")\n",
    "\n",
    "print(float(valor_aproximado))\n"
   ]
  },
  {
   "cell_type": "code",
   "execution_count": 57,
   "metadata": {},
   "outputs": [
    {
     "name": "stdout",
     "output_type": "stream",
     "text": [
      "333260.1486928052\n"
     ]
    }
   ],
   "source": [
    "# n = 6 , ejemplo de \n",
    "\n",
    "f = 62.4 * ((25/144) * pi * x**2)*(26 - x)\n",
    "\n",
    "a = 0\n",
    "b = 12\n",
    "h = (b-a) / 6\n",
    "x0 = a\n",
    "x1 = a + h\n",
    "x2 = a + 2*h\n",
    "x3 = a + 3*h\n",
    "x4 = a + 4*h\n",
    "x5 = a + 5*h\n",
    "x6 = b\n",
    "\n",
    "valor_aproximado = ( h / 140) * (\n",
    "    41 * f.subs(x, x0) + \n",
    "    216 * f.subs(x, x1) + \n",
    "    27 * f.subs(x, x2) + \n",
    "    272 * f.subs(x, x3) +\n",
    "    27 * f.subs(x, x4) +\n",
    "    216 * f.subs(x, x5) +\n",
    "    41 * f.subs(x, x6)\n",
    ")\n",
    "\n",
    "print(float(valor_aproximado))"
   ]
  }
 ],
 "metadata": {
  "kernelspec": {
   "display_name": "venv",
   "language": "python",
   "name": "python3"
  },
  "language_info": {
   "codemirror_mode": {
    "name": "ipython",
    "version": 3
   },
   "file_extension": ".py",
   "mimetype": "text/x-python",
   "name": "python",
   "nbconvert_exporter": "python",
   "pygments_lexer": "ipython3",
   "version": "3.10.12"
  }
 },
 "nbformat": 4,
 "nbformat_minor": 2
}
