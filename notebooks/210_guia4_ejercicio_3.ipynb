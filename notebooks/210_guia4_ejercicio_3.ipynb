{
 "cells": [
  {
   "cell_type": "markdown",
   "metadata": {},
   "source": [
    "3 - Dada la siguiente ecuación diferencial:\n",
    "\n",
    "$$ 2ye^t dy + y^2 e^t dt = te^t dt, \\ \\ 0 \\leq t \\leq \\frac{1}{50}, \\ \\ y(0)=1, \\ \\ h= \\frac{1}{200} $$\n",
    "\n",
    "Emplee el método de Euler mejorado para obtener la solución aproximada en cada uno de los valores de *t*. Además obtenga la solución exacta y evalúela en cada valor de *t*.\n",
    "\n",
    "Despejamos la ecuación:\n",
    "\n",
    "$$ \\frac{dy}{dt} = \\frac{te^t - y^2 e^t}{2ye^t} $$\n",
    "\n",
    "reducimos:\n",
    "\n",
    "$$ \\frac{dy}{dt} = \\frac{e^t(t - y^2)}{2ye^t} = \\frac{t - y^2}{2y} $$"
   ]
  },
  {
   "cell_type": "code",
   "execution_count": 8,
   "metadata": {},
   "outputs": [
    {
     "name": "stdout",
     "output_type": "stream",
     "text": [
      "A continuación tenemos los valores de cada t\n"
     ]
    },
    {
     "data": {
      "text/html": [
       "<pre style=\"white-space:pre;overflow-x:auto;line-height:normal;font-family:Menlo,'DejaVu Sans Mono',consolas,'Courier New',monospace\">┏━━━━━━━┳━━━━━━━━━━━━━━━━━━━━┳━━━━━━━━━━━━━━━━━━━━┳━━━━━━━━━━━━━━━━━━━┳━━━━━━━━━━━━━━━━━━━━┳━━━━━━━━━━━━━━━━━━━━━┓\n",
       "┃<span style=\"font-weight: bold\"> t_i   </span>┃<span style=\"font-weight: bold\"> k1                 </span>┃<span style=\"font-weight: bold\"> k2                 </span>┃<span style=\"font-weight: bold\"> Yi                </span>┃<span style=\"font-weight: bold\"> F(t_i)             </span>┃<span style=\"font-weight: bold\"> Error               </span>┃\n",
       "┡━━━━━━━╇━━━━━━━━━━━━━━━━━━━━╇━━━━━━━━━━━━━━━━━━━━╇━━━━━━━━━━━━━━━━━━━╇━━━━━━━━━━━━━━━━━━━━╇━━━━━━━━━━━━━━━━━━━━━┩\n",
       "│ 0.0   │ 0                  │ 0                  │ 1                 │ 1.0                │ 0.0                 │\n",
       "│ 0.005 │ -1/2               │ -0.496243734335840 │ 0.997509390664160 │ 0.9975093775926944 │ 1.30714660206976e-8 │\n",
       "│ 0.01  │ -0.496248453262183 │ -0.492489090726798 │ 0.995037546804188 │ 0.9950375206485111 │ 2.61556768466065e-8 │\n",
       "│ 0.015 │ -0.492493837392334 │ -0.488731435326744 │ 0.992584483622390 │ 0.9925844443704149 │ 3.92519753367182e-8 │\n",
       "│ 0.02  │ -0.488736209933053 │ -0.484970827595412 │ 0.990150216028569 │ 0.9901501636688803 │ 5.23596888069022e-8 │\n",
       "└───────┴────────────────────┴────────────────────┴───────────────────┴────────────────────┴─────────────────────┘\n",
       "</pre>\n"
      ],
      "text/plain": [
       "┏━━━━━━━┳━━━━━━━━━━━━━━━━━━━━┳━━━━━━━━━━━━━━━━━━━━┳━━━━━━━━━━━━━━━━━━━┳━━━━━━━━━━━━━━━━━━━━┳━━━━━━━━━━━━━━━━━━━━━┓\n",
       "┃\u001b[1m \u001b[0m\u001b[1mt_i  \u001b[0m\u001b[1m \u001b[0m┃\u001b[1m \u001b[0m\u001b[1mk1                \u001b[0m\u001b[1m \u001b[0m┃\u001b[1m \u001b[0m\u001b[1mk2                \u001b[0m\u001b[1m \u001b[0m┃\u001b[1m \u001b[0m\u001b[1mYi               \u001b[0m\u001b[1m \u001b[0m┃\u001b[1m \u001b[0m\u001b[1mF(t_i)            \u001b[0m\u001b[1m \u001b[0m┃\u001b[1m \u001b[0m\u001b[1mError              \u001b[0m\u001b[1m \u001b[0m┃\n",
       "┡━━━━━━━╇━━━━━━━━━━━━━━━━━━━━╇━━━━━━━━━━━━━━━━━━━━╇━━━━━━━━━━━━━━━━━━━╇━━━━━━━━━━━━━━━━━━━━╇━━━━━━━━━━━━━━━━━━━━━┩\n",
       "│ 0.0   │ 0                  │ 0                  │ 1                 │ 1.0                │ 0.0                 │\n",
       "│ 0.005 │ -1/2               │ -0.496243734335840 │ 0.997509390664160 │ 0.9975093775926944 │ 1.30714660206976e-8 │\n",
       "│ 0.01  │ -0.496248453262183 │ -0.492489090726798 │ 0.995037546804188 │ 0.9950375206485111 │ 2.61556768466065e-8 │\n",
       "│ 0.015 │ -0.492493837392334 │ -0.488731435326744 │ 0.992584483622390 │ 0.9925844443704149 │ 3.92519753367182e-8 │\n",
       "│ 0.02  │ -0.488736209933053 │ -0.484970827595412 │ 0.990150216028569 │ 0.9901501636688803 │ 5.23596888069022e-8 │\n",
       "└───────┴────────────────────┴────────────────────┴───────────────────┴────────────────────┴─────────────────────┘\n"
      ]
     },
     "metadata": {},
     "output_type": "display_data"
    }
   ],
   "source": [
    "from sympy import *\n",
    "from numpy import arange\n",
    "\n",
    "fy = symbols(\"fy\", cls=Function)\n",
    "t, y = symbols(\"t y\")\n",
    "\n",
    "h = 1/200\n",
    "\n",
    "eq = Eq(fy(t).diff(), (t - fy(t)**2)/ (2*fy(t)))\n",
    "f = (t - y**2)/ (2*y)\n",
    "\n",
    "\n",
    "# Calculamos la solucion particular F\n",
    "condiciones_iniciales = {fy(0):1}\n",
    "F = dsolve(eq, ics=condiciones_iniciales)\n",
    "F\n",
    "\n",
    "# Aquí agrego un h/2 a al paso donde finaliza porque si no\n",
    "# arrange no lo toma en cuenta\n",
    "T = [t for t in arange(0, 0.021, h)]\n",
    "\n",
    "# Calculo los valores exactos\n",
    "solucion_exacta = []\n",
    "for i in range(len(T)):\n",
    "    solucion_exacta.append(float(F.rhs.subs({t: T[i]})))\n",
    "\n",
    "# Declaro la lista con y(0) = 1 como primer valor de los Y\n",
    "\n",
    "Y = [1]\n",
    "K1 = [0]\n",
    "K2 = [0]\n",
    "\n",
    "# Hago un for para aplicar la fórmula\n",
    "for i in range(1, len(T)):\n",
    "    k1 = f.subs({t: T[i-1], y: Y[i-1]})\n",
    "    k2 = f.subs({t: T[i-1] + h, y: Y[i-1] + h*k1})\n",
    "    K1.append(k1)\n",
    "    K2.append(k2)\n",
    "    Y.append(Y[i-1] + (h/2)*(k1 + k2))\n",
    "\n",
    "# pasamos todos los datos a una lista anidada para poder desplegarlos en una tabla\n",
    "\n",
    "from utils import imprimir_tabla\n",
    "\n",
    "lista_tabla = [[\"t_i\", \"k1\", \"k2\", \"Yi\", \"F(t_i)\", \"Error\"]]\n",
    "\n",
    "for i in range(len(T)):\n",
    "    lista_tabla.append(\n",
    "        [\n",
    "            str(T[i]),\n",
    "            str(K1[i]),\n",
    "            str(K2[i]),\n",
    "            str(Y[i]),\n",
    "            str(solucion_exacta[i]),\n",
    "            str(abs(Y[i] - solucion_exacta[i])),\n",
    "        ]\n",
    "    )\n",
    "\n",
    "\n",
    "print(\"A continuación tenemos los valores de cada t\")\n",
    "imprimir_tabla(lista_tabla)\n"
   ]
  }
 ],
 "metadata": {
  "kernelspec": {
   "display_name": "venv",
   "language": "python",
   "name": "python3"
  },
  "language_info": {
   "codemirror_mode": {
    "name": "ipython",
    "version": 3
   },
   "file_extension": ".py",
   "mimetype": "text/x-python",
   "name": "python",
   "nbconvert_exporter": "python",
   "pygments_lexer": "ipython3",
   "version": "3.10.12"
  }
 },
 "nbformat": 4,
 "nbformat_minor": 2
}
