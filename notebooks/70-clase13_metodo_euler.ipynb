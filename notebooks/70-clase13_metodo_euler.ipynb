{
 "cells": [
  {
   "cell_type": "markdown",
   "metadata": {},
   "source": [
    "Colusión de ecuaciones diferenciales con el método de Euler\n",
    "\n",
    "Para este método nos darán:\n",
    "- Una ecuación diferencial ordinaria de primer orden.\n",
    "- Un valor inicial.\n",
    "- Un rango en que variará la variable independiente.\n",
    "- Un valor de \"h\".\n",
    "\n",
    "Además en todo caso hay que dejar la función de la forma:\n",
    "\n",
    "$$ \\frac{dy}{dx} = f(x) $$\n",
    "\n",
    "Con estos datos se pasa a solucionar con Python"
   ]
  },
  {
   "cell_type": "code",
   "execution_count": null,
   "metadata": {},
   "outputs": [],
   "source": [
    "# Ejemplo de vídeo: https://youtu.be/wE7DihClCmI?si=nTSJuS5ZWe_CJ4ML\n",
    "\n",
    "from sympy import *\n",
    "\n",
    "y, t = Symbols(\"y t\")\n",
    "\n",
    "# Declaro la función a ocupar\n",
    "f= cos(2*t) + sin(3*t)\n",
    "\n",
    "h = 1/4\n",
    "\n",
    "\n",
    "# El valor de la variable desde \"a\" a \"b\", en este caso \"t\" varía  0 a 1, esto\n",
    "# nos lo dan ejercicio. Como nos dan h=0.25 iremos duplicando este valor hasta\n",
    "# llevar a 1\n",
    "\n",
    "\n",
    "\n"
   ]
  }
 ],
 "metadata": {
  "language_info": {
   "name": "python"
  }
 },
 "nbformat": 4,
 "nbformat_minor": 2
}
