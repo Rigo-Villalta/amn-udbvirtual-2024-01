{
 "cells": [
  {
   "cell_type": "markdown",
   "metadata": {},
   "source": [
    "6) Dada la siguiente ecuación diferencial:\n",
    "\n",
    "$$ (2t \\ tan(y)+5)dt + (t^2 sec^2(y))dy=0, \\ \\ \\ \\frac{1}{2} \\leq t \\leq \\frac{209}{400}, \\ \\ \\ y(\\frac{1}{2}) = \\frac{\\pi}{4}, \\ \\ \\ h = \\frac{1}{400} $$\n",
    "\n",
    "Emplee el método del punto medio para obtener la solución aproximada en cada uno de los valores de *t*. Además obtenga la solución exacta y evalúela en cada valor de *t*.\n",
    "\n",
    "Solución\n",
    "Ponemos la ecuación de forma: $ \\frac{dy}{dt} = f $\n",
    "$$  \\frac{dy}{dt} = - \\frac{(2t \\ tan(y)+5)}{(t^2 sec^2(y))} $$\n"
   ]
  },
  {
   "cell_type": "code",
   "execution_count": 2,
   "metadata": {},
   "outputs": [
    {
     "data": {
      "text/plain": [
       "[0.5, 0.5025, 0.505, 0.5075, 0.51, 0.5125, 0.515, 0.5175, 0.52, 0.5225]"
      ]
     },
     "execution_count": 2,
     "metadata": {},
     "output_type": "execute_result"
    }
   ],
   "source": [
    "from sympy import *\n",
    "from numpy import arange\n",
    "\n",
    "fy = symbols(\"fy\", cls=Function)\n",
    "t, y = symbols(\"t y\")\n",
    "\n",
    "h = 1/400\n",
    "\n",
    "eq = Eq(fy(t).diff(), -(2*t * tan(fy(t)) + 5) / (t**2 * (sec(fy(t))**2)))\n",
    "f = -(2*t * tan(y) + 5) / (t**2 * ((sec(y))**2))\n",
    "\n",
    "\n",
    "# creamos nuestro intervalo\n",
    "T = [round(t, 4) for t in arange(1/2, 209/400 + h/2, h)]\n",
    "T"
   ]
  },
  {
   "cell_type": "code",
   "execution_count": 3,
   "metadata": {},
   "outputs": [
    {
     "data": {
      "text/plain": [
       "[pi/4,\n",
       " 0.7547912571725077,\n",
       " 0.7229468728511925,\n",
       " 0.6898610942265052,\n",
       " 0.6555408684158722,\n",
       " 0.6200056012998797,\n",
       " 0.5832886620946846,\n",
       " 0.5454387000092047,\n",
       " 0.5065206634493546,\n",
       " 0.4666164068436394]"
      ]
     },
     "execution_count": 3,
     "metadata": {},
     "output_type": "execute_result"
    }
   ],
   "source": [
    "# Declaro la lista con y_0 = 0\n",
    "\n",
    "Y = [pi/4]\n",
    "K1 = [0]\n",
    "K2 = [0]\n",
    "\n",
    "# Hago un for para aplicar la fórmula\n",
    "for i in range(1, len(T)):\n",
    "    k1 = f.evalf(subs={t: T[i-1], y: Y[i-1]})\n",
    "    k2 = f.evalf(subs={t: T[i-1] + 0.5*h, y: Y[i-1] + 0.5*h*k1})\n",
    "    K1.append(k1)\n",
    "    K2.append(k2)\n",
    "    Y.append(float(Y[i-1] + h * k2))\n",
    "\n",
    "Y"
   ]
  },
  {
   "cell_type": "code",
   "execution_count": 4,
   "metadata": {},
   "outputs": [
    {
     "data": {
      "text/plain": [
       "array([0.78539816, 0.75478581, 0.72293654, 0.68984292, 0.65551199,\n",
       "       0.6199653 , 0.58323888, 0.54538325, 0.50646342, 0.46655891])"
      ]
     },
     "execution_count": 4,
     "metadata": {},
     "output_type": "execute_result"
    }
   ],
   "source": [
    "# Encontramos la solución exacta\n",
    "from scipy.integrate import solve_ivp\n",
    "\n",
    "import numpy\n",
    "\n",
    "def funcionEq(t, y): \n",
    "    return -(2*t * numpy.tan(y) + 5) / (t**2 * ((1/numpy.cos(y))**2))\n",
    "\n",
    "solucion = solve_ivp(funcionEq, (0.5,0.5225), [numpy.pi /4], t_eval=T)\n",
    "solucion_exacta = []\n",
    "for i in solucion.y[0]:\n",
    "    solucion_exacta.append(float(i))\n",
    "solucion.y[0]"
   ]
  }
 ],
 "metadata": {
  "kernelspec": {
   "display_name": "venv",
   "language": "python",
   "name": "python3"
  },
  "language_info": {
   "codemirror_mode": {
    "name": "ipython",
    "version": 3
   },
   "file_extension": ".py",
   "mimetype": "text/x-python",
   "name": "python",
   "nbconvert_exporter": "python",
   "pygments_lexer": "ipython3",
   "version": "3.10.12"
  }
 },
 "nbformat": 4,
 "nbformat_minor": 2
}
