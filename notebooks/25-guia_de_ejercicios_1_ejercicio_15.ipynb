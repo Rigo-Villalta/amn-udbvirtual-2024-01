{
 "cells": [
  {
   "cell_type": "markdown",
   "metadata": {},
   "source": [
    "15 - Un abrevadero de longitud L tiene una sección transversal en forma de semicírculo con radio r (vea la figura). El depósito se está llenando de agua\n",
    "\n",
    "![Imagen de un abrevadero](../images/abrevadero.png)\n",
    "\n",
    "Suponga que 𝐿 = 10 pies, r = 1 pie y que v = 12.4 pies3. Determine la profundidad del agua del abrevadero con una exactitud de 10-12, empleando el método de Newton-Raphson. Emplee 15 decimales.\n",
    "\n",
    "Solución: Para encontrar el volumen que nos piden tenemos que tener una función en base a la altura \"h\" y derivarla para poder ocupar el métodod de Newton-Raphson.\n",
    "\n",
    "Iniciamos por declarar que el volumne de todo el medio cilindro sería:\n",
    "\n",
    "$$ L A_t = 12.4 pies^3  $$\n",
    "\n",
    "Dado que buscamos la profundidad del agua y no está completamente lleno, necesitamos contruir una función en base a los triángulos que se forman en la vista lateral del cateto, esta expresión es:\n",
    "$$ L  \\left( \\frac{ \\pi r^2 }{2} - h \\sqrt{r^2 - h^2 } -r^2 sen^{-1} (\\frac{h}{r}) \\right) = 12.4 $$\n",
    "\n",
    "Ahora hago mi f(x) con: \n",
    "$$ f(h) = L  \\left( \\frac{ \\pi r^2 }{2} - h \\sqrt{r^2 - h^2 } -r^2 sen^{-1} (\\frac{h}{r}) \\right) - 12.4 $$\n",
    "\n",
    "Sustituyo mi constantes:\n",
    "\n",
    "$$ f(h) = 10  \\left( \\frac{ \\pi }{2} - h \\sqrt{1 - h^2 } - sen^{-1} (h) \\right) - 12.4 $$\n",
    "\n",
    "Efectuo el producto del 10 y tengo:\n",
    "\n",
    "$$ f(h) = \\frac{ 10 \\pi }{2} -10  h \\sqrt{1 - h^2 } - 10 sen^{-1} (h) - 12.4 $$\n",
    "\n",
    "Y mi derivada sería\n",
    "\n",
    "$$ f'(h) =  -20 \\sqrt{1 - x^2} $$\n",
    "\n",
    "Ahora ejecuto el método de Newton-Rapshon"
   ]
  },
  {
   "cell_type": "code",
   "execution_count": 10,
   "metadata": {},
   "outputs": [
    {
     "data": {
      "image/png": "[encoded data removed]",
      "text/plain": [
       "<Figure size 300x300 with 1 Axes>"
      ]
     },
     "metadata": {},
     "output_type": "display_data"
    },
    {
     "data": {
      "text/html": [
       "<pre style=\"white-space:pre;overflow-x:auto;line-height:normal;font-family:Menlo,'DejaVu Sans Mono',consolas,'Courier New',monospace\">┏━━━━━━━━━━━━━━━━┳━━━━━━━━━━━━━━━━━━━┳━━━━━━━━━━━━━━━━━━━┳━━━━━━━━━━━━━━━━━━━┓\n",
       "┃<span style=\"font-weight: bold\"> # de iteración </span>┃<span style=\"font-weight: bold\"> x0                </span>┃<span style=\"font-weight: bold\"> x1                </span>┃<span style=\"font-weight: bold\"> error             </span>┃\n",
       "┡━━━━━━━━━━━━━━━━╇━━━━━━━━━━━━━━━━━━━╇━━━━━━━━━━━━━━━━━━━╇━━━━━━━━━━━━━━━━━━━┩\n",
       "│ 1              │ 0.125000000000000 │ 0.166046388892792 │ 0.041046388892792 │\n",
       "│ 2              │ 0.166046388892792 │ 0.166166033435883 │ 0.000119644543091 │\n",
       "│ 3              │ 0.166166033435883 │ 0.166166034658368 │ &lt;-- solución      │\n",
       "└────────────────┴───────────────────┴───────────────────┴───────────────────┘\n",
       "</pre>\n"
      ],
      "text/plain": [
       "┏━━━━━━━━━━━━━━━━┳━━━━━━━━━━━━━━━━━━━┳━━━━━━━━━━━━━━━━━━━┳━━━━━━━━━━━━━━━━━━━┓\n",
       "┃\u001b[1m \u001b[0m\u001b[1m# de iteración\u001b[0m\u001b[1m \u001b[0m┃\u001b[1m \u001b[0m\u001b[1mx0               \u001b[0m\u001b[1m \u001b[0m┃\u001b[1m \u001b[0m\u001b[1mx1               \u001b[0m\u001b[1m \u001b[0m┃\u001b[1m \u001b[0m\u001b[1merror            \u001b[0m\u001b[1m \u001b[0m┃\n",
       "┡━━━━━━━━━━━━━━━━╇━━━━━━━━━━━━━━━━━━━╇━━━━━━━━━━━━━━━━━━━╇━━━━━━━━━━━━━━━━━━━┩\n",
       "│ 1              │ 0.125000000000000 │ 0.166046388892792 │ 0.041046388892792 │\n",
       "│ 2              │ 0.166046388892792 │ 0.166166033435883 │ 0.000119644543091 │\n",
       "│ 3              │ 0.166166033435883 │ 0.166166034658368 │ <-- solución      │\n",
       "└────────────────┴───────────────────┴───────────────────┴───────────────────┘\n"
      ]
     },
     "metadata": {},
     "output_type": "display_data"
    }
   ],
   "source": [
    "import math\n",
    "import numpy\n",
    "\n",
    "from matplotlib import pyplot\n",
    "\n",
    "from metodos_numericos import newton_raphson\n",
    "from utils import imprimir_tabla\n",
    "\n",
    "def f_de_h(h):\n",
    "    return round(\n",
    "        (10 * math.pi / 2 - 10 * h * math.sqrt(1 - h**2) - 10 * math.asin(h) - 12.4),\n",
    "        15\n",
    "    )\n",
    "\n",
    "def derivada_de_f_de_h(h):\n",
    "    return round(\n",
    "        (-20 * math.sqrt(1 - h**2)),\n",
    "        15\n",
    "    )\n",
    "\n",
    "# Gráfico funciones con un intervalo en donde se pueda obtener la raiz\n",
    "eje_x = [x for x in numpy.arange(-1, 1.1, 0.1)]\n",
    "eje_y = [f_de_h(x) for x in eje_x]\n",
    "\n",
    "plot_carga_en_tiempo = pyplot.figure(figsize=(3,3),) \n",
    "pyplot.plot(eje_x, eje_y)\n",
    "pyplot.grid(visible=True)\n",
    "pyplot.axvline(0, color=\"g\")\n",
    "pyplot.axhline(0, color=\"g\")\n",
    "pyplot.show()\n",
    "\n",
    "# Con el gráfico podemos ver que la raíz está cerca a 0.125, con ese valor inicial\n",
    "\n",
    "resultado = newton_raphson(0.125, f_de_h, derivada_de_f_de_h, resultado=[])\n",
    "imprimir_tabla(resultado)"
   ]
  },
  {
   "cell_type": "markdown",
   "metadata": {},
   "source": [
    "Dado que nuestra raíz es igual a 0.166166034658368 y r = 1, 1 - 0.166166034658368 = 0.8338339653, por lo tanto: \n",
    "\n",
    "__La altura del abrevadero es de aproximadamente 0.833833965341 pies__"
   ]
  }
 ],
 "metadata": {
  "kernelspec": {
   "display_name": "venv",
   "language": "python",
   "name": "python3"
  },
  "language_info": {
   "codemirror_mode": {
    "name": "ipython",
    "version": 3
   },
   "file_extension": ".py",
   "mimetype": "text/x-python",
   "name": "python",
   "nbconvert_exporter": "python",
   "pygments_lexer": "ipython3",
   "version": "3.10.12"
  }
 },
 "nbformat": 4,
 "nbformat_minor": 2
}
