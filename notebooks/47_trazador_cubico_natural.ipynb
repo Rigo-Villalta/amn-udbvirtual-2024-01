{
 "cells": [
  {
   "cell_type": "code",
   "execution_count": 1,
   "metadata": {},
   "outputs": [
    {
     "name": "stdout",
     "output_type": "stream",
     "text": [
      "El trazador 1 es: 0.252284214284322*x**3 + 1.46599761417472*x + 1.0\n",
      "El trazador 2 es: 1.69107137059095*x**3 - 4.31636146891989*x**2 + 5.78235908309461*x - 0.438787156306629\n",
      "El trazador 3 es: -1.94335558487527*x**3 + 17.4902002638775*x**2 - 37.8307643825001*x + 28.6366284874232\n"
     ]
    }
   ],
   "source": [
    "# Prueba de algoritmo contra el vídeo de: https://youtu.be/ZDMp2YUnTwY?si=_bJnPauGV9b5OjXV\n",
    "\n",
    "from math import exp\n",
    "\n",
    "from metodos_interpolacion import trazador_cubico_natural\n",
    "\n",
    "datos_x = [0, 1, 2, 3]\n",
    "datos_y = [exp(x) for x in datos_x]\n",
    "\n",
    "resultado = trazador_cubico_natural(datos_x, datos_y)\n",
    "\n",
    "contador = 1\n",
    "for pol in resultado[2]:\n",
    "    print(f\"El trazador {contador} es:\", pol)\n",
    "    contador += 1"
   ]
  }
 ],
 "metadata": {
  "kernelspec": {
   "display_name": "venv",
   "language": "python",
   "name": "python3"
  },
  "language_info": {
   "codemirror_mode": {
    "name": "ipython",
    "version": 3
   },
   "file_extension": ".py",
   "mimetype": "text/x-python",
   "name": "python",
   "nbconvert_exporter": "python",
   "pygments_lexer": "ipython3",
   "version": "3.10.12"
  }
 },
 "nbformat": 4,
 "nbformat_minor": 2
}
