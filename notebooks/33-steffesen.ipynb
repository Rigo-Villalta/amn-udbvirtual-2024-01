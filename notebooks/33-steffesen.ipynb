{
 "cells": [
  {
   "cell_type": "code",
   "execution_count": 3,
   "metadata": {},
   "outputs": [
    {
     "data": {
      "text/html": [
       "<pre style=\"white-space:pre;overflow-x:auto;line-height:normal;font-family:Menlo,'DejaVu Sans Mono',consolas,'Courier New',monospace\">┏━━━━━━━━━━━━━━━━┳━━━━━━━━━━━━━━━━━━┳━━━━━━━━━━━━━━━━━━━┳━━━━━━━━━━━━━━━━━━┳━━━━━━━━━━━━━━━━━━━┳━━━━━━━━━━━━━━━━━━┓\n",
       "┃<span style=\"font-weight: bold\"> # de iteración </span>┃<span style=\"font-weight: bold\"> x0               </span>┃<span style=\"font-weight: bold\"> x1                </span>┃<span style=\"font-weight: bold\"> x2               </span>┃<span style=\"font-weight: bold\"> x3                </span>┃<span style=\"font-weight: bold\"> error            </span>┃\n",
       "┡━━━━━━━━━━━━━━━━╇━━━━━━━━━━━━━━━━━━╇━━━━━━━━━━━━━━━━━━━╇━━━━━━━━━━━━━━━━━━╇━━━━━━━━━━━━━━━━━━━╇━━━━━━━━━━━━━━━━━━┩\n",
       "│ 1              │ 1.0000000000000… │ 1.538461538461539 │ 1.2950191570881… │ 1.295019157088122 │ 0.3708138826872… │\n",
       "│ 2              │ 1.3708138826872… │ 1.367918090298850 │ 1.3692031625872… │ 1.369203162587276 │ 0.0020057127424… │\n",
       "│ 3              │ 1.3688081699448… │ 1.368808080249231 │ 1.3688081200586… │ 1.368808120058670 │ 0.0000000621234… │\n",
       "│ 4              │ 1.3688081078213… │ 1.368808107821373 │ 1.3688081078213… │ 1.368808107821373 │ &lt;-- solución     │\n",
       "└────────────────┴──────────────────┴───────────────────┴──────────────────┴───────────────────┴──────────────────┘\n",
       "</pre>\n"
      ],
      "text/plain": [
       "┏━━━━━━━━━━━━━━━━┳━━━━━━━━━━━━━━━━━━┳━━━━━━━━━━━━━━━━━━━┳━━━━━━━━━━━━━━━━━━┳━━━━━━━━━━━━━━━━━━━┳━━━━━━━━━━━━━━━━━━┓\n",
       "┃\u001b[1m \u001b[0m\u001b[1m# de iteración\u001b[0m\u001b[1m \u001b[0m┃\u001b[1m \u001b[0m\u001b[1mx0              \u001b[0m\u001b[1m \u001b[0m┃\u001b[1m \u001b[0m\u001b[1mx1               \u001b[0m\u001b[1m \u001b[0m┃\u001b[1m \u001b[0m\u001b[1mx2              \u001b[0m\u001b[1m \u001b[0m┃\u001b[1m \u001b[0m\u001b[1mx3               \u001b[0m\u001b[1m \u001b[0m┃\u001b[1m \u001b[0m\u001b[1merror           \u001b[0m\u001b[1m \u001b[0m┃\n",
       "┡━━━━━━━━━━━━━━━━╇━━━━━━━━━━━━━━━━━━╇━━━━━━━━━━━━━━━━━━━╇━━━━━━━━━━━━━━━━━━╇━━━━━━━━━━━━━━━━━━━╇━━━━━━━━━━━━━━━━━━┩\n",
       "│ 1              │ 1.0000000000000… │ 1.538461538461539 │ 1.2950191570881… │ 1.295019157088122 │ 0.3708138826872… │\n",
       "│ 2              │ 1.3708138826872… │ 1.367918090298850 │ 1.3692031625872… │ 1.369203162587276 │ 0.0020057127424… │\n",
       "│ 3              │ 1.3688081699448… │ 1.368808080249231 │ 1.3688081200586… │ 1.368808120058670 │ 0.0000000621234… │\n",
       "│ 4              │ 1.3688081078213… │ 1.368808107821373 │ 1.3688081078213… │ 1.368808107821373 │ <-- solución     │\n",
       "└────────────────┴──────────────────┴───────────────────┴──────────────────┴───────────────────┴──────────────────┘\n"
      ]
     },
     "metadata": {},
     "output_type": "display_data"
    }
   ],
   "source": [
    "from metodos_numericos import steffensen\n",
    "from utils import imprimir_tabla\n",
    "\n",
    "def g_de_x(x):\n",
    "    \"\"\"\n",
    "    Tomo directamente le g(x) de la clase para probar el algoritmo\n",
    "    \"\"\"\n",
    "    return 20 / (x**2 + 2*x +10)\n",
    "\n",
    "resultado = steffensen(1, g_de_x, 10E-12, 1, [])\n",
    "imprimir_tabla(resultado)"
   ]
  }
 ],
 "metadata": {
  "kernelspec": {
   "display_name": "venv",
   "language": "python",
   "name": "python3"
  },
  "language_info": {
   "codemirror_mode": {
    "name": "ipython",
    "version": 3
   },
   "file_extension": ".py",
   "mimetype": "text/x-python",
   "name": "python",
   "nbconvert_exporter": "python",
   "pygments_lexer": "ipython3",
   "version": "3.10.12"
  }
 },
 "nbformat": 4,
 "nbformat_minor": 2
}
