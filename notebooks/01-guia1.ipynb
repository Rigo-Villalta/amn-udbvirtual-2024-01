{
 "cells": [
  {
   "cell_type": "markdown",
   "metadata": {},
   "source": [
    "# Guía 1\n",
    "\n",
    "Para el desarrollo de la guía 1, convierto todos los pasos desde MatLab a Python, en caso de no estar disponible o no ser necesario lo comento."
   ]
  },
  {
   "cell_type": "markdown",
   "metadata": {},
   "source": [
    "Los equivalentes en Python para el desplegue de mensajes y las operaciones matemáticas básicas o algunas que requieren librerías se muestran en la siguiente celda."
   ]
  },
  {
   "cell_type": "code",
   "execution_count": null,
   "metadata": {
    "vscode": {
     "languageId": "plaintext"
    }
   },
   "outputs": [],
   "source": [
    "# La funcion print es equivalente a disp\n",
    "print(\"Hola mundo\")\n",
    "\n",
    "# Las operaciones aritméticas básicas y la asignación de variables funcionan igual:\n",
    "print(9 + 9)\n",
    "z = 9+9\n",
    "print(z)\n",
    "\n",
    "# En cambio para algunas operaciones trigonómetricas, logarítmicas, etc. Se necesita\n",
    "# el módulo math de la librería estándar\n",
    "\n",
    "import math\n",
    "\n",
    "print(math.sin(10))"
   ]
  }
 ],
 "metadata": {
  "language_info": {
   "name": "python"
  }
 },
 "nbformat": 4,
 "nbformat_minor": 2
}
