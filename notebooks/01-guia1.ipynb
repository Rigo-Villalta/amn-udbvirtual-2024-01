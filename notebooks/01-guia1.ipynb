{
 "cells": [
  {
   "cell_type": "markdown",
   "metadata": {},
   "source": [
    "# Guía 1\n",
    "\n",
    "Para el desarrollo de la guía 1, convierto todos los pasos desde MatLab a Python, en caso de no estar disponible o no ser necesario lo comento."
   ]
  },
  {
   "cell_type": "markdown",
   "metadata": {},
   "source": [
    "Los equivalentes en Python para el desplegue de mensajes y las operaciones matemáticas básicas o algunas que requieren librerías se muestran en la siguiente celda."
   ]
  },
  {
   "cell_type": "code",
   "execution_count": 9,
   "metadata": {},
   "outputs": [
    {
     "name": "stdout",
     "output_type": "stream",
     "text": [
      "Hola mundo\n",
      "18\n",
      "18\n",
      "-0.5440211108893698\n"
     ]
    }
   ],
   "source": [
    "# La funcion print es equivalente a disp\n",
    "print(\"Hola mundo\")\n",
    "\n",
    "# Las operaciones aritméticas básicas y la asignación de variables funcionan igual:\n",
    "print(9 + 9)\n",
    "z = 9+9\n",
    "# Para llamar a variables lo hacemos por su nombre\n",
    "# En modo interactivo funciona igual que en MatLab, pero aquí ocupo print para mostrarlo\n",
    "print(z)\n",
    "\n",
    "# En cambio para algunas operaciones trigonómetricas, logarítmicas, etc. Se necesita\n",
    "# el módulo math de la librería estándar\n",
    "\n",
    "import math\n",
    "\n",
    "print(math.sin(10))"
   ]
  },
  {
   "cell_type": "markdown",
   "metadata": {},
   "source": [
    "Python además se puede ocupar para diferentes cálculos como una calculadora, en la siguiente celda se muestran, además ya utilizamos varios comentarios"
   ]
  },
  {
   "cell_type": "code",
   "execution_count": 10,
   "metadata": {},
   "outputs": [
    {
     "name": "stdout",
     "output_type": "stream",
     "text": [
      "5529599.476353067\n",
      "30\n",
      "+\n"
     ]
    }
   ],
   "source": [
    "operacion = (10.3 + 8 * 5 / 3.33)**5\n",
    "print(operacion)\n",
    "\n",
    "# Asignamos una operación a una variable y la imprimimos\n",
    "w = 10 + 20\n",
    "print(w)\n",
    "\n",
    "# para saber el signo de un número hay que testear con if\n",
    "x = 1\n",
    "print(\"-\" if x < 0 else \"+\")"
   ]
  },
  {
   "cell_type": "markdown",
   "metadata": {},
   "source": [
    "Python tienen diversos tipos de datos, tanto primitivos como compuestos, en su librería estándar hay muchos tipos de datos compuestos que ayudan a manipular datos, pero los más utilizados y que probablemente sirvan para esta materia sean:\n",
    "\n",
    "- Enteros: Números enteros\n",
    "- Float: Números de punto flotante\n",
    "- String: Cádenas de texto, incluso de un solo caracter.\n",
    "- Listas: Tipo de dato compuesto que puede contener cualquier otro tipo de dato.\n",
    "\n",
    "Además importando desde módulos de la librería estándar hay tipos de datos útiles como decimales.\n",
    "\n",
    "Podemos saber el tipo de un dato con la función predeterminada `type()`"
   ]
  },
  {
   "cell_type": "code",
   "execution_count": 11,
   "metadata": {},
   "outputs": [
    {
     "name": "stdout",
     "output_type": "stream",
     "text": [
      "3.141592\n",
      "<class 'float'>\n",
      "50\n",
      "<class 'int'>\n",
      "Una cadena de texto\n",
      "<class 'str'>\n",
      "3.141592\n",
      "<class 'float'>\n",
      "50\n",
      "<class 'int'>\n",
      "Una cadena de texto\n",
      "<class 'str'>\n"
     ]
    }
   ],
   "source": [
    "# Número de punto o coma flotante\n",
    "f1 = 3.141592 \n",
    "print(f1)\n",
    "print(type(f1))\n",
    "\n",
    "# Número entero\n",
    "e1 = 50\n",
    "print(e1)\n",
    "print(type(e1))\n",
    "\n",
    "# Una cadena\n",
    "c1 = \"Una cadena de texto\"\n",
    "print(c1)\n",
    "print(type(c1))\n",
    "\n",
    "l1 = [f1, e1, c1]\n",
    "\n",
    "# Aquí usamos un for para imprimir los elementos de la lista\n",
    "for e in l1:\n",
    "    print(e)\n",
    "    print(type(e))"
   ]
  },
  {
   "cell_type": "markdown",
   "metadata": {},
   "source": [
    "Para el formato numérico python representa y acepta números en notación *e* y además brinda mucha flexibilidad para representar o aproximar (con la función `round()`) números flotantes y/o decimales"
   ]
  },
  {
   "cell_type": "code",
   "execution_count": 23,
   "metadata": {},
   "outputs": [
    {
     "name": "stdout",
     "output_type": "stream",
     "text": [
      "3.121592\n",
      "3.1216\n",
      "3.1216\n",
      "3.1215920000\n",
      "100,000.00\n",
      "3.141592653589793\n",
      "2500.0\n"
     ]
    }
   ],
   "source": [
    "from decimal import Decimal\n",
    "\n",
    "pi_decimal = Decimal(\"3.121592\")\n",
    "print(pi_decimal)\n",
    "\n",
    "# Al redondear se genera una nueva variable, sea por asignación o en memoria\n",
    "pi_redondeado = round(pi_decimal, 4)\n",
    "print(pi_redondeado)\n",
    "\n",
    "# En cambio al representar un número como cadena se puede hacer formatear com mucha flexibilidad\n",
    "pi_formateado = f\"{pi_decimal:,.4f}\"\n",
    "print(pi_formateado)\n",
    "pi_alargado = f\"{pi_decimal:,.10f}\"\n",
    "print(pi_alargado)\n",
    "\n",
    "# También aplica para separadores de miles, punto decimal etc.\n",
    "\n",
    "cien_mil = 100000\n",
    "cien_mil_formateado_sv = f\"{cien_mil:,.2f}\"\n",
    "print(cien_mil_formateado_sv)\n",
    "\n",
    "# podemos importar pi desde math para ser más precisos acorde a las necesidades\n",
    "# Por ejemplo con los quince decimales que se piden en varios ejercicios de esta materia.\n",
    "\n",
    "import math\n",
    "\n",
    "pi_de_quince_decimales = f\"{math.pi:,.15f}\"\n",
    "print(pi_de_quince_decimales)\n",
    "\n",
    "# Y observamos la notación E\n",
    "print(2.5E3)"
   ]
  },
  {
   "cell_type": "markdown",
   "metadata": {},
   "source": [
    "A diferencia de Matlab, Python usa funciones y algunos módulos para operaciones y datos que se ocuparán en esta materia. Además vamos a ocupar una poderosa herramienta de python que puede generar listas muy complejas: Listas por comprensión."
   ]
  },
  {
   "cell_type": "code",
   "execution_count": 19,
   "metadata": {},
   "outputs": [
    {
     "name": "stdout",
     "output_type": "stream",
     "text": [
      "[0, 1, 2, 3, 4]\n",
      "[4, 5, 6, 7, 8, 9]\n",
      "[3, 6, 9, 12, 15, 18, 21, 24, 27, 30]\n"
     ]
    }
   ],
   "source": [
    "# La función range genera una lista desde cero hasta el número proporcionado menos uno\n",
    "l2 = range(5)\n",
    "print([n for n in l2])\n",
    "\n",
    "# Cuando se brindan 2 argumento el primero es el número inicial y el segundo menos uno el final\n",
    "l3 = range(4, 10)\n",
    "print([n for n in l3])\n",
    "\n",
    "# Un tercer argumento puede servirnos para los pasos entre cada elemento de la lista generada\n",
    "tabla_de_tres = range(3, 31, 3)\n",
    "print([n for n in tabla_de_tres])"
   ]
  },
  {
   "cell_type": "markdown",
   "metadata": {},
   "source": [
    "Las matrices son el tipo de dato que diferencia a Matlab, en Python podemos hacer uso de numpy y las array que parecen ser equivalentes, en cualquier caso mi enfoque será tratar de utilizar el tipo de dato que más convenga en cada operación.\n",
    "\n",
    "Numpy tiene muchas funcion para la manipulación, creación y operación de matrices."
   ]
  },
  {
   "cell_type": "code",
   "execution_count": 24,
   "metadata": {},
   "outputs": [
    {
     "name": "stdout",
     "output_type": "stream",
     "text": [
      "[1 2 3]\n",
      "[3, 4, 5]\n",
      "26\n",
      "[[7 5 4]\n",
      " [6 1 3]\n",
      " [7 7 1]]\n"
     ]
    }
   ],
   "source": [
    "from numpy import array, random\n",
    "\n",
    "array_1 = array([1, 2, 3])\n",
    "array_2 = ([3, 4, 5])\n",
    "\n",
    "producto_escalar = array_1 @ array_2 # Calculamos el punto escalar de las matrices\n",
    "\n",
    "print(array_1)\n",
    "print(array_2)\n",
    "print(producto_escalar)\n",
    "\n",
    "# Numpy puede generar matrices aleatorias\n",
    "\n",
    "# Esta es una matriz con el mínimo en 0, máximo 9, de 3x3 \n",
    "# Predeterminadamente se utilizan enteros positivos\n",
    "mi_matriz_aleatoria = random.randint(low=0, high=9, size=(3,3))\n",
    "print(mi_matriz_aleatoria)\n"
   ]
  }
 ],
 "metadata": {
  "kernelspec": {
   "display_name": "venv",
   "language": "python",
   "name": "python3"
  },
  "language_info": {
   "codemirror_mode": {
    "name": "ipython",
    "version": 3
   },
   "file_extension": ".py",
   "mimetype": "text/x-python",
   "name": "python",
   "nbconvert_exporter": "python",
   "pygments_lexer": "ipython3",
   "version": "3.10.12"
  }
 },
 "nbformat": 4,
 "nbformat_minor": 2
}
