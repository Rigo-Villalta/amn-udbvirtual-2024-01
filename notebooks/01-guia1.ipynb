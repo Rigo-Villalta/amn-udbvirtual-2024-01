{
 "cells": [
  {
   "cell_type": "markdown",
   "metadata": {},
   "source": [
    "# Guía 1\n",
    "\n",
    "Para el desarrollo de la guía 1, convierto todos los pasos desde MatLab a Python, en caso de no estar disponible o no ser necesario lo comento."
   ]
  },
  {
   "cell_type": "markdown",
   "metadata": {},
   "source": [
    "Los equivalentes en Python para el desplegue de mensajes y las operaciones matemáticas básicas o algunas que requieren librerías se muestran en la siguiente celda."
   ]
  },
  {
   "cell_type": "code",
   "execution_count": 3,
   "metadata": {},
   "outputs": [
    {
     "name": "stdout",
     "output_type": "stream",
     "text": [
      "Hola mundo\n",
      "18\n",
      "18\n",
      "-0.5440211108893698\n"
     ]
    }
   ],
   "source": [
    "# La funcion print es equivalente a disp\n",
    "print(\"Hola mundo\")\n",
    "\n",
    "# Las operaciones aritméticas básicas y la asignación de variables funcionan igual:\n",
    "print(9 + 9)\n",
    "z = 9+9\n",
    "# Para llamar a variables lo hacemos por su nombre\n",
    "# En modo interactivo funciona igual que en MatLab, pero aquí ocupo print para mostrarlo\n",
    "print(z)\n",
    "\n",
    "# En cambio para algunas operaciones trigonómetricas, logarítmicas, etc. Se necesita\n",
    "# el módulo math de la librería estándar\n",
    "\n",
    "import math\n",
    "\n",
    "print(math.sin(10))"
   ]
  }
 ],
 "metadata": {
  "kernelspec": {
   "display_name": "venv",
   "language": "python",
   "name": "python3"
  },
  "language_info": {
   "codemirror_mode": {
    "name": "ipython",
    "version": 3
   },
   "file_extension": ".py",
   "mimetype": "text/x-python",
   "name": "python",
   "nbconvert_exporter": "python",
   "pygments_lexer": "ipython3",
   "version": "3.10.12"
  }
 },
 "nbformat": 4,
 "nbformat_minor": 2
}
