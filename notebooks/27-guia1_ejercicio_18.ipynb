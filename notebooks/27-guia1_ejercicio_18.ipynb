{
 "cells": [
  {
   "cell_type": "markdown",
   "metadata": {},
   "source": [
    "18- Para pagar una hipoteca de una casa durante n periodos de tiempo se usa la fórmula:\n",
    "\n",
    "$$ P = A \\left( \\frac{1 - (1 + i)^{-n}}{i} \\right) $$\n",
    "\n",
    "En esta ecuación, P es el valor presente de la casa, A es el valor del pago periódico de la deuda durante n periodos y la tasa de interés por periodo es i. \n",
    "\n",
    "Suponga que la casa tiene un valor presente de 70000 dólares y deberá ser pagada mediante 1200 dólares mensuales por 25 años (300 meses). Utilice el método de la secante para encontrar el valor de la tasa de interés 𝑖 con una exactitud de 10−12. Emplee 15 decimales.\n",
    "\n",
    "Despejamos la P para hacer la función de la forma f(x) = 0\n",
    "\n",
    "$$ 0 = A \\left( \\frac{1 - (1 + i)^{-n}}{i} \\right) -P $$\n",
    "\n",
    "Sustituimos por los valores:\n",
    "\n",
    "$$ 0 = 1200 \\left( \\frac{1 - (1 + i)^{-300}}{i} \\right) - 7000 $$\n",
    "\n",
    "Una tasa de ínteres para una casa varía entre un 4% en los paises desarrollados con monedas fuertes hasta un 40% en países con modedas débiles, tomamos ese intérvalo, P0 (0.04, 0.4)"
   ]
  },
  {
   "cell_type": "code",
   "execution_count": 2,
   "metadata": {},
   "outputs": [
    {
     "data": {
      "image/png": "[encoded data removed]",
      "text/plain": [
       "<Figure size 300x300 with 1 Axes>"
      ]
     },
     "metadata": {},
     "output_type": "display_data"
    },
    {
     "data": {
      "text/html": [
       "<pre style=\"white-space:pre;overflow-x:auto;line-height:normal;font-family:Menlo,'DejaVu Sans Mono',consolas,'Courier New',monospace\">┏━━━━━━━━━━━━━━━━┳━━━━━━━━━━━━━━━━━━━┳━━━━━━━━━━━━━━━━━━━┳━━━━━━━━━━━━━━━━━━━┳━━━━━━━━━━━━━━━━━━━┓\n",
       "┃<span style=\"font-weight: bold\"> # de iteración </span>┃<span style=\"font-weight: bold\"> x0                </span>┃<span style=\"font-weight: bold\"> x1                </span>┃<span style=\"font-weight: bold\"> x2                </span>┃<span style=\"font-weight: bold\"> error             </span>┃\n",
       "┡━━━━━━━━━━━━━━━━╇━━━━━━━━━━━━━━━━━━━╇━━━━━━━━━━━━━━━━━━━╇━━━━━━━━━━━━━━━━━━━╇━━━━━━━━━━━━━━━━━━━┩\n",
       "│ 1              │ 0.150000000000000 │ 0.200000000000000 │ 0.175000000000000 │ 0.025000000000000 │\n",
       "│ 2              │ 0.200000000000000 │ 0.175000000000000 │ 0.170833333333333 │ 0.004166666666667 │\n",
       "│ 3              │ 0.175000000000000 │ 0.170833333333333 │ 0.171440972222222 │ 0.000607638888889 │\n",
       "│ 4              │ 0.170833333333333 │ 0.171440972222222 │ 0.171428614486883 │ 0.000012357735340 │\n",
       "│ 5              │ 0.171440972222222 │ 0.171428614486883 │ 0.171428571425457 │ 0.000000043061426 │\n",
       "│ 6              │ 0.171428614486883 │ 0.171428571425457 │ 0.171428571428571 │ 0.000000000003115 │\n",
       "│ 7              │ 0.171428571425457 │ 0.171428571428571 │ 0.171428571428571 │ &lt;-- solución      │\n",
       "└────────────────┴───────────────────┴───────────────────┴───────────────────┴───────────────────┘\n",
       "</pre>\n"
      ],
      "text/plain": [
       "┏━━━━━━━━━━━━━━━━┳━━━━━━━━━━━━━━━━━━━┳━━━━━━━━━━━━━━━━━━━┳━━━━━━━━━━━━━━━━━━━┳━━━━━━━━━━━━━━━━━━━┓\n",
       "┃\u001b[1m \u001b[0m\u001b[1m# de iteración\u001b[0m\u001b[1m \u001b[0m┃\u001b[1m \u001b[0m\u001b[1mx0               \u001b[0m\u001b[1m \u001b[0m┃\u001b[1m \u001b[0m\u001b[1mx1               \u001b[0m\u001b[1m \u001b[0m┃\u001b[1m \u001b[0m\u001b[1mx2               \u001b[0m\u001b[1m \u001b[0m┃\u001b[1m \u001b[0m\u001b[1merror            \u001b[0m\u001b[1m \u001b[0m┃\n",
       "┡━━━━━━━━━━━━━━━━╇━━━━━━━━━━━━━━━━━━━╇━━━━━━━━━━━━━━━━━━━╇━━━━━━━━━━━━━━━━━━━╇━━━━━━━━━━━━━━━━━━━┩\n",
       "│ 1              │ 0.150000000000000 │ 0.200000000000000 │ 0.175000000000000 │ 0.025000000000000 │\n",
       "│ 2              │ 0.200000000000000 │ 0.175000000000000 │ 0.170833333333333 │ 0.004166666666667 │\n",
       "│ 3              │ 0.175000000000000 │ 0.170833333333333 │ 0.171440972222222 │ 0.000607638888889 │\n",
       "│ 4              │ 0.170833333333333 │ 0.171440972222222 │ 0.171428614486883 │ 0.000012357735340 │\n",
       "│ 5              │ 0.171440972222222 │ 0.171428614486883 │ 0.171428571425457 │ 0.000000043061426 │\n",
       "│ 6              │ 0.171428614486883 │ 0.171428571425457 │ 0.171428571428571 │ 0.000000000003115 │\n",
       "│ 7              │ 0.171428571425457 │ 0.171428571428571 │ 0.171428571428571 │ <-- solución      │\n",
       "└────────────────┴───────────────────┴───────────────────┴───────────────────┴───────────────────┘\n"
      ]
     },
     "metadata": {},
     "output_type": "display_data"
    }
   ],
   "source": [
    "import numpy\n",
    "from matplotlib import pyplot\n",
    "\n",
    "from metodos_numericos import metodo_de_secante\n",
    "from utils import imprimir_tabla\n",
    "\n",
    "def hipoteca(i):\n",
    "    \"\"\"\n",
    "    Retorna el valor de un interes en la hipoteca\n",
    "    \"\"\"\n",
    "    return 1200 * ( (1 - (1+i)**(-300)) / i) - 7000\n",
    "\n",
    "# graficamos la función para ver si nuestro rango es útil\n",
    "\n",
    "eje_x = [x for x in numpy.arange(0.04, 0.4, 0.01)]\n",
    "eje_y = [hipoteca(x) for x in eje_x]\n",
    "\n",
    "plot_carga_en_tiempo = pyplot.figure(figsize=(3,3),) \n",
    "pyplot.plot(eje_x, eje_y)\n",
    "pyplot.grid(visible=True)\n",
    "pyplot.axvline(0, color=\"g\")\n",
    "pyplot.axhline(0, color=\"g\")\n",
    "pyplot.show()\n",
    "\n",
    "# Graficado vemos que el intervalo tiene sentido, pero podemos reducirlo\n",
    "# entro 0.15 y 0.2 y probamos el método\n",
    "\n",
    "resultado = metodo_de_secante(0.15, 0.2, hipoteca, tolerancia=1E-12, resultado=[])\n",
    "imprimir_tabla(resultado) "
   ]
  }
 ],
 "metadata": {
  "kernelspec": {
   "display_name": "venv",
   "language": "python",
   "name": "python3"
  },
  "language_info": {
   "codemirror_mode": {
    "name": "ipython",
    "version": 3
   },
   "file_extension": ".py",
   "mimetype": "text/x-python",
   "name": "python",
   "nbconvert_exporter": "python",
   "pygments_lexer": "ipython3",
   "version": "3.10.12"
  }
 },
 "nbformat": 4,
 "nbformat_minor": 2
}
