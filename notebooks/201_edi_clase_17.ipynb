{
 "cells": [
  {
   "cell_type": "markdown",
   "metadata": {},
   "source": [
    "### Sistemas de ecuaciones diferenciales con Runge Kutta\n",
    "Para reolver un sistema de 2 ecuaciones diferenciales\n",
    "- Se nos darán 2 EDIs y 2 condiciones iniciales\n",
    "- ocupamos operadores diferenciales para depejar y tener 2 funciones, 1 en términos de x y otro en términos de y\n",
    "-  "
   ]
  },
  {
   "cell_type": "markdown",
   "metadata": {},
   "source": [
    "### Ejemplo de clase 17\n",
    "Video en https://udbedu.sharepoint.com/:v:/s/AMN012024/EZtHJ3k2dtlAu_VOZTM_IWoBXWDDW3ssj8FxXs99Yy5G7A?e=ToS9nF\n",
    "\n",
    "Enunciado:\n",
    "\n",
    "Tenemos las ecuaciaciones diferenciales:\n",
    "$$ 3x' + 7x - 5y + 3y' = 41 e^t cos(t) - 22 e^t sen(t) $$\n",
    "$$ 5x' - 8x - 9y + 5' = -32 e^t cost(t) - 36 e^t sen(t) $$\n",
    "\n",
    "Con las condiciones iniciales: $  x(0)= 5, \\ \\ y(0) = 3 $\n",
    "\n",
    "Determinar la solución aproximada para $ 0 \\leq t \\leq 2/25, \\ \\ \\ con \\ \\ h = 1/50 $\n",
    "\n",
    "### Solución\n",
    "Paso 1: Designamos como A y B a las partes que no tienen derivadas en cada ecuación:\n",
    "$$ 3x' + 7x - 5y + 3y' = A $$\n",
    "$$ 5x' - 8x - 9y + 5' = B $$\n",
    "\n",
    "Para reducir \"x\" y \"y\" utilizamos operadores diferenciales:\n",
    "Para esto\n",
    "1) Sustituimos x, x', y y y' por un factor en donde el coeficiente que tenga la derivada tebra una constante \"D\"\n",
    "2) Multiplicamos cada ecuación por el factor de la misma letra a eliminar en la otra ecuación y en una de las dos a ese factor le agregamos el signo menos:\n",
    "\n",
    "Para eliminar x:\n",
    "$$ (5D - 8) [ (3D + 7)x +(- 5 + 3D)y = A ]$$\n",
    "$$ -(3D + 7) [ (5D - 8)x +(5d - 9)y = A ]$$\n",
    "\n",
    "para eliminar y:\n",
    "$$ (5D - 9) [ (3D + 7)x +(3D - 5)y = A ]$$\n",
    "$$ -(3D - 5) [ (5D - 8)x +(5D - 9)y = A ]$$\n",
    "\n",
    "Desarrollando y simplificando *algebráicamente* tengo:\n",
    "\n",
    "$$ Dx = \\frac{5DA - 9A - 3DB + 5B + 103x}{57} $$\n",
    "$$ Dy = \\frac{8A - 5DA + 3DB + 7B + 103y}{57} $$\n",
    "\n",
    "Con esto pasamos a Python a declarar todos los datos para resolever"
   ]
  },
  {
   "cell_type": "code",
   "execution_count": 35,
   "metadata": {},
   "outputs": [
    {
     "data": {
      "text/latex": [
       "$\\displaystyle \\frac{103 x}{57} - 5 e^{t} \\sin{\\left(t \\right)} - \\frac{230 e^{t} \\cos{\\left(t \\right)}}{57}$"
      ],
      "text/plain": [
       "103*x/57 - 5*exp(t)*sin(t) - 230*exp(t)*cos(t)/57"
      ]
     },
     "metadata": {},
     "output_type": "display_data"
    },
    {
     "data": {
      "text/latex": [
       "$\\displaystyle \\frac{103 y}{57} - \\frac{125 e^{t} \\sin{\\left(t \\right)}}{57} - \\frac{65 e^{t} \\cos{\\left(t \\right)}}{19}$"
      ],
      "text/plain": [
       "103*y/57 - 125*exp(t)*sin(t)/57 - 65*exp(t)*cos(t)/19"
      ]
     },
     "metadata": {},
     "output_type": "display_data"
    }
   ],
   "source": [
    "from sympy import *\n",
    "\n",
    "# Declaramos las variable a utilizar\n",
    "x, y, t= symbols(\"x y t\")\n",
    "\n",
    "h= 1/50\n",
    "\n",
    "# Ingresamos nuestras funciones A y B\n",
    "A = 41*exp(t)*cos(t) - 22*exp(t)*sin(t)\n",
    "B = -32*exp(t)*cos(t) - 36*exp(t)*sin(t)\n",
    "\n",
    "# Ahora pasamos el despeje de Dx y Dy en dos funcios F y G\n",
    "f = (5 * A.diff() - 9*A - 3 * B.diff() + 5*B + 103*x) / 57\n",
    "g = (8*A - 5*A.diff() + 3*B.diff() + 7*B + 103*y) / 57\n",
    "\n",
    "display(f)\n",
    "display(g)"
   ]
  },
  {
   "cell_type": "code",
   "execution_count": 36,
   "metadata": {},
   "outputs": [
    {
     "data": {
      "text/plain": [
       "[0.0, 0.02, 0.04, 0.06, 0.08]"
      ]
     },
     "execution_count": 36,
     "metadata": {},
     "output_type": "execute_result"
    }
   ],
   "source": [
    "from numpy import arange\n",
    "# creamos nuestro intervalo\n",
    "T = [t for t in arange(start=0, stop=0.08 + h/2,step=h)]\n",
    "T"
   ]
  },
  {
   "cell_type": "code",
   "execution_count": 37,
   "metadata": {},
   "outputs": [
    {
     "data": {
      "text/plain": [
       "[5,\n",
       " 5.0999865326203135,\n",
       " 5.1998911825983365,\n",
       " 5.299629069954896,\n",
       " 5.3991119867983555]"
      ]
     },
     "metadata": {},
     "output_type": "display_data"
    },
    {
     "data": {
      "text/plain": [
       "[3,\n",
       " 3.0395892533392272,\n",
       " 3.078313380356693,\n",
       " 3.1161054694532955,\n",
       " 3.152896639008873]"
      ]
     },
     "metadata": {},
     "output_type": "display_data"
    }
   ],
   "source": [
    "# Ahora vamos a generar todas nuestras K y T\n",
    "\n",
    "# Declaro la lista con x(0) = 5, y(0)=3\n",
    "\n",
    "X = [5]\n",
    "Y = [3]\n",
    "K11 = [0]\n",
    "K12 = [0]\n",
    "K21 = [0]\n",
    "K22 = [0]\n",
    "K31 = [0]\n",
    "K32 = [0]\n",
    "K41 = [0]\n",
    "K42 = [0]\n",
    "\n",
    "# Hago un for para aplicar la fórmula\n",
    "for i in range(1, len(T)):\n",
    "    k11 = f.subs({t: T[i-1], x: X[i-1]})\n",
    "    k12 = g.subs({t: T[i-1], y: Y[i-1]})\n",
    "    k21 = f.subs({t: T[i-1] + 0.5*h, x: X[i-1] + (k11*h)/2})\n",
    "    k22 = g.subs({t: T[i-1] + 0.5*h, y: Y[i-1] + (k12*h)/2})\n",
    "    k31 = f.subs({t: T[i-1] + 0.5*h, x: X[i-1] + (k21*h)/2})\n",
    "    k32 = g.subs({t: T[i-1] + 0.5*h, y: Y[i-1] + (k22*h)/2})\n",
    "    k41 = f.subs({t: T[i-1] + h, x: X[i-1] + k31*h})\n",
    "    k42 = g.subs({t: T[i-1] + h, y: Y[i-1] + k32*h})\n",
    "    K11.append(k11)\n",
    "    K12.append(k12)\n",
    "    K21.append(k21)\n",
    "    K22.append(k22)\n",
    "    K31.append(k31)\n",
    "    K32.append(k32)\n",
    "    K41.append(k41)\n",
    "    K42.append(k42)\n",
    "    X.append(float(X[i-1] + (h/6)*(k11+2*k21+2*k31+k41)))\n",
    "    Y.append(float(Y[i-1] + (h/6)*(k12+2*k22+2*k32+k42)))\n",
    "\n",
    "\n",
    "display(X)\n",
    "display(Y)"
   ]
  },
  {
   "cell_type": "code",
   "execution_count": 38,
   "metadata": {},
   "outputs": [
    {
     "name": "stdout",
     "output_type": "stream",
     "text": [
      "Tabla de aproximaciones\n"
     ]
    },
    {
     "data": {
      "text/html": [
       "<pre style=\"white-space:pre;overflow-x:auto;line-height:normal;font-family:Menlo,'DejaVu Sans Mono',consolas,'Courier New',monospace\">┏━━━━━━┳━━━━━━━━━━━━━━━━━━━━┳━━━━━━━━━━━━━━━━━━━━┓\n",
       "┃<span style=\"font-weight: bold\"> ti   </span>┃<span style=\"font-weight: bold\"> Yi                 </span>┃<span style=\"font-weight: bold\"> Xi                 </span>┃\n",
       "┡━━━━━━╇━━━━━━━━━━━━━━━━━━━━╇━━━━━━━━━━━━━━━━━━━━┩\n",
       "│ 0.0  │ 5.0                │ 3.0                │\n",
       "│ 0.02 │ 5.0999865326203135 │ 3.0395892533392272 │\n",
       "│ 0.04 │ 5.1998911825983365 │ 3.078313380356693  │\n",
       "│ 0.06 │ 5.299629069954896  │ 3.1161054694532955 │\n",
       "│ 0.08 │ 5.3991119867983555 │ 3.152896639008873  │\n",
       "└──────┴────────────────────┴────────────────────┘\n",
       "</pre>\n"
      ],
      "text/plain": [
       "┏━━━━━━┳━━━━━━━━━━━━━━━━━━━━┳━━━━━━━━━━━━━━━━━━━━┓\n",
       "┃\u001b[1m \u001b[0m\u001b[1mti  \u001b[0m\u001b[1m \u001b[0m┃\u001b[1m \u001b[0m\u001b[1mYi                \u001b[0m\u001b[1m \u001b[0m┃\u001b[1m \u001b[0m\u001b[1mXi                \u001b[0m\u001b[1m \u001b[0m┃\n",
       "┡━━━━━━╇━━━━━━━━━━━━━━━━━━━━╇━━━━━━━━━━━━━━━━━━━━┩\n",
       "│ 0.0  │ 5.0                │ 3.0                │\n",
       "│ 0.02 │ 5.0999865326203135 │ 3.0395892533392272 │\n",
       "│ 0.04 │ 5.1998911825983365 │ 3.078313380356693  │\n",
       "│ 0.06 │ 5.299629069954896  │ 3.1161054694532955 │\n",
       "│ 0.08 │ 5.3991119867983555 │ 3.152896639008873  │\n",
       "└──────┴────────────────────┴────────────────────┘\n"
      ]
     },
     "metadata": {},
     "output_type": "display_data"
    },
    {
     "name": "stdout",
     "output_type": "stream",
     "text": [
      "Tabla de k para x\n"
     ]
    },
    {
     "data": {
      "text/html": [
       "<pre style=\"white-space:pre;overflow-x:auto;line-height:normal;font-family:Menlo,'DejaVu Sans Mono',consolas,'Courier New',monospace\">┏━━━━━━━━━━━━━━━━━━━┳━━━━━━━━━━━━━━━━━━━┳━━━━━━━━━━━━━━━━━━━┳━━━━━━━━━━━━━━━━━━━┓\n",
       "┃<span style=\"font-weight: bold\"> k11               </span>┃<span style=\"font-weight: bold\"> k21               </span>┃<span style=\"font-weight: bold\"> k31               </span>┃<span style=\"font-weight: bold\"> k41               </span>┃\n",
       "┡━━━━━━━━━━━━━━━━━━━╇━━━━━━━━━━━━━━━━━━━╇━━━━━━━━━━━━━━━━━━━╇━━━━━━━━━━━━━━━━━━━┩\n",
       "│ 0.0               │ 0.0               │ 0.0               │ 0.0               │\n",
       "│ 5.0               │ 4.999499685117892 │ 4.999490644340198 │ 4.997979127177958 │\n",
       "│ 4.997973199678862 │ 4.995430907456526 │ 4.995384967790051 │ 4.991790043234927 │\n",
       "│ 4.991784532955785 │ 4.987119003638016 │ 4.987034696704729 │ 4.98127427332655  │\n",
       "│ 4.981269201791704 │ 4.974397592253281 │ 4.974273421063375 │ 4.966263824613019 │\n",
       "└───────────────────┴───────────────────┴───────────────────┴───────────────────┘\n",
       "</pre>\n"
      ],
      "text/plain": [
       "┏━━━━━━━━━━━━━━━━━━━┳━━━━━━━━━━━━━━━━━━━┳━━━━━━━━━━━━━━━━━━━┳━━━━━━━━━━━━━━━━━━━┓\n",
       "┃\u001b[1m \u001b[0m\u001b[1mk11              \u001b[0m\u001b[1m \u001b[0m┃\u001b[1m \u001b[0m\u001b[1mk21              \u001b[0m\u001b[1m \u001b[0m┃\u001b[1m \u001b[0m\u001b[1mk31              \u001b[0m\u001b[1m \u001b[0m┃\u001b[1m \u001b[0m\u001b[1mk41              \u001b[0m\u001b[1m \u001b[0m┃\n",
       "┡━━━━━━━━━━━━━━━━━━━╇━━━━━━━━━━━━━━━━━━━╇━━━━━━━━━━━━━━━━━━━╇━━━━━━━━━━━━━━━━━━━┩\n",
       "│ 0.0               │ 0.0               │ 0.0               │ 0.0               │\n",
       "│ 5.0               │ 4.999499685117892 │ 4.999490644340198 │ 4.997979127177958 │\n",
       "│ 4.997973199678862 │ 4.995430907456526 │ 4.995384967790051 │ 4.991790043234927 │\n",
       "│ 4.991784532955785 │ 4.987119003638016 │ 4.987034696704729 │ 4.98127427332655  │\n",
       "│ 4.981269201791704 │ 4.974397592253281 │ 4.974273421063375 │ 4.966263824613019 │\n",
       "└───────────────────┴───────────────────┴───────────────────┴───────────────────┘\n"
      ]
     },
     "metadata": {},
     "output_type": "display_data"
    },
    {
     "name": "stdout",
     "output_type": "stream",
     "text": [
      "Tabla de k para y\n"
     ]
    },
    {
     "data": {
      "text/html": [
       "<pre style=\"white-space:pre;overflow-x:auto;line-height:normal;font-family:Menlo,'DejaVu Sans Mono',consolas,'Courier New',monospace\">┏━━━━━━━━━━━━━━━━━━━━┳━━━━━━━━━━━━━━━━━━━━┳━━━━━━━━━━━━━━━━━━━━┳━━━━━━━━━━━━━━━━━━━━┓\n",
       "┃<span style=\"font-weight: bold\"> k12                </span>┃<span style=\"font-weight: bold\"> k22                </span>┃<span style=\"font-weight: bold\"> k32                </span>┃<span style=\"font-weight: bold\"> k42                </span>┃\n",
       "┡━━━━━━━━━━━━━━━━━━━━╇━━━━━━━━━━━━━━━━━━━━╇━━━━━━━━━━━━━━━━━━━━╇━━━━━━━━━━━━━━━━━━━━┩\n",
       "│ 0.0                │ 0.0                │ 0.0                │ 0.0                │\n",
       "│ 2.0                │ 1.9797811168316035 │ 1.9794157580655782 │ 1.958382251973751  │\n",
       "│ 1.9583839472777043 │ 1.9365435990323934 │ 1.936148940107961  │ 1.9134690796812808 │\n",
       "│ 1.913471154526483  │ 1.8899609932019854 │ 1.8895361604622622 │ 1.8651612671257447 │\n",
       "│ 1.8651637353081623 │ 1.839934802619263  │ 1.8394789113794463 │ 1.8133597033676865 │\n",
       "└────────────────────┴────────────────────┴────────────────────┴────────────────────┘\n",
       "</pre>\n"
      ],
      "text/plain": [
       "┏━━━━━━━━━━━━━━━━━━━━┳━━━━━━━━━━━━━━━━━━━━┳━━━━━━━━━━━━━━━━━━━━┳━━━━━━━━━━━━━━━━━━━━┓\n",
       "┃\u001b[1m \u001b[0m\u001b[1mk12               \u001b[0m\u001b[1m \u001b[0m┃\u001b[1m \u001b[0m\u001b[1mk22               \u001b[0m\u001b[1m \u001b[0m┃\u001b[1m \u001b[0m\u001b[1mk32               \u001b[0m\u001b[1m \u001b[0m┃\u001b[1m \u001b[0m\u001b[1mk42               \u001b[0m\u001b[1m \u001b[0m┃\n",
       "┡━━━━━━━━━━━━━━━━━━━━╇━━━━━━━━━━━━━━━━━━━━╇━━━━━━━━━━━━━━━━━━━━╇━━━━━━━━━━━━━━━━━━━━┩\n",
       "│ 0.0                │ 0.0                │ 0.0                │ 0.0                │\n",
       "│ 2.0                │ 1.9797811168316035 │ 1.9794157580655782 │ 1.958382251973751  │\n",
       "│ 1.9583839472777043 │ 1.9365435990323934 │ 1.936148940107961  │ 1.9134690796812808 │\n",
       "│ 1.913471154526483  │ 1.8899609932019854 │ 1.8895361604622622 │ 1.8651612671257447 │\n",
       "│ 1.8651637353081623 │ 1.839934802619263  │ 1.8394789113794463 │ 1.8133597033676865 │\n",
       "└────────────────────┴────────────────────┴────────────────────┴────────────────────┘\n"
      ]
     },
     "metadata": {},
     "output_type": "display_data"
    }
   ],
   "source": [
    "# Desplegamos en una tabla los resultados de las aproximaciones y las K\n",
    "from utils import imprimir_tabla\n",
    "\n",
    "# Primero una lista para los datos principales\n",
    "lista_aproximaciones = [[\"ti\", \"Yi\", \"Xi\"]]\n",
    "\n",
    "for i in range(len(T)):\n",
    "    lista_aproximaciones.append(\n",
    "        [\n",
    "            str(float(T[i])),\n",
    "            str(float(X[i])),\n",
    "            str(float(Y[i]))\n",
    "        ]\n",
    "    )\n",
    "\n",
    "# Ahora una lista de las K de x\n",
    "lista_k1 = [[\"k11\", \"k21\", \"k31\", \"k41\"]]\n",
    "\n",
    "for i in range(len(T)):\n",
    "    lista_k1.append(\n",
    "        [\n",
    "            str(float(K11[i])),\n",
    "            str(float(K21[i])),\n",
    "            str(float(K31[i])),\n",
    "            str(float(K41[i]))\n",
    "        ]\n",
    "    )\n",
    "\n",
    "# Finalmente una lista de las K de y\n",
    "lista_k2 = [[\"k12\", \"k22\", \"k32\", \"k42\"]]\n",
    "\n",
    "for i in range(len(T)):\n",
    "    lista_k2.append(\n",
    "        [\n",
    "            str(float(K12[i])),\n",
    "            str(float(K22[i])),\n",
    "            str(float(K32[i])),\n",
    "            str(float(K42[i]))\n",
    "        ]\n",
    "    )\n",
    "\n",
    "print(\"Tabla de aproximaciones\")\n",
    "imprimir_tabla(lista_aproximaciones)\n",
    "\n",
    "print(\"Tabla de k para x\")\n",
    "imprimir_tabla(lista_k1)\n",
    "\n",
    "print(\"Tabla de k para y\")\n",
    "imprimir_tabla(lista_k2)"
   ]
  }
 ],
 "metadata": {
  "kernelspec": {
   "display_name": "venv",
   "language": "python",
   "name": "python3"
  },
  "language_info": {
   "codemirror_mode": {
    "name": "ipython",
    "version": 3
   },
   "file_extension": ".py",
   "mimetype": "text/x-python",
   "name": "python",
   "nbconvert_exporter": "python",
   "pygments_lexer": "ipython3",
   "version": "3.10.12"
  }
 },
 "nbformat": 4,
 "nbformat_minor": 2
}
