{
 "cells": [
  {
   "cell_type": "markdown",
   "metadata": {},
   "source": [
    "**Ejemplo 2**: Resuelva el siguiente sistema de ecuaciones diferenciales.\n",
    "$$ x' = -4x-2y+cos(t) + 4sen(t) $$\n",
    "$$ y' = 3x+y-sen(t) $$\n",
    "\n",
    "Sujeto a las condiciones iniciales: $ x(0) = 0, y(0)=-1 $\n",
    "\n",
    "En el intervalo: $ 0 \\leq t \\leq 0.2 $ y con $$ h=0.02 $$"
   ]
  },
  {
   "cell_type": "code",
   "execution_count": 13,
   "metadata": {},
   "outputs": [
    {
     "name": "stdout",
     "output_type": "stream",
     "text": [
      "[0.0, 0.058817135002197235, 0.11533551971800901, 0.1696522002136271, 0.2218598088100215, 0.27204674656278355, 0.3202973585901276, 0.3666921025303973, 0.4113077103992868, 0.4542173441063061, 0.4954907448797462]\n",
      "[-1.0, -1.0190171416156193, -1.0361356246836981, -1.051452727318431, -1.0650614612274847, -1.0770507479519151, -1.0875055880183657, -1.0965072232849666, -1.1041332927512522, -1.110457982091754, -1.115552167162667]\n"
     ]
    }
   ],
   "source": [
    "from sympy import *\n",
    "from  numpy import arange\n",
    "\n",
    "t = symbols(\"t\")\n",
    "\n",
    "x, y = symbols(\"x y\", cls=Function)\n",
    "\n",
    "eq1 = Eq(x(t).diff(t), -4*x(t)-2*y(t)+cos(t)+4*sin(t))\n",
    "eq2 = Eq(y(t).diff(t), 3*x(t) + y(t) - 3*sin(t))\n",
    "\n",
    "condiciones_iniciales = {x(0): 0, y(0): -1}\n",
    "\n",
    "# resolvemos el sistema\n",
    "ecuaciones_solucion = dsolve([eq1, eq2], ics=condiciones_iniciales)\n",
    "\n",
    "T = [x for x in arange(0, 0.21, 0.02)]\n",
    "\n",
    "# Evaluamos en T cada equación soliciones\n",
    "solucion_x = []\n",
    "solucion_y = []\n",
    "\n",
    "for i in range(len(T)):\n",
    "    solucion_x.append(float(ecuaciones_solucion[0].rhs.subs(t, T[i])))\n",
    "    solucion_y.append(float(ecuaciones_solucion[1].rhs.subs(t, T[i])))\n",
    "\n",
    "# Soluciones exactas que coiciden con la guía\n",
    "print(solucion_x)\n",
    "print(solucion_y)\n"
   ]
  }
 ],
 "metadata": {
  "kernelspec": {
   "display_name": "venv",
   "language": "python",
   "name": "python3"
  },
  "language_info": {
   "codemirror_mode": {
    "name": "ipython",
    "version": 3
   },
   "file_extension": ".py",
   "mimetype": "text/x-python",
   "name": "python",
   "nbconvert_exporter": "python",
   "pygments_lexer": "ipython3",
   "version": "3.10.12"
  }
 },
 "nbformat": 4,
 "nbformat_minor": 2
}
