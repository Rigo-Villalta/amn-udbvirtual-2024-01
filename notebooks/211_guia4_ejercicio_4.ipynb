{
 "cells": [
  {
   "cell_type": "code",
   "execution_count": 8,
   "metadata": {},
   "outputs": [
    {
     "data": {
      "text/latex": [
       "$\\displaystyle \\operatorname{fy}{\\left(t \\right)} = \\frac{\\log{\\left(\\frac{3 e^{2 t}}{2} - \\frac{1}{2} \\right)}}{3}$"
      ],
      "text/plain": [
       "Eq(fy(t), log(3*exp(2*t)/2 - 1/2)/3)"
      ]
     },
     "execution_count": 8,
     "metadata": {},
     "output_type": "execute_result"
    }
   ],
   "source": [
    "from sympy import *\n",
    "\n",
    "from numpy import arange\n",
    "\n",
    "fy = symbols(\"fy\", cls=Function)\n",
    "t, y = symbols(\"t y\")\n",
    "\n",
    "h= 1/100\n",
    "\n",
    "eq = Eq(fy(t).diff(), exp(2*t-3*fy(t)))\n",
    "f = exp(2*t-3*y)\n",
    "\n",
    "# Calculamos la solucion particular F\n",
    "condiciones_iniciales = {fy(0):0}\n",
    "F = dsolve(eq, ics=condiciones_iniciales)\n",
    "F"
   ]
  },
  {
   "cell_type": "code",
   "execution_count": 9,
   "metadata": {},
   "outputs": [
    {
     "data": {
      "text/plain": [
       "[0.0, 0.01, 0.02, 0.03, 0.04, 0.05]"
      ]
     },
     "execution_count": 9,
     "metadata": {},
     "output_type": "execute_result"
    }
   ],
   "source": [
    "# Aquí agrego un un en el siguiente decimal en el end sino\n",
    "# arrange no lo toma en cuenta\n",
    "T = [t for t in arange(0, 0.051, h)]\n",
    "T"
   ]
  },
  {
   "cell_type": "code",
   "execution_count": 10,
   "metadata": {},
   "outputs": [
    {
     "data": {
      "text/plain": [
       "[0,\n",
       " 0.00995065750000000,\n",
       " 0.0198051905602614,\n",
       " 0.0295672881413475,\n",
       " 0.0392404482953127,\n",
       " 0.0488279909986389]"
      ]
     },
     "execution_count": 10,
     "metadata": {},
     "output_type": "execute_result"
    }
   ],
   "source": [
    "# guardo las derivadas calculadas en variables\n",
    "d1f =  2*exp(2*t-3*y) - 3*exp(4*t-6*y)\n",
    "d2f = 4*exp(2*t-3*y) - 18*exp(4*t - 6*y) + 18*exp(6*t - 9*y)\n",
    "d3f = 8*exp(2*t-3*y) - 84*exp(4*t - 6*y) +216*exp(6*t - 9*y) - 162*exp(8*t - 12*y)\n",
    "\n",
    "Y = [0]\n",
    "\n",
    "for i in range(len(T)-1):\n",
    "    Y.append(\n",
    "        Y[i] + \n",
    "        h*f.subs({t: T[i],y: Y[i]}) + \n",
    "        ((h**2)/factorial(2)) * d1f.subs({t: T[i],y: Y[i]}) +\n",
    "        ((h**3)/factorial(3)) * d2f.subs({t: T[i],y: Y[i]}) +\n",
    "        ((h**4)/factorial(4)) * d3f.subs({t: T[i],y: Y[i]})\n",
    "    )\n",
    "\n",
    "Y"
   ]
  },
  {
   "cell_type": "code",
   "execution_count": 11,
   "metadata": {},
   "outputs": [
    {
     "data": {
      "text/plain": [
       "[0.0,\n",
       " 0.009950657631342156,\n",
       " 0.0198051908078256,\n",
       " 0.029567288491666666,\n",
       " 0.039240448736376374,\n",
       " 0.04882799151972259]"
      ]
     },
     "execution_count": 11,
     "metadata": {},
     "output_type": "execute_result"
    }
   ],
   "source": [
    "# calculamos los valores exactos\n",
    "solucion_exacta = []\n",
    "for i in range(len(T)):\n",
    "    solucion_exacta.append(float(F.rhs.subs({t: T[i]})))\n",
    "solucion_exacta"
   ]
  },
  {
   "cell_type": "code",
   "execution_count": 16,
   "metadata": {},
   "outputs": [
    {
     "name": "stdout",
     "output_type": "stream",
     "text": [
      "A continuación tenemos los valores de cada t\n"
     ]
    },
    {
     "data": {
      "text/html": [
       "<pre style=\"white-space:pre;overflow-x:auto;line-height:normal;font-family:Menlo,'DejaVu Sans Mono',consolas,'Courier New',monospace\">┏━━━━━━┳━━━━━━━━━━━━━━━━━━━━━┳━━━━━━━━━━━━━━━━━━━━━━┳━━━━━━━━━━━━━━━━━━━━━━┓\n",
       "┃<span style=\"font-weight: bold\"> t_i  </span>┃<span style=\"font-weight: bold\"> y(t_t)i Aprox       </span>┃<span style=\"font-weight: bold\"> F(t_i)Exacta         </span>┃<span style=\"font-weight: bold\"> error                </span>┃\n",
       "┡━━━━━━╇━━━━━━━━━━━━━━━━━━━━━╇━━━━━━━━━━━━━━━━━━━━━━╇━━━━━━━━━━━━━━━━━━━━━━┩\n",
       "│ 0.0  │ 0                   │ 0.0                  │ 0.0                  │\n",
       "│ 0.01 │ 0.00995065750000000 │ 0.009950657631342156 │ 1.31342155901271e-10 │\n",
       "│ 0.02 │ 0.0198051905602614  │ 0.0198051908078256   │ 2.47564226063535e-10 │\n",
       "│ 0.03 │ 0.0295672881413475  │ 0.029567288491666666 │ 3.50319138281430e-10 │\n",
       "│ 0.04 │ 0.0392404482953127  │ 0.039240448736376374 │ 4.41063664757824e-10 │\n",
       "│ 0.05 │ 0.0488279909986389  │ 0.04882799151972259  │ 5.21083697024860e-10 │\n",
       "└──────┴─────────────────────┴──────────────────────┴──────────────────────┘\n",
       "</pre>\n"
      ],
      "text/plain": [
       "┏━━━━━━┳━━━━━━━━━━━━━━━━━━━━━┳━━━━━━━━━━━━━━━━━━━━━━┳━━━━━━━━━━━━━━━━━━━━━━┓\n",
       "┃\u001b[1m \u001b[0m\u001b[1mt_i \u001b[0m\u001b[1m \u001b[0m┃\u001b[1m \u001b[0m\u001b[1my(t_t)i Aprox      \u001b[0m\u001b[1m \u001b[0m┃\u001b[1m \u001b[0m\u001b[1mF(t_i)Exacta        \u001b[0m\u001b[1m \u001b[0m┃\u001b[1m \u001b[0m\u001b[1merror               \u001b[0m\u001b[1m \u001b[0m┃\n",
       "┡━━━━━━╇━━━━━━━━━━━━━━━━━━━━━╇━━━━━━━━━━━━━━━━━━━━━━╇━━━━━━━━━━━━━━━━━━━━━━┩\n",
       "│ 0.0  │ 0                   │ 0.0                  │ 0.0                  │\n",
       "│ 0.01 │ 0.00995065750000000 │ 0.009950657631342156 │ 1.31342155901271e-10 │\n",
       "│ 0.02 │ 0.0198051905602614  │ 0.0198051908078256   │ 2.47564226063535e-10 │\n",
       "│ 0.03 │ 0.0295672881413475  │ 0.029567288491666666 │ 3.50319138281430e-10 │\n",
       "│ 0.04 │ 0.0392404482953127  │ 0.039240448736376374 │ 4.41063664757824e-10 │\n",
       "│ 0.05 │ 0.0488279909986389  │ 0.04882799151972259  │ 5.21083697024860e-10 │\n",
       "└──────┴─────────────────────┴──────────────────────┴──────────────────────┘\n"
      ]
     },
     "metadata": {},
     "output_type": "display_data"
    }
   ],
   "source": [
    "# Desplegamos los valores obtenidos\n",
    "from utils import imprimir_tabla\n",
    "\n",
    "lista_tabla = [[\"t_i\", \"y(t_t)i Aprox\", \"F(t_i)Exacta\", \"error\", ]]\n",
    "\n",
    "for i in range(len(T)):\n",
    "    lista_tabla.append(\n",
    "        [\n",
    "            str(T[i]),\n",
    "            str(Y[i]),\n",
    "            str(solucion_exacta[i]),\n",
    "            str(abs(Y[i] - solucion_exacta[i])),\n",
    "        ]\n",
    "    )\n",
    "\n",
    "print(\"A continuación tenemos los valores de cada t\")\n",
    "imprimir_tabla(lista_tabla)"
   ]
  },
  {
   "cell_type": "code",
   "execution_count": 14,
   "metadata": {},
   "outputs": [
    {
     "data": {
      "text/html": [
       "<pre style=\"white-space:pre;overflow-x:auto;line-height:normal;font-family:Menlo,'DejaVu Sans Mono',consolas,'Courier New',monospace\">┏━━━━━━━━━━━━━━━━━━┳━━━━━━━━━━━━━━━━━━┳━━━━━━━━━━━━━━━━━━┳━━━━━━━━━━━━━━━━━━┳━━━━━━━━━━━━━━━━━━┳━━━━━━━━━━━━━━━━━━┓\n",
       "┃<span style=\"font-weight: bold\"> Qx0              </span>┃<span style=\"font-weight: bold\"> Qx1              </span>┃<span style=\"font-weight: bold\"> Qx2              </span>┃<span style=\"font-weight: bold\"> Qx3              </span>┃<span style=\"font-weight: bold\"> Qx4              </span>┃<span style=\"font-weight: bold\"> Qx5              </span>┃\n",
       "┡━━━━━━━━━━━━━━━━━━╇━━━━━━━━━━━━━━━━━━╇━━━━━━━━━━━━━━━━━━╇━━━━━━━━━━━━━━━━━━╇━━━━━━━━━━━━━━━━━━╇━━━━━━━━━━━━━━━━━━┩\n",
       "│ 0.0              │ 0.0              │ 0.0              │ 0.0              │ 0.0              │ 0.0              │\n",
       "│ 0.0099506575     │ 0.04477795874999 │ 0.0              │ 0.0              │ 0.0              │ 0.0              │\n",
       "│                  │ 999              │                  │                  │                  │                  │\n",
       "│ 0.01980519056026 │ 0.04444152321091 │ 0.04402097878705 │ 0.0              │ 0.0              │ 0.0              │\n",
       "│ 1372             │ 4796             │ 83               │                  │                  │                  │\n",
       "│ 0.02956728814134 │ 0.04421043451297 │ 0.04403711798952 │ 0.04404518759075 │ 0.0              │ 0.0              │\n",
       "│ 7528             │ 6765             │ 324              │ 571              │                  │                  │\n",
       "│ 0.03924044829531 │ 0.04407702837229 │ 0.04404367683712 │ 0.04404476997839 │ 0.04404471777684 │ 0.0              │\n",
       "│ 271              │ 5296             │ 493              │ 187              │ 639              │                  │\n",
       "│ 0.04882799099863 │ 0.04403421964697 │ 0.04404492182830 │ 0.04404471432977 │ 0.04404472128585 │ 0.04404472093495 │\n",
       "│ 8895             │ 579              │ 567              │ 554              │ 259              │ 196              │\n",
       "└──────────────────┴──────────────────┴──────────────────┴──────────────────┴──────────────────┴──────────────────┘\n",
       "</pre>\n"
      ],
      "text/plain": [
       "┏━━━━━━━━━━━━━━━━━━┳━━━━━━━━━━━━━━━━━━┳━━━━━━━━━━━━━━━━━━┳━━━━━━━━━━━━━━━━━━┳━━━━━━━━━━━━━━━━━━┳━━━━━━━━━━━━━━━━━━┓\n",
       "┃\u001b[1m \u001b[0m\u001b[1mQx0             \u001b[0m\u001b[1m \u001b[0m┃\u001b[1m \u001b[0m\u001b[1mQx1             \u001b[0m\u001b[1m \u001b[0m┃\u001b[1m \u001b[0m\u001b[1mQx2             \u001b[0m\u001b[1m \u001b[0m┃\u001b[1m \u001b[0m\u001b[1mQx3             \u001b[0m\u001b[1m \u001b[0m┃\u001b[1m \u001b[0m\u001b[1mQx4             \u001b[0m\u001b[1m \u001b[0m┃\u001b[1m \u001b[0m\u001b[1mQx5             \u001b[0m\u001b[1m \u001b[0m┃\n",
       "┡━━━━━━━━━━━━━━━━━━╇━━━━━━━━━━━━━━━━━━╇━━━━━━━━━━━━━━━━━━╇━━━━━━━━━━━━━━━━━━╇━━━━━━━━━━━━━━━━━━╇━━━━━━━━━━━━━━━━━━┩\n",
       "│ 0.0              │ 0.0              │ 0.0              │ 0.0              │ 0.0              │ 0.0              │\n",
       "│ 0.0099506575     │ 0.04477795874999 │ 0.0              │ 0.0              │ 0.0              │ 0.0              │\n",
       "│                  │ 999              │                  │                  │                  │                  │\n",
       "│ 0.01980519056026 │ 0.04444152321091 │ 0.04402097878705 │ 0.0              │ 0.0              │ 0.0              │\n",
       "│ 1372             │ 4796             │ 83               │                  │                  │                  │\n",
       "│ 0.02956728814134 │ 0.04421043451297 │ 0.04403711798952 │ 0.04404518759075 │ 0.0              │ 0.0              │\n",
       "│ 7528             │ 6765             │ 324              │ 571              │                  │                  │\n",
       "│ 0.03924044829531 │ 0.04407702837229 │ 0.04404367683712 │ 0.04404476997839 │ 0.04404471777684 │ 0.0              │\n",
       "│ 271              │ 5296             │ 493              │ 187              │ 639              │                  │\n",
       "│ 0.04882799099863 │ 0.04403421964697 │ 0.04404492182830 │ 0.04404471432977 │ 0.04404472128585 │ 0.04404472093495 │\n",
       "│ 8895             │ 579              │ 567              │ 554              │ 259              │ 196              │\n",
       "└──────────────────┴──────────────────┴──────────────────┴──────────────────┴──────────────────┴──────────────────┘\n"
      ]
     },
     "metadata": {},
     "output_type": "display_data"
    }
   ],
   "source": [
    "# Calculo el valor en y(0.045) con interpolacion de Neville\n",
    "\n",
    "from metodos_interpolacion import neville\n",
    "\n",
    "matriz = neville(T, Y, 0.045)\n",
    "\n",
    "lista_para_tabular = [[\"Qx0\", \"Qx1\", \"Qx2\", \"Qx3\", \"Qx4\", \"Qx5\"]]\n",
    "for fila in matriz:\n",
    "    nueva_fila = []\n",
    "    for celda in fila:\n",
    "        nueva_fila.append(str(celda))\n",
    "    lista_para_tabular.append(nueva_fila)\n",
    "\n",
    "imprimir_tabla(lista_para_tabular)"
   ]
  },
  {
   "cell_type": "code",
   "execution_count": 15,
   "metadata": {},
   "outputs": [
    {
     "name": "stdout",
     "output_type": "stream",
     "text": [
      "El valor interpolado de y(0.045) es: 0.04404472093495196\n"
     ]
    }
   ],
   "source": [
    "# El valor interpolado nos da algo entre los valores de 0.04 y 0.05 así que parece correcto\n",
    "print(\"El valor interpolado de y(0.045) es:\", matriz[5][5])"
   ]
  }
 ],
 "metadata": {
  "kernelspec": {
   "display_name": "venv",
   "language": "python",
   "name": "python3"
  },
  "language_info": {
   "codemirror_mode": {
    "name": "ipython",
    "version": 3
   },
   "file_extension": ".py",
   "mimetype": "text/x-python",
   "name": "python",
   "nbconvert_exporter": "python",
   "pygments_lexer": "ipython3",
   "version": "3.10.12"
  }
 },
 "nbformat": 4,
 "nbformat_minor": 2
}
