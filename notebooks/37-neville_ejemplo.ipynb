{
 "cells": [
  {
   "cell_type": "code",
   "execution_count": 1,
   "metadata": {},
   "outputs": [
    {
     "name": "stdout",
     "output_type": "stream",
     "text": [
      "0.3259608466124384\n"
     ]
    }
   ],
   "source": [
    "# Ejemplo de la clase del algoritmo de Neville´\n",
    "\n",
    "from metodos_interpolacion import neville\n",
    "\n",
    "datos_x = [0.3, 0.5, 0.7, 0.9, 1.1, 1.3]\n",
    "datos_y = [-1.1733264, -0.06045824, -0.1716328, 0.2312373, 0.6753699, 1.2815177]\n",
    "\n",
    "aproximado = neville(datos_x, datos_y, 0.935)\n",
    "print(aproximado)"
   ]
  },
  {
   "cell_type": "code",
   "execution_count": 9,
   "metadata": {},
   "outputs": [
    {
     "data": {
      "text/html": [
       "<pre style=\"white-space:pre;overflow-x:auto;line-height:normal;font-family:Menlo,'DejaVu Sans Mono',consolas,'Courier New',monospace\">┏━━━━━━━━━━━━━━━━━━┳━━━━━━━━━━━━━━━━━━┳━━━━━━━━━━━━━━━━━━┳━━━━━━━━━━━━━━━━━━┳━━━━━━━━━━━━━━━━━━┳━━━━━━━━━━━━━━━━━━┓\n",
       "┃<span style=\"font-weight: bold\"> Qx0              </span>┃<span style=\"font-weight: bold\"> Qx1              </span>┃<span style=\"font-weight: bold\"> Qx2              </span>┃<span style=\"font-weight: bold\"> Qx3              </span>┃<span style=\"font-weight: bold\"> Qx4              </span>┃<span style=\"font-weight: bold\"> Qx5              </span>┃\n",
       "┡━━━━━━━━━━━━━━━━━━╇━━━━━━━━━━━━━━━━━━╇━━━━━━━━━━━━━━━━━━╇━━━━━━━━━━━━━━━━━━╇━━━━━━━━━━━━━━━━━━╇━━━━━━━━━━━━━━━━━━┩\n",
       "│ -1.173326400000… │ 0.0              │ 0.0              │ 0.0              │ 0.0              │ 0.0              │\n",
       "│ -0.604582399999… │ 0.6324358000000… │ 0.0              │ 0.0              │ 0.0              │ 0.0              │\n",
       "│ -0.171632800000… │ 0.3370829800000… │ 0.1635631982499… │ 0.0              │ 0.0              │ 0.0              │\n",
       "│ 0.2312373000000… │ 0.3017395675000… │ 0.2986470189062… │ 0.3065269084445… │ 0.0              │ 0.0              │\n",
       "│ 0.6753698999999… │ 0.3089605050000… │ 0.3059818682812… │ 0.3039647847031… │ 0.3044932227247… │ 0.0              │\n",
       "│ 1.2815176999999… │ 0.1752979649999… │ 0.2972650327500… │ 0.3025677743648… │ 0.3032051603316… │ 0.3036753031051… │\n",
       "└──────────────────┴──────────────────┴──────────────────┴──────────────────┴──────────────────┴──────────────────┘\n",
       "</pre>\n"
      ],
      "text/plain": [
       "┏━━━━━━━━━━━━━━━━━━┳━━━━━━━━━━━━━━━━━━┳━━━━━━━━━━━━━━━━━━┳━━━━━━━━━━━━━━━━━━┳━━━━━━━━━━━━━━━━━━┳━━━━━━━━━━━━━━━━━━┓\n",
       "┃\u001b[1m \u001b[0m\u001b[1mQx0             \u001b[0m\u001b[1m \u001b[0m┃\u001b[1m \u001b[0m\u001b[1mQx1             \u001b[0m\u001b[1m \u001b[0m┃\u001b[1m \u001b[0m\u001b[1mQx2             \u001b[0m\u001b[1m \u001b[0m┃\u001b[1m \u001b[0m\u001b[1mQx3             \u001b[0m\u001b[1m \u001b[0m┃\u001b[1m \u001b[0m\u001b[1mQx4             \u001b[0m\u001b[1m \u001b[0m┃\u001b[1m \u001b[0m\u001b[1mQx5             \u001b[0m\u001b[1m \u001b[0m┃\n",
       "┡━━━━━━━━━━━━━━━━━━╇━━━━━━━━━━━━━━━━━━╇━━━━━━━━━━━━━━━━━━╇━━━━━━━━━━━━━━━━━━╇━━━━━━━━━━━━━━━━━━╇━━━━━━━━━━━━━━━━━━┩\n",
       "│ -1.173326400000… │ 0.0              │ 0.0              │ 0.0              │ 0.0              │ 0.0              │\n",
       "│ -0.604582399999… │ 0.6324358000000… │ 0.0              │ 0.0              │ 0.0              │ 0.0              │\n",
       "│ -0.171632800000… │ 0.3370829800000… │ 0.1635631982499… │ 0.0              │ 0.0              │ 0.0              │\n",
       "│ 0.2312373000000… │ 0.3017395675000… │ 0.2986470189062… │ 0.3065269084445… │ 0.0              │ 0.0              │\n",
       "│ 0.6753698999999… │ 0.3089605050000… │ 0.3059818682812… │ 0.3039647847031… │ 0.3044932227247… │ 0.0              │\n",
       "│ 1.2815176999999… │ 0.1752979649999… │ 0.2972650327500… │ 0.3025677743648… │ 0.3032051603316… │ 0.3036753031051… │\n",
       "└──────────────────┴──────────────────┴──────────────────┴──────────────────┴──────────────────┴──────────────────┘\n"
      ]
     },
     "metadata": {},
     "output_type": "display_data"
    }
   ],
   "source": [
    "# PRueba de matriz neville:\n",
    "\n",
    "from metodos_interpolacion import neville\n",
    "\n",
    "from utils import imprimir_tabla\n",
    "\n",
    "\n",
    "matriz = neville([0.3, 0.5, 0.7, 0.9, 1.1, 1.3], [-1.1733264, -0.6045824, -0.1716328, 0.2312373, 0.6753699, 1.2815177], 0.935)\n",
    "lista_para_tabular = [[\"Qx0\", \"Qx1\", \"Qx2\", \"Qx3\", \"Qx4\", \"Qx5\"]]\n",
    "for fila in matriz:\n",
    "    nueva_fila = []\n",
    "    for celda in fila:\n",
    "        nueva_fila.append(str(celda))\n",
    "    lista_para_tabular.append(nueva_fila)\n",
    "imprimir_tabla(lista_para_tabular)"
   ]
  },
  {
   "cell_type": "code",
   "execution_count": 8,
   "metadata": {},
   "outputs": [
    {
     "name": "stdout",
     "output_type": "stream",
     "text": [
      "[3.939944145959035, 6.768348285493233, 8.309126752624428, 9.647492947350182, 9.920657196590879, 10.472218870378878]\n",
      "El resultado aproximado es: 9.18722964528689\n",
      "El resultado exacto es: 9.187229497325932\n",
      "El error es de 1.479610e-07\n"
     ]
    }
   ],
   "source": [
    "# Ejemplo 2\n",
    "\n",
    "from math import log\n",
    "\n",
    "from metodos_interpolacion import neville\n",
    "\n",
    "def f_de_x(x):\n",
    "    return round(x * round(log(x), 15), 15)\n",
    "\n",
    "datos_x = [3.3, 4.5, 5.1, 5.6, 5.7, 5.9]\n",
    "datos_y = [f_de_x(x) for x in datos_x]\n",
    "\n",
    "print(datos_y)\n",
    "\n",
    "aproximado = neville(datos_x, datos_y, 5.43)\n",
    "print(\"El resultado aproximado es: \" + str(aproximado))\n",
    "\n",
    "exacto = f_de_x(5.43)\n",
    "print(\"El resultado exacto es: \" + str(exacto))\n",
    "\n",
    "error = aproximado - exacto\n",
    "print(f\"El error es de {error:e}\")\n"
   ]
  }
 ],
 "metadata": {
  "kernelspec": {
   "display_name": "venv",
   "language": "python",
   "name": "python3"
  },
  "language_info": {
   "codemirror_mode": {
    "name": "ipython",
    "version": 3
   },
   "file_extension": ".py",
   "mimetype": "text/x-python",
   "name": "python",
   "nbconvert_exporter": "python",
   "pygments_lexer": "ipython3",
   "version": "3.10.12"
  }
 },
 "nbformat": 4,
 "nbformat_minor": 2
}
