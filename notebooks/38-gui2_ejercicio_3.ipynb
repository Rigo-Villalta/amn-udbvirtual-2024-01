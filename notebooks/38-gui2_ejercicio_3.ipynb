{
 "cells": [
  {
   "cell_type": "markdown",
   "metadata": {},
   "source": [
    "3 - Aproxime 𝑓(1.3675) a partir de los siguientes datos\n",
    "\n",
    "| x | 1.27 | 1.29 | 1.31 | 1.33 | 1.35 | 1.7 |\n",
    "|---|-----|-----|-----|-----|-----|-----|\n",
    "| f(x) | 13.270567 | 13.781763 | 14.307413 | 14.847887 | 15.403567 | 15.974842 |\n",
    "\n",
    "Además, calcule el valor exacto y el error de aproximación si la función es:\n",
    "\n",
    "$$ f(x) = 3 x e^x - cos(x)  $$"
   ]
  }
 ],
 "metadata": {
  "language_info": {
   "name": "python"
  }
 },
 "nbformat": 4,
 "nbformat_minor": 2
}
