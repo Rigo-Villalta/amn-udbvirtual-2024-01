{
 "cells": [
  {
   "cell_type": "markdown",
   "metadata": {},
   "source": [
    "1. Crear una función que permita obtener la suma de los primeros n términos de la serie de Taylor para aproximar el coseno de un número x dado el valor de x y la cantidad de términos n.\n",
    "\n",
    "La serie de Taylor para la función coseno es:\n",
    "\n",
    "$$ S = 1 - \\frac{x^2}{2!} + \\frac{x^4}{4!} - \\frac{x^6}{6!} + \\frac{x^8}{8!} - ... $$"
   ]
  },
  {
   "cell_type": "code",
   "execution_count": 30,
   "metadata": {},
   "outputs": [
    {
     "name": "stdout",
     "output_type": "stream",
     "text": [
      "coseno de 2:  -0.8011436155469337\n",
      "-0.8011436155838166\n"
     ]
    }
   ],
   "source": [
    "from math import factorial, cos\n",
    "\n",
    "def serie_taylor_coseno(x, n):\n",
    "    \"\"\"\n",
    "    Dado un entero n se desarrolla la serie Taylosr para el\n",
    "    aproximación del coseno de x hasta n\n",
    "    \"\"\"\n",
    "    if not isinstance(n, int):\n",
    "        raise TypeError(\"Ingrese un número entero.\")\n",
    "    if n < 5:\n",
    "        raise ValueError(\"Para tener una aproximación al coseno ingrese un 'n' igual o mayor a 5.\")\n",
    "    total = 0\n",
    "    a = 0\n",
    "    while a < n:\n",
    "       total += ((-1)**a) * (x**(2*a)) / factorial(2*a)\n",
    "       a += 1\n",
    "    return total\n",
    "\n",
    "print(\"coseno de 2: \", cos(2.5))\n",
    "print(serie_taylor_coseno(2.5, 10))"
   ]
  }
 ],
 "metadata": {
  "kernelspec": {
   "display_name": "venv",
   "language": "python",
   "name": "python3"
  },
  "language_info": {
   "codemirror_mode": {
    "name": "ipython",
    "version": 3
   },
   "file_extension": ".py",
   "mimetype": "text/x-python",
   "name": "python",
   "nbconvert_exporter": "python",
   "pygments_lexer": "ipython3",
   "version": "3.10.12"
  }
 },
 "nbformat": 4,
 "nbformat_minor": 2
}
