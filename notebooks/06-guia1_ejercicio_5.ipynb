{
 "cells": [
  {
   "cell_type": "markdown",
   "metadata": {},
   "source": [
    "1. Crear una función que permita obtener la suma de los primeros n términos de la serie de Taylor para aproximar el coseno de un número x dado el valor de x y la cantidad de términos n.\n",
    "\n",
    "La serie de Taylor para la función coseno es:\n",
    "\n",
    "$$ S = 1 $$"
   ]
  }
 ],
 "metadata": {
  "language_info": {
   "name": "python"
  }
 },
 "nbformat": 4,
 "nbformat_minor": 2
}
