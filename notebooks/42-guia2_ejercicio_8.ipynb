{
 "cells": [
  {
   "cell_type": "markdown",
   "metadata": {},
   "source": [
    "8- Un objeto se suspende en un túnel de viento y se mide la fuerza para varios niveles de velocidad del\n",
    "viento. A continuación se presentan los siguientes resultados:\n",
    "\n",
    "| V, m/s | 10 | 20| 30 | 40 | 50 | 60 | 70 | 80 |\n",
    "|---|-----|-----|-----|-----|-----|-----|------|-----|\n",
    "| F, N | 25 | 70 | 380 | 550 | 610 | 1220 | 830 | 1450 |\n",
    "\n",
    "Aproxime el valor de la fuerza, cuando la velocidad sea de 248.4 km/h. Use 9 decimales.\n",
    "\n",
    "Debe mostrarse:\n",
    "- Los valores de las Q construidas\n",
    "- El valor de aproximación de la función\n",
    "\n",
    "Solución:\n",
    "\n",
    "Paso la velocidad a las mismas unidades de la tabla\n",
    "\n",
    "$$ 248.4 km/h = \\frac{248,400 m}{3600 s} = 69 m/s $$ "
   ]
  },
  {
   "cell_type": "code",
   "execution_count": 2,
   "metadata": {},
   "outputs": [
    {
     "data": {
      "text/html": [
       "<pre style=\"white-space:pre;overflow-x:auto;line-height:normal;font-family:Menlo,'DejaVu Sans Mono',consolas,'Courier New',monospace\">┏━━━━━━━━┳━━━━━━━━┳━━━━━━━━━━┳━━━━━━━━━━━━━━━━┳━━━━━━━━━━━━━━━━┳━━━━━━━━━━━━━━━━┳━━━━━━━━━━━━━━━━┳━━━━━━━━━━━━━━━━┓\n",
       "┃<span style=\"font-weight: bold\"> Qx0    </span>┃<span style=\"font-weight: bold\"> Qx1    </span>┃<span style=\"font-weight: bold\"> Qx2      </span>┃<span style=\"font-weight: bold\"> Qx3            </span>┃<span style=\"font-weight: bold\"> Qx4            </span>┃<span style=\"font-weight: bold\"> Qx5            </span>┃<span style=\"font-weight: bold\"> Qx6            </span>┃<span style=\"font-weight: bold\"> Qx7            </span>┃\n",
       "┡━━━━━━━━╇━━━━━━━━╇━━━━━━━━━━╇━━━━━━━━━━━━━━━━╇━━━━━━━━━━━━━━━━╇━━━━━━━━━━━━━━━━╇━━━━━━━━━━━━━━━━╇━━━━━━━━━━━━━━━━┩\n",
       "│ 25.0   │ 0.0    │ 0.0      │ 0.0            │ 0.0            │ 0.0            │ 0.0            │ 0.0            │\n",
       "│ 70.0   │ 290.5  │ 0.0      │ 0.0            │ 0.0            │ 0.0            │ 0.0            │ 0.0            │\n",
       "│ 380.0  │ 1589.0 │ 4121.075 │ 0.0            │ 0.0            │ 0.0            │ 0.0            │ 0.0            │\n",
       "│ 550.0  │ 1043.0 │ 251.3    │ -3489.4825000… │ 0.0            │ 0.0            │ 0.0            │ 0.0            │\n",
       "│ 610.0  │ 724.0  │ 420.95   │ 528.395        │ 2436.8868125   │ 0.0            │ 0.0            │ 0.0            │\n",
       "│ 1220.0 │ 1769.0 │ 2239.25  │ 2784.74        │ 3292.417625    │ 3446.41317124… │ 0.0            │ 0.0            │\n",
       "│ 830.0  │ 869.0  │ 914.0    │ 958.175        │ 1003.83912499… │ 1049.610695    │ 1089.55740293… │ 0.0            │\n",
       "│ 1450.0 │ 768.0  │ 823.55   │ 856.714999999… │ 884.6165       │ 910.845477499… │ 936.285767374… │ 960.371310106… │\n",
       "└────────┴────────┴──────────┴────────────────┴────────────────┴────────────────┴────────────────┴────────────────┘\n",
       "</pre>\n"
      ],
      "text/plain": [
       "┏━━━━━━━━┳━━━━━━━━┳━━━━━━━━━━┳━━━━━━━━━━━━━━━━┳━━━━━━━━━━━━━━━━┳━━━━━━━━━━━━━━━━┳━━━━━━━━━━━━━━━━┳━━━━━━━━━━━━━━━━┓\n",
       "┃\u001b[1m \u001b[0m\u001b[1mQx0   \u001b[0m\u001b[1m \u001b[0m┃\u001b[1m \u001b[0m\u001b[1mQx1   \u001b[0m\u001b[1m \u001b[0m┃\u001b[1m \u001b[0m\u001b[1mQx2     \u001b[0m\u001b[1m \u001b[0m┃\u001b[1m \u001b[0m\u001b[1mQx3           \u001b[0m\u001b[1m \u001b[0m┃\u001b[1m \u001b[0m\u001b[1mQx4           \u001b[0m\u001b[1m \u001b[0m┃\u001b[1m \u001b[0m\u001b[1mQx5           \u001b[0m\u001b[1m \u001b[0m┃\u001b[1m \u001b[0m\u001b[1mQx6           \u001b[0m\u001b[1m \u001b[0m┃\u001b[1m \u001b[0m\u001b[1mQx7           \u001b[0m\u001b[1m \u001b[0m┃\n",
       "┡━━━━━━━━╇━━━━━━━━╇━━━━━━━━━━╇━━━━━━━━━━━━━━━━╇━━━━━━━━━━━━━━━━╇━━━━━━━━━━━━━━━━╇━━━━━━━━━━━━━━━━╇━━━━━━━━━━━━━━━━┩\n",
       "│ 25.0   │ 0.0    │ 0.0      │ 0.0            │ 0.0            │ 0.0            │ 0.0            │ 0.0            │\n",
       "│ 70.0   │ 290.5  │ 0.0      │ 0.0            │ 0.0            │ 0.0            │ 0.0            │ 0.0            │\n",
       "│ 380.0  │ 1589.0 │ 4121.075 │ 0.0            │ 0.0            │ 0.0            │ 0.0            │ 0.0            │\n",
       "│ 550.0  │ 1043.0 │ 251.3    │ -3489.4825000… │ 0.0            │ 0.0            │ 0.0            │ 0.0            │\n",
       "│ 610.0  │ 724.0  │ 420.95   │ 528.395        │ 2436.8868125   │ 0.0            │ 0.0            │ 0.0            │\n",
       "│ 1220.0 │ 1769.0 │ 2239.25  │ 2784.74        │ 3292.417625    │ 3446.41317124… │ 0.0            │ 0.0            │\n",
       "│ 830.0  │ 869.0  │ 914.0    │ 958.175        │ 1003.83912499… │ 1049.610695    │ 1089.55740293… │ 0.0            │\n",
       "│ 1450.0 │ 768.0  │ 823.55   │ 856.714999999… │ 884.6165       │ 910.845477499… │ 936.285767374… │ 960.371310106… │\n",
       "└────────┴────────┴──────────┴────────────────┴────────────────┴────────────────┴────────────────┴────────────────┘\n"
      ]
     },
     "metadata": {},
     "output_type": "display_data"
    },
    {
     "name": "stdout",
     "output_type": "stream",
     "text": [
      "La fuerza aproximada cuando la velocidad es de  248.4 m/s es: 960.371310106 N.\n"
     ]
    }
   ],
   "source": [
    "from metodos_interpolacion import neville\n",
    "from utils import imprimir_tabla\n",
    "\n",
    "datos_x = [10, 20, 30, 40, 50, 60, 70, 80]\n",
    "datos_y = [25, 70, 380, 550, 610, 1220, 830, 1450]\n",
    "\n",
    "resultado = neville(datos_x, datos_y, 69)\n",
    "lista_para_tabular = [[\"Qx0\", \"Qx1\", \"Qx2\", \"Qx3\", \"Qx4\", \"Qx5\", \"Qx6\", \"Qx7\"]]\n",
    "for fila in resultado:\n",
    "    nueva_fila = []\n",
    "    for celda in fila:\n",
    "        nueva_fila.append(str(celda))\n",
    "    lista_para_tabular.append(nueva_fila)\n",
    "imprimir_tabla(lista_para_tabular)\n",
    "\n",
    "print(\"La fuerza aproximada cuando la velocidad es de  248.4 m/s es:\", round(resultado[7][7], 9), \"N.\")\n"
   ]
  }
 ],
 "metadata": {
  "kernelspec": {
   "display_name": "venv",
   "language": "python",
   "name": "python3"
  },
  "language_info": {
   "codemirror_mode": {
    "name": "ipython",
    "version": 3
   },
   "file_extension": ".py",
   "mimetype": "text/x-python",
   "name": "python",
   "nbconvert_exporter": "python",
   "pygments_lexer": "ipython3",
   "version": "3.10.12"
  }
 },
 "nbformat": 4,
 "nbformat_minor": 2
}
