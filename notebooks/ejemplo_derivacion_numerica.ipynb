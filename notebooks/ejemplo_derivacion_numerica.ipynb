{
 "cells": [
  {
   "cell_type": "code",
   "execution_count": 1,
   "metadata": {},
   "outputs": [
    {
     "name": "stdout",
     "output_type": "stream",
     "text": [
      "-0.939540784971094\n"
     ]
    }
   ],
   "source": [
    "from sympy import *\n",
    "\n",
    "x = symbols(\"x\")\n",
    "\n",
    "f = 2*log(x)**2 + 3*sin(x)\n",
    "h= 1/400\n",
    "c=2.5\n",
    "\n",
    "# Para primeras derivadas\n",
    "# Con fórmula progresiva\n",
    "valor_aproximado_p =  (f.subs(x, c+ h) - f.subs(x,c)) /h\n",
    "print(valor_aproximado_p)"
   ]
  },
  {
   "cell_type": "code",
   "execution_count": 2,
   "metadata": {},
   "outputs": [
    {
     "name": "stdout",
     "output_type": "stream",
     "text": [
      "-0.937365675642153\n"
     ]
    }
   ],
   "source": [
    "valor_exacto = diff(f).subs(x, c)\n",
    "print(valor_exacto)"
   ]
  },
  {
   "cell_type": "code",
   "execution_count": 3,
   "metadata": {},
   "outputs": [
    {
     "name": "stdout",
     "output_type": "stream",
     "text": [
      "2.1751E-3\n"
     ]
    }
   ],
   "source": [
    "error = abs(valor_aproximado_p - valor_exacto)\n",
    "print(f\"{error:.4E}\")"
   ]
  },
  {
   "cell_type": "code",
   "execution_count": 4,
   "metadata": {},
   "outputs": [
    {
     "name": "stdout",
     "output_type": "stream",
     "text": [
      "-0.935186181790826\n"
     ]
    }
   ],
   "source": [
    "# Con fórmula regresiva\n",
    "valor_approximado_r = (f.subs(x, c) - f.subs(x, c-h))/ h\n",
    "print(valor_approximado_r)"
   ]
  },
  {
   "cell_type": "code",
   "execution_count": 5,
   "metadata": {},
   "outputs": [
    {
     "name": "stdout",
     "output_type": "stream",
     "text": [
      "2.1795E-3\n"
     ]
    }
   ],
   "source": [
    "error = round(abs(valor_approximado_r - valor_exacto), 15)\n",
    "print(f\"{error:.4E}\")"
   ]
  },
  {
   "cell_type": "code",
   "execution_count": 6,
   "metadata": {},
   "outputs": [
    {
     "name": "stdout",
     "output_type": "stream",
     "text": [
      "-0.937370069364185\n"
     ]
    }
   ],
   "source": [
    "# Utilizo la fórmula de 3 puntos\n",
    "# primero la fórmula progresiva\n",
    "valor_aproximado_r_3 = ( -3 * f.subs(x, c) + 4 * f.subs(x, c + h) - f.subs(x, c + 2*h) ) / (2*h)\n",
    "print(valor_aproximado_r_3)"
   ]
  },
  {
   "cell_type": "code",
   "execution_count": 7,
   "metadata": {},
   "outputs": [
    {
     "name": "stdout",
     "output_type": "stream",
     "text": [
      "4.3937E-6\n"
     ]
    }
   ],
   "source": [
    "# Calculo el error para este valor aproximado\n",
    "error = abs(valor_aproximado_r_3 - valor_exacto)\n",
    "print(f\"{error:.4E}\")"
   ]
  },
  {
   "cell_type": "code",
   "execution_count": 8,
   "metadata": {},
   "outputs": [
    {
     "name": "stdout",
     "output_type": "stream",
     "text": [
      "-0.937363483380960\n"
     ]
    }
   ],
   "source": [
    "# fórmula centrada\n",
    "valor_aproximado_c_3 = ( f.subs(x, c+h) - f.subs(x, c-h)) / (2*h)\n",
    "print(valor_aproximado_c_3)"
   ]
  },
  {
   "cell_type": "code",
   "execution_count": 9,
   "metadata": {},
   "outputs": [
    {
     "name": "stdout",
     "output_type": "stream",
     "text": [
      "2.1923E-6\n"
     ]
    }
   ],
   "source": [
    "error = abs(valor_aproximado_c_3 - valor_exacto)\n",
    "print(f\"{error:.4E}\")"
   ]
  },
  {
   "cell_type": "code",
   "execution_count": 10,
   "metadata": {},
   "outputs": [
    {
     "name": "stdout",
     "output_type": "stream",
     "text": [
      "-0.937370050935904\n"
     ]
    }
   ],
   "source": [
    "# fórmula regresiva\n",
    "valor_aproximado_r_3   = (3 * f.subs(x, c) - 4 * f.subs(x, c-h) + f.subs(x, c - 2*h)) / (2*h)\n",
    "print(valor_aproximado_r_3)"
   ]
  },
  {
   "cell_type": "code",
   "execution_count": 11,
   "metadata": {},
   "outputs": [
    {
     "name": "stdout",
     "output_type": "stream",
     "text": [
      "4.3753E-6\n"
     ]
    }
   ],
   "source": [
    "error = abs(valor_aproximado_r_3 - valor_exacto)\n",
    "print(f\"{error:.4E}\")"
   ]
  },
  {
   "cell_type": "code",
   "execution_count": 12,
   "metadata": {},
   "outputs": [
    {
     "name": "stdout",
     "output_type": "stream",
     "text": [
      "-0.937365675613696\n",
      "2.8457E-11\n"
     ]
    }
   ],
   "source": [
    "# Fórmulas de 5 puntos.\n",
    "# progresiva\n",
    "valor_aproximado_p_5 = (\n",
    "    -25 * f.subs(x, c)\n",
    "    + 48 * f.subs(x, c + h)\n",
    "    - 36 * f.subs(x, c + 2 * h)\n",
    "    + 16 * f.subs(x, c + 3 * h)\n",
    "    - 3 * f.subs(x, c + 4 * h)\n",
    ") / (12 * h)\n",
    "print(valor_aproximado_p_5)\n",
    "error = abs(valor_exacto - valor_aproximado_p_5)\n",
    "print(f\"{error:.4E}\")"
   ]
  },
  {
   "cell_type": "code",
   "execution_count": 13,
   "metadata": {},
   "outputs": [
    {
     "name": "stdout",
     "output_type": "stream",
     "text": [
      "-0.937365675637351\n",
      "4.8019E-12\n"
     ]
    }
   ],
   "source": [
    "# Fórmula de 5 puntos centrada\n",
    "valor_aproximado_c_5 = (\n",
    "    f.subs(x, c - 2 * h)\n",
    "    - 8 * f.subs(x, c - h)\n",
    "    + 8 * f.subs(x, c + h)\n",
    "    - f.subs(x, c + 2 * h)\n",
    ") / (12 * h)\n",
    "print(valor_aproximado_c_5)\n",
    "error = abs(valor_exacto - valor_aproximado_c_5)\n",
    "print(f\"{error:.4E}\")"
   ]
  },
  {
   "cell_type": "code",
   "execution_count": 14,
   "metadata": {},
   "outputs": [
    {
     "name": "stdout",
     "output_type": "stream",
     "text": [
      "-0.937365675613873\n",
      "2.8279E-11\n"
     ]
    }
   ],
   "source": [
    "# Fórmula de 5 puntos regresiva\n",
    "valor_aproximado_r_5 = (\n",
    "    25 * f.subs(x, c)\n",
    "    - 48 * f.subs(x, c - h)\n",
    "    + 36 * f.subs(x, c - 2 * h)\n",
    "    - 16 * f.subs(x, c - 3 * h)\n",
    "    + 3 * f.subs(x, c - 4 * h)\n",
    ") / (12 * h)\n",
    "print(valor_aproximado_r_5)\n",
    "error = abs(valor_exacto - valor_aproximado_r_5)\n",
    "print(f\"{error:.4E}\")"
   ]
  },
  {
   "cell_type": "code",
   "execution_count": 15,
   "metadata": {},
   "outputs": [
    {
     "name": "stdout",
     "output_type": "stream",
     "text": [
      "-1.74184250071133\n"
     ]
    }
   ],
   "source": [
    "valor_exacto_segunda_derivada = diff(diff(f)).subs(x, c)\n",
    "print(valor_exacto_segunda_derivada)"
   ]
  },
  {
   "cell_type": "code",
   "execution_count": 16,
   "metadata": {},
   "outputs": [
    {
     "name": "stdout",
     "output_type": "stream",
     "text": [
      "-1.73657248552672\n"
     ]
    }
   ],
   "source": [
    "# Segundas derivadas\n",
    "# fórmulas de 3 puntos\n",
    "# progresiva\n",
    "\n",
    "valor_aproximado_3_p_sd_p = (f.subs(x, c) - 2*f.subs(x, c+h) + f.subs(x, c + 2*h)) / (h**2)\n",
    "print(valor_aproximado_3_p_sd_p)"
   ]
  },
  {
   "cell_type": "code",
   "execution_count": 17,
   "metadata": {},
   "outputs": [
    {
     "name": "stdout",
     "output_type": "stream",
     "text": [
      "5.2700E-3\n"
     ]
    }
   ],
   "source": [
    "error = abs(valor_exacto_segunda_derivada - valor_aproximado_3_p_sd_p)\n",
    "print(f\"{error:.4E}\")"
   ]
  },
  {
   "cell_type": "code",
   "execution_count": 18,
   "metadata": {},
   "outputs": [
    {
     "name": "stdout",
     "output_type": "stream",
     "text": [
      "-1.74184127210708\n"
     ]
    }
   ],
   "source": [
    "# centrada\n",
    "valor_aproximado_3_p_sd_c = (f.subs(x, c-h) - 2*f.subs(x, c) + f.subs(x, c+h)) / (h**2)\n",
    "print(valor_aproximado_3_p_sd_c)"
   ]
  },
  {
   "cell_type": "code",
   "execution_count": 19,
   "metadata": {},
   "outputs": [
    {
     "name": "stdout",
     "output_type": "stream",
     "text": [
      "1.2286E-6\n"
     ]
    }
   ],
   "source": [
    "error = abs(valor_exacto_segunda_derivada - valor_aproximado_3_p_sd_c)\n",
    "print(f\"{error:.4E}\")"
   ]
  },
  {
   "cell_type": "code",
   "execution_count": 20,
   "metadata": {},
   "outputs": [
    {
     "name": "stdout",
     "output_type": "stream",
     "text": [
      "-1.74709531606254\n"
     ]
    }
   ],
   "source": [
    "# regresiva\n",
    "valor_aproximado_3_p_sd_r = (f.subs(x, c-2*h) - 2*f.subs(x, c-h) + f.subs(x, c)) / (h**2)\n",
    "print(valor_aproximado_3_p_sd_r)"
   ]
  },
  {
   "cell_type": "code",
   "execution_count": 21,
   "metadata": {},
   "outputs": [
    {
     "name": "stdout",
     "output_type": "stream",
     "text": [
      "5.2528E-3\n"
     ]
    }
   ],
   "source": [
    "error = abs(valor_exacto_segunda_derivada - valor_aproximado_3_p_sd_r)\n",
    "print(f\"{error:.4E}\")"
   ]
  }
 ],
 "metadata": {
  "kernelspec": {
   "display_name": "venv",
   "language": "python",
   "name": "python3"
  },
  "language_info": {
   "codemirror_mode": {
    "name": "ipython",
    "version": 3
   },
   "file_extension": ".py",
   "mimetype": "text/x-python",
   "name": "python",
   "nbconvert_exporter": "python",
   "pygments_lexer": "ipython3",
   "version": "3.10.12"
  }
 },
 "nbformat": 4,
 "nbformat_minor": 2
}
