{
 "cells": [
  {
   "cell_type": "markdown",
   "metadata": {},
   "source": [
    "1. Elaborar un programa que lea el valor de un número natural n y muestre la lista de los primeros n primos. Así, por ejemplo, si n= 6, el programa debería mostrar la siguiente lista de números primos: 2, 3, 5, 7, 11, 13"
   ]
  },
  {
   "cell_type": "code",
   "execution_count": 13,
   "metadata": {},
   "outputs": [
    {
     "name": "stdout",
     "output_type": "stream",
     "text": [
      "[2, 3, 5, 7, 11, 13, 17, 19, 23, 29, 31, 37, 41, 43, 47]\n"
     ]
    }
   ],
   "source": [
    "\n",
    "\n",
    "def es_primo(x:int)->bool:\n",
    "    \"\"\"\n",
    "    retorna True si el número es primo, sino False\n",
    "    \"\"\"\n",
    "    if x <= 1:\n",
    "        return False\n",
    "    for n in range(2,x):\n",
    "        if x%n == 0 and x != n:\n",
    "           return False\n",
    "    return True\n",
    "\n",
    "n = input(\"Ingrese la cantidad de números primos que quiere obtener\")\n",
    "lista_de_primos = []\n",
    "valor = 0\n",
    "while len(lista_de_primos) < int(n):\n",
    "    if es_primo(valor):\n",
    "        lista_de_primos.append(valor)\n",
    "    valor += 1\n",
    "print(lista_de_primos)\n",
    "# Evaluo para 15 primos en este caso"
   ]
  }
 ],
 "metadata": {
  "kernelspec": {
   "display_name": "venv",
   "language": "python",
   "name": "python3"
  },
  "language_info": {
   "codemirror_mode": {
    "name": "ipython",
    "version": 3
   },
   "file_extension": ".py",
   "mimetype": "text/x-python",
   "name": "python",
   "nbconvert_exporter": "python",
   "pygments_lexer": "ipython3",
   "version": "3.10.12"
  }
 },
 "nbformat": 4,
 "nbformat_minor": 2
}
