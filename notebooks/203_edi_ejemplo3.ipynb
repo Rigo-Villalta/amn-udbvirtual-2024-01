{
 "cells": [
  {
   "cell_type": "markdown",
   "metadata": {},
   "source": [
    "Ejemplo 3: Resuelva el siguiente VPI de orden superios usando el comando dsolve\n",
    "\n",
    "$$ y'''(t) + 2y''(t) - y'(t) - 2y(t) = e^t $$\n",
    "\n",
    "Sujeto a las siguientes condiciones iniciales: y(0)=1, y'(0)=2, y''(0)=0 en el intervalo $ 0 \\leq t \\leq 0.5 $ y con h=0.05"
   ]
  },
  {
   "cell_type": "code",
   "execution_count": 13,
   "metadata": {},
   "outputs": [
    {
     "data": {
      "text/plain": [
       "[1.0,\n",
       " 1.1001029056948033,\n",
       " 1.200813798365949,\n",
       " 1.3027167642413793,\n",
       " 1.4063738319947534,\n",
       " 1.512329098190139,\n",
       " 1.6211125663343329,\n",
       " 1.7332437330100494,\n",
       " 1.8492349517044135,\n",
       " 1.9695946023790856,\n",
       " 2.0948300925243477]"
      ]
     },
     "execution_count": 13,
     "metadata": {},
     "output_type": "execute_result"
    }
   ],
   "source": [
    "from sympy import *\n",
    "from  numpy import arange\n",
    "\n",
    "t = symbols(\"t\")\n",
    "y = symbols(\"y\", cls=Function)\n",
    "\n",
    "eq = Eq(y(t).diff(t,t,t) + 2*y(t).diff(t, t) - y(t).diff(t)- 2*y(t), exp(t))\n",
    "\n",
    "condiciones_iniciales = {y(0): 1, y(t).diff(t).subs(t, 0): 2, y(t).diff(t, 2).subs(t, 0): 0}\n",
    "\n",
    "ecuacion_solucion = dsolve(eq, ics=condiciones_iniciales)\n",
    "\n",
    "T = [x for x in arange(0, 0.51, 0.05)]\n",
    "\n",
    "solucion_exacta = []\n",
    "for i in range(len(T)):\n",
    "    solucion_exacta.append(float(ecuacion_solucion.rhs.subs(t, T[i])))\n",
    "solucion_exacta\n"
   ]
  }
 ],
 "metadata": {
  "kernelspec": {
   "display_name": "venv",
   "language": "python",
   "name": "python3"
  },
  "language_info": {
   "codemirror_mode": {
    "name": "ipython",
    "version": 3
   },
   "file_extension": ".py",
   "mimetype": "text/x-python",
   "name": "python",
   "nbconvert_exporter": "python",
   "pygments_lexer": "ipython3",
   "version": "3.10.12"
  }
 },
 "nbformat": 4,
 "nbformat_minor": 2
}
