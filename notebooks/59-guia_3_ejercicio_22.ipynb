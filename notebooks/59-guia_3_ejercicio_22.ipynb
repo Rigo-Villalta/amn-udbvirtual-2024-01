{
 "cells": [
  {
   "cell_type": "markdown",
   "metadata": {},
   "source": [
    "22. Calcular la longitud de arco de la curva:\n",
    "\n",
    "$$ 8x = y^4 + \\frac{2}{y^2} $$\n",
    "\n",
    "Desde *y=1* hasta *y=2* empleando la integración de Romberg mediante R<sub>66</sub>. Además obtenga el valor exacto y el error. Emplee 15 decimales.\n",
    "\n",
    "### Solución\n",
    "\n",
    "Primero despejo *x* de la ecuación:\n",
    "\n",
    "$$ x = \\frac{y^4}{8} + \\frac{1}{4y^2} $$\n",
    "\n",
    "Por tanto la longitund de arco vendría dada por:\n",
    "\n",
    "$$ L = \\int_{1}^{2} \\sqrt{1 + (x')^2} dx $$\n",
    "\n"
   ]
  },
  {
   "cell_type": "code",
   "execution_count": 1,
   "metadata": {},
   "outputs": [
    {
     "name": "stdout",
     "output_type": "stream",
     "text": [
      "2.0625\n",
      "[[2.53125    0.         0.         0.         0.         0.        ]\n",
      " [2.18344907 0.         0.         0.         0.         0.        ]\n",
      " [2.09311065 0.         0.         0.         0.         0.        ]\n",
      " [2.07018057 0.         0.         0.         0.         0.        ]\n",
      " [2.06442198 0.         0.         0.         0.         0.        ]\n",
      " [2.06298061 0.         0.         0.         0.         0.        ]]\n"
     ]
    }
   ],
   "source": [
    "# Desarrollo en Python\n",
    "\n",
    "from sympy import *\n",
    "from numpy import zeros, float64\n",
    "\n",
    "# Voy a ocupar x como variable en vez de y\n",
    "\n",
    "x = symbols(\"x\")\n",
    "\n",
    "# Mi función original\n",
    "g= (x**4 / 8 ) + (1 / (4 * x**2))\n",
    "\n",
    "# La función de la longitud de arco\n",
    "f = sqrt(1 + (diff(g))**2)\n",
    "\n",
    "# Aqui defino n con el R_nn dado, a y b\n",
    "n = 6\n",
    "a = 1\n",
    "b = 2\n",
    "\n",
    "# declaro mi matriz (n, n)\n",
    "R = zeros((n, n), dtype=float64)\n",
    "\n",
    "\n",
    "# Utilizo la función que he desarrollado para la regla compuesta del trapecio\n",
    "def regla_compuesta_del_trapecio(f, a, b, n):\n",
    "    # Defino mi h dentro de la función\n",
    "    h = (b-a) / n\n",
    "    # La suma interna es el factor de la fórmula, la inicio con f(x_0)\n",
    "    suma_interna = f.subs(x, a)\n",
    "    # Aquí hago la sumatoria desde f(x_1) hasta f(x_(n-1)) \n",
    "    for i in range(1, n):\n",
    "        suma_interna += 2 * f.subs(x, a + i*h)\n",
    "    # Sumo f(x_n)\n",
    "    suma_interna += f.subs(x, b)\n",
    "    return (h/2) * suma_interna\n",
    "\n",
    "# Y encuentro cada valor con mi función donde \"n\" de la regla compuesta\n",
    "# Se duplica en cada iteración\n",
    "\n",
    "R11 = float(regla_compuesta_del_trapecio(f, a, b, 1))\n",
    "R21 = float(regla_compuesta_del_trapecio(f, a, b, 2))\n",
    "R31 = float(regla_compuesta_del_trapecio(f, a, b, 4))\n",
    "R41 = float(regla_compuesta_del_trapecio(f, a, b, 8))\n",
    "R51 = float(regla_compuesta_del_trapecio(f, a, b, 16))\n",
    "R61 = float(regla_compuesta_del_trapecio(f, a, b, 32))\n",
    "\n",
    "# Ahora estos valor les pongo el la primera columna de mi matriz R\n",
    "\n",
    "R[0][0] = R11\n",
    "R[1][0] = R21\n",
    "R[2][0] = R31\n",
    "R[3][0] = R41\n",
    "R[4][0] = R51\n",
    "R[5][0] = R61\n",
    "\n",
    "# Saco mi valor exacto a modo de verificación, lo imprimo y la matriz\n",
    "# Para verificar que todo parezca adecuado\n",
    "\n",
    "valor_exacto = float(integrate(f, (x, a, b)))\n",
    "\n",
    "print(valor_exacto)\n",
    "print(R)\n",
    "\n",
    "\n"
   ]
  },
  {
   "cell_type": "code",
   "execution_count": 9,
   "metadata": {},
   "outputs": [
    {
     "name": "stdout",
     "output_type": "stream",
     "text": [
      "2.53125             0.0                 0.0                 0.0                 0.0                 0.0                 \n",
      "\n",
      "2.183449074074074   2.0675154320987654  0.0                 0.0                 0.0                 0.0                 \n",
      "\n",
      "2.093110652197387   2.062997844905158   2.062696672425584   0.0                 0.0                 0.0                 \n",
      "\n",
      "2.070180570148941   2.0625372094661256  2.062506500436857   2.0625034818338612  0.0                 0.0                 \n",
      "\n",
      "2.064421984029672   2.0625024553232487  2.0625001383803903  2.0625000373953672  2.062500023887765   0.0                 \n",
      "\n",
      "2.0629806127785058  2.0625001556947837  2.0625000023862197  2.062500000227582   2.062500000081826   2.0625000000585554  \n",
      "\n",
      "El valor exacto es: 2.0625\n",
      "El valor aproximado es: 2.062500000058556\n",
      "El error es: 5.855538276478e-11\n",
      "El error relativo es: 2.8e-09 %\n"
     ]
    }
   ],
   "source": [
    "# Ahora lleno el resto de la matriz con la versión espejo de la\n",
    "# Interpolación de Richarson\n",
    "\n",
    "for j in range(1, n):\n",
    "    for i in range(j, n):\n",
    "        # La j es diferente a la fórmula por la forma de indexar de Python\n",
    "        R[i][j] = (4**(j) * R[i][j-1] - R[i-1][j-1]) / (4**(j) - 1)\n",
    "\n",
    "#imprimo de forma que se vea bien la matriz\n",
    "for i in R:\n",
    "    for j in i:\n",
    "        print(str(j).ljust(18), end=\"  \")\n",
    "    print(\"\\n\")\n",
    "\n",
    "# el valor R[n-1][n-1] es el valor aproximado\n",
    "\n",
    "valor_aproximado = R[n-1][n-1]\n",
    "error = abs(valor_aproximado - valor_exacto)\n",
    "error_relativo = round(float(error/valor_exacto * 100), 10)\n",
    "\n",
    "print(\"El valor exacto es:\", valor_exacto)\n",
    "print(\"El valor aproximado es:\", round(valor_aproximado, 15))\n",
    "print(\"El error es:\", error)\n",
    "print(f\"El error relativo es: {error_relativo} %\")"
   ]
  }
 ],
 "metadata": {
  "kernelspec": {
   "display_name": "venv",
   "language": "python",
   "name": "python3"
  },
  "language_info": {
   "codemirror_mode": {
    "name": "ipython",
    "version": 3
   },
   "file_extension": ".py",
   "mimetype": "text/x-python",
   "name": "python",
   "nbconvert_exporter": "python",
   "pygments_lexer": "ipython3",
   "version": "3.10.12"
  }
 },
 "nbformat": 4,
 "nbformat_minor": 2
}
