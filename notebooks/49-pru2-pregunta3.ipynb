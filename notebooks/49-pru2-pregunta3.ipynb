{
 "cells": [
  {
   "cell_type": "markdown",
   "metadata": {},
   "source": [
    "3 - Se realiza un experimento para determinar la elongación porcentual de un material conductor de electricidad como función de la temperatura. Los datos que resultan se muestran en la siguiente tabla:\n",
    "\n",
    "T(ºC): 200, 250, 300, 375, 425, 475, 600\n",
    "\n",
    "% de elogación: 7.5, 8.6, 8.7, 10, 11.3, 12.7, 15.3\n",
    "\n",
    "Usando el método de Neville, obtenga el porcentaje de elongación para una temperatura de 325.36°C. Use 15 decimales.\n",
    "\n",
    "NOTA: Debe mostrar la siguiente información:\n",
    "\n",
    "•\tLos valores de las Q construidas\n",
    "\n",
    "•\tEl valor de aproximación"
   ]
  },
  {
   "cell_type": "code",
   "execution_count": 2,
   "metadata": {},
   "outputs": [
    {
     "data": {
      "text/html": [
       "<pre style=\"white-space:pre;overflow-x:auto;line-height:normal;font-family:Menlo,'DejaVu Sans Mono',consolas,'Courier New',monospace\">┏━━━━━━┳━━━━━━━━━━━━━━━━━┳━━━━━━━━━━━━━━━━━┳━━━━━━━━━━━━━━━━━┳━━━━━━━━━━━━━━━━━┳━━━━━━━━━━━━━━━━━┳━━━━━━━━━━━━━━━━┓\n",
       "┃<span style=\"font-weight: bold\"> Qx0  </span>┃<span style=\"font-weight: bold\"> Qx1             </span>┃<span style=\"font-weight: bold\"> Qx2             </span>┃<span style=\"font-weight: bold\"> Qx3             </span>┃<span style=\"font-weight: bold\"> Qx4             </span>┃<span style=\"font-weight: bold\"> Qx5             </span>┃<span style=\"font-weight: bold\"> Qx6            </span>┃\n",
       "┡━━━━━━╇━━━━━━━━━━━━━━━━━╇━━━━━━━━━━━━━━━━━╇━━━━━━━━━━━━━━━━━╇━━━━━━━━━━━━━━━━━╇━━━━━━━━━━━━━━━━━╇━━━━━━━━━━━━━━━━┩\n",
       "│ 7.5  │ 0.0             │ 0.0             │ 0.0             │ 0.0             │ 0.0             │ 0.0            │\n",
       "│      │                 │                 │                 │                 │                 │                │\n",
       "│ 8.6  │ 10.257919999999 │ 0.0             │ 0.0             │ 0.0             │ 0.0             │ 0.0            │\n",
       "│      │ 999             │                 │                 │                 │                 │                │\n",
       "│      │                 │                 │                 │                 │                 │                │\n",
       "│ 8.7  │ 8.75072         │ 8.36849408      │ 0.0             │ 0.0             │ 0.0             │ 0.0            │\n",
       "│      │                 │                 │                 │                 │                 │                │\n",
       "│ 10.0 │ 9.1395733333333 │ 8.9851518975999 │ 8.8102325029390 │ 0.0             │ 0.0             │ 0.0            │\n",
       "│      │ 33              │ 98              │ 62              │                 │                 │                │\n",
       "│      │                 │                 │                 │                 │                 │                │\n",
       "│ 11.3 │ 8.7093599999999 │ 9.0522916522666 │ 9.0140641942381 │ 8.9237984621446 │ 0.0             │ 0.0            │\n",
       "│      │ 98              │ 66              │ 7               │ 46              │                 │                │\n",
       "│      │                 │                 │                 │                 │                 │                │\n",
       "│ 12.7 │ 8.5100800000000 │ 8.8082825919999 │ 9.0169312535903 │ 9.0150244679838 │ 8.9653842515701 │ 0.0            │\n",
       "│      │ 07              │ 94              │ 06              │ 46              │ 07              │                │\n",
       "│      │                 │                 │                 │                 │                 │                │\n",
       "│ 15.3 │ 9.5874879999999 │ 7.8966346678857 │ 9.0094123829023 │ 9.0162956583881 │ 9.0152981734377 │ 8.981027274683 │\n",
       "│      │ 97              │ 295             │ 58              │ 5               │ 54              │ 429            │\n",
       "│      │                 │                 │                 │                 │                 │                │\n",
       "└──────┴─────────────────┴─────────────────┴─────────────────┴─────────────────┴─────────────────┴────────────────┘\n",
       "</pre>\n"
      ],
      "text/plain": [
       "┏━━━━━━┳━━━━━━━━━━━━━━━━━┳━━━━━━━━━━━━━━━━━┳━━━━━━━━━━━━━━━━━┳━━━━━━━━━━━━━━━━━┳━━━━━━━━━━━━━━━━━┳━━━━━━━━━━━━━━━━┓\n",
       "┃\u001b[1m \u001b[0m\u001b[1mQx0 \u001b[0m\u001b[1m \u001b[0m┃\u001b[1m \u001b[0m\u001b[1mQx1            \u001b[0m\u001b[1m \u001b[0m┃\u001b[1m \u001b[0m\u001b[1mQx2            \u001b[0m\u001b[1m \u001b[0m┃\u001b[1m \u001b[0m\u001b[1mQx3            \u001b[0m\u001b[1m \u001b[0m┃\u001b[1m \u001b[0m\u001b[1mQx4            \u001b[0m\u001b[1m \u001b[0m┃\u001b[1m \u001b[0m\u001b[1mQx5            \u001b[0m\u001b[1m \u001b[0m┃\u001b[1m \u001b[0m\u001b[1mQx6           \u001b[0m\u001b[1m \u001b[0m┃\n",
       "┡━━━━━━╇━━━━━━━━━━━━━━━━━╇━━━━━━━━━━━━━━━━━╇━━━━━━━━━━━━━━━━━╇━━━━━━━━━━━━━━━━━╇━━━━━━━━━━━━━━━━━╇━━━━━━━━━━━━━━━━┩\n",
       "│ 7.5  │ 0.0             │ 0.0             │ 0.0             │ 0.0             │ 0.0             │ 0.0            │\n",
       "│      │                 │                 │                 │                 │                 │                │\n",
       "│ 8.6  │ 10.257919999999 │ 0.0             │ 0.0             │ 0.0             │ 0.0             │ 0.0            │\n",
       "│      │ 999             │                 │                 │                 │                 │                │\n",
       "│      │                 │                 │                 │                 │                 │                │\n",
       "│ 8.7  │ 8.75072         │ 8.36849408      │ 0.0             │ 0.0             │ 0.0             │ 0.0            │\n",
       "│      │                 │                 │                 │                 │                 │                │\n",
       "│ 10.0 │ 9.1395733333333 │ 8.9851518975999 │ 8.8102325029390 │ 0.0             │ 0.0             │ 0.0            │\n",
       "│      │ 33              │ 98              │ 62              │                 │                 │                │\n",
       "│      │                 │                 │                 │                 │                 │                │\n",
       "│ 11.3 │ 8.7093599999999 │ 9.0522916522666 │ 9.0140641942381 │ 8.9237984621446 │ 0.0             │ 0.0            │\n",
       "│      │ 98              │ 66              │ 7               │ 46              │                 │                │\n",
       "│      │                 │                 │                 │                 │                 │                │\n",
       "│ 12.7 │ 8.5100800000000 │ 8.8082825919999 │ 9.0169312535903 │ 9.0150244679838 │ 8.9653842515701 │ 0.0            │\n",
       "│      │ 07              │ 94              │ 06              │ 46              │ 07              │                │\n",
       "│      │                 │                 │                 │                 │                 │                │\n",
       "│ 15.3 │ 9.5874879999999 │ 7.8966346678857 │ 9.0094123829023 │ 9.0162956583881 │ 9.0152981734377 │ 8.981027274683 │\n",
       "│      │ 97              │ 295             │ 58              │ 5               │ 54              │ 429            │\n",
       "│      │                 │                 │                 │                 │                 │                │\n",
       "└──────┴─────────────────┴─────────────────┴─────────────────┴─────────────────┴─────────────────┴────────────────┘\n"
      ]
     },
     "metadata": {},
     "output_type": "display_data"
    },
    {
     "name": "stdout",
     "output_type": "stream",
     "text": [
      "El porcentaje de elongación para una temperatura de 325.36°C: es de aproximadamente 8.981027274683429%\n"
     ]
    }
   ],
   "source": [
    "from metodos_interpolacion import neville\n",
    "\n",
    "from utils import imprimir_tabla\n",
    "\n",
    "datos_x = [200, 250, 300, 375, 425, 475, 600]\n",
    "datos_y = [7.5, 8.6, 8.7, 10, 11.3, 12.7, 15.3]\n",
    "\n",
    "resultado = neville(datos_x, datos_y, 325.36)\n",
    "\n",
    "lista_para_tabular = [[\"Qx0\", \"Qx1\", \"Qx2\", \"Qx3\", \"Qx4\", \"Qx5\", \"Qx6\"]]\n",
    "for fila in resultado:\n",
    "    nueva_fila = []\n",
    "    for celda in fila:\n",
    "        nueva_fila.append(str(celda) + \"\\n\")\n",
    "    lista_para_tabular.append(nueva_fila)\n",
    "imprimir_tabla(lista_para_tabular)\n",
    "\n",
    "print(\n",
    "    \"El porcentaje de elongación para una temperatura de 325.36°C: es de aproximadamente\", \n",
    "    str(round(resultado[6][6], 15)) + \"%\")"
   ]
  }
 ],
 "metadata": {
  "kernelspec": {
   "display_name": "venv",
   "language": "python",
   "name": "python3"
  },
  "language_info": {
   "codemirror_mode": {
    "name": "ipython",
    "version": 3
   },
   "file_extension": ".py",
   "mimetype": "text/x-python",
   "name": "python",
   "nbconvert_exporter": "python",
   "pygments_lexer": "ipython3",
   "version": "3.10.12"
  }
 },
 "nbformat": 4,
 "nbformat_minor": 2
}
