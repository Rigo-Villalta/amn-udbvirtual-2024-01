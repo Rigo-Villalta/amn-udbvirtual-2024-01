{
 "cells": [
  {
   "cell_type": "code",
   "execution_count": 32,
   "metadata": {},
   "outputs": [
    {
     "name": "stdout",
     "output_type": "stream",
     "text": [
      "La tabal de diferencias encontradas es:\n"
     ]
    },
    {
     "data": {
      "text/html": [
       "<pre style=\"white-space:pre;overflow-x:auto;line-height:normal;font-family:Menlo,'DejaVu Sans Mono',consolas,'Courier New',monospace\">┏━━━━━━━┳━━━━━━━━━┳━━━━━━━━━━━┳━━━━━━━━━━━┳━━━━━━━━━━━┳━━━━━━━━━━━┳━━━━━━━━━━━┳━━━━━━━━━━━┳━━━━━━━━━━━┳━━━━━━━━━━━┓\n",
       "┃<span style=\"font-weight: bold\"> Fz    </span>┃<span style=\"font-weight: bold\"> 1as dif </span>┃<span style=\"font-weight: bold\"> 2as dif   </span>┃<span style=\"font-weight: bold\"> 3as dif   </span>┃<span style=\"font-weight: bold\"> 4as dif   </span>┃<span style=\"font-weight: bold\"> 5as dif   </span>┃<span style=\"font-weight: bold\"> 6as dif   </span>┃<span style=\"font-weight: bold\"> 7as dif   </span>┃<span style=\"font-weight: bold\"> 8as dif   </span>┃<span style=\"font-weight: bold\"> 9as dif   </span>┃\n",
       "┡━━━━━━━╇━━━━━━━━━╇━━━━━━━━━━━╇━━━━━━━━━━━╇━━━━━━━━━━━╇━━━━━━━━━━━╇━━━━━━━━━━━╇━━━━━━━━━━━╇━━━━━━━━━━━╇━━━━━━━━━━━┩\n",
       "│ 0.0   │ 0.0     │ 0.0       │ 0.0       │ 0.0       │ 0.0       │ 0.0       │ 0.0       │ 0.0       │ 0.0       │\n",
       "│       │         │           │           │           │           │           │           │           │           │\n",
       "│ 0.0   │ 75.0    │ 0.0       │ 0.0       │ 0.0       │ 0.0       │ 0.0       │ 0.0       │ 0.0       │ 0.0       │\n",
       "│       │         │           │           │           │           │           │           │           │           │\n",
       "│ 225.0 │ 75.0    │ 0.0       │ 0.0       │ 0.0       │ 0.0       │ 0.0       │ 0.0       │ 0.0       │ 0.0       │\n",
       "│       │         │           │           │           │           │           │           │           │           │\n",
       "│ 225.0 │ 77.0    │ 0.6666666 │ 0.2222222 │ 0.0       │ 0.0       │ 0.0       │ 0.0       │ 0.0       │ 0.0       │\n",
       "│       │         │ 86534882  │ 23877907  │           │           │           │           │           │           │\n",
       "│       │         │           │           │           │           │           │           │           │           │\n",
       "│ 383.0 │ 79.0    │ 1.0       │ 0.0666666 │ -0.031111 │ 0.0       │ 0.0       │ 0.0       │ 0.0       │ 0.0       │\n",
       "│       │         │           │ 62693024  │ 111864448 │           │           │           │           │           │\n",
       "│       │         │           │           │           │           │           │           │           │           │\n",
       "│ 383.0 │ 80.0    │ 0.5       │ -0.25     │ -0.063333 │ -0.006444 │ 0.0       │ 0.0       │ 0.0       │ 0.0       │\n",
       "│       │         │           │           │ 332538605 │ 443948567 │           │           │           │           │\n",
       "│       │         │           │           │           │           │           │           │           │           │\n",
       "│ 623.0 │ 80.0    │ 0.0       │ -0.100000 │ 0.0300000 │ 0.0116666 │ 0.0022638 │ 0.0       │ 0.0       │ 0.0       │\n",
       "│       │         │           │ 001490116 │ 01192093  │ 66716337  │ 88716698  │           │           │           │\n",
       "│       │         │           │           │           │           │           │           │           │           │\n",
       "│ 623.0 │ 74.0    │ -2.0      │ -0.666666 │ -0.113333 │ -0.028666 │ -0.005041 │ -0.000913 │ 0.0       │ 0.0       │\n",
       "│       │         │           │ 686534882 │ 329558372 │ 665777564 │ 666328907 │ 194380701 │           │           │\n",
       "│       │         │           │           │           │           │           │           │           │           │\n",
       "│ 993.0 │ 74.0    │ 0.0       │ 0.25      │ 0.1145833 │ 0.0227916 │ 0.0051458 │ 0.0007836 │ 0.0001305 │ 0.0       │\n",
       "│       │         │           │           │ 3581686   │ 65047407  │ 32896233  │ 53813414  │ 26779685  │           │\n",
       "│       │         │           │           │           │           │           │           │           │           │\n",
       "│ 993.0 │ 72.0    │ -0.400000 │ -0.079999 │ -0.041249 │ -0.019479 │ -0.004227 │ -0.000937 │ -0.000132 │ -2.022362 │\n",
       "│       │         │ 005960464 │ 998211861 │ 997913837 │ 166716337 │ 083176374 │ 291595619 │ 380417199 │ 969e-05   │\n",
       "│       │         │           │           │           │           │           │           │           │           │\n",
       "└───────┴─────────┴───────────┴───────────┴───────────┴───────────┴───────────┴───────────┴───────────┴───────────┘\n",
       "</pre>\n"
      ],
      "text/plain": [
       "┏━━━━━━━┳━━━━━━━━━┳━━━━━━━━━━━┳━━━━━━━━━━━┳━━━━━━━━━━━┳━━━━━━━━━━━┳━━━━━━━━━━━┳━━━━━━━━━━━┳━━━━━━━━━━━┳━━━━━━━━━━━┓\n",
       "┃\u001b[1m \u001b[0m\u001b[1mFz   \u001b[0m\u001b[1m \u001b[0m┃\u001b[1m \u001b[0m\u001b[1m1as dif\u001b[0m\u001b[1m \u001b[0m┃\u001b[1m \u001b[0m\u001b[1m2as dif  \u001b[0m\u001b[1m \u001b[0m┃\u001b[1m \u001b[0m\u001b[1m3as dif  \u001b[0m\u001b[1m \u001b[0m┃\u001b[1m \u001b[0m\u001b[1m4as dif  \u001b[0m\u001b[1m \u001b[0m┃\u001b[1m \u001b[0m\u001b[1m5as dif  \u001b[0m\u001b[1m \u001b[0m┃\u001b[1m \u001b[0m\u001b[1m6as dif  \u001b[0m\u001b[1m \u001b[0m┃\u001b[1m \u001b[0m\u001b[1m7as dif  \u001b[0m\u001b[1m \u001b[0m┃\u001b[1m \u001b[0m\u001b[1m8as dif  \u001b[0m\u001b[1m \u001b[0m┃\u001b[1m \u001b[0m\u001b[1m9as dif  \u001b[0m\u001b[1m \u001b[0m┃\n",
       "┡━━━━━━━╇━━━━━━━━━╇━━━━━━━━━━━╇━━━━━━━━━━━╇━━━━━━━━━━━╇━━━━━━━━━━━╇━━━━━━━━━━━╇━━━━━━━━━━━╇━━━━━━━━━━━╇━━━━━━━━━━━┩\n",
       "│ 0.0   │ 0.0     │ 0.0       │ 0.0       │ 0.0       │ 0.0       │ 0.0       │ 0.0       │ 0.0       │ 0.0       │\n",
       "│       │         │           │           │           │           │           │           │           │           │\n",
       "│ 0.0   │ 75.0    │ 0.0       │ 0.0       │ 0.0       │ 0.0       │ 0.0       │ 0.0       │ 0.0       │ 0.0       │\n",
       "│       │         │           │           │           │           │           │           │           │           │\n",
       "│ 225.0 │ 75.0    │ 0.0       │ 0.0       │ 0.0       │ 0.0       │ 0.0       │ 0.0       │ 0.0       │ 0.0       │\n",
       "│       │         │           │           │           │           │           │           │           │           │\n",
       "│ 225.0 │ 77.0    │ 0.6666666 │ 0.2222222 │ 0.0       │ 0.0       │ 0.0       │ 0.0       │ 0.0       │ 0.0       │\n",
       "│       │         │ 86534882  │ 23877907  │           │           │           │           │           │           │\n",
       "│       │         │           │           │           │           │           │           │           │           │\n",
       "│ 383.0 │ 79.0    │ 1.0       │ 0.0666666 │ -0.031111 │ 0.0       │ 0.0       │ 0.0       │ 0.0       │ 0.0       │\n",
       "│       │         │           │ 62693024  │ 111864448 │           │           │           │           │           │\n",
       "│       │         │           │           │           │           │           │           │           │           │\n",
       "│ 383.0 │ 80.0    │ 0.5       │ -0.25     │ -0.063333 │ -0.006444 │ 0.0       │ 0.0       │ 0.0       │ 0.0       │\n",
       "│       │         │           │           │ 332538605 │ 443948567 │           │           │           │           │\n",
       "│       │         │           │           │           │           │           │           │           │           │\n",
       "│ 623.0 │ 80.0    │ 0.0       │ -0.100000 │ 0.0300000 │ 0.0116666 │ 0.0022638 │ 0.0       │ 0.0       │ 0.0       │\n",
       "│       │         │           │ 001490116 │ 01192093  │ 66716337  │ 88716698  │           │           │           │\n",
       "│       │         │           │           │           │           │           │           │           │           │\n",
       "│ 623.0 │ 74.0    │ -2.0      │ -0.666666 │ -0.113333 │ -0.028666 │ -0.005041 │ -0.000913 │ 0.0       │ 0.0       │\n",
       "│       │         │           │ 686534882 │ 329558372 │ 665777564 │ 666328907 │ 194380701 │           │           │\n",
       "│       │         │           │           │           │           │           │           │           │           │\n",
       "│ 993.0 │ 74.0    │ 0.0       │ 0.25      │ 0.1145833 │ 0.0227916 │ 0.0051458 │ 0.0007836 │ 0.0001305 │ 0.0       │\n",
       "│       │         │           │           │ 3581686   │ 65047407  │ 32896233  │ 53813414  │ 26779685  │           │\n",
       "│       │         │           │           │           │           │           │           │           │           │\n",
       "│ 993.0 │ 72.0    │ -0.400000 │ -0.079999 │ -0.041249 │ -0.019479 │ -0.004227 │ -0.000937 │ -0.000132 │ -2.022362 │\n",
       "│       │         │ 005960464 │ 998211861 │ 997913837 │ 166716337 │ 083176374 │ 291595619 │ 380417199 │ 969e-05   │\n",
       "│       │         │           │           │           │           │           │           │           │           │\n",
       "└───────┴─────────┴───────────┴───────────┴───────────┴───────────┴───────────┴───────────┴───────────┴───────────┘\n"
      ]
     },
     "metadata": {},
     "output_type": "display_data"
    },
    {
     "name": "stdout",
     "output_type": "stream",
     "text": [
      "El polinomio polinomio encontrado es:\n"
     ]
    },
    {
     "data": {
      "text/latex": [
       "$\\displaystyle 0.000130527 x^{2} \\left(x - 8\\right)^{2} \\left(x - 5\\right)^{2} \\left(x - 3\\right)^{2} - 0.000913194 x^{2} \\left(x - 8\\right) \\left(x - 5\\right)^{2} \\left(x - 3\\right)^{2} + 0.002263889 x^{2} \\left(x - 5\\right)^{2} \\left(x - 3\\right)^{2} - 0.006444444 x^{2} \\left(x - 5\\right) \\left(x - 3\\right)^{2} - 0.031111112 x^{2} \\left(x - 3\\right)^{2} + 0.222222224 x^{2} \\left(x - 3\\right) + 75.0 x$"
      ],
      "text/plain": [
       "             2        2        2        2                2                2   \n",
       "0.000130527⋅x ⋅(x - 8) ⋅(x - 5) ⋅(x - 3)  - 0.000913194⋅x ⋅(x - 8)⋅(x - 5) ⋅(x\n",
       "\n",
       "     2                2        2        2                2                2   \n",
       " - 3)  + 0.002263889⋅x ⋅(x - 5) ⋅(x - 3)  - 0.006444444⋅x ⋅(x - 5)⋅(x - 3)  - \n",
       "\n",
       "             2        2                2                 \n",
       "0.031111112⋅x ⋅(x - 3)  + 0.222222224⋅x ⋅(x - 3) + 75.0⋅x"
      ]
     },
     "metadata": {},
     "output_type": "display_data"
    },
    {
     "name": "stdout",
     "output_type": "stream",
     "text": [
      "\n",
      "\n",
      "El valor aproximado del polinomia evaluado en 7.68 es: 598.680045785094\n"
     ]
    }
   ],
   "source": [
    "# Ejemplo de los  vídeo de la clase para hermite\n",
    "# https://www.youtube.com/watch?v=eMwbT0RRxl4&list=PLtqGwSACq5Q3QQhSc0Thb7_dL9GC__YP-&index=2\n",
    "# https://www.youtube.com/watch?v=efUgI2jcmyI&list=PLtqGwSACq5Q3QQhSc0Thb7_dL9GC__YP-&index=2\n",
    "\n",
    "from sympy import Number, init_printing, pretty_print\n",
    "\n",
    "from metodos_interpolacion import hermite\n",
    "from utils import imprimir_tabla\n",
    "\n",
    "init_printing(use_latex='mathjax')\n",
    "\n",
    "# el resultado re   torna una tupla con tres elementos: la matriz, el polinomio\n",
    "# y el valor aproximado.\n",
    "resultado = hermite(\n",
    "    datos_x=[0, 3, 5, 8, 13],\n",
    "    datos_y=[0, 225, 383, 623, 993],\n",
    "    datos_y_prima=[75, 77, 80, 74, 72],\n",
    "    valor_a_aproximar=7.68,\n",
    ")\n",
    "\n",
    "matriz = resultado[0]\n",
    "polinomio = resultado[1]\n",
    "valor_aproximado = resultado[2]\n",
    "\n",
    "lista_para_tabular = [\n",
    "    [\n",
    "        \"Fz\",\n",
    "        \"1as dif\",\n",
    "        \"2as dif\",\n",
    "        \"3as dif\",\n",
    "        \"4as dif\",\n",
    "        \"5as dif\",\n",
    "        \"6as dif\",\n",
    "        \"7as dif\",\n",
    "        \"8as dif\",\n",
    "        \"9as dif\",\n",
    "    ]\n",
    "]\n",
    "\n",
    "for fila in matriz:\n",
    "    nueva_fila = []\n",
    "    for celda in fila:\n",
    "        nueva_fila.append(str(round(float(celda), 15)) + \"\\n\")\n",
    "    lista_para_tabular.append(nueva_fila)\n",
    "\n",
    "print(\"La tabal de diferencias encontradas es:\")\n",
    "imprimir_tabla(lista_para_tabular)\n",
    "\n",
    "polinomio = polinomio.xreplace({n: round(n, 9) for n in polinomio.atoms(Number)})\n",
    "print(\"El polinomio polinomio encontrado es:\")\n",
    "display(polinomio)\n",
    "print(\"\\n\")\n",
    "print(\"El valor aproximado del polinomia evaluado en 7.68 es: \", end=\"\")\n",
    "pretty_print(valor_aproximado)\n"
   ]
  }
 ],
 "metadata": {
  "kernelspec": {
   "display_name": "venv",
   "language": "python",
   "name": "python3"
  },
  "language_info": {
   "codemirror_mode": {
    "name": "ipython",
    "version": 3
   },
   "file_extension": ".py",
   "mimetype": "text/x-python",
   "name": "python",
   "nbconvert_exporter": "python",
   "pygments_lexer": "ipython3",
   "version": "3.10.12"
  }
 },
 "nbformat": 4,
 "nbformat_minor": 2
}
