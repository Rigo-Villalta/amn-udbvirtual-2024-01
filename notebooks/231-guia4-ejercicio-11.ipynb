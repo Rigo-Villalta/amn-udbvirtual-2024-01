{
 "cells": [
  {
   "cell_type": "markdown",
   "metadata": {},
   "source": [
    "11. Obtenga la solución aproximada para la ecuación diferencial:\n",
    "\n",
    "$$ y' + y sec(t) = sec(t), \\ \\ \\ 0 \\leq t \\leq \\frac{2}{15}, \\ \\ \\ y(0)=4, \\ \\ \\ h = \\frac{1}{60} $$\n",
    "\n",
    "Usando el método de Runge-Kutta-Fehlberg de quinto orden.\n",
    "\n",
    "### Solución\n",
    "\n",
    "Despejamos la ecuación y tenemos:\n",
    "\n",
    "$$ \\frac{dy}{dt} = sec(t) - y sec(t) $$\n",
    "\n",
    "Con esto pasamos a resolver en Python"
   ]
  },
  {
   "cell_type": "code",
   "execution_count": 5,
   "metadata": {},
   "outputs": [
    {
     "data": {
      "text/plain": [
       "[0.0,\n",
       " 0.016666666666666666,\n",
       " 0.03333333333333333,\n",
       " 0.05,\n",
       " 0.06666666666666667,\n",
       " 0.08333333333333333,\n",
       " 0.1,\n",
       " 0.11666666666666667,\n",
       " 0.13333333333333333]"
      ]
     },
     "execution_count": 5,
     "metadata": {},
     "output_type": "execute_result"
    }
   ],
   "source": [
    "from sympy import *\n",
    "from numpy import arange\n",
    "\n",
    "fy = symbols(\"fy\", cls=Function)\n",
    "t, y = symbols(\"t y\")\n",
    "\n",
    "h = 1/60\n",
    "\n",
    "eq = Eq(fy(t).diff(), sec(t) - fy(t) * sec(t))\n",
    "f = sec(t) - y*sec(t)\n",
    "\n",
    "# Intervalo de T\n",
    "# Hago redondeo por como trabaja flotantes Python\n",
    "T = [t for t in arange(start=0,stop=2/15 + h/2, step=h)]\n",
    "T"
   ]
  },
  {
   "cell_type": "code",
   "execution_count": 7,
   "metadata": {},
   "outputs": [
    {
     "data": {
      "text/plain": [
       "[4,\n",
       " 3.950412084753165,\n",
       " 3.9016303851147334,\n",
       " 3.853628785098278,\n",
       " 3.8063822107044207,\n",
       " 3.759866577098809,\n",
       " 3.7140587389440762,\n",
       " 3.668936443667557,\n",
       " 3.624478287463579]"
      ]
     },
     "execution_count": 7,
     "metadata": {},
     "output_type": "execute_result"
    }
   ],
   "source": [
    "# Declaro la lista con y(0) = 4\n",
    "\n",
    "\n",
    "Y = [4]\n",
    "K1 = [0]\n",
    "K2 = [0]\n",
    "K3 = [0]\n",
    "K4 = [0]\n",
    "K5 = [0]\n",
    "K6 = [0]\n",
    "\n",
    "# Hago un for para aplicar la fórmula\n",
    "for i in range(1, len(T)):\n",
    "    k1 = f.subs({t: T[i-1], y: Y[i-1]})\n",
    "    k2 = f.subs({t: T[i-1] + 0.25*h, y: Y[i-1] + 0.25*h*k1})\n",
    "    k3 = f.subs({t: T[i-1] + (3/8)*h, y: Y[i-1] + (3/32)*h*k1 + (9/32)*h*k2})\n",
    "    k4 = f.subs({t: T[i-1] + (12/13)*h, y: Y[i-1] + (1932/2197)*h*k1 - (7200/2197)*h*k2 + (7296/2197)*h*k3})\n",
    "    k5 = f.subs({t: T[i-1] + h, y: Y[i-1] + (439/216)*h*k1 - 8*h*k2 + (3680/513)*h*k3 - (845/4104)*h*k4})\n",
    "    k6 = f.subs({t: T[i-1] + 0.5*h, y: Y[i-1] - (8/27)*h*k1 + 2*h*k2 - (3544/2565)*h*k3 + (1859/4104)*h*k4 - (11/40)*h*k5})\n",
    "    K1.append(k1)\n",
    "    K2.append(k2)\n",
    "    K3.append(k3)\n",
    "    K4.append(k4)\n",
    "    K5.append(k5)\n",
    "    K6.append(k6)\n",
    "    Y.append(float(Y[i-1] + h*((16/135)*k1 + (6656/12825)*k3 + (28561/56430)*k4 - (9/50)*k5 + (2/55)*k6)))\n",
    "\n",
    "Y"
   ]
  },
  {
   "cell_type": "code",
   "execution_count": 9,
   "metadata": {},
   "outputs": [
    {
     "data": {
      "text/plain": [
       "array([4.        , 3.95041205, 3.90163033, 3.85362876, 3.80638223,\n",
       "       3.75986661, 3.71405875, 3.66893645, 3.62447829])"
      ]
     },
     "execution_count": 9,
     "metadata": {},
     "output_type": "execute_result"
    }
   ],
   "source": [
    "# Verifico la solución con scipy\n",
    "from scipy.integrate import solve_ivp\n",
    "\n",
    "def funcionEq(t, y): \n",
    "    return sec(t) - y*sec(t)\n",
    "\n",
    "solucion = solve_ivp(funcionEq, (0,2/15), [4], t_eval=T)\n",
    "solucion_exacta = []\n",
    "for i in solucion.y[0]:\n",
    "    solucion_exacta.append(float(i))\n",
    "solucion.y[0]"
   ]
  }
 ],
 "metadata": {
  "kernelspec": {
   "display_name": "venv",
   "language": "python",
   "name": "python3"
  },
  "language_info": {
   "codemirror_mode": {
    "name": "ipython",
    "version": 3
   },
   "file_extension": ".py",
   "mimetype": "text/x-python",
   "name": "python",
   "nbconvert_exporter": "python",
   "pygments_lexer": "ipython3",
   "version": "3.10.12"
  }
 },
 "nbformat": 4,
 "nbformat_minor": 2
}
