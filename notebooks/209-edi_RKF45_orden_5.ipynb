{
 "cells": [
  {
   "cell_type": "code",
   "execution_count": 2,
   "metadata": {},
   "outputs": [
    {
     "data": {
      "text/plain": [
       "[0.0, 0.025, 0.05, 0.075, 0.1, 0.125, 0.15]"
      ]
     },
     "execution_count": 2,
     "metadata": {},
     "output_type": "execute_result"
    }
   ],
   "source": [
    "from sympy import *\n",
    "import numpy\n",
    "\n",
    "fy = symbols(\"fy\", cls=Function)\n",
    "t, y = symbols(\"t y\")\n",
    "\n",
    "h = 1/40\n",
    "\n",
    "eq = Eq(fy(t).diff(), t * sec(sec(t)) + fy(t) * tan(tan(t)))\n",
    "f = t * sec(sec(t)) + y * tan(tan(t))\n",
    "\n",
    "# creamos nuestro intervalo\n",
    "T = [round(t,3) for t in numpy.arange(start=0, stop=(3/20) + h/2, step=h)]\n",
    "T"
   ]
  },
  {
   "cell_type": "code",
   "execution_count": 3,
   "metadata": {},
   "outputs": [
    {
     "data": {
      "text/plain": [
       "[4,\n",
       " 4.001829067085394,\n",
       " 4.007324530235251,\n",
       " 4.016511294110233,\n",
       " 4.029431266671945,\n",
       " 4.046143972137446,\n",
       " 4.066727435121679]"
      ]
     },
     "execution_count": 3,
     "metadata": {},
     "output_type": "execute_result"
    }
   ],
   "source": [
    "# Declaro la lista con y(pi) = sqrt(pi)\n",
    "\n",
    "\n",
    "Y = [sqrt(pi)]\n",
    "K1 = [0]\n",
    "K2 = [0]\n",
    "K3 = [0]\n",
    "K4 = [0]\n",
    "K5 = [0]\n",
    "K6 = [0]\n",
    "\n",
    "# Hago un for para aplicar la fórmula\n",
    "for i in range(1, len(T)):\n",
    "    k1 = f.subs({t: T[i-1], y: Y[i-1]})\n",
    "    k2 = f.subs({t: T[i-1] + 0.25*h, y: Y[i-1] + 0.25*h*k1})\n",
    "    k3 = f.subs({t: T[i-1] + (3/8)*h, y: Y[i-1] + (3/32)*h*k1 + (9/32)*h*k2})\n",
    "    k4 = f.subs({t: T[i-1] + (12/13)*h, y: Y[i-1] + (1932/2197)*h*k1 - (7200/2197)*h*k2 + (7296/2197)*h*k3})\n",
    "    k5 = f.subs({t: T[i-1] + h, y: Y[i-1] + (439/216)*h*k1 - 8*h*k2 + (3680/513)*h*k3 - (845/4104)*h*k4})\n",
    "    k6 = f.subs({t: T[i-1] + 0.5*h, y: Y[i-1] - (8/27)*h*k1 + 2*h*k2 - (3544/2565)*h*k3 + (1859/4104)*h*k4 - (11/40)*h*k5})\n",
    "    K1.append(k1)\n",
    "    K2.append(k2)\n",
    "    K3.append(k3)\n",
    "    K4.append(k4)\n",
    "    K5.append(k5)\n",
    "    K6.append(k6)\n",
    "    Y.append(float(Y[i-1] + h*((16/135)*k1 + (6656/12825)*k3 + (28561/56430)*k4 - (9/50)*k5 + (2/55)*k6)))\n",
    "\n",
    "Y"
   ]
  }
 ],
 "metadata": {
  "kernelspec": {
   "display_name": "venv",
   "language": "python",
   "name": "python3"
  },
  "language_info": {
   "codemirror_mode": {
    "name": "ipython",
    "version": 3
   },
   "file_extension": ".py",
   "mimetype": "text/x-python",
   "name": "python",
   "nbconvert_exporter": "python",
   "pygments_lexer": "ipython3",
   "version": "3.10.12"
  }
 },
 "nbformat": 4,
 "nbformat_minor": 2
}
