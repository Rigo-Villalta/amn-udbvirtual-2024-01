{
 "cells": [
  {
   "cell_type": "markdown",
   "metadata": {
    "vscode": {
     "languageId": "plaintext"
    }
   },
   "source": [
    "### Regla compuesta del trapecio\n",
    "\n",
    "El objetivo de la integración numérica compuesta es mejorar la precición del cálculo de una integral definida. Para un ejercicio de esta naturaleza necesitamos:\n",
    "\n",
    "- Tener nuestra función de forma simbólica\n",
    "- Tener la integral definida planteada\n",
    "- Tener un \"n\"\n",
    "- Aplicar la fórmula del trapecio\n"
   ]
  },
  {
   "cell_type": "code",
   "execution_count": 2,
   "metadata": {},
   "outputs": [],
   "source": [
    "# Fórmula compuesta del trapecio planteada en Python \n",
    "\n",
    "# Defino una función compuesta del trapecio que me tendría que servir para todos\n",
    "# los \"n\" basado en la deducción del vídeo: https://youtu.be/O24rjUMTCao?si=E3dvTSJPNBlvoxyQ\n",
    "\n",
    "def regla_compuesta_del_trapecio(f, a, b, n):\n",
    "    # Defino mi h dentro de la función\n",
    "    h = (b-a) / n\n",
    "    # La suma interna es el factor de la fórmula, la inicio con f(x_0)\n",
    "    suma_interna = f.subs(x, a)\n",
    "    # Aquí hago la sumatoria desde f(x_1) hasta f(x_(n-1)) \n",
    "    for i in range(1, n):\n",
    "        suma_interna += 2 * f.subs(x, a + i*h)\n",
    "    # Sumo f(x_n)\n",
    "    suma_interna += f.subs(x, b)\n",
    "    return (h/2) * suma_interna"
   ]
  },
  {
   "cell_type": "markdown",
   "metadata": {},
   "source": [
    "Para probar la función planteada utilizamos el ejercicio planteado en: https://youtu.be/e3R3eg2CBg4?si=Qos32sP5icUdx10B , pero por el momento solo utilizo la fórmula que se da para probar la función definida.\n",
    "\n",
    "El ejercicio se plantea en términos de \"y\", pero yo ocuparé x para utilizar mi función. Los resulatdos han sido practicamente los mismos."
   ]
  },
  {
   "cell_type": "code",
   "execution_count": 3,
   "metadata": {},
   "outputs": [
    {
     "name": "stdout",
     "output_type": "stream",
     "text": [
      "el valor exacto de integración es:  3500.0\n",
      "El valor aproximado es: 3420.61390713749\n"
     ]
    }
   ],
   "source": [
    "from sympy import *\n",
    "\n",
    "x = symbols(\"x\", real=True)\n",
    "\n",
    "f = 84 * ( 5-x) * abs(sqrt(25 - (x-5)**2))\n",
    "\n",
    "a=0\n",
    "b=5\n",
    "n=12\n",
    "\n",
    "valor_exacto = float(integrate(f, (x, a, b)))\n",
    "print(\"el valor exacto de integración es: \", valor_exacto)\n",
    "\n",
    "valor_aproximado = regla_compuesta_del_trapecio(f=f, a=a, b=b, n=n)\n",
    "print(\"El valor aproximado es:\", valor_aproximado)"
   ]
  },
  {
   "cell_type": "markdown",
   "metadata": {},
   "source": [
    "### Regla compuesta de Simpsons\n",
    "\n"
   ]
  },
  {
   "cell_type": "code",
   "execution_count": 4,
   "metadata": {},
   "outputs": [],
   "source": [
    "# \"n\" debe ser par\n",
    "\n",
    "def regla_compuesta_del_simpsons(f, a, b, n):\n",
    "    # Defino mi h dentro de la función\n",
    "    h = (b-a) / n\n",
    "    # La suma interna es el factor de la fórmula, la inicio con f(x_0)\n",
    "    suma_interna = f.subs(x, a)\n",
    "    # Aquí hago las sumatorias desde f(x_1) hasta f(x_(n-1)) y hasta f(x_(n-2))\n",
    "    # No es necesario el n-2 si n es par así que hago un solo for\n",
    "    # Recordando que en Python los índices son iguales que en la fórmula\n",
    "    for i in range(1, n):\n",
    "        if i%2 == 0:\n",
    "            suma_interna += 2 * f.subs(x, a + i*h)\n",
    "        else:\n",
    "            suma_interna += 4 * f.subs(x, a + i*h)\n",
    "    # Sumo f(x_n)\n",
    "    suma_interna += f.subs(x, b)\n",
    "    return (h/3) * suma_interna\n"
   ]
  },
  {
   "cell_type": "markdown",
   "metadata": {},
   "source": [
    "Usualmente hay que deducir la integral, pero vamos a tomar el ejemplo del vídeo de: https://youtu.be/py6_im1UGAs?si=ESI37gYR1aWFFeD5"
   ]
  },
  {
   "cell_type": "code",
   "execution_count": 12,
   "metadata": {},
   "outputs": [
    {
     "name": "stdout",
     "output_type": "stream",
     "text": [
      "El resultado exacto es: 4706502.735577661\n",
      "El resultado aproximado es: 4689901.64494285\n",
      "El error absoluto es: 16601.09063481074\n",
      "El error relativo es aproximandamente del: 0.3527%\n"
     ]
    }
   ],
   "source": [
    "g = 62.4 * 80 * sqrt(225 - (x-15)**2) * (15 - x)\n",
    "\n",
    "a = 0\n",
    "b= 10\n",
    "n=16\n",
    "\n",
    "resultado_aproximado = float(regla_compuesta_del_simpsons(f=g, a=a, b=b, n=n))\n",
    "\n",
    "resultado_exacto = float(integrate(g, (x, a, b)))\n",
    "\n",
    "print(\"El resultado exacto es:\", resultado_exacto)\n",
    "print(\"El resultado aproximado es:\", resultado_aproximado)\n",
    "\n",
    "error = abs(resultado_aproximado - resultado_exacto)\n",
    "print(\"El error absoluto es:\", error)\n",
    "\n",
    "error_relativo = round((error / resultado_exacto) * 100,4)\n",
    "print(f\"El error relativo es aproximandamente del: {error_relativo}%\", )"
   ]
  }
 ],
 "metadata": {
  "kernelspec": {
   "display_name": "venv",
   "language": "python",
   "name": "python3"
  },
  "language_info": {
   "codemirror_mode": {
    "name": "ipython",
    "version": 3
   },
   "file_extension": ".py",
   "mimetype": "text/x-python",
   "name": "python",
   "nbconvert_exporter": "python",
   "pygments_lexer": "ipython3",
   "version": "3.10.12"
  }
 },
 "nbformat": 4,
 "nbformat_minor": 2
}
