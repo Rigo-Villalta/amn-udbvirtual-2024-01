{
 "cells": [
  {
   "cell_type": "markdown",
   "metadata": {},
   "source": [
    "Es este notebook trato de resolver todos las preguntas de retroalimentación de la unidad 1."
   ]
  },
  {
   "cell_type": "markdown",
   "metadata": {},
   "source": [
    "3- Una carga total Q se encuentra distribuida en forma uniforme alrededor de un conductor en forma de anillo con radio a. Una carga q se localiza a una distancia x del centro del anillo. La fuerza que el anillo ejerce sobre la carga está dada por la ecuación: \n",
    "\n",
    "$$ F= \\frac{1}{4 \\pi e_0} \\frac{qQx}{(x^2 + a^2)^{3/2}} $$\n",
    "\n",
    "donde:\n",
    "\n",
    "$$ e_0 = 8.85 * 10^{-12} C^2 / (N m^2)  $$\n",
    "\n",
    "Encuentre la distancia x donde la fuerza es de 1.25 N, si q y Q son 2 × 10−5 C para un anillo con un radio de 0.9 m. Emplee el método de Newton con una precisión de 10−12. Emplee 15 decimales.\n",
    "\n",
    "Primero reescribo la ecuación con los datos:\n",
    "\n",
    "$$ 12.5 = \\frac{1}{4 * \\pi * (8.85 * 10^{-12})} \\frac{(2 * 10{-5})(2 * 10{-5}) x}{(x^2 + 0.9^2)^{3/2}} $$\n",
    "\n",
    "Igualamos la ecuación a cero:\n",
    "\n",
    "$$ 0 = \\frac{1}{4 \\pi 8.85 * 10^{-12}} \\frac{(2 * 10{-5})(2 * 10{-5}) x}{(x^2 + 0.9^2)^{3/2}} - 12.5 $$\n",
    "\n",
    "Graficando en geogebra tengo que la raíz de la función está muy cerca de 120: [Ver gráfica en geogebra](https://www.geogebra.org/graphing/hhcswbwq)\n",
    "\n",
    "con estos datos paso a hacer la función en Python"
   ]
  },
  {
   "cell_type": "code",
   "execution_count": 15,
   "metadata": {},
   "outputs": [
    {
     "ename": "ZeroDivisionError",
     "evalue": "float division by zero",
     "output_type": "error",
     "traceback": [
      "\u001b[0;31m---------------------------------------------------------------------------\u001b[0m",
      "\u001b[0;31mZeroDivisionError\u001b[0m                         Traceback (most recent call last)",
      "Cell \u001b[0;32mIn[15], line 19\u001b[0m\n\u001b[1;32m     15\u001b[0m     denominator \u001b[38;5;241m=\u001b[39m \u001b[38;5;241m251.05933\u001b[39m \u001b[38;5;241m*\u001b[39m (x\u001b[38;5;241m*\u001b[39m\u001b[38;5;241m*\u001b[39m\u001b[38;5;241m2\u001b[39m \u001b[38;5;241m+\u001b[39m \u001b[38;5;241m0.81\u001b[39m)\u001b[38;5;241m*\u001b[39m\u001b[38;5;241m*\u001b[39m(\u001b[38;5;241m5\u001b[39m\u001b[38;5;241m/\u001b[39m\u001b[38;5;241m2\u001b[39m)\n\u001b[1;32m     16\u001b[0m     \u001b[38;5;28;01mreturn\u001b[39;00m numerator \u001b[38;5;241m/\u001b[39m denominator\n\u001b[0;32m---> 19\u001b[0m resultado \u001b[38;5;241m=\u001b[39m \u001b[43mnewton_raphson\u001b[49m\u001b[43m(\u001b[49m\u001b[38;5;241;43m0.5\u001b[39;49m\u001b[43m,\u001b[49m\u001b[43m \u001b[49m\u001b[43mf\u001b[49m\u001b[43m,\u001b[49m\u001b[43m \u001b[49m\u001b[43mfx\u001b[49m\u001b[43m,\u001b[49m\u001b[43m \u001b[49m\u001b[38;5;241;43m10E-12\u001b[39;49m\u001b[43m,\u001b[49m\u001b[43m \u001b[49m\u001b[38;5;241;43m1\u001b[39;49m\u001b[43m,\u001b[49m\u001b[43m \u001b[49m\u001b[43m[\u001b[49m\u001b[43m]\u001b[49m\u001b[43m)\u001b[49m\n\u001b[1;32m     20\u001b[0m imprimir_tabla(resultado)\n",
      "File \u001b[0;32m~/udb/ciclo-2024-01/amn/amn-udbvirtual-2024-01/notebooks/metodos_numericos.py:77\u001b[0m, in \u001b[0;36mnewton_raphson\u001b[0;34m(x0, funcion, derivada, tolerancia, iteracion, resultado)\u001b[0m\n\u001b[1;32m     73\u001b[0m \u001b[38;5;28;01melse\u001b[39;00m:\n\u001b[1;32m     74\u001b[0m     resultado\u001b[38;5;241m.\u001b[39mappend(\n\u001b[1;32m     75\u001b[0m         [\u001b[38;5;28mstr\u001b[39m(iteracion), \u001b[38;5;124mf\u001b[39m\u001b[38;5;124m\"\u001b[39m\u001b[38;5;132;01m{\u001b[39;00mx0\u001b[38;5;132;01m:\u001b[39;00m\u001b[38;5;124m,.15f\u001b[39m\u001b[38;5;132;01m}\u001b[39;00m\u001b[38;5;124m\"\u001b[39m, \u001b[38;5;124mf\u001b[39m\u001b[38;5;124m\"\u001b[39m\u001b[38;5;132;01m{\u001b[39;00mx1\u001b[38;5;132;01m:\u001b[39;00m\u001b[38;5;124m,.15f\u001b[39m\u001b[38;5;132;01m}\u001b[39;00m\u001b[38;5;124m\"\u001b[39m, \u001b[38;5;124mf\u001b[39m\u001b[38;5;124m\"\u001b[39m\u001b[38;5;132;01m{\u001b[39;00merror\u001b[38;5;132;01m:\u001b[39;00m\u001b[38;5;124m,.15f\u001b[39m\u001b[38;5;132;01m}\u001b[39;00m\u001b[38;5;124m\"\u001b[39m]\n\u001b[1;32m     76\u001b[0m     )\n\u001b[0;32m---> 77\u001b[0m     \u001b[38;5;28;01mreturn\u001b[39;00m \u001b[43mnewton_raphson\u001b[49m\u001b[43m(\u001b[49m\n\u001b[1;32m     78\u001b[0m \u001b[43m        \u001b[49m\u001b[43mx0\u001b[49m\u001b[38;5;241;43m=\u001b[39;49m\u001b[43mx1\u001b[49m\u001b[43m,\u001b[49m\n\u001b[1;32m     79\u001b[0m \u001b[43m        \u001b[49m\u001b[43mfuncion\u001b[49m\u001b[38;5;241;43m=\u001b[39;49m\u001b[43mfuncion\u001b[49m\u001b[43m,\u001b[49m\n\u001b[1;32m     80\u001b[0m \u001b[43m        \u001b[49m\u001b[43mderivada\u001b[49m\u001b[38;5;241;43m=\u001b[39;49m\u001b[43mderivada\u001b[49m\u001b[43m,\u001b[49m\n\u001b[1;32m     81\u001b[0m \u001b[43m        \u001b[49m\u001b[43mtolerancia\u001b[49m\u001b[38;5;241;43m=\u001b[39;49m\u001b[43mtolerancia\u001b[49m\u001b[43m,\u001b[49m\n\u001b[1;32m     82\u001b[0m \u001b[43m        \u001b[49m\u001b[43miteracion\u001b[49m\u001b[38;5;241;43m=\u001b[39;49m\u001b[43miteracion\u001b[49m\u001b[43m \u001b[49m\u001b[38;5;241;43m+\u001b[39;49m\u001b[43m \u001b[49m\u001b[38;5;241;43m1\u001b[39;49m\u001b[43m,\u001b[49m\n\u001b[1;32m     83\u001b[0m \u001b[43m        \u001b[49m\u001b[43mresultado\u001b[49m\u001b[38;5;241;43m=\u001b[39;49m\u001b[43mresultado\u001b[49m\u001b[43m,\u001b[49m\n\u001b[1;32m     84\u001b[0m \u001b[43m    \u001b[49m\u001b[43m)\u001b[49m\n",
      "File \u001b[0;32m~/udb/ciclo-2024-01/amn/amn-udbvirtual-2024-01/notebooks/metodos_numericos.py:77\u001b[0m, in \u001b[0;36mnewton_raphson\u001b[0;34m(x0, funcion, derivada, tolerancia, iteracion, resultado)\u001b[0m\n\u001b[1;32m     73\u001b[0m \u001b[38;5;28;01melse\u001b[39;00m:\n\u001b[1;32m     74\u001b[0m     resultado\u001b[38;5;241m.\u001b[39mappend(\n\u001b[1;32m     75\u001b[0m         [\u001b[38;5;28mstr\u001b[39m(iteracion), \u001b[38;5;124mf\u001b[39m\u001b[38;5;124m\"\u001b[39m\u001b[38;5;132;01m{\u001b[39;00mx0\u001b[38;5;132;01m:\u001b[39;00m\u001b[38;5;124m,.15f\u001b[39m\u001b[38;5;132;01m}\u001b[39;00m\u001b[38;5;124m\"\u001b[39m, \u001b[38;5;124mf\u001b[39m\u001b[38;5;124m\"\u001b[39m\u001b[38;5;132;01m{\u001b[39;00mx1\u001b[38;5;132;01m:\u001b[39;00m\u001b[38;5;124m,.15f\u001b[39m\u001b[38;5;132;01m}\u001b[39;00m\u001b[38;5;124m\"\u001b[39m, \u001b[38;5;124mf\u001b[39m\u001b[38;5;124m\"\u001b[39m\u001b[38;5;132;01m{\u001b[39;00merror\u001b[38;5;132;01m:\u001b[39;00m\u001b[38;5;124m,.15f\u001b[39m\u001b[38;5;132;01m}\u001b[39;00m\u001b[38;5;124m\"\u001b[39m]\n\u001b[1;32m     76\u001b[0m     )\n\u001b[0;32m---> 77\u001b[0m     \u001b[38;5;28;01mreturn\u001b[39;00m \u001b[43mnewton_raphson\u001b[49m\u001b[43m(\u001b[49m\n\u001b[1;32m     78\u001b[0m \u001b[43m        \u001b[49m\u001b[43mx0\u001b[49m\u001b[38;5;241;43m=\u001b[39;49m\u001b[43mx1\u001b[49m\u001b[43m,\u001b[49m\n\u001b[1;32m     79\u001b[0m \u001b[43m        \u001b[49m\u001b[43mfuncion\u001b[49m\u001b[38;5;241;43m=\u001b[39;49m\u001b[43mfuncion\u001b[49m\u001b[43m,\u001b[49m\n\u001b[1;32m     80\u001b[0m \u001b[43m        \u001b[49m\u001b[43mderivada\u001b[49m\u001b[38;5;241;43m=\u001b[39;49m\u001b[43mderivada\u001b[49m\u001b[43m,\u001b[49m\n\u001b[1;32m     81\u001b[0m \u001b[43m        \u001b[49m\u001b[43mtolerancia\u001b[49m\u001b[38;5;241;43m=\u001b[39;49m\u001b[43mtolerancia\u001b[49m\u001b[43m,\u001b[49m\n\u001b[1;32m     82\u001b[0m \u001b[43m        \u001b[49m\u001b[43miteracion\u001b[49m\u001b[38;5;241;43m=\u001b[39;49m\u001b[43miteracion\u001b[49m\u001b[43m \u001b[49m\u001b[38;5;241;43m+\u001b[39;49m\u001b[43m \u001b[49m\u001b[38;5;241;43m1\u001b[39;49m\u001b[43m,\u001b[49m\n\u001b[1;32m     83\u001b[0m \u001b[43m        \u001b[49m\u001b[43mresultado\u001b[49m\u001b[38;5;241;43m=\u001b[39;49m\u001b[43mresultado\u001b[49m\u001b[43m,\u001b[49m\n\u001b[1;32m     84\u001b[0m \u001b[43m    \u001b[49m\u001b[43m)\u001b[49m\n",
      "    \u001b[0;31m[... skipping similar frames: newton_raphson at line 77 (20 times)]\u001b[0m\n",
      "File \u001b[0;32m~/udb/ciclo-2024-01/amn/amn-udbvirtual-2024-01/notebooks/metodos_numericos.py:77\u001b[0m, in \u001b[0;36mnewton_raphson\u001b[0;34m(x0, funcion, derivada, tolerancia, iteracion, resultado)\u001b[0m\n\u001b[1;32m     73\u001b[0m \u001b[38;5;28;01melse\u001b[39;00m:\n\u001b[1;32m     74\u001b[0m     resultado\u001b[38;5;241m.\u001b[39mappend(\n\u001b[1;32m     75\u001b[0m         [\u001b[38;5;28mstr\u001b[39m(iteracion), \u001b[38;5;124mf\u001b[39m\u001b[38;5;124m\"\u001b[39m\u001b[38;5;132;01m{\u001b[39;00mx0\u001b[38;5;132;01m:\u001b[39;00m\u001b[38;5;124m,.15f\u001b[39m\u001b[38;5;132;01m}\u001b[39;00m\u001b[38;5;124m\"\u001b[39m, \u001b[38;5;124mf\u001b[39m\u001b[38;5;124m\"\u001b[39m\u001b[38;5;132;01m{\u001b[39;00mx1\u001b[38;5;132;01m:\u001b[39;00m\u001b[38;5;124m,.15f\u001b[39m\u001b[38;5;132;01m}\u001b[39;00m\u001b[38;5;124m\"\u001b[39m, \u001b[38;5;124mf\u001b[39m\u001b[38;5;124m\"\u001b[39m\u001b[38;5;132;01m{\u001b[39;00merror\u001b[38;5;132;01m:\u001b[39;00m\u001b[38;5;124m,.15f\u001b[39m\u001b[38;5;132;01m}\u001b[39;00m\u001b[38;5;124m\"\u001b[39m]\n\u001b[1;32m     76\u001b[0m     )\n\u001b[0;32m---> 77\u001b[0m     \u001b[38;5;28;01mreturn\u001b[39;00m \u001b[43mnewton_raphson\u001b[49m\u001b[43m(\u001b[49m\n\u001b[1;32m     78\u001b[0m \u001b[43m        \u001b[49m\u001b[43mx0\u001b[49m\u001b[38;5;241;43m=\u001b[39;49m\u001b[43mx1\u001b[49m\u001b[43m,\u001b[49m\n\u001b[1;32m     79\u001b[0m \u001b[43m        \u001b[49m\u001b[43mfuncion\u001b[49m\u001b[38;5;241;43m=\u001b[39;49m\u001b[43mfuncion\u001b[49m\u001b[43m,\u001b[49m\n\u001b[1;32m     80\u001b[0m \u001b[43m        \u001b[49m\u001b[43mderivada\u001b[49m\u001b[38;5;241;43m=\u001b[39;49m\u001b[43mderivada\u001b[49m\u001b[43m,\u001b[49m\n\u001b[1;32m     81\u001b[0m \u001b[43m        \u001b[49m\u001b[43mtolerancia\u001b[49m\u001b[38;5;241;43m=\u001b[39;49m\u001b[43mtolerancia\u001b[49m\u001b[43m,\u001b[49m\n\u001b[1;32m     82\u001b[0m \u001b[43m        \u001b[49m\u001b[43miteracion\u001b[49m\u001b[38;5;241;43m=\u001b[39;49m\u001b[43miteracion\u001b[49m\u001b[43m \u001b[49m\u001b[38;5;241;43m+\u001b[39;49m\u001b[43m \u001b[49m\u001b[38;5;241;43m1\u001b[39;49m\u001b[43m,\u001b[49m\n\u001b[1;32m     83\u001b[0m \u001b[43m        \u001b[49m\u001b[43mresultado\u001b[49m\u001b[38;5;241;43m=\u001b[39;49m\u001b[43mresultado\u001b[49m\u001b[43m,\u001b[49m\n\u001b[1;32m     84\u001b[0m \u001b[43m    \u001b[49m\u001b[43m)\u001b[49m\n",
      "File \u001b[0;32m~/udb/ciclo-2024-01/amn/amn-udbvirtual-2024-01/notebooks/metodos_numericos.py:68\u001b[0m, in \u001b[0;36mnewton_raphson\u001b[0;34m(x0, funcion, derivada, tolerancia, iteracion, resultado)\u001b[0m\n\u001b[1;32m     64\u001b[0m     resultado\u001b[38;5;241m.\u001b[39mappend(\n\u001b[1;32m     65\u001b[0m         [\u001b[38;5;28mstr\u001b[39m(iteracion), \u001b[38;5;124mf\u001b[39m\u001b[38;5;124m\"\u001b[39m\u001b[38;5;132;01m{\u001b[39;00mx0\u001b[38;5;132;01m:\u001b[39;00m\u001b[38;5;124m,.15f\u001b[39m\u001b[38;5;132;01m}\u001b[39;00m\u001b[38;5;124m\"\u001b[39m, \u001b[38;5;124m\"\u001b[39m\u001b[38;5;124mMáximas iteraciones\u001b[39m\u001b[38;5;124m\"\u001b[39m, \u001b[38;5;124m\"\u001b[39m\u001b[38;5;124mposibles\u001b[39m\u001b[38;5;124m\"\u001b[39m]\n\u001b[1;32m     66\u001b[0m     )\n\u001b[1;32m     67\u001b[0m     \u001b[38;5;28;01mreturn\u001b[39;00m resultado\n\u001b[0;32m---> 68\u001b[0m x1 \u001b[38;5;241m=\u001b[39m x0 \u001b[38;5;241m-\u001b[39m (\u001b[43mfuncion\u001b[49m\u001b[43m(\u001b[49m\u001b[43mx0\u001b[49m\u001b[43m)\u001b[49m\u001b[43m \u001b[49m\u001b[38;5;241;43m/\u001b[39;49m\u001b[43m \u001b[49m\u001b[43mderivada\u001b[49m\u001b[43m(\u001b[49m\u001b[43mx0\u001b[49m\u001b[43m)\u001b[49m)\n\u001b[1;32m     69\u001b[0m error \u001b[38;5;241m=\u001b[39m \u001b[38;5;28mabs\u001b[39m(x1 \u001b[38;5;241m-\u001b[39m x0)\n\u001b[1;32m     70\u001b[0m \u001b[38;5;28;01mif\u001b[39;00m error \u001b[38;5;241m<\u001b[39m tolerancia:\n",
      "\u001b[0;31mZeroDivisionError\u001b[0m: float division by zero"
     ]
    }
   ],
   "source": [
    "from math import pi\n",
    "\n",
    "from metodos_numericos import newton_raphson\n",
    "from utils import imprimir_tabla\n",
    "\n",
    "def f(x):\n",
    "    return (1 / (4 * pi * 8.85E-12)) * (((2E-5)* (2E-5)* x) / ((x**2 + 0.9**2)**(3/2)))\n",
    "\n",
    "\n",
    "def fx(x):\n",
    "    \"\"\"\n",
    "    derivada de la función\n",
    "    \"\"\"\n",
    "    numerator = -2 * x**2 + 0.81\n",
    "    denominator = 251.05933 * (x**2 + 0.81)**(5/2)\n",
    "    return numerator / denominator\n",
    "\n",
    "\n",
    "resultado = newton_raphson(0.5, f, fx, 10E-12, 1, [])\n",
    "imprimir_tabla(resultado)"
   ]
  },
  {
   "cell_type": "markdown",
   "metadata": {},
   "source": [
    "Por la forma de la gráfica de esta función falla a la hora de encontrar una raíz."
   ]
  },
  {
   "cell_type": "markdown",
   "metadata": {},
   "source": [
    "6) Dado que las dos escaleras se cruzan, y sabemos la altura del punto C, podemos utilizar pitágoras para hacer un par de ecuaciones, en donde por ejemplo, desde el punto c hacia la derecha le llamemos \"y\", y por lo tanto la base desde el punto c hacia la izquierda sería \"x-y\". Con esto en mente tenemos el siguiente congunto de ecuaciones:\n",
    "\n",
    "$$  $$\n",
    "\n",
    "uff se me fue el tiempo.\n"
   ]
  }
 ],
 "metadata": {
  "kernelspec": {
   "display_name": "venv",
   "language": "python",
   "name": "python3"
  },
  "language_info": {
   "codemirror_mode": {
    "name": "ipython",
    "version": 3
   },
   "file_extension": ".py",
   "mimetype": "text/x-python",
   "name": "python",
   "nbconvert_exporter": "python",
   "pygments_lexer": "ipython3",
   "version": "3.10.12"
  }
 },
 "nbformat": 4,
 "nbformat_minor": 2
}
