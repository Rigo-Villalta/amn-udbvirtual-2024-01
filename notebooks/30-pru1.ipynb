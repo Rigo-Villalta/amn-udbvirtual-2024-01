{
 "cells": [
  {
   "cell_type": "markdown",
   "metadata": {},
   "source": [
    "Es este notebook trato de resolver todos las preguntas de retroalimentación de la unidad 1."
   ]
  },
  {
   "cell_type": "markdown",
   "metadata": {},
   "source": [
    "3- Una carga total Q se encuentra distribuida en forma uniforme alrededor de un conductor en forma de anillo con radio a. Una carga q se localiza a una distancia x del centro del anillo. La fuerza que el anillo ejerce sobre la carga está dada por la ecuación: \n",
    "\n",
    "$$ F= \\frac{1}{4 \\pi e_0} \\frac{qQx}{(x^2 + a^2)^{3/2}} $$\n",
    "\n",
    "donde:\n",
    "\n",
    "$$ e_0 = 8.85 * 10^{-12} C^2 / (N m^2)  $$\n",
    "\n",
    "Encuentre la distancia x donde la fuerza es de 1.25 N, si q y Q son 2 × 10−5 C para un anillo con un radio de 0.9 m. Emplee el método de Newton con una precisión de 10−12. Emplee 15 decimales.\n",
    "\n",
    "Primero reescribo la ecuación con los datos:\n",
    "\n",
    "$$ 12.5 = \\frac{1}{4 * \\pi * (8.85 * 10^{-12})} \\frac{(2 * 10{-5})(2 * 10{-5}) x}{(x^2 + 0.9^2)^{3/2}} $$\n",
    "\n",
    "Igualamos la ecuación a cero:\n",
    "\n",
    "$$ 0 = \\frac{1}{4 \\pi 8.85 * 10^{-12}} \\frac{(2 * 10{-5})(2 * 10{-5}) x}{(x^2 + 0.9^2)^{3/2}} - 12.5 $$\n",
    "\n",
    "Graficando en geogebra tengo que la raíz de la función está muy cerca de 120: [Ver gráfica en geogebra](https://www.geogebra.org/graphing/hhcswbwq)\n",
    "\n",
    "con estos datos paso a hacer la función en Python"
   ]
  },
  {
   "cell_type": "code",
   "execution_count": 10,
   "metadata": {},
   "outputs": [
    {
     "data": {
      "text/html": [
       "<pre style=\"white-space:pre;overflow-x:auto;line-height:normal;font-family:Menlo,'DejaVu Sans Mono',consolas,'Courier New',monospace\">┏━━━━━━━━━━━━━━━━┳━━━━━━━━━━━━━━━━━━━━━━┳━━━━━━━━━━━━━━━━━━━━━┳━━━━━━━━━━━━━━━━━━━┳━━━━━━━━━━━━━━━━━━━━━┓\n",
       "┃<span style=\"font-weight: bold\"> # de iteración </span>┃<span style=\"font-weight: bold\"> x0                   </span>┃<span style=\"font-weight: bold\"> x1                  </span>┃<span style=\"font-weight: bold\"> x2                </span>┃<span style=\"font-weight: bold\"> error               </span>┃\n",
       "┡━━━━━━━━━━━━━━━━╇━━━━━━━━━━━━━━━━━━━━━━╇━━━━━━━━━━━━━━━━━━━━━╇━━━━━━━━━━━━━━━━━━━╇━━━━━━━━━━━━━━━━━━━━━┩\n",
       "│ 1              │ -100.000000000000000 │ 100.000000000000000 │ 0.000000000000000 │ 100.000000000000000 │\n",
       "│ 2              │ 100.000000000000000  │ 0.000000000000000   │ 0.000000000000000 │ &lt;-- solución        │\n",
       "└────────────────┴──────────────────────┴─────────────────────┴───────────────────┴─────────────────────┘\n",
       "</pre>\n"
      ],
      "text/plain": [
       "┏━━━━━━━━━━━━━━━━┳━━━━━━━━━━━━━━━━━━━━━━┳━━━━━━━━━━━━━━━━━━━━━┳━━━━━━━━━━━━━━━━━━━┳━━━━━━━━━━━━━━━━━━━━━┓\n",
       "┃\u001b[1m \u001b[0m\u001b[1m# de iteración\u001b[0m\u001b[1m \u001b[0m┃\u001b[1m \u001b[0m\u001b[1mx0                  \u001b[0m\u001b[1m \u001b[0m┃\u001b[1m \u001b[0m\u001b[1mx1                 \u001b[0m\u001b[1m \u001b[0m┃\u001b[1m \u001b[0m\u001b[1mx2               \u001b[0m\u001b[1m \u001b[0m┃\u001b[1m \u001b[0m\u001b[1merror              \u001b[0m\u001b[1m \u001b[0m┃\n",
       "┡━━━━━━━━━━━━━━━━╇━━━━━━━━━━━━━━━━━━━━━━╇━━━━━━━━━━━━━━━━━━━━━╇━━━━━━━━━━━━━━━━━━━╇━━━━━━━━━━━━━━━━━━━━━┩\n",
       "│ 1              │ -100.000000000000000 │ 100.000000000000000 │ 0.000000000000000 │ 100.000000000000000 │\n",
       "│ 2              │ 100.000000000000000  │ 0.000000000000000   │ 0.000000000000000 │ <-- solución        │\n",
       "└────────────────┴──────────────────────┴─────────────────────┴───────────────────┴─────────────────────┘\n"
      ]
     },
     "metadata": {},
     "output_type": "display_data"
    }
   ],
   "source": [
    "from math import pi\n",
    "\n",
    "from metodos_numericos import metodo_de_secante\n",
    "from utils import imprimir_tabla\n",
    "\n",
    "def f(x):\n",
    "    return (1 / (4 * pi * 8.85E-12)) * (((2E-5)* (2E-5)* x) / ((x**2 + 0.9**2)**(3/2)))\n",
    "\n",
    "\n",
    "resultado = metodo_de_secante(-100,100, f, 10E-12, 1, [])\n",
    "imprimir_tabla(resultado)"
   ]
  },
  {
   "cell_type": "markdown",
   "metadata": {},
   "source": [
    "Por la forma de la gráfica de esta función falla a la hora de encontrar una raíz."
   ]
  }
 ],
 "metadata": {
  "kernelspec": {
   "display_name": "venv",
   "language": "python",
   "name": "python3"
  },
  "language_info": {
   "codemirror_mode": {
    "name": "ipython",
    "version": 3
   },
   "file_extension": ".py",
   "mimetype": "text/x-python",
   "name": "python",
   "nbconvert_exporter": "python",
   "pygments_lexer": "ipython3",
   "version": "3.10.12"
  }
 },
 "nbformat": 4,
 "nbformat_minor": 2
}
