{
 "cells": [
  {
   "cell_type": "markdown",
   "metadata": {},
   "source": [
    "8. Dada la siguiente ecuación diferencial:\n",
    "\n",
    "$$ (t + ye^{y/t})dt - te^{y/t}dy = 0, \\ \\ \\ 1 \\leq t \\leq \\frac{17}{16}, \\ \\ \\ y(1) = 0, \\ \\ \\ h = \\frac{1}{80} $$\n",
    "\n",
    "Emplee el método de Runge-Kutta de cuarto orden para obtener la solución aproximada en cada uno de los valores de *t*. además obtenga la solución exacta y evalúela en cada valor de *t*.\n",
    "\n",
    "### Solución\n",
    "\n",
    "Despejo *dy/dt* y obtengo:\n",
    "\n",
    "$$ \\frac{dy}{dt} = \\frac{t + y e^{y/t}}{te^{y/t}} = \\frac{1}{e^{y/t}} + \\frac{y}{t} $$\n",
    "\n",
    "Pasamos a la solución en Python"
   ]
  },
  {
   "cell_type": "code",
   "execution_count": 20,
   "metadata": {},
   "outputs": [
    {
     "data": {
      "text/latex": [
       "$\\displaystyle \\operatorname{fy}{\\left(t \\right)} = \\log{\\left(\\left(\\log{\\left(t \\right)} + 1\\right)^{t} \\right)}$"
      ],
      "text/plain": [
       "Eq(fy(t), log((log(t) + 1)**t))"
      ]
     },
     "execution_count": 20,
     "metadata": {},
     "output_type": "execute_result"
    }
   ],
   "source": [
    "from sympy import *\n",
    "from numpy import arange\n",
    "\n",
    "fy = symbols(\"fy\", cls=Function)\n",
    "t, y = symbols(\"t y\")\n",
    "\n",
    "h = 1/80\n",
    "\n",
    "eq = Eq(fy(t).diff(), 1 / (exp(fy(t)/t)) + fy(t) / t)\n",
    "f = 1 / exp(y/t) + y/t\n",
    "\n",
    "\n",
    "# Calculamos la solucion particular F\n",
    "condiciones_iniciales = {fy(1):0}\n",
    "F = dsolve(eq, ics=condiciones_iniciales)\n",
    "F"
   ]
  },
  {
   "cell_type": "code",
   "execution_count": 21,
   "metadata": {},
   "outputs": [
    {
     "data": {
      "text/plain": [
       "[1.0, 1.0125, 1.025, 1.0375, 1.05, 1.0625]"
      ]
     },
     "execution_count": 21,
     "metadata": {},
     "output_type": "execute_result"
    }
   ],
   "source": [
    "# Intervalo de T\n",
    "# Hago redondeo por como trabaja flotantes Python\n",
    "T = [round(t, 4) for t in arange(start=1,stop=17/16 + h/2, step=h)]\n",
    "T"
   ]
  },
  {
   "cell_type": "code",
   "execution_count": 22,
   "metadata": {},
   "outputs": [
    {
     "data": {
      "text/plain": [
       "[0,\n",
       " 0.012500200520300035,\n",
       " 0.02500211233096658,\n",
       " 0.037507463200447906,\n",
       " 0.05001783773224488,\n",
       " 0.06253468987510144]"
      ]
     },
     "execution_count": 22,
     "metadata": {},
     "output_type": "execute_result"
    }
   ],
   "source": [
    "# Declaro la lista con y_1 = 0\n",
    "\n",
    "Y = [0]\n",
    "K1 = [0]\n",
    "K2 = [0]\n",
    "K3 = [0]\n",
    "K4 = [0]\n",
    "\n",
    "# Hago un for para aplicar la fórmula\n",
    "for i in range(1, len(T)):\n",
    "    k1 = f.subs({t: T[i-1], y: Y[i-1]})\n",
    "    k2 = f.subs({t: T[i-1] + 0.5*h, y: Y[i-1] + 0.5*h*k1})\n",
    "    k3 = f.subs({t: T[i-1] + 0.5*h, y: Y[i-1] + 0.5*h*k2})\n",
    "    k4 = f.subs({t: T[i-1] + 0.5*h, y: Y[i-1] + 0.5*h*k3})\n",
    "    K1.append(k1)\n",
    "    K2.append(k2)\n",
    "    K3.append(k3)\n",
    "    K4.append(k4)\n",
    "    Y.append(float(Y[i-1] + h/6 *(k1 + 2*k2 + 2*k3 + k4)))\n",
    "\n",
    "Y"
   ]
  },
  {
   "cell_type": "code",
   "execution_count": 23,
   "metadata": {},
   "outputs": [
    {
     "data": {
      "text/plain": [
       "[0.0,\n",
       " 0.012500318532426063,\n",
       " 0.025002494395056335,\n",
       " 0.03750824332647735,\n",
       " 0.05001913901016807,\n",
       " 0.06253662546705552]"
      ]
     },
     "execution_count": 23,
     "metadata": {},
     "output_type": "execute_result"
    }
   ],
   "source": [
    "# calculamos los valores exactos\n",
    "solucion_exacta = []\n",
    "for i in range(len(T)):\n",
    "    solucion_exacta.append(float(F.rhs.subs({t: T[i]})))\n",
    "solucion_exacta"
   ]
  },
  {
   "cell_type": "code",
   "execution_count": 25,
   "metadata": {},
   "outputs": [
    {
     "data": {
      "text/html": [
       "<pre style=\"white-space:pre;overflow-x:auto;line-height:normal;font-family:Menlo,'DejaVu Sans Mono',consolas,'Courier New',monospace\">┏━━━━━━━━┳━━━━━━━━━━━━━━┳━━━━━━━━━━━━━━┳━━━━━━━━━━━━━━┳━━━━━━━━━━━━━━┳━━━━━━━━━━━━━━┳━━━━━━━━━━━━━━━┳━━━━━━━━━━━━━┓\n",
       "┃<span style=\"font-weight: bold\"> ti     </span>┃<span style=\"font-weight: bold\"> k1           </span>┃<span style=\"font-weight: bold\"> k2           </span>┃<span style=\"font-weight: bold\"> k3           </span>┃<span style=\"font-weight: bold\"> k4           </span>┃<span style=\"font-weight: bold\"> Yi           </span>┃<span style=\"font-weight: bold\"> F(ti)         </span>┃<span style=\"font-weight: bold\"> Error       </span>┃\n",
       "┡━━━━━━━━╇━━━━━━━━━━━━━━╇━━━━━━━━━━━━━━╇━━━━━━━━━━━━━━╇━━━━━━━━━━━━━━╇━━━━━━━━━━━━━━╇━━━━━━━━━━━━━━━╇━━━━━━━━━━━━━┩\n",
       "│ 1.0    │ 0.0          │ 0.0          │ 0.0          │ 0.0          │ 0.0          │ 0.0           │ 0.00000E+00 │\n",
       "│ 1.0125 │ 1.0          │ 1.0000192495 │ 1.0000192502 │ 1.0000192502 │ 0.0125002005 │ 0.01250031853 │ 1.18012E-07 │\n",
       "│        │              │ 046012       │ 449288       │ 449572       │ 20300035     │ 2426063       │             │\n",
       "│ 1.025  │ 1.0000758976 │ 1.0001683480 │ 1.0001683584 │ 1.0001683584 │ 0.0250021123 │ 0.02500249439 │ 3.82064E-07 │\n",
       "│        │ 779418       │ 817967       │ 257497       │ 26907        │ 3096658      │ 5056335       │             │\n",
       "│ 1.0375 │ 1.0002950881 │ 1.0004546485 │ 1.0004546773 │ 1.0004546774 │ 0.0375074632 │ 0.03750824332 │ 7.80126E-07 │\n",
       "│        │ 025607       │ 27532        │ 960625       │ 012857       │ 00447906     │ 647735        │             │\n",
       "│ 1.05   │ 1.0006456711 │ 1.0008667881 │ 1.0008668425 │ 1.0008668425 │ 0.0500178377 │ 0.05001913901 │ 1.30128E-06 │\n",
       "│        │ 975174       │ 901228       │ 571388       │ 705065       │ 3224488      │ 016807        │             │\n",
       "│ 1.0625 │ 1.0011167925 │ 1.0013943960 │ 1.0013944812 │ 1.0013944813 │ 0.0625346898 │ 0.06253662546 │ 1.93559E-06 │\n",
       "│        │ 985605       │ 534308       │ 79854        │ 060196       │ 7510144      │ 705552        │             │\n",
       "└────────┴──────────────┴──────────────┴──────────────┴──────────────┴──────────────┴───────────────┴─────────────┘\n",
       "</pre>\n"
      ],
      "text/plain": [
       "┏━━━━━━━━┳━━━━━━━━━━━━━━┳━━━━━━━━━━━━━━┳━━━━━━━━━━━━━━┳━━━━━━━━━━━━━━┳━━━━━━━━━━━━━━┳━━━━━━━━━━━━━━━┳━━━━━━━━━━━━━┓\n",
       "┃\u001b[1m \u001b[0m\u001b[1mti    \u001b[0m\u001b[1m \u001b[0m┃\u001b[1m \u001b[0m\u001b[1mk1          \u001b[0m\u001b[1m \u001b[0m┃\u001b[1m \u001b[0m\u001b[1mk2          \u001b[0m\u001b[1m \u001b[0m┃\u001b[1m \u001b[0m\u001b[1mk3          \u001b[0m\u001b[1m \u001b[0m┃\u001b[1m \u001b[0m\u001b[1mk4          \u001b[0m\u001b[1m \u001b[0m┃\u001b[1m \u001b[0m\u001b[1mYi          \u001b[0m\u001b[1m \u001b[0m┃\u001b[1m \u001b[0m\u001b[1mF(ti)        \u001b[0m\u001b[1m \u001b[0m┃\u001b[1m \u001b[0m\u001b[1mError      \u001b[0m\u001b[1m \u001b[0m┃\n",
       "┡━━━━━━━━╇━━━━━━━━━━━━━━╇━━━━━━━━━━━━━━╇━━━━━━━━━━━━━━╇━━━━━━━━━━━━━━╇━━━━━━━━━━━━━━╇━━━━━━━━━━━━━━━╇━━━━━━━━━━━━━┩\n",
       "│ 1.0    │ 0.0          │ 0.0          │ 0.0          │ 0.0          │ 0.0          │ 0.0           │ 0.00000E+00 │\n",
       "│ 1.0125 │ 1.0          │ 1.0000192495 │ 1.0000192502 │ 1.0000192502 │ 0.0125002005 │ 0.01250031853 │ 1.18012E-07 │\n",
       "│        │              │ 046012       │ 449288       │ 449572       │ 20300035     │ 2426063       │             │\n",
       "│ 1.025  │ 1.0000758976 │ 1.0001683480 │ 1.0001683584 │ 1.0001683584 │ 0.0250021123 │ 0.02500249439 │ 3.82064E-07 │\n",
       "│        │ 779418       │ 817967       │ 257497       │ 26907        │ 3096658      │ 5056335       │             │\n",
       "│ 1.0375 │ 1.0002950881 │ 1.0004546485 │ 1.0004546773 │ 1.0004546774 │ 0.0375074632 │ 0.03750824332 │ 7.80126E-07 │\n",
       "│        │ 025607       │ 27532        │ 960625       │ 012857       │ 00447906     │ 647735        │             │\n",
       "│ 1.05   │ 1.0006456711 │ 1.0008667881 │ 1.0008668425 │ 1.0008668425 │ 0.0500178377 │ 0.05001913901 │ 1.30128E-06 │\n",
       "│        │ 975174       │ 901228       │ 571388       │ 705065       │ 3224488      │ 016807        │             │\n",
       "│ 1.0625 │ 1.0011167925 │ 1.0013943960 │ 1.0013944812 │ 1.0013944813 │ 0.0625346898 │ 0.06253662546 │ 1.93559E-06 │\n",
       "│        │ 985605       │ 534308       │ 79854        │ 060196       │ 7510144      │ 705552        │             │\n",
       "└────────┴──────────────┴──────────────┴──────────────┴──────────────┴──────────────┴───────────────┴─────────────┘\n"
      ]
     },
     "metadata": {},
     "output_type": "display_data"
    }
   ],
   "source": [
    "# pasamos todos los datos a una lista anidada para poder desplegarlos en una tabla\n",
    "\n",
    "from utils import imprimir_tabla\n",
    "\n",
    "lista_tabla = [[\"ti\", \"k1\", \"k2\", \"k3\", \"k4\", \"Yi\", \"F(ti)\", \"Error\"]]\n",
    "\n",
    "for i in range(len(T)):\n",
    "    lista_tabla.append(\n",
    "        [\n",
    "            str(float(T[i])),\n",
    "            str(float(K1[i])),\n",
    "            str(float(K2[i])),\n",
    "            str(float(K3[i])),\n",
    "            str(float(K4[i])),\n",
    "            str(float(Y[i])),\n",
    "            str(solucion_exacta[i]),\n",
    "            str(f\"{abs(Y[i] - solucion_exacta[i]):.5E}\"),\n",
    "        ]\n",
    "    )\n",
    "\n",
    "imprimir_tabla(lista_tabla)"
   ]
  }
 ],
 "metadata": {
  "kernelspec": {
   "display_name": "venv",
   "language": "python",
   "name": "python3"
  },
  "language_info": {
   "codemirror_mode": {
    "name": "ipython",
    "version": 3
   },
   "file_extension": ".py",
   "mimetype": "text/x-python",
   "name": "python",
   "nbconvert_exporter": "python",
   "pygments_lexer": "ipython3",
   "version": "3.10.12"
  }
 },
 "nbformat": 4,
 "nbformat_minor": 2
}
