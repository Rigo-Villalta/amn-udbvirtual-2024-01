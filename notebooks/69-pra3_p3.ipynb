{
 "cells": [
  {
   "attachments": {
    "image.png": {
     "image/png": "[encoded data removed]"
    }
   },
   "cell_type": "markdown",
   "metadata": {},
   "source": [
    "Utilice la regla de Boole para aproximar la siguiente integral definida. Además obtenga el valor exacto y el error de aproximación.\n",
    "\n",
    "![image.png](attachment:image.png)\n",
    "\n",
    "NOTA: Copiar y pegar los comandos de Matlab ejecutados y los resultados obtenidos.\n",
    "\n",
    "### Solución en Python"
   ]
  },
  {
   "cell_type": "code",
   "execution_count": 17,
   "metadata": {},
   "outputs": [
    {
     "name": "stdout",
     "output_type": "stream",
     "text": [
      "El valor aproximado es: 0.1606901152344745\n"
     ]
    }
   ],
   "source": [
    "from sympy import *\n",
    "from math import e\n",
    "\n",
    "x = symbols(\"x\", real=True)\n",
    "\n",
    "# En este caso tuve que ocupar e porque sympy no podía\n",
    "# integrar con exp, no se porqué.\n",
    "\n",
    "f = x / (2 * e**x - e**(-x))\n",
    "\n",
    "a = 0\n",
    "b = 1\n",
    "\n",
    "# Regla de Boole(n=4)\n",
    "n=4\n",
    "h = (b-a) / 4\n",
    "x0 = a\n",
    "x1 = a + h\n",
    "x2 = a + 2*h\n",
    "x3 = a + 3*h\n",
    "x4 = b\n",
    "\n",
    "valor_aproximado = ((2 * h) / 45) * (\n",
    "    7 * f.subs(x, x0) + \n",
    "    32 * f.subs(x, x1) + \n",
    "    12 * f.subs(x, x2) + \n",
    "    32 * f.subs(x, x3) +\n",
    "    7 * f.subs(x, x4)\n",
    ")\n",
    "\n",
    "print(\"El valor aproximado es:\", float(valor_aproximado))"
   ]
  },
  {
   "cell_type": "code",
   "execution_count": 18,
   "metadata": {},
   "outputs": [
    {
     "name": "stdout",
     "output_type": "stream",
     "text": [
      "El valor exacto es: 0.1610199030358708\n"
     ]
    }
   ],
   "source": [
    "# Calculamos el valor exacto\n",
    "\n",
    "valor_exacto = float(integrate(f, (x, a, b)))\n",
    "print(\"El valor exacto es:\", valor_exacto)"
   ]
  },
  {
   "cell_type": "code",
   "execution_count": 19,
   "metadata": {},
   "outputs": [
    {
     "name": "stdout",
     "output_type": "stream",
     "text": [
      "El error de aproximación es: 0.000329787801396308\n"
     ]
    }
   ],
   "source": [
    "# Calculo el error de aproximación\n",
    "\n",
    "error = abs(valor_exacto - valor_aproximado)\n",
    "\n",
    "print(\"El error de aproximación es:\", error)"
   ]
  }
 ],
 "metadata": {
  "kernelspec": {
   "display_name": "venv",
   "language": "python",
   "name": "python3"
  },
  "language_info": {
   "codemirror_mode": {
    "name": "ipython",
    "version": 3
   },
   "file_extension": ".py",
   "mimetype": "text/x-python",
   "name": "python",
   "nbconvert_exporter": "python",
   "pygments_lexer": "ipython3",
   "version": "3.10.12"
  }
 },
 "nbformat": 4,
 "nbformat_minor": 2
}
