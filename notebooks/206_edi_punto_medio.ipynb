{
 "cells": [
  {
   "cell_type": "markdown",
   "metadata": {},
   "source": [
    "Para desarrollar el método del punto medio requiere:\n",
    "- La función de la forma $ \\frac{dy}{dt} = f(t, y) $ es decir tenemos una función con dos variables independientes.\n",
    "- Nos puede dar el *h* o el intervalo y el número de nodos requeridos *n*, si es esto \n",
    "ultimo calculamos $ h = \\frac{x_f -x_i}{n} $\n",
    "- A partir del intervalo y *h* calculamos los nodos, es decir los valores que se someteran al cálculo\n",
    "- El primer valor $y_0$ será proporcionado como la evaluación de la función en el inicio del intervalo y a partir de este calculamos el resto de valores con las fórmula: \n",
    "$$ y_i = y_{i-1} + hk_2  $$\n",
    "En donde:\n",
    "$$ k_1 = f(t_{i-1}, y_{i-1}) $$\n",
    "$$ k_2 = f(t_{i-1} + \\frac{1}{2} h, y_{i-1} + ) \\frac{1}{2} h k_1 $$\n",
    "\n",
    "Ejemplo de clase 15.2.2 :udbvirtual.edu.sv/materiales_didacticos/AMN941/clase15.html\n",
    "\n",
    "Emplear el método del punto medio para obtener la solución aproximada de la siguiente ecuación diferencial:\n",
    "\n",
    "$$ (e^{2y} - y cos(ty))dt + (2te^{2y} + 2y - tcos(ty))dy=0, \\ \\ \\ \\frac{\\pi}{2} \\leq t \\leq \\frac{801 \\pi}{1600}, \\ \\ \\ y(\\pi / 2) = 1, \\ \\ \\ h= \\pi / 6400 $$\n",
    "\n",
    "Primero la despejamos para dejar la forma: $ \\frac{dy}{dt} = f(t, y) $ y obtenemos\n",
    "\n",
    "$$ \\frac{dy}{dt}= \\frac{e^{2y} - y cos(ty)}{tcos(ty) - 2te^{2y} - 2y } $$\n",
    "\n",
    "Pasamos a la solución en python"
   ]
  },
  {
   "cell_type": "code",
   "execution_count": 1,
   "metadata": {},
   "outputs": [
    {
     "data": {
      "text/plain": [
       "[pi/2, 3201*pi/6400, 1601*pi/3200, 3203*pi/6400, 801*pi/1600]"
      ]
     },
     "execution_count": 1,
     "metadata": {},
     "output_type": "execute_result"
    }
   ],
   "source": [
    "from sympy import *\n",
    "from numpy import arange\n",
    "\n",
    "fy = symbols(\"fy\", cls=Function)\n",
    "t, y = symbols(\"t y\")\n",
    "\n",
    "h = pi/6400\n",
    "\n",
    "eq = Eq(fy(t).diff(), (exp(2*fy(t)) - fy(t)*cos(t*fy(t))) / (t*cos(t*fy(t)) - 2*t*exp(2*fy(t)) - 2*fy(t)))\n",
    "f = (exp(2*y) - y*cos(t*y)) / (t*cos(t*y) - 2*t*exp(2*y)-2*y)\n",
    "\n",
    "\n",
    "# Calculamos la solucion particular F\n",
    "condiciones_iniciales = {fy(pi/2):1}\n",
    "#F = dsolve(eq, ics=condiciones_iniciales, hint='lie_group',)\n",
    "\n",
    "\n",
    "# creamos nuestro intervalo\n",
    "T = [t for t in arange(pi/2, 801*pi /1600 + h/2, h)]\n",
    "T"
   ]
  },
  {
   "cell_type": "code",
   "execution_count": 5,
   "metadata": {},
   "outputs": [
    {
     "data": {
      "text/plain": [
       "[1,\n",
       " 0.9998561643217644,\n",
       " 0.9997123688671469,\n",
       " 0.9995686136125013,\n",
       " 0.9994248985342039]"
      ]
     },
     "execution_count": 5,
     "metadata": {},
     "output_type": "execute_result"
    }
   ],
   "source": [
    "# Declaro la lista con y_0 = 0\n",
    "\n",
    "Y = [1]\n",
    "K1 = [0]\n",
    "K2 = [0]\n",
    "\n",
    "# Hago un for para aplicar la fórmula\n",
    "for i in range(1, len(T)):\n",
    "    k1 = f.evalf(subs={t: T[i-1], y: Y[i-1]})\n",
    "    k2 = f.evalf(subs={t: T[i-1] + 0.5*h, y: Y[i-1] + 0.5*h*k1})\n",
    "    K1.append(k1)\n",
    "    K2.append(k2)\n",
    "    Y.append(float(Y[i-1] + h * k2))\n",
    "\n",
    "Y"
   ]
  },
  {
   "cell_type": "code",
   "execution_count": 3,
   "metadata": {},
   "outputs": [
    {
     "data": {
      "text/plain": [
       "[1.0,\n",
       " 0.9998561643206377,\n",
       " 0.9997123688648947,\n",
       " 0.9995686136091246,\n",
       " 0.999424898529704]"
      ]
     },
     "execution_count": 3,
     "metadata": {},
     "output_type": "execute_result"
    }
   ],
   "source": [
    "# como no fue posible resolver la EDI de forma simbólica, lo hacemos de forma \n",
    "# númerica con scipy\n",
    "from scipy.integrate import solve_ivp\n",
    "\n",
    "# hay que llamar a las funciones trigonométricas y a los e desde numpy\n",
    "import numpy\n",
    "\n",
    "def funcionEq(t, y): \n",
    "    return (numpy.exp(2*y) - y*numpy.cos(t*y)) / (t*numpy.cos(t*y) - 2*t*numpy.exp(2*y)-2*y)\n",
    "\n",
    "solucion = solve_ivp(funcionEq, (float(pi/2), float(801*pi /1600)), [1], t_eval=T)\n",
    "solucion_exacta = []\n",
    "for i in solucion.y[0]:\n",
    "    solucion_exacta.append(float(i))\n",
    "solucion_exacta"
   ]
  },
  {
   "cell_type": "code",
   "execution_count": 7,
   "metadata": {},
   "outputs": [
    {
     "data": {
      "text/html": [
       "<pre style=\"white-space:pre;overflow-x:auto;line-height:normal;font-family:Menlo,'DejaVu Sans Mono',consolas,'Courier New',monospace\">┏━━━━━━━━━━━━━━━━━━┳━━━━━━━━━━━━━━━━━━┳━━━━━━━━━━━━━━━━━━┳━━━━━━━━━━━━━━━━━━┳━━━━━━━━━━━━━━━━━━┳━━━━━━━━━━━━━━━━━━┓\n",
       "┃<span style=\"font-weight: bold\"> ti               </span>┃<span style=\"font-weight: bold\"> k1               </span>┃<span style=\"font-weight: bold\"> k2               </span>┃<span style=\"font-weight: bold\"> Yi               </span>┃<span style=\"font-weight: bold\"> F(ti)            </span>┃<span style=\"font-weight: bold\"> Error            </span>┃\n",
       "┡━━━━━━━━━━━━━━━━━━╇━━━━━━━━━━━━━━━━━━╇━━━━━━━━━━━━━━━━━━╇━━━━━━━━━━━━━━━━━━╇━━━━━━━━━━━━━━━━━━╇━━━━━━━━━━━━━━━━━━┩\n",
       "│ 1.57079632679489 │ 0                │ 0                │ 1.0              │ 1.0              │ 0.0              │\n",
       "│ 66               │                  │                  │                  │                  │                  │\n",
       "│ 1.57128720064702 │ -0.2930606273631 │ -0.2930196375574 │ 0.99985616432176 │ 0.99985616432063 │ 1.12665432538960 │\n",
       "│                  │ 88               │ 95               │ 44               │ 77               │ 89e-12           │\n",
       "│ 1.57177807449914 │ -0.2929786603781 │ -0.2929376946755 │ 0.99971236886714 │ 0.99971236886489 │ 2.25219842775459 │\n",
       "│ 34               │ 99               │ 96               │ 69               │ 47               │ 26e-12           │\n",
       "│ 1.57226894835126 │ -0.2928967415875 │ -0.2928557999651 │ 0.99956861361250 │ 0.99956861360912 │ 3.37663230709495 │\n",
       "│ 68               │ 00               │ 91               │ 13               │ 46               │ 1e-12            │\n",
       "│ 1.57275982220339 │ -0.2928148709455 │ -0.2927739533807 │ 0.99942489853420 │ 0.99942489852970 │ 4.49995596341068 │\n",
       "│ 03               │ 14               │ 29               │ 39               │ 4                │ 45e-12           │\n",
       "└──────────────────┴──────────────────┴──────────────────┴──────────────────┴──────────────────┴──────────────────┘\n",
       "</pre>\n"
      ],
      "text/plain": [
       "┏━━━━━━━━━━━━━━━━━━┳━━━━━━━━━━━━━━━━━━┳━━━━━━━━━━━━━━━━━━┳━━━━━━━━━━━━━━━━━━┳━━━━━━━━━━━━━━━━━━┳━━━━━━━━━━━━━━━━━━┓\n",
       "┃\u001b[1m \u001b[0m\u001b[1mti              \u001b[0m\u001b[1m \u001b[0m┃\u001b[1m \u001b[0m\u001b[1mk1              \u001b[0m\u001b[1m \u001b[0m┃\u001b[1m \u001b[0m\u001b[1mk2              \u001b[0m\u001b[1m \u001b[0m┃\u001b[1m \u001b[0m\u001b[1mYi              \u001b[0m\u001b[1m \u001b[0m┃\u001b[1m \u001b[0m\u001b[1mF(ti)           \u001b[0m\u001b[1m \u001b[0m┃\u001b[1m \u001b[0m\u001b[1mError           \u001b[0m\u001b[1m \u001b[0m┃\n",
       "┡━━━━━━━━━━━━━━━━━━╇━━━━━━━━━━━━━━━━━━╇━━━━━━━━━━━━━━━━━━╇━━━━━━━━━━━━━━━━━━╇━━━━━━━━━━━━━━━━━━╇━━━━━━━━━━━━━━━━━━┩\n",
       "│ 1.57079632679489 │ 0                │ 0                │ 1.0              │ 1.0              │ 0.0              │\n",
       "│ 66               │                  │                  │                  │                  │                  │\n",
       "│ 1.57128720064702 │ -0.2930606273631 │ -0.2930196375574 │ 0.99985616432176 │ 0.99985616432063 │ 1.12665432538960 │\n",
       "│                  │ 88               │ 95               │ 44               │ 77               │ 89e-12           │\n",
       "│ 1.57177807449914 │ -0.2929786603781 │ -0.2929376946755 │ 0.99971236886714 │ 0.99971236886489 │ 2.25219842775459 │\n",
       "│ 34               │ 99               │ 96               │ 69               │ 47               │ 26e-12           │\n",
       "│ 1.57226894835126 │ -0.2928967415875 │ -0.2928557999651 │ 0.99956861361250 │ 0.99956861360912 │ 3.37663230709495 │\n",
       "│ 68               │ 00               │ 91               │ 13               │ 46               │ 1e-12            │\n",
       "│ 1.57275982220339 │ -0.2928148709455 │ -0.2927739533807 │ 0.99942489853420 │ 0.99942489852970 │ 4.49995596341068 │\n",
       "│ 03               │ 14               │ 29               │ 39               │ 4                │ 45e-12           │\n",
       "└──────────────────┴──────────────────┴──────────────────┴──────────────────┴──────────────────┴──────────────────┘\n"
      ]
     },
     "metadata": {},
     "output_type": "display_data"
    }
   ],
   "source": [
    "# pasamos todos los datos a una lista anidada para poder desplegarlos en una tabla\n",
    "\n",
    "from utils import imprimir_tabla\n",
    "\n",
    "lista_tabla = [[\"ti\", \"k1\", \"k2\", \"Yi\", \"F(ti)\", \"Error\"]]\n",
    "\n",
    "for i in range(len(T)):\n",
    "    lista_tabla.append(\n",
    "        [\n",
    "            str(float(T[i])),\n",
    "            str(K1[i]),\n",
    "            str(K2[i]),\n",
    "            str(float(Y[i])),\n",
    "            str(solucion_exacta[i]),\n",
    "            str(abs(Y[i] - solucion_exacta[i])),\n",
    "        ]\n",
    "    )\n",
    "\n",
    "imprimir_tabla(lista_tabla)"
   ]
  }
 ],
 "metadata": {
  "kernelspec": {
   "display_name": "venv",
   "language": "python",
   "name": "python3"
  },
  "language_info": {
   "codemirror_mode": {
    "name": "ipython",
    "version": 3
   },
   "file_extension": ".py",
   "mimetype": "text/x-python",
   "name": "python",
   "nbconvert_exporter": "python",
   "pygments_lexer": "ipython3",
   "version": "3.10.12"
  }
 },
 "nbformat": 4,
 "nbformat_minor": 2
}
