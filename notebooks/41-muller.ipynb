{
 "cells": [
  {
   "cell_type": "code",
   "execution_count": 2,
   "metadata": {},
   "outputs": [
    {
     "data": {
      "text/html": [
       "<pre style=\"white-space:pre;overflow-x:auto;line-height:normal;font-family:Menlo,'DejaVu Sans Mono',consolas,'Courier New',monospace\">┏━━━━━━━━━━━━━━━━┳━━━━━━━━━━━━━━━━━━━┳━━━━━━━━━━━━━━━━━━━┳━━━━━━━━━━━━━━━━━━━┳━━━━━━━━━━━━━━━━━━━┳━━━━━━━━━━━━━┓\n",
       "┃<span style=\"font-weight: bold\"> # de iteración </span>┃<span style=\"font-weight: bold\"> x0                </span>┃<span style=\"font-weight: bold\"> x1                </span>┃<span style=\"font-weight: bold\"> x2                </span>┃<span style=\"font-weight: bold\"> x3                </span>┃<span style=\"font-weight: bold\"> error       </span>┃\n",
       "┡━━━━━━━━━━━━━━━━╇━━━━━━━━━━━━━━━━━━━╇━━━━━━━━━━━━━━━━━━━╇━━━━━━━━━━━━━━━━━━━╇━━━━━━━━━━━━━━━━━━━╇━━━━━━━━━━━━━┩\n",
       "│ 1              │ 1.200000000000000 │ 1.300000000000000 │ 1.500000000000000 │ 1.389810324804944 │ 1.10190E-01 │\n",
       "│ 2              │ 1.300000000000000 │ 1.500000000000000 │ 1.389810324804944 │ 1.397544695824706 │ 7.73437E-03 │\n",
       "│ 3              │ 1.500000000000000 │ 1.389810324804944 │ 1.397544695824706 │ 1.397748119946254 │ 2.03424E-04 │\n",
       "│ 4              │ 1.389810324804944 │ 1.397544695824706 │ 1.397748119946254 │ 1.397748475960221 │ 3.56014E-07 │\n",
       "└────────────────┴───────────────────┴───────────────────┴───────────────────┴───────────────────┴─────────────┘\n",
       "</pre>\n"
      ],
      "text/plain": [
       "┏━━━━━━━━━━━━━━━━┳━━━━━━━━━━━━━━━━━━━┳━━━━━━━━━━━━━━━━━━━┳━━━━━━━━━━━━━━━━━━━┳━━━━━━━━━━━━━━━━━━━┳━━━━━━━━━━━━━┓\n",
       "┃\u001b[1m \u001b[0m\u001b[1m# de iteración\u001b[0m\u001b[1m \u001b[0m┃\u001b[1m \u001b[0m\u001b[1mx0               \u001b[0m\u001b[1m \u001b[0m┃\u001b[1m \u001b[0m\u001b[1mx1               \u001b[0m\u001b[1m \u001b[0m┃\u001b[1m \u001b[0m\u001b[1mx2               \u001b[0m\u001b[1m \u001b[0m┃\u001b[1m \u001b[0m\u001b[1mx3               \u001b[0m\u001b[1m \u001b[0m┃\u001b[1m \u001b[0m\u001b[1merror      \u001b[0m\u001b[1m \u001b[0m┃\n",
       "┡━━━━━━━━━━━━━━━━╇━━━━━━━━━━━━━━━━━━━╇━━━━━━━━━━━━━━━━━━━╇━━━━━━━━━━━━━━━━━━━╇━━━━━━━━━━━━━━━━━━━╇━━━━━━━━━━━━━┩\n",
       "│ 1              │ 1.200000000000000 │ 1.300000000000000 │ 1.500000000000000 │ 1.389810324804944 │ 1.10190E-01 │\n",
       "│ 2              │ 1.300000000000000 │ 1.500000000000000 │ 1.389810324804944 │ 1.397544695824706 │ 7.73437E-03 │\n",
       "│ 3              │ 1.500000000000000 │ 1.389810324804944 │ 1.397544695824706 │ 1.397748119946254 │ 2.03424E-04 │\n",
       "│ 4              │ 1.389810324804944 │ 1.397544695824706 │ 1.397748119946254 │ 1.397748475960221 │ 3.56014E-07 │\n",
       "└────────────────┴───────────────────┴───────────────────┴───────────────────┴───────────────────┴─────────────┘\n"
      ]
     },
     "metadata": {},
     "output_type": "display_data"
    }
   ],
   "source": [
    "from math import log, cos\n",
    "\n",
    "from metodos_numericos import muller\n",
    "from utils import imprimir_tabla\n",
    "\n",
    "\n",
    "def fdx(x):\n",
    "    return log(x-1)+ cos(x-1)\n",
    "\n",
    "resultado = muller(1.2, 1.3, 1.5, fdx, 0.00001, 1, [])\n",
    "imprimir_tabla(resultado)"
   ]
  }
 ],
 "metadata": {
  "kernelspec": {
   "display_name": "venv",
   "language": "python",
   "name": "python3"
  },
  "language_info": {
   "codemirror_mode": {
    "name": "ipython",
    "version": 3
   },
   "file_extension": ".py",
   "mimetype": "text/x-python",
   "name": "python",
   "nbconvert_exporter": "python",
   "pygments_lexer": "ipython3",
   "version": "3.10.12"
  }
 },
 "nbformat": 4,
 "nbformat_minor": 2
}
