{
 "cells": [
  {
   "cell_type": "markdown",
   "metadata": {},
   "source": [
    "25- Encontrar el punto de intersección entre las siguientes funciones en el intervalo [0.5 , 1 ]:\n",
    "\n",
    "$$ f(x) = \\sqrt{x^2 + 1}, \\;\\;\\; g(x) = tan(x) $$\n",
    "\n",
    "con una precisión de 10-8. Emplee el método de posición falsa. Use 15 decimales.\n",
    "\n",
    "Solución.\n",
    "Para encontrar el punto de intersección igualamos la ecuaciones:\n",
    "\n",
    "$$ \\sqrt{x^2 + 1} = tan(x) $$\n",
    "\n",
    "Ahora lo ponemos en forma de f(x) = 0:\n",
    "\n",
    "$$ \\sqrt{x^2 + 1} - tan(x) = 0 $$\n",
    "\n",
    "Y con esto y apodemos pasar al método numérico"
   ]
  },
  {
   "cell_type": "code",
   "execution_count": 1,
   "metadata": {},
   "outputs": [
    {
     "data": {
      "text/html": [
       "<pre style=\"white-space:pre;overflow-x:auto;line-height:normal;font-family:Menlo,'DejaVu Sans Mono',consolas,'Courier New',monospace\">┏━━━┳━━━━━━━━━━━━━━━━━━━┳━━━━━━━━━━━━━━━━━━━┳━━━━━━━━━━━━━━━━━━━┳━━━━━━━━━━━━━━━━━━━┓\n",
       "┃<span style=\"font-weight: bold\"> 1 </span>┃<span style=\"font-weight: bold\"> 0.500000000000000 </span>┃<span style=\"font-weight: bold\"> 1.000000000000000 </span>┃<span style=\"font-weight: bold\"> 0.899853809944465 </span>┃<span style=\"font-weight: bold\"> 0.100146190055535 </span>┃\n",
       "┡━━━╇━━━━━━━━━━━━━━━━━━━╇━━━━━━━━━━━━━━━━━━━╇━━━━━━━━━━━━━━━━━━━╇━━━━━━━━━━━━━━━━━━━┩\n",
       "│ 2 │ 0.899853809944465 │ 1.000000000000000 │ 0.937290435119397 │ 0.037436625174932 │\n",
       "│ 3 │ 0.937290435119397 │ 1.000000000000000 │ 0.941043275004678 │ 0.003752839885281 │\n",
       "│ 4 │ 0.941043275004678 │ 1.000000000000000 │ 0.941419585328390 │ 0.000376310323712 │\n",
       "│ 5 │ 0.941419585328390 │ 1.000000000000000 │ 0.941457318613971 │ 0.000037733285581 │\n",
       "│ 6 │ 0.941457318613971 │ 1.000000000000000 │ 0.941461102187286 │ 0.000003783573315 │\n",
       "│ 7 │ 0.941461102187286 │ 1.000000000000000 │ 0.941461481571789 │ 0.000000379384503 │\n",
       "│ 8 │ 0.941461481571789 │ 1.000000000000000 │ 0.941461519613235 │ &lt;-- solución      │\n",
       "└───┴───────────────────┴───────────────────┴───────────────────┴───────────────────┘\n",
       "</pre>\n"
      ],
      "text/plain": [
       "┏━━━┳━━━━━━━━━━━━━━━━━━━┳━━━━━━━━━━━━━━━━━━━┳━━━━━━━━━━━━━━━━━━━┳━━━━━━━━━━━━━━━━━━━┓\n",
       "┃\u001b[1m \u001b[0m\u001b[1m1\u001b[0m\u001b[1m \u001b[0m┃\u001b[1m \u001b[0m\u001b[1m0.500000000000000\u001b[0m\u001b[1m \u001b[0m┃\u001b[1m \u001b[0m\u001b[1m1.000000000000000\u001b[0m\u001b[1m \u001b[0m┃\u001b[1m \u001b[0m\u001b[1m0.899853809944465\u001b[0m\u001b[1m \u001b[0m┃\u001b[1m \u001b[0m\u001b[1m0.100146190055535\u001b[0m\u001b[1m \u001b[0m┃\n",
       "┡━━━╇━━━━━━━━━━━━━━━━━━━╇━━━━━━━━━━━━━━━━━━━╇━━━━━━━━━━━━━━━━━━━╇━━━━━━━━━━━━━━━━━━━┩\n",
       "│ 2 │ 0.899853809944465 │ 1.000000000000000 │ 0.937290435119397 │ 0.037436625174932 │\n",
       "│ 3 │ 0.937290435119397 │ 1.000000000000000 │ 0.941043275004678 │ 0.003752839885281 │\n",
       "│ 4 │ 0.941043275004678 │ 1.000000000000000 │ 0.941419585328390 │ 0.000376310323712 │\n",
       "│ 5 │ 0.941419585328390 │ 1.000000000000000 │ 0.941457318613971 │ 0.000037733285581 │\n",
       "│ 6 │ 0.941457318613971 │ 1.000000000000000 │ 0.941461102187286 │ 0.000003783573315 │\n",
       "│ 7 │ 0.941461102187286 │ 1.000000000000000 │ 0.941461481571789 │ 0.000000379384503 │\n",
       "│ 8 │ 0.941461481571789 │ 1.000000000000000 │ 0.941461519613235 │ <-- solución      │\n",
       "└───┴───────────────────┴───────────────────┴───────────────────┴───────────────────┘\n"
      ]
     },
     "metadata": {},
     "output_type": "display_data"
    }
   ],
   "source": [
    "from math import sqrt, tan\n",
    "\n",
    "from metodos_numericos import posicion_falsa\n",
    "from utils import imprimir_tabla\n",
    "\n",
    "def f(x):\n",
    "    return sqrt(x**2 + 1) - tan(x)\n",
    "\n",
    "resultado = posicion_falsa(0.5, 1, f, 10E-8, 1, [])\n",
    "imprimir_tabla(resultado)"
   ]
  }
 ],
 "metadata": {
  "kernelspec": {
   "display_name": "venv",
   "language": "python",
   "name": "python3"
  },
  "language_info": {
   "codemirror_mode": {
    "name": "ipython",
    "version": 3
   },
   "file_extension": ".py",
   "mimetype": "text/x-python",
   "name": "python",
   "nbconvert_exporter": "python",
   "pygments_lexer": "ipython3",
   "version": "3.10.12"
  }
 },
 "nbformat": 4,
 "nbformat_minor": 2
}
