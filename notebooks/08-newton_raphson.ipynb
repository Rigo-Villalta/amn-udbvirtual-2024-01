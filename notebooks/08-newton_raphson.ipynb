{
 "cells": [
  {
   "cell_type": "code",
   "execution_count": 1,
   "metadata": {},
   "outputs": [
    {
     "data": {
      "text/html": [
       "<pre style=\"white-space:pre;overflow-x:auto;line-height:normal;font-family:Menlo,'DejaVu Sans Mono',consolas,'Courier New',monospace\">┏━━━━━━━━━━━━━━━━┳━━━━━━━━━━━━━━━━━━━┳━━━━━━━━━━━━━━━━━━━┳━━━━━━━━━━━━━━━━━━━┓\n",
       "┃<span style=\"font-weight: bold\"> # de iteración </span>┃<span style=\"font-weight: bold\"> x0                </span>┃<span style=\"font-weight: bold\"> x1                </span>┃<span style=\"font-weight: bold\"> error             </span>┃\n",
       "┡━━━━━━━━━━━━━━━━╇━━━━━━━━━━━━━━━━━━━╇━━━━━━━━━━━━━━━━━━━╇━━━━━━━━━━━━━━━━━━━┩\n",
       "│ 1              │ 2.000000000000000 │ 2.100000000000000 │ 0.100000000000000 │\n",
       "│ 2              │ 2.100000000000000 │ 2.094568121104185 │ 0.005431878895815 │\n",
       "│ 3              │ 2.094568121104185 │ 2.094551481698199 │ 0.000016639405986 │\n",
       "│ 4              │ 2.094551481698199 │ 2.094551481542327 │ &lt;-- solución      │\n",
       "└────────────────┴───────────────────┴───────────────────┴───────────────────┘\n",
       "</pre>\n"
      ],
      "text/plain": [
       "┏━━━━━━━━━━━━━━━━┳━━━━━━━━━━━━━━━━━━━┳━━━━━━━━━━━━━━━━━━━┳━━━━━━━━━━━━━━━━━━━┓\n",
       "┃\u001b[1m \u001b[0m\u001b[1m# de iteración\u001b[0m\u001b[1m \u001b[0m┃\u001b[1m \u001b[0m\u001b[1mx0               \u001b[0m\u001b[1m \u001b[0m┃\u001b[1m \u001b[0m\u001b[1mx1               \u001b[0m\u001b[1m \u001b[0m┃\u001b[1m \u001b[0m\u001b[1merror            \u001b[0m\u001b[1m \u001b[0m┃\n",
       "┡━━━━━━━━━━━━━━━━╇━━━━━━━━━━━━━━━━━━━╇━━━━━━━━━━━━━━━━━━━╇━━━━━━━━━━━━━━━━━━━┩\n",
       "│ 1              │ 2.000000000000000 │ 2.100000000000000 │ 0.100000000000000 │\n",
       "│ 2              │ 2.100000000000000 │ 2.094568121104185 │ 0.005431878895815 │\n",
       "│ 3              │ 2.094568121104185 │ 2.094551481698199 │ 0.000016639405986 │\n",
       "│ 4              │ 2.094551481698199 │ 2.094551481542327 │ <-- solución      │\n",
       "└────────────────┴───────────────────┴───────────────────┴───────────────────┘\n"
      ]
     },
     "metadata": {},
     "output_type": "display_data"
    }
   ],
   "source": [
    "from metodos_numericos import newton_raphson\n",
    "from utils import imprimir_tabla\n",
    "\n",
    "\n",
    "def mi_funcion(x):\n",
    "    return x**3 - 2*x - 5\n",
    "\n",
    "def mi_derivada(x):\n",
    "    return 3*x**2 - 2\n",
    "\n",
    "\n",
    "solucion = newton_raphson(2, mi_funcion, mi_derivada)\n",
    "imprimir_tabla(solucion)"
   ]
  }
 ],
 "metadata": {
  "kernelspec": {
   "display_name": "venv",
   "language": "python",
   "name": "python3"
  },
  "language_info": {
   "codemirror_mode": {
    "name": "ipython",
    "version": 3
   },
   "file_extension": ".py",
   "mimetype": "text/x-python",
   "name": "python",
   "nbconvert_exporter": "python",
   "pygments_lexer": "ipython3",
   "version": "3.10.12"
  }
 },
 "nbformat": 4,
 "nbformat_minor": 2
}
