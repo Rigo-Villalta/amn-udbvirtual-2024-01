{
 "cells": [
  {
   "cell_type": "code",
   "execution_count": 10,
   "metadata": {},
   "outputs": [
    {
     "data": {
      "text/latex": [
       "$\\displaystyle \\operatorname{fy}{\\left(t \\right)} = \\frac{t \\left(i e^{2 i \\log{\\left(t \\right)}} + i \\left(\\frac{3}{5} + \\frac{4 i}{5}\\right)\\right)}{- e^{2 i \\log{\\left(t \\right)}} + \\frac{3}{5} + \\frac{4 i}{5}}$"
      ],
      "text/plain": [
       "Eq(fy(t), t*(I*exp(2*I*log(t)) + I*(3/5 + 4*I/5))/(-exp(2*I*log(t)) + 3/5 + 4*I/5))"
      ]
     },
     "execution_count": 10,
     "metadata": {},
     "output_type": "execute_result"
    }
   ],
   "source": [
    "from sympy import *\n",
    "\n",
    "from numpy import arange\n",
    "\n",
    "fy = symbols(\"fy\", cls=Function, real=True)\n",
    "t, y = symbols(\"t y\", real=True)\n",
    "\n",
    "h= 1/200\n",
    "\n",
    "eq = Eq(fy(t).diff(), 1 + (fy(t)/t) + (fy(t)/t)**2)\n",
    "f = 1 + (y/t) + (y/t)**2\n",
    "\n",
    "# Calculamos la solucion particular F\n",
    "condiciones_iniciales = {fy(1):2}\n",
    "F = dsolve(eq, ics=condiciones_iniciales)\n",
    "F"
   ]
  },
  {
   "cell_type": "code",
   "execution_count": 11,
   "metadata": {},
   "outputs": [
    {
     "data": {
      "text/plain": [
       "[1.0, 1.005, 1.01, 1.015, 1.02, 1.025, 1.03, 1.035, 1.04]"
      ]
     },
     "execution_count": 11,
     "metadata": {},
     "output_type": "execute_result"
    }
   ],
   "source": [
    "# Aquí agrego un un en el siguiente decimal en el end sino\n",
    "# arrange no lo toma en cuenta, redondeo para que me de exacto\n",
    "T = [round(t, 3) for t in arange(1, 1.041, 0.005)]\n",
    "T"
   ]
  },
  {
   "cell_type": "code",
   "execution_count": 12,
   "metadata": {},
   "outputs": [
    {
     "data": {
      "text/plain": [
       "[0,\n",
       " 0.00501245848958333,\n",
       " 0.0100498562835778,\n",
       " 0.0151123189637387,\n",
       " 0.0201999708922707,\n",
       " 0.0253129352719255,\n",
       " 0.0304513342039229,\n",
       " 0.0356152887437914,\n",
       " 0.0408049189552195]"
      ]
     },
     "execution_count": 12,
     "metadata": {},
     "output_type": "execute_result"
    }
   ],
   "source": [
    "# guardo las derivadas calculadas en variables\n",
    "d1f =  1/t - y/t**3 + y**3/t**3 + y**2/t**4 + y**3/t**5\n",
    "d2f =  -1/t**2 - 1/t**3 + (4*y)/t**4 + (3*y**2)/t**5 - (2*y**3)/t**6 + (6*y**4)/t**7\n",
    "d3f = 1/t**3 + 5/t**4 + (10*y)/t**5 + (4*y*2)/t**6 + (24*y**3)/ t**7 + (18*y**4)/t**8 + (24*y**5)/t**9\n",
    "\n",
    "Y = [0]\n",
    "\n",
    "for i in range(len(T)-1):\n",
    "    Y.append(\n",
    "        Y[i] + \n",
    "        h*f.subs({t: T[i],y: Y[i]}) + \n",
    "        ((h**2)/factorial(2)) * d1f.subs({t: T[i],y: Y[i]}) +\n",
    "        ((h**3)/factorial(3)) * d2f.subs({t: T[i],y: Y[i]}) +\n",
    "        ((h**4)/factorial(4)) * d3f.subs({t: T[i],y: Y[i]})\n",
    "    )\n",
    "\n",
    "Y"
   ]
  },
  {
   "cell_type": "code",
   "execution_count": 13,
   "metadata": {},
   "outputs": [
    {
     "data": {
      "text/plain": [
       "[2.0,\n",
       " 2.0353151264911857,\n",
       " 2.0712711936034904,\n",
       " 2.1078846522203243,\n",
       " 2.145172532072954,\n",
       " 2.183152467343431,\n",
       " 2.2218427236396634,\n",
       " 2.261262226429142,\n",
       " 2.3014305910242117]"
      ]
     },
     "execution_count": 13,
     "metadata": {},
     "output_type": "execute_result"
    }
   ],
   "source": [
    "# calculamos los valores exactos\n",
    "solucion_exacta = []\n",
    "for i in range(len(T)):\n",
    "    solucion_exacta.append(float(F.rhs.evalf(subs={t: T[i]}, chop=True)))\n",
    "solucion_exacta"
   ]
  },
  {
   "cell_type": "code",
   "execution_count": 14,
   "metadata": {},
   "outputs": [
    {
     "name": "stdout",
     "output_type": "stream",
     "text": [
      "A continuación tenemos los valores de cada t\n"
     ]
    },
    {
     "data": {
      "text/html": [
       "<pre style=\"white-space:pre;overflow-x:auto;line-height:normal;font-family:Menlo,'DejaVu Sans Mono',consolas,'Courier New',monospace\">┏━━━━━━━┳━━━━━━━━━━━━━━━━━━━━━┳━━━━━━━━━━━━━━━━━━━━┳━━━━━━━━━━━━━━━━━━┓\n",
       "┃<span style=\"font-weight: bold\"> t_i   </span>┃<span style=\"font-weight: bold\"> y(t_t)i Aprox       </span>┃<span style=\"font-weight: bold\"> F(t_i)Exacta       </span>┃<span style=\"font-weight: bold\"> error            </span>┃\n",
       "┡━━━━━━━╇━━━━━━━━━━━━━━━━━━━━━╇━━━━━━━━━━━━━━━━━━━━╇━━━━━━━━━━━━━━━━━━┩\n",
       "│ 1.0   │ 0                   │ 2.0                │ 2.0              │\n",
       "│ 1.005 │ 0.00501245848958333 │ 2.0353151264911857 │ 2.03030266800160 │\n",
       "│ 1.01  │ 0.0100498562835778  │ 2.0712711936034904 │ 2.06122133731991 │\n",
       "│ 1.015 │ 0.0151123189637387  │ 2.1078846522203243 │ 2.09277233325659 │\n",
       "│ 1.02  │ 0.0201999708922707  │ 2.145172532072954  │ 2.12497256118068 │\n",
       "│ 1.025 │ 0.0253129352719255  │ 2.183152467343431  │ 2.15783953207151 │\n",
       "│ 1.03  │ 0.0304513342039229  │ 2.2218427236396634 │ 2.19139138943574 │\n",
       "│ 1.035 │ 0.0356152887437914  │ 2.261262226429142  │ 2.22564693768535 │\n",
       "│ 1.04  │ 0.0408049189552195  │ 2.3014305910242117 │ 2.26062567206899 │\n",
       "└───────┴─────────────────────┴────────────────────┴──────────────────┘\n",
       "</pre>\n"
      ],
      "text/plain": [
       "┏━━━━━━━┳━━━━━━━━━━━━━━━━━━━━━┳━━━━━━━━━━━━━━━━━━━━┳━━━━━━━━━━━━━━━━━━┓\n",
       "┃\u001b[1m \u001b[0m\u001b[1mt_i  \u001b[0m\u001b[1m \u001b[0m┃\u001b[1m \u001b[0m\u001b[1my(t_t)i Aprox      \u001b[0m\u001b[1m \u001b[0m┃\u001b[1m \u001b[0m\u001b[1mF(t_i)Exacta      \u001b[0m\u001b[1m \u001b[0m┃\u001b[1m \u001b[0m\u001b[1merror           \u001b[0m\u001b[1m \u001b[0m┃\n",
       "┡━━━━━━━╇━━━━━━━━━━━━━━━━━━━━━╇━━━━━━━━━━━━━━━━━━━━╇━━━━━━━━━━━━━━━━━━┩\n",
       "│ 1.0   │ 0                   │ 2.0                │ 2.0              │\n",
       "│ 1.005 │ 0.00501245848958333 │ 2.0353151264911857 │ 2.03030266800160 │\n",
       "│ 1.01  │ 0.0100498562835778  │ 2.0712711936034904 │ 2.06122133731991 │\n",
       "│ 1.015 │ 0.0151123189637387  │ 2.1078846522203243 │ 2.09277233325659 │\n",
       "│ 1.02  │ 0.0201999708922707  │ 2.145172532072954  │ 2.12497256118068 │\n",
       "│ 1.025 │ 0.0253129352719255  │ 2.183152467343431  │ 2.15783953207151 │\n",
       "│ 1.03  │ 0.0304513342039229  │ 2.2218427236396634 │ 2.19139138943574 │\n",
       "│ 1.035 │ 0.0356152887437914  │ 2.261262226429142  │ 2.22564693768535 │\n",
       "│ 1.04  │ 0.0408049189552195  │ 2.3014305910242117 │ 2.26062567206899 │\n",
       "└───────┴─────────────────────┴────────────────────┴──────────────────┘\n"
      ]
     },
     "metadata": {},
     "output_type": "display_data"
    }
   ],
   "source": [
    "# Desplegamos los valores obtenidos\n",
    "from utils import imprimir_tabla\n",
    "\n",
    "lista_tabla = [[\"t_i\", \"y(t_t)i Aprox\", \"F(t_i)Exacta\", \"error\", ]]\n",
    "\n",
    "for i in range(len(T)):\n",
    "    lista_tabla.append(\n",
    "        [\n",
    "            str(T[i]),\n",
    "            str(Y[i]),\n",
    "            str(solucion_exacta[i]),\n",
    "            str(abs(Y[i] - solucion_exacta[i])),\n",
    "        ]\n",
    "    )\n",
    "\n",
    "print(\"A continuación tenemos los valores de cada t\")\n",
    "imprimir_tabla(lista_tabla)"
   ]
  },
  {
   "cell_type": "code",
   "execution_count": 15,
   "metadata": {},
   "outputs": [
    {
     "data": {
      "text/html": [
       "<pre style=\"white-space:pre;overflow-x:auto;line-height:normal;font-family:Menlo,'DejaVu Sans Mono',consolas,'Courier New',monospace\">┏━━━━━━━━━━━━┳━━━━━━━━━━━━┳━━━━━━━━━━━━┳━━━━━━━━━━━┳━━━━━━━━━━━━┳━━━━━━━━━━━┳━━━━━━━━━━━━┳━━━━━━━━━━━┳━━━━━━━━━━━━┓\n",
       "┃<span style=\"font-weight: bold\"> Qx0        </span>┃<span style=\"font-weight: bold\"> Qx1        </span>┃<span style=\"font-weight: bold\"> Qx2        </span>┃<span style=\"font-weight: bold\"> Qx3       </span>┃<span style=\"font-weight: bold\"> Qx4        </span>┃<span style=\"font-weight: bold\"> Qx5       </span>┃<span style=\"font-weight: bold\">            </span>┃<span style=\"font-weight: bold\">           </span>┃<span style=\"font-weight: bold\">            </span>┃\n",
       "┡━━━━━━━━━━━━╇━━━━━━━━━━━━╇━━━━━━━━━━━━╇━━━━━━━━━━━╇━━━━━━━━━━━━╇━━━━━━━━━━━╇━━━━━━━━━━━━╇━━━━━━━━━━━╇━━━━━━━━━━━━┩\n",
       "│ 0.0        │ 0.0        │ 0.0        │ 0.0       │ 0.0        │ 0.0       │ 0.0        │ 0.0       │ 0.0        │\n",
       "│ 0.00501245 │ 0.01804485 │ 0.0        │ 0.0       │ 0.0        │ 0.0       │ 0.0        │ 0.0       │ 0.0        │\n",
       "│ 8489583334 │ 0562500405 │            │           │            │           │            │           │            │\n",
       "│ 0.01004985 │ 0.01810969 │ 0.01816156 │ 0.0       │ 0.0        │ 0.0       │ 0.0        │ 0.0       │ 0.0        │\n",
       "│ 6283577768 │ 2753968686 │ 6507143307 │           │            │           │            │           │            │\n",
       "│ 0.01511231 │ 0.01814979 │ 0.01816182 │ 0.0181618 │ 0.0        │ 0.0       │ 0.0        │ 0.0       │ 0.0        │\n",
       "│ 8963738684 │ 657183541  │ 771719543  │ 799592058 │            │           │            │           │            │\n",
       "│            │            │            │ 52        │            │           │            │           │            │\n",
       "│ 0.02019997 │ 0.01816491 │ 0.01816188 │ 0.0181618 │ 0.01816187 │ 0.0       │ 0.0        │ 0.0       │ 0.0        │\n",
       "│ 089227073  │ 0120857955 │ 7411053446 │ 794518723 │ 9502605723 │           │            │           │            │\n",
       "│            │            │            │ 75        │            │           │            │           │            │\n",
       "│ 0.02531293 │ 0.01815478 │ 0.01816187 │ 0.0181618 │ 0.01816187 │ 0.0181618 │ 0.0        │ 0.0       │ 0.0        │\n",
       "│ 527192553  │ 5140408768 │ 26267232   │ 795260773 │ 9500105584 │ 795008056 │            │           │            │\n",
       "│            │            │            │ 12        │            │ 2         │            │           │            │\n",
       "│ 0.03045133 │ 0.01811917 │ 0.01816190 │ 0.0181618 │ 0.01816187 │ 0.0181618 │ 0.0181618… │ 0.0       │ 0.0        │\n",
       "│ 42039229   │ 676712949  │ 6815064622 │ 794643914 │ 950140298  │ 795007802 │            │           │            │\n",
       "│            │            │            │ 86        │            │ 3         │            │           │            │\n",
       "│ 0.03561528 │ 0.01805784 │ 0.01816211 │ 0.0181618 │ 0.01816187 │ 0.0181618 │ 0.0181618… │ 0.018161… │ 0.0        │\n",
       "│ 874379143  │ 3308238158 │ 0188353422 │ 796986261 │ 949952668  │ 795008025 │            │           │            │\n",
       "│            │            │            │ 14        │            │ 65        │            │           │            │\n",
       "│ 0.04080491 │ 0.01797054 │ 0.01816260 │ 0.0181618 │ 0.01816187 │ 0.0181618 │ 0.0181618… │ 0.018161… │ 0.0181618… │\n",
       "│ 895521952  │ 602493647  │ 0048200184 │ 815870916 │ 9509779565 │ 795007570 │            │           │            │\n",
       "│            │            │            │           │            │ 25        │            │           │            │\n",
       "└────────────┴────────────┴────────────┴───────────┴────────────┴───────────┴────────────┴───────────┴────────────┘\n",
       "</pre>\n"
      ],
      "text/plain": [
       "┏━━━━━━━━━━━━┳━━━━━━━━━━━━┳━━━━━━━━━━━━┳━━━━━━━━━━━┳━━━━━━━━━━━━┳━━━━━━━━━━━┳━━━━━━━━━━━━┳━━━━━━━━━━━┳━━━━━━━━━━━━┓\n",
       "┃\u001b[1m \u001b[0m\u001b[1mQx0       \u001b[0m\u001b[1m \u001b[0m┃\u001b[1m \u001b[0m\u001b[1mQx1       \u001b[0m\u001b[1m \u001b[0m┃\u001b[1m \u001b[0m\u001b[1mQx2       \u001b[0m\u001b[1m \u001b[0m┃\u001b[1m \u001b[0m\u001b[1mQx3      \u001b[0m\u001b[1m \u001b[0m┃\u001b[1m \u001b[0m\u001b[1mQx4       \u001b[0m\u001b[1m \u001b[0m┃\u001b[1m \u001b[0m\u001b[1mQx5      \u001b[0m\u001b[1m \u001b[0m┃\u001b[1m \u001b[0m\u001b[1m          \u001b[0m\u001b[1m \u001b[0m┃\u001b[1m \u001b[0m\u001b[1m         \u001b[0m\u001b[1m \u001b[0m┃\u001b[1m \u001b[0m\u001b[1m          \u001b[0m\u001b[1m \u001b[0m┃\n",
       "┡━━━━━━━━━━━━╇━━━━━━━━━━━━╇━━━━━━━━━━━━╇━━━━━━━━━━━╇━━━━━━━━━━━━╇━━━━━━━━━━━╇━━━━━━━━━━━━╇━━━━━━━━━━━╇━━━━━━━━━━━━┩\n",
       "│ 0.0        │ 0.0        │ 0.0        │ 0.0       │ 0.0        │ 0.0       │ 0.0        │ 0.0       │ 0.0        │\n",
       "│ 0.00501245 │ 0.01804485 │ 0.0        │ 0.0       │ 0.0        │ 0.0       │ 0.0        │ 0.0       │ 0.0        │\n",
       "│ 8489583334 │ 0562500405 │            │           │            │           │            │           │            │\n",
       "│ 0.01004985 │ 0.01810969 │ 0.01816156 │ 0.0       │ 0.0        │ 0.0       │ 0.0        │ 0.0       │ 0.0        │\n",
       "│ 6283577768 │ 2753968686 │ 6507143307 │           │            │           │            │           │            │\n",
       "│ 0.01511231 │ 0.01814979 │ 0.01816182 │ 0.0181618 │ 0.0        │ 0.0       │ 0.0        │ 0.0       │ 0.0        │\n",
       "│ 8963738684 │ 657183541  │ 771719543  │ 799592058 │            │           │            │           │            │\n",
       "│            │            │            │ 52        │            │           │            │           │            │\n",
       "│ 0.02019997 │ 0.01816491 │ 0.01816188 │ 0.0181618 │ 0.01816187 │ 0.0       │ 0.0        │ 0.0       │ 0.0        │\n",
       "│ 089227073  │ 0120857955 │ 7411053446 │ 794518723 │ 9502605723 │           │            │           │            │\n",
       "│            │            │            │ 75        │            │           │            │           │            │\n",
       "│ 0.02531293 │ 0.01815478 │ 0.01816187 │ 0.0181618 │ 0.01816187 │ 0.0181618 │ 0.0        │ 0.0       │ 0.0        │\n",
       "│ 527192553  │ 5140408768 │ 26267232   │ 795260773 │ 9500105584 │ 795008056 │            │           │            │\n",
       "│            │            │            │ 12        │            │ 2         │            │           │            │\n",
       "│ 0.03045133 │ 0.01811917 │ 0.01816190 │ 0.0181618 │ 0.01816187 │ 0.0181618 │ 0.0181618… │ 0.0       │ 0.0        │\n",
       "│ 42039229   │ 676712949  │ 6815064622 │ 794643914 │ 950140298  │ 795007802 │            │           │            │\n",
       "│            │            │            │ 86        │            │ 3         │            │           │            │\n",
       "│ 0.03561528 │ 0.01805784 │ 0.01816211 │ 0.0181618 │ 0.01816187 │ 0.0181618 │ 0.0181618… │ 0.018161… │ 0.0        │\n",
       "│ 874379143  │ 3308238158 │ 0188353422 │ 796986261 │ 949952668  │ 795008025 │            │           │            │\n",
       "│            │            │            │ 14        │            │ 65        │            │           │            │\n",
       "│ 0.04080491 │ 0.01797054 │ 0.01816260 │ 0.0181618 │ 0.01816187 │ 0.0181618 │ 0.0181618… │ 0.018161… │ 0.0181618… │\n",
       "│ 895521952  │ 602493647  │ 0048200184 │ 815870916 │ 9509779565 │ 795007570 │            │           │            │\n",
       "│            │            │            │           │            │ 25        │            │           │            │\n",
       "└────────────┴────────────┴────────────┴───────────┴────────────┴───────────┴────────────┴───────────┴────────────┘\n"
      ]
     },
     "metadata": {},
     "output_type": "display_data"
    }
   ],
   "source": [
    "# Calculo el valor en y(0.045) con interpolacion de Neville\n",
    "\n",
    "from metodos_interpolacion import neville\n",
    "\n",
    "matriz = neville(T, Y, 1.018)\n",
    "\n",
    "lista_para_tabular = [[\"Qx0\", \"Qx1\", \"Qx2\", \"Qx3\", \"Qx4\", \"Qx5\"]]\n",
    "for fila in matriz:\n",
    "    nueva_fila = []\n",
    "    for celda in fila:\n",
    "        nueva_fila.append(str(celda))\n",
    "    lista_para_tabular.append(nueva_fila)\n",
    "\n",
    "imprimir_tabla(lista_para_tabular)"
   ]
  },
  {
   "cell_type": "code",
   "execution_count": 16,
   "metadata": {},
   "outputs": [
    {
     "name": "stdout",
     "output_type": "stream",
     "text": [
      "El valor interpolado de y(0.045) es: 0.01816187950080562\n"
     ]
    }
   ],
   "source": [
    "# El valor interpolado nos da algo entre los valores de 0.04 y 0.05 así que parece correcto\n",
    "print(\"El valor interpolado de y(0.045) es:\", matriz[5][5])"
   ]
  }
 ],
 "metadata": {
  "kernelspec": {
   "display_name": "venv",
   "language": "python",
   "name": "python3"
  },
  "language_info": {
   "codemirror_mode": {
    "name": "ipython",
    "version": 3
   },
   "file_extension": ".py",
   "mimetype": "text/x-python",
   "name": "python",
   "nbconvert_exporter": "python",
   "pygments_lexer": "ipython3",
   "version": "3.10.12"
  }
 },
 "nbformat": 4,
 "nbformat_minor": 2
}
