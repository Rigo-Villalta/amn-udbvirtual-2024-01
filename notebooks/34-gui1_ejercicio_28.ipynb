{
 "cells": [
  {
   "cell_type": "markdown",
   "metadata": {},
   "source": [
    "28 - La velocidad vertical de un cohete se calcula mediante la siguiente fórmula:\n",
    "\n",
    "$$ v = u.ln \\left( \\frac{mo}{mo - qt} \\right) - gt $$\n",
    "\n",
    "Donde: \n",
    "\n",
    "𝑔 = 9.81 𝑚/𝑠2\n",
    "𝑞 = tasa de consumo de combustible = 2,700 kg/s\n",
    "𝑢 = velocidad con la que se expele el combustible = 8,820 km/h\n",
    "𝑚𝑜 = masa inicial del cohete= 185,000 kg\n",
    "\n",
    "Emplee el Método de Steffensen para determinar el tiempo t, para el cual el cohete alcanza una velocidad de 1025 m/s, con una precisión de 10-12. Emplee 15 decimales\n",
    "\n",
    "### Solución\n",
    "\n",
    "Pasamos la velocidad a m/s\n",
    "\n",
    "$$ 8,820 km/h = 2450 m/s $$\n",
    "\n",
    "Sustituimos los valores el la fórmula y dejo igualado a cero:\n",
    "\n",
    "$$ 0 = 1025 - 2450*ln \\left( \\frac{185000}{185000 - 2700t} \\right) + 9.81t $$\n",
    "\n",
    "Despejo el término con \"t\":\n",
    "\n",
    "$$ 9.81t = 2450*ln \\left( \\frac{185000}{185000 - 2700t} \\right)  - 1025 $$\n",
    "\n",
    "Despejo la t completamente y tengo mi g(t):\n",
    "\n",
    "$$ t = \\frac{2450 *ln \\left( \\frac{185000}{185000 - 2700t} \\right) - 1025 }{9.81} = g(t)  $$\n",
    "\n",
    "\n",
    "\n",
    "\n",
    "\n"
   ]
  },
  {
   "cell_type": "code",
   "execution_count": 14,
   "metadata": {},
   "outputs": [
    {
     "data": {
      "text/html": [
       "<pre style=\"white-space:pre;overflow-x:auto;line-height:normal;font-family:Menlo,'DejaVu Sans Mono',consolas,'Courier New',monospace\">┏━━━━━━━━━━━━━━━━┳━━━━━━━━━━━━━━━━━━┳━━━━━━━━━━━━━━━━━━━┳━━━━━━━━━━━━━━━━━━┳━━━━━━━━━━━━━━━━━━━┳━━━━━━━━━━━━━━━━━━┓\n",
       "┃<span style=\"font-weight: bold\"> # de iteración </span>┃<span style=\"font-weight: bold\"> x0               </span>┃<span style=\"font-weight: bold\"> x1                </span>┃<span style=\"font-weight: bold\"> x2               </span>┃<span style=\"font-weight: bold\"> x3                </span>┃<span style=\"font-weight: bold\"> error            </span>┃\n",
       "┡━━━━━━━━━━━━━━━━╇━━━━━━━━━━━━━━━━━━╇━━━━━━━━━━━━━━━━━━━╇━━━━━━━━━━━━━━━━━━╇━━━━━━━━━━━━━━━━━━━╇━━━━━━━━━━━━━━━━━━┩\n",
       "│ 1              │ 28.199999999999… │ 27.9529328824733… │ 26.427194077342… │ 26.4271940773428… │ 0.0477387285217… │\n",
       "│ 2              │ 28.247738728521… │ 28.2488162799532… │ 28.255498962891… │ 28.2554989628910… │ 0.0002071525148… │\n",
       "│ 3              │ 28.247531576006… │ 28.2475315964989… │ 28.247531723583… │ 28.2475317235831… │ 0.0000000039395… │\n",
       "│ 4              │ 28.247531572067… │ 28.2475315720673… │ 28.247531572067… │ 28.2475315720673… │ &lt;-- solución     │\n",
       "└────────────────┴──────────────────┴───────────────────┴──────────────────┴───────────────────┴──────────────────┘\n",
       "</pre>\n"
      ],
      "text/plain": [
       "┏━━━━━━━━━━━━━━━━┳━━━━━━━━━━━━━━━━━━┳━━━━━━━━━━━━━━━━━━━┳━━━━━━━━━━━━━━━━━━┳━━━━━━━━━━━━━━━━━━━┳━━━━━━━━━━━━━━━━━━┓\n",
       "┃\u001b[1m \u001b[0m\u001b[1m# de iteración\u001b[0m\u001b[1m \u001b[0m┃\u001b[1m \u001b[0m\u001b[1mx0              \u001b[0m\u001b[1m \u001b[0m┃\u001b[1m \u001b[0m\u001b[1mx1               \u001b[0m\u001b[1m \u001b[0m┃\u001b[1m \u001b[0m\u001b[1mx2              \u001b[0m\u001b[1m \u001b[0m┃\u001b[1m \u001b[0m\u001b[1mx3               \u001b[0m\u001b[1m \u001b[0m┃\u001b[1m \u001b[0m\u001b[1merror           \u001b[0m\u001b[1m \u001b[0m┃\n",
       "┡━━━━━━━━━━━━━━━━╇━━━━━━━━━━━━━━━━━━╇━━━━━━━━━━━━━━━━━━━╇━━━━━━━━━━━━━━━━━━╇━━━━━━━━━━━━━━━━━━━╇━━━━━━━━━━━━━━━━━━┩\n",
       "│ 1              │ 28.199999999999… │ 27.9529328824733… │ 26.427194077342… │ 26.4271940773428… │ 0.0477387285217… │\n",
       "│ 2              │ 28.247738728521… │ 28.2488162799532… │ 28.255498962891… │ 28.2554989628910… │ 0.0002071525148… │\n",
       "│ 3              │ 28.247531576006… │ 28.2475315964989… │ 28.247531723583… │ 28.2475317235831… │ 0.0000000039395… │\n",
       "│ 4              │ 28.247531572067… │ 28.2475315720673… │ 28.247531572067… │ 28.2475315720673… │ <-- solución     │\n",
       "└────────────────┴──────────────────┴───────────────────┴──────────────────┴───────────────────┴──────────────────┘\n"
      ]
     },
     "metadata": {},
     "output_type": "display_data"
    }
   ],
   "source": [
    "import math\n",
    "\n",
    "from metodos_numericos import steffensen\n",
    "from utils import imprimir_tabla\n",
    "\n",
    "def g(t):\n",
    "  return ((2450 * math.log(185000 / (185000 - 2700*t))) - 1025) / 9.81\n",
    "\n",
    "\n",
    "resultado = steffensen(28.2, g, 10E-12, 1, [])\n",
    "imprimir_tabla(resultado)\n"
   ]
  }
 ],
 "metadata": {
  "kernelspec": {
   "display_name": "venv",
   "language": "python",
   "name": "python3"
  },
  "language_info": {
   "codemirror_mode": {
    "name": "ipython",
    "version": 3
   },
   "file_extension": ".py",
   "mimetype": "text/x-python",
   "name": "python",
   "nbconvert_exporter": "python",
   "pygments_lexer": "ipython3",
   "version": "3.10.12"
  }
 },
 "nbformat": 4,
 "nbformat_minor": 2
}
