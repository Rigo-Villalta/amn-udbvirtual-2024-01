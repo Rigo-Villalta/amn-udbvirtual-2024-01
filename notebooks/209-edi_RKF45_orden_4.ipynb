{
 "cells": [
  {
   "cell_type": "code",
   "execution_count": 26,
   "metadata": {},
   "outputs": [
    {
     "data": {
      "text/latex": [
       "$\\displaystyle \\operatorname{fy}{\\left(t \\right)} = - \\cos{\\left(t \\right)} + \\frac{\\sin{\\left(t \\right)}}{t} - \\frac{\\pi}{t}$"
      ],
      "text/plain": [
       "Eq(fy(t), -cos(t) + sin(t)/t - pi/t)"
      ]
     },
     "execution_count": 26,
     "metadata": {},
     "output_type": "execute_result"
    }
   ],
   "source": [
    "from sympy import *\n",
    "from numpy import arange\n",
    "\n",
    "fy = symbols(\"fy\", cls=Function)\n",
    "t, y = symbols(\"t y\")\n",
    "\n",
    "h = pi/200\n",
    "\n",
    "eq = Eq(fy(t).diff(),(t * sin(t) - fy(t)) / t)\n",
    "f = (t * sin(t) - y) / t\n",
    "\n",
    "\n",
    "# Calculamos la solucion particular F\n",
    "condiciones_iniciales = {fy(pi):0}\n",
    "F = dsolve(eq, ics=condiciones_iniciales)\n",
    "F"
   ]
  },
  {
   "cell_type": "code",
   "execution_count": 27,
   "metadata": {},
   "outputs": [
    {
     "data": {
      "text/plain": [
       "[pi, 201*pi/200, 101*pi/100, 203*pi/200]"
      ]
     },
     "execution_count": 27,
     "metadata": {},
     "output_type": "execute_result"
    }
   ],
   "source": [
    "# creamos nuestro intervalo\n",
    "T = [t for t in arange(start=pi, stop=((203*pi) /200) + h/2, step=h)]\n",
    "T"
   ]
  },
  {
   "cell_type": "code",
   "execution_count": 28,
   "metadata": {},
   "outputs": [
    {
     "data": {
      "text/plain": [
       "[0, -0.00012316292709784276, -0.000491811067093176, -0.0011046560370245654]"
      ]
     },
     "execution_count": 28,
     "metadata": {},
     "output_type": "execute_result"
    }
   ],
   "source": [
    "# Declaro la lista con y(pi) = 0\n",
    "\n",
    "Y = [0]\n",
    "K1 = [0]\n",
    "K2 = [0]\n",
    "K3 = [0]\n",
    "K4 = [0]\n",
    "K5 = [0]\n",
    "K6 = [0]\n",
    "\n",
    "# Hago un for para aplicar la fórmula\n",
    "for i in range(1, len(T)):\n",
    "    k1 = f.subs({t: T[i-1], y: Y[i-1]})\n",
    "    k2 = f.subs({t: T[i-1] + 0.25*h, y: Y[i-1] + 0.25*h*k1})\n",
    "    k3 = f.subs({t: T[i-1] + (3/8)*h, y: Y[i-1] + (3/32)*h*k1 + (9/32)*h*k2})\n",
    "    k4 = f.subs({t: T[i-1] + (12/13)*h, y: Y[i-1] + (1932/2197)*h*k1 - (7200/2197)*h*k2 + (7296/2197)*h*k3})\n",
    "    k5 = f.subs({t: T[i-1] + h, y: Y[i-1] + (439/216)*h*k1 - 8*h*k2 + (3680/513)*h*k3 - (845/4104)*h*k4})\n",
    "    k6 = f.subs({t: T[i-1] + 0.5*h, y: Y[i-1] - (8/27)*h*k1 + 2*h*k2 - (3544/2565)*h*k3 + (1859/4104)*h*k4 - (11/40)*h*k5})\n",
    "    K1.append(k1)\n",
    "    K2.append(k2)\n",
    "    K3.append(k3)\n",
    "    K4.append(k4)\n",
    "    K5.append(k5)\n",
    "    K6.append(k6)\n",
    "    Y.append(float(Y[i-1] + h*((25/216)*k1 + (1408/2565)*k3 + (2197/4104)*k4 - 0.2*k5)))\n",
    "\n",
    "Y"
   ]
  },
  {
   "cell_type": "code",
   "execution_count": 29,
   "metadata": {},
   "outputs": [
    {
     "data": {
      "text/plain": [
       "[0.0, -0.00012316292707405225, -0.0004918110670461527, -0.0011046560369548557]"
      ]
     },
     "execution_count": 29,
     "metadata": {},
     "output_type": "execute_result"
    }
   ],
   "source": [
    "# Si la solución particular es viable,\n",
    "# calculamos los valores exactos\n",
    "solucion_exacta = []\n",
    "for i in range(len(T)):\n",
    "    solucion_exacta.append(float(F.rhs.subs({t: T[i]})))\n",
    "solucion_exacta"
   ]
  },
  {
   "cell_type": "code",
   "execution_count": 30,
   "metadata": {},
   "outputs": [
    {
     "data": {
      "text/html": [
       "<pre style=\"white-space:pre;overflow-x:auto;line-height:normal;font-family:Menlo,'DejaVu Sans Mono',consolas,'Courier New',monospace\">┏━━━━━━━━━━━━━━━━━━━━┳━━━━━━━━━━━━━━━━━━━━━━━━━┳━━━━━━━━━━━━━━━━━━━━━━━━━┳━━━━━━━━━━━━━━━━━━━━━━━━┓\n",
       "┃<span style=\"font-weight: bold\"> ti                 </span>┃<span style=\"font-weight: bold\"> Yi                      </span>┃<span style=\"font-weight: bold\"> F(ti)                   </span>┃<span style=\"font-weight: bold\"> Error                  </span>┃\n",
       "┡━━━━━━━━━━━━━━━━━━━━╇━━━━━━━━━━━━━━━━━━━━━━━━━╇━━━━━━━━━━━━━━━━━━━━━━━━━╇━━━━━━━━━━━━━━━━━━━━━━━━┩\n",
       "│ 3.141592653589793  │ 0.0                     │ 0.0                     │ 0.0                    │\n",
       "│ 3.157300616857742  │ -0.00012316292709784276 │ -0.00012316292707405225 │ 2.3790512745577863e-14 │\n",
       "│ 3.1730085801256913 │ -0.000491811067093176   │ -0.0004918110670461527  │ 4.702336610373781e-14  │\n",
       "│ 3.18871654339364   │ -0.0011046560370245654  │ -0.0011046560369548557  │ 6.97096460416935e-14   │\n",
       "└────────────────────┴─────────────────────────┴─────────────────────────┴────────────────────────┘\n",
       "</pre>\n"
      ],
      "text/plain": [
       "┏━━━━━━━━━━━━━━━━━━━━┳━━━━━━━━━━━━━━━━━━━━━━━━━┳━━━━━━━━━━━━━━━━━━━━━━━━━┳━━━━━━━━━━━━━━━━━━━━━━━━┓\n",
       "┃\u001b[1m \u001b[0m\u001b[1mti                \u001b[0m\u001b[1m \u001b[0m┃\u001b[1m \u001b[0m\u001b[1mYi                     \u001b[0m\u001b[1m \u001b[0m┃\u001b[1m \u001b[0m\u001b[1mF(ti)                  \u001b[0m\u001b[1m \u001b[0m┃\u001b[1m \u001b[0m\u001b[1mError                 \u001b[0m\u001b[1m \u001b[0m┃\n",
       "┡━━━━━━━━━━━━━━━━━━━━╇━━━━━━━━━━━━━━━━━━━━━━━━━╇━━━━━━━━━━━━━━━━━━━━━━━━━╇━━━━━━━━━━━━━━━━━━━━━━━━┩\n",
       "│ 3.141592653589793  │ 0.0                     │ 0.0                     │ 0.0                    │\n",
       "│ 3.157300616857742  │ -0.00012316292709784276 │ -0.00012316292707405225 │ 2.3790512745577863e-14 │\n",
       "│ 3.1730085801256913 │ -0.000491811067093176   │ -0.0004918110670461527  │ 4.702336610373781e-14  │\n",
       "│ 3.18871654339364   │ -0.0011046560370245654  │ -0.0011046560369548557  │ 6.97096460416935e-14   │\n",
       "└────────────────────┴─────────────────────────┴─────────────────────────┴────────────────────────┘\n"
      ]
     },
     "metadata": {},
     "output_type": "display_data"
    },
    {
     "data": {
      "text/html": [
       "<pre style=\"white-space:pre;overflow-x:auto;line-height:normal;font-family:Menlo,'DejaVu Sans Mono',consolas,'Courier New',monospace\">┏━━━━━━━━━━━━━━━━━━┳━━━━━━━━━━━━━━━━━━┳━━━━━━━━━━━━━━━━━━┳━━━━━━━━━━━━━━━━━━┳━━━━━━━━━━━━━━━━━━┳━━━━━━━━━━━━━━━━━━┓\n",
       "┃<span style=\"font-weight: bold\"> k1               </span>┃<span style=\"font-weight: bold\"> k2               </span>┃<span style=\"font-weight: bold\"> k3               </span>┃<span style=\"font-weight: bold\"> k4               </span>┃<span style=\"font-weight: bold\"> k5               </span>┃<span style=\"font-weight: bold\"> k6               </span>┃\n",
       "┡━━━━━━━━━━━━━━━━━━╇━━━━━━━━━━━━━━━━━━╇━━━━━━━━━━━━━━━━━━╇━━━━━━━━━━━━━━━━━━╇━━━━━━━━━━━━━━━━━━╇━━━━━━━━━━━━━━━━━━┩\n",
       "│ 0.0              │ 0.0              │ 0.0              │ 0.0              │ 0.0              │ 0.0              │\n",
       "│ 0.0              │ -0.0039269807238 │ -0.0058849401793 │ -0.0144659348142 │ -0.0156684057623 │ -0.0078440917090 │\n",
       "│                  │ 05917            │ 50022            │ 47662            │ 09424            │ 96416            │\n",
       "│ -0.0156683083791 │ -0.0195752682491 │ -0.0215231998570 │ -0.0300596888678 │ -0.0312558566594 │ -0.0234722629439 │\n",
       "│ 77317            │ 68953            │ 84476            │ 2511             │ 4657             │ 28505            │\n",
       "│ -0.0312557607367 │ -0.0351421180722 │ -0.0370797307434 │ -0.0455704340725 │ -0.0467601186425 │ -0.0390184139025 │\n",
       "│ 517              │ 2059             │ 8302             │ 2897             │ 94196            │ 2168             │\n",
       "└──────────────────┴──────────────────┴──────────────────┴──────────────────┴──────────────────┴──────────────────┘\n",
       "</pre>\n"
      ],
      "text/plain": [
       "┏━━━━━━━━━━━━━━━━━━┳━━━━━━━━━━━━━━━━━━┳━━━━━━━━━━━━━━━━━━┳━━━━━━━━━━━━━━━━━━┳━━━━━━━━━━━━━━━━━━┳━━━━━━━━━━━━━━━━━━┓\n",
       "┃\u001b[1m \u001b[0m\u001b[1mk1              \u001b[0m\u001b[1m \u001b[0m┃\u001b[1m \u001b[0m\u001b[1mk2              \u001b[0m\u001b[1m \u001b[0m┃\u001b[1m \u001b[0m\u001b[1mk3              \u001b[0m\u001b[1m \u001b[0m┃\u001b[1m \u001b[0m\u001b[1mk4              \u001b[0m\u001b[1m \u001b[0m┃\u001b[1m \u001b[0m\u001b[1mk5              \u001b[0m\u001b[1m \u001b[0m┃\u001b[1m \u001b[0m\u001b[1mk6              \u001b[0m\u001b[1m \u001b[0m┃\n",
       "┡━━━━━━━━━━━━━━━━━━╇━━━━━━━━━━━━━━━━━━╇━━━━━━━━━━━━━━━━━━╇━━━━━━━━━━━━━━━━━━╇━━━━━━━━━━━━━━━━━━╇━━━━━━━━━━━━━━━━━━┩\n",
       "│ 0.0              │ 0.0              │ 0.0              │ 0.0              │ 0.0              │ 0.0              │\n",
       "│ 0.0              │ -0.0039269807238 │ -0.0058849401793 │ -0.0144659348142 │ -0.0156684057623 │ -0.0078440917090 │\n",
       "│                  │ 05917            │ 50022            │ 47662            │ 09424            │ 96416            │\n",
       "│ -0.0156683083791 │ -0.0195752682491 │ -0.0215231998570 │ -0.0300596888678 │ -0.0312558566594 │ -0.0234722629439 │\n",
       "│ 77317            │ 68953            │ 84476            │ 2511             │ 4657             │ 28505            │\n",
       "│ -0.0312557607367 │ -0.0351421180722 │ -0.0370797307434 │ -0.0455704340725 │ -0.0467601186425 │ -0.0390184139025 │\n",
       "│ 517              │ 2059             │ 8302             │ 2897             │ 94196            │ 2168             │\n",
       "└──────────────────┴──────────────────┴──────────────────┴──────────────────┴──────────────────┴──────────────────┘\n"
      ]
     },
     "metadata": {},
     "output_type": "display_data"
    }
   ],
   "source": [
    "# pasamos todos los datos a una lista anidada para poder desplegarlos en una tabla\n",
    "\n",
    "from utils import imprimir_tabla\n",
    "\n",
    "# Primero una lista para los datos principales\n",
    "lista_tabla = [[\"ti\", \"Yi\", \"F(ti)\", \"Error\"]]\n",
    "\n",
    "for i in range(len(T)):\n",
    "    lista_tabla.append(\n",
    "        [\n",
    "            str(float(T[i])),\n",
    "            str(float(Y[i])),\n",
    "            str(solucion_exacta[i]),\n",
    "            str(abs(Y[i] - solucion_exacta[i])),\n",
    "        ]\n",
    "    )\n",
    "\n",
    "# Ahora una lista de las K\n",
    "lista_k = [[\"k1\", \"k2\", \"k3\", \"k4\", \"k5\", \"k6\"]]\n",
    "\n",
    "for i in range(len(T)):\n",
    "    lista_k.append(\n",
    "        [\n",
    "            str(float(K1[i])),\n",
    "            str(float(K2[i])),\n",
    "            str(float(K3[i])),\n",
    "            str(float(K4[i])),\n",
    "            str(float(K5[i])),\n",
    "            str(float(K6[i]))\n",
    "        ]\n",
    "    )\n",
    "\n",
    "imprimir_tabla(lista_tabla)\n",
    "\n",
    "imprimir_tabla(lista_k)"
   ]
  }
 ],
 "metadata": {
  "kernelspec": {
   "display_name": "venv",
   "language": "python",
   "name": "python3"
  },
  "language_info": {
   "codemirror_mode": {
    "name": "ipython",
    "version": 3
   },
   "file_extension": ".py",
   "mimetype": "text/x-python",
   "name": "python",
   "nbconvert_exporter": "python",
   "pygments_lexer": "ipython3",
   "version": "3.10.12"
  }
 },
 "nbformat": 4,
 "nbformat_minor": 2
}
