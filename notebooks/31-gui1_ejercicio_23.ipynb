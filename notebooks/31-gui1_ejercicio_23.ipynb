{
 "cells": [
  {
   "cell_type": "markdown",
   "metadata": {},
   "source": [
    "23 - Según el principio de Arquímedes, la fuerza de flotación o empuje es igual al peso del fluido desplazado por la porción sumergida de un objeto. Para la esfera de la figura, determine la\n",
    "altura h de la porción que se encuentra sobre el agua considerando las constantes con los\n",
    "valores mostrados. Utilice el método de posición falsa con una precisión de 10-12. Emplee 15 decimales.\n",
    "\n",
    "$$ ρ_{esfera} = 200 Kg/m^3 $$\n",
    "$$ ρ_{agua} = 1000 kg/m3 $$\n",
    "$$ r = 1 m $$\n",
    "$$ g =9.8 m/s^2 $$\n",
    "\n",
    "Para referencia tenemos que tomar en cuenta que el volumen de una esfera viene dado por (ecuación 1):\n",
    "\n",
    "$$ V_e = \\frac{4}{3} \\pi r^3  $$\n",
    "\n",
    "Ahora tenemos que buscar la forma de determinar el volumen de la esfera que está sobre el agua. Sabemos por mecánica de fluidos que:\n",
    "\n",
    "$$ \\frac{V_{dezplazado}}{V_{esfera}}  = { \\rho_{esfera} \\over \\rho_{agua} } $$\n",
    "\n",
    "Por lo tanto:\n",
    "$$ V_{desplazado}  = { \\rho_{esfera} \\over \\rho_{agua} } V_{esfera} = { 200 \\over 1000 } \\frac{4}{3} \\pi r^3 = \\frac{4}{15} \\pi m^3$$\n",
    "\n",
    "Y el volumen desplazado de agua es lo que se ha sumergido, por lo tanto la diferencia es el volumen sobre la superficie:\n",
    "\n",
    "$$ V_{desplazado} = V_{esfera} - V{superficial} $$\n",
    "\n",
    "sustituimos:\n",
    "\n",
    "$$ V_{esfera} - V{superficial} = { \\rho_{esfera} \\over \\rho_{agua} } V_{esfera} $$\n",
    "\n",
    "Despejamos y factorizamos:\n",
    "\n",
    "$$ V_{superficial} = \\left( 1 - { \\rho_{esfera} \\over \\rho_{agua} } \\right) V_{esfera}   $$\n",
    "\n",
    "Sustituimos el volumen de la esfera por la ecuación 1:\n",
    "\n",
    "$$ V_{superficial} = \\left( 1 - { \\rho_{esfera} \\over \\rho_{agua} } \\right) \\frac{4}{3} \\pi r^3 $$\n",
    "\n",
    "operamos y tenemos nuestra ecuación 2:\n",
    "\n",
    "$$ V_{superficial} = \\left( 1 - { \\rho_{esfera} \\over \\rho_{agua} } \\right) \\frac{4}{3} \\pi r^3  =  \\left( 1 - { 200 \\over 1000 } \\right) \\frac{4}{3} \\pi 1^3 = \\frac{16}{15} \\pi  $$\n",
    "\n",
    "Además la fórmula para encontrar una esfera parcial (cortada), en base a una altura \"h\" y el radio es:\n",
    "\n",
    "$$ v_{esferaparcial} = \\frac{\\pi h^2}{3} * (3r - h)  $$\n",
    "\n",
    "Para nuestro caso, ya que r=1 y tenemos nuestra ecuación 3:\n",
    "\n",
    "$$ v_{esferaparcial} = \\frac{\\pi h^2}{3} * (3 - h)  $$\n",
    "\n",
    "Por lo tanto si igualamos la ecuación 2 y la ecuación 3:\n",
    "\n",
    "$$ \\frac{\\pi h^2}{3} * (3 - h) = \\frac{16}{15} \\pi  $$\n",
    "\n",
    "y para tener nuestra ecuación con la variable \"h\" e igualada a cero reducimos a:\n",
    "\n",
    "$$ (3-h)h^2 - \\frac{16}{5} = 0 $$\n",
    "\n",
    "con esta ecuación trabajamos el método númerico.\n",
    "\n",
    "Como el radio de la esfera es 1, el diámetro es 2, por lo tanto la altura debe estar entre 0 y 2"
   ]
  },
  {
   "cell_type": "code",
   "execution_count": 1,
   "metadata": {},
   "outputs": [
    {
     "data": {
      "text/html": [
       "<pre style=\"white-space:pre;overflow-x:auto;line-height:normal;font-family:Menlo,'DejaVu Sans Mono',consolas,'Courier New',monospace\">┏━━━┳━━━━━━━━━━━━━━━━━━━┳━━━━━━━━━━━━━━━━━━━┳━━━━━━━━━━━━━━━━━━━┳━━━━━━━━━━━━━━━━━━━┓\n",
       "┃<span style=\"font-weight: bold\"> 1 </span>┃<span style=\"font-weight: bold\"> 0.000000000000000 </span>┃<span style=\"font-weight: bold\"> 2.000000000000000 </span>┃<span style=\"font-weight: bold\"> 1.600000000000000 </span>┃<span style=\"font-weight: bold\"> 0.400000000000000 </span>┃\n",
       "┡━━━╇━━━━━━━━━━━━━━━━━━━╇━━━━━━━━━━━━━━━━━━━╇━━━━━━━━━━━━━━━━━━━╇━━━━━━━━━━━━━━━━━━━┩\n",
       "│ 2 │ 1.600000000000000 │ 0.000000000000000 │ 1.428571428571429 │ 0.171428571428571 │\n",
       "│ 3 │ 1.428571428571429 │ 0.000000000000000 │ 1.425454545454546 │ 0.003116883116883 │\n",
       "│ 4 │ 1.425454545454546 │ 1.428571428571429 │ 1.425718942103766 │ 0.000264396649220 │\n",
       "│ 5 │ 1.425718942103766 │ 1.425454545454546 │ 1.425718549220439 │ 0.000000392883327 │\n",
       "│ 6 │ 1.425718549220439 │ 1.425454545454546 │ 1.425718549166527 │ 0.000000000053912 │\n",
       "│ 7 │ 1.425718549166527 │ 1.425454545454546 │ 1.425718549166519 │ &lt;-- solución      │\n",
       "└───┴───────────────────┴───────────────────┴───────────────────┴───────────────────┘\n",
       "</pre>\n"
      ],
      "text/plain": [
       "┏━━━┳━━━━━━━━━━━━━━━━━━━┳━━━━━━━━━━━━━━━━━━━┳━━━━━━━━━━━━━━━━━━━┳━━━━━━━━━━━━━━━━━━━┓\n",
       "┃\u001b[1m \u001b[0m\u001b[1m1\u001b[0m\u001b[1m \u001b[0m┃\u001b[1m \u001b[0m\u001b[1m0.000000000000000\u001b[0m\u001b[1m \u001b[0m┃\u001b[1m \u001b[0m\u001b[1m2.000000000000000\u001b[0m\u001b[1m \u001b[0m┃\u001b[1m \u001b[0m\u001b[1m1.600000000000000\u001b[0m\u001b[1m \u001b[0m┃\u001b[1m \u001b[0m\u001b[1m0.400000000000000\u001b[0m\u001b[1m \u001b[0m┃\n",
       "┡━━━╇━━━━━━━━━━━━━━━━━━━╇━━━━━━━━━━━━━━━━━━━╇━━━━━━━━━━━━━━━━━━━╇━━━━━━━━━━━━━━━━━━━┩\n",
       "│ 2 │ 1.600000000000000 │ 0.000000000000000 │ 1.428571428571429 │ 0.171428571428571 │\n",
       "│ 3 │ 1.428571428571429 │ 0.000000000000000 │ 1.425454545454546 │ 0.003116883116883 │\n",
       "│ 4 │ 1.425454545454546 │ 1.428571428571429 │ 1.425718942103766 │ 0.000264396649220 │\n",
       "│ 5 │ 1.425718942103766 │ 1.425454545454546 │ 1.425718549220439 │ 0.000000392883327 │\n",
       "│ 6 │ 1.425718549220439 │ 1.425454545454546 │ 1.425718549166527 │ 0.000000000053912 │\n",
       "│ 7 │ 1.425718549166527 │ 1.425454545454546 │ 1.425718549166519 │ <-- solución      │\n",
       "└───┴───────────────────┴───────────────────┴───────────────────┴───────────────────┘\n"
      ]
     },
     "metadata": {},
     "output_type": "display_data"
    }
   ],
   "source": [
    "from metodos_numericos import posicion_falsa\n",
    "from utils import imprimir_tabla\n",
    "\n",
    "\n",
    "def f(h):\n",
    "  return (3 - h) * h**2 - 16/5\n",
    "\n",
    "\n",
    "solucion = posicion_falsa(0, 2, f, 10E-12, 1, [])\n",
    "imprimir_tabla(solucion)"
   ]
  }
 ],
 "metadata": {
  "kernelspec": {
   "display_name": "venv",
   "language": "python",
   "name": "python3"
  },
  "language_info": {
   "codemirror_mode": {
    "name": "ipython",
    "version": 3
   },
   "file_extension": ".py",
   "mimetype": "text/x-python",
   "name": "python",
   "nbconvert_exporter": "python",
   "pygments_lexer": "ipython3",
   "version": "3.10.12"
  }
 },
 "nbformat": 4,
 "nbformat_minor": 2
}
