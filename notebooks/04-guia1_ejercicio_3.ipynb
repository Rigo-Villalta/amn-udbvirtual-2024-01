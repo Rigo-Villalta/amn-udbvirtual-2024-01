{
 "cells": [
  {
   "cell_type": "markdown",
   "metadata": {},
   "source": [
    "3. Elaborar un programa que lea el valor de un número natural n y muestre la lista de los primeros n elementos de la Serie de Fibonacci. Así, por ejemplo, si n= 10, el programa debería mostrar la siguiente serie: 0, 1, 1, 2, 3, 5, 8, 13, 21, 34."
   ]
  },
  {
   "cell_type": "code",
   "execution_count": 1,
   "metadata": {},
   "outputs": [
    {
     "name": "stdout",
     "output_type": "stream",
     "text": [
      "[0, 1, 1, 2, 3, 5, 8, 13, 21, 34]\n"
     ]
    }
   ],
   "source": [
    "def serie_fibonacchi(n):\n",
    "    serie = [0, 1]\n",
    "    if n < 3:\n",
    "        raise ValueError(\"Debe haber al menos tres elementos en la serie.\")\n",
    "    acumulador = 2\n",
    "    while acumulador < n:\n",
    "        serie.append(serie[acumulador-1] + serie[acumulador-2])\n",
    "        acumulador += 1\n",
    "    return serie\n",
    "\n",
    "print(serie_fibonacchi(10))"
   ]
  }
 ],
 "metadata": {
  "kernelspec": {
   "display_name": "venv",
   "language": "python",
   "name": "python3"
  },
  "language_info": {
   "codemirror_mode": {
    "name": "ipython",
    "version": 3
   },
   "file_extension": ".py",
   "mimetype": "text/x-python",
   "name": "python",
   "nbconvert_exporter": "python",
   "pygments_lexer": "ipython3",
   "version": "3.10.12"
  }
 },
 "nbformat": 4,
 "nbformat_minor": 2
}
