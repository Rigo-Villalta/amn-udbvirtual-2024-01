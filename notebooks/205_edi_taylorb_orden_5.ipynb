{
 "cells": [
  {
   "cell_type": "markdown",
   "metadata": {},
   "source": [
    "### Método de Taylor orden 5\n",
    "\n",
    "Se siguen los mismos pasos que en el ejemplo anterior\n",
    "\n",
    "Ejemplo 1 de clase 14 y video: https://youtu.be/7b9tK7SmxJg?si=FH5FAcGbHKPVh1sa\n",
    "\n",
    "Emplee el método de Taylor de orden 5 para obtener la solución aproximada a la siguiente ecuación diferencial:\n",
    "\n",
    "$$ y' = 1 + (t-y)^2, \\ \\ \\ 2 \\leq t \\leq \\frac{161}{80}, \\ \\ \\ y(2)=1, \\ \\ \\  h = \\frac{1}{400} $$\n",
    "\n",
    "Solución:\n",
    "\n",
    "La función despejada en la forma $ \\frac{dy}{dt} = f $  y las 5 primeras derivadas de y', luego de sustituir esta en ellas y simplicar cada una nos da:\n",
    "\n",
    "$$ F'(t) = f(t, y) = y' = 1 + (t-y)^2 $$\n",
    "$$ F''(t) = f'(t, y) = -2(t-y)^3 $$\n",
    "$$ F'''(t) = f''(t, y) = 6(t-y)^4 $$\n",
    "$$ F^{(4)} (t) = f'''(t, y) = -24(t-y)^5 $$\n",
    "$$ F^{(5)} (t) = f^(4)(t, y) = 120(t-y)^6 $$\n",
    "\n",
    "Con estos datos pasamos a las solución en Python:\n"
   ]
  },
  {
   "cell_type": "code",
   "execution_count": 29,
   "metadata": {},
   "outputs": [
    {
     "data": {
      "text/latex": [
       "$\\displaystyle \\operatorname{fy}{\\left(t \\right)} = \\frac{t^{2} - t - 1}{t - 1}$"
      ],
      "text/plain": [
       "Eq(fy(t), (t**2 - t - 1)/(t - 1))"
      ]
     },
     "execution_count": 29,
     "metadata": {},
     "output_type": "execute_result"
    }
   ],
   "source": [
    "from sympy import *\n",
    "\n",
    "\n",
    "fy = symbols(\"fy\", cls=Function)\n",
    "t, y = symbols(\"t y\")\n",
    "\n",
    "h= 0.0025\n",
    "\n",
    "# Declaro mi ecuación diferencial y mi función ya que necesito ambas para calcular\n",
    "# La solución exacta y las aproximaciones, no encontré otra forma de hacerlo en Python\n",
    "# En la ecuación las \"y\" siempre seran fy(t)\n",
    "eq = Eq(fy(t).diff(), 1 + (t-fy(t))**2)\n",
    "# La segunda ecuación se escribe de forma simbólica normal de Sympy\n",
    "f = 1 + (t-y)**2\n",
    "\n",
    "# Calculamos la solucion particular F, si nos da una expresión\n",
    "# con números complejos, es que esta EDI no tiene solución simbólica en los reales\n",
    "condiciones_iniciales = {fy(2):1}\n",
    "F = dsolve(eq, ics=condiciones_iniciales)\n",
    "F"
   ]
  },
  {
   "cell_type": "code",
   "execution_count": 30,
   "metadata": {},
   "outputs": [
    {
     "data": {
      "text/plain": [
       "[2.0, 2.0025, 2.005, 2.0075, 2.01, 2.0125]"
      ]
     },
     "execution_count": 30,
     "metadata": {},
     "output_type": "execute_result"
    }
   ],
   "source": [
    "from numpy import arange\n",
    "\n",
    "# para que arrange funcione adecuadamente, al segundo argumento (stop) hay que\n",
    "# agregarle la mitad de h para que tome en cuenta el número en stop\n",
    "# Ojo: Si lo decimales no son adecuados, hay que redondearlos\n",
    "T = [round(t, 4) for t in arange(start=2, stop=(2.0125 + h/2), step=h)]\n",
    "T"
   ]
  },
  {
   "cell_type": "code",
   "execution_count": 31,
   "metadata": {},
   "outputs": [
    {
     "data": {
      "text/plain": [
       "[1,\n",
       " 1.00499376558604,\n",
       " 1.00997512437811,\n",
       " 1.01494416873449,\n",
       " 1.01990099009901,\n",
       " 1.02484567901235]"
      ]
     },
     "execution_count": 31,
     "metadata": {},
     "output_type": "execute_result"
    }
   ],
   "source": [
    "# Asigno variables a las derivadas\n",
    "d1f = -2*(t-y)**3\n",
    "d2f = 6 * (t-y)**4\n",
    "d3f = -24*(t-y)**5\n",
    "d4f = 120*(t-y)**6\n",
    "\n",
    "# Guardo mis resultados aproximados en una lista Y, inicio en el\n",
    "# valor que me da la condición inicial, en este caso 1\n",
    "Y = [1]\n",
    "\n",
    "# Este bucle for calcula lo Y, para uno de orden menor solo abria que quitar las\n",
    "# líneas correspondientes, para uno de grado mayor agregarlo.\n",
    "for i in range(len(T)-1):\n",
    "    Y.append(\n",
    "        Y[i] + \n",
    "        h*f.subs({t: T[i],y: Y[i]}) + \n",
    "        ((h**2)/factorial(2)) * d1f.subs({t: T[i],y: Y[i]}) +\n",
    "        ((h**3)/factorial(3)) * d2f.subs({t: T[i],y: Y[i]}) +\n",
    "        ((h**4)/factorial(4)) * d3f.subs({t: T[i],y: Y[i]}) +\n",
    "        ((h**5)/factorial(5)) * d4f.subs({t: T[i],y: Y[i]})\n",
    "    )\n",
    "\n",
    "Y"
   ]
  },
  {
   "cell_type": "code",
   "execution_count": 32,
   "metadata": {},
   "outputs": [
    {
     "data": {
      "text/plain": [
       "[1.0,\n",
       " 1.004993765586035,\n",
       " 1.0099751243781092,\n",
       " 1.0149441687344911,\n",
       " 1.0199009900990093,\n",
       " 1.024845679012346]"
      ]
     },
     "execution_count": 32,
     "metadata": {},
     "output_type": "execute_result"
    }
   ],
   "source": [
    "# Si la solución particular es viable,\n",
    "# calculamos los valores exactos\n",
    "solucion_exacta = []\n",
    "for i in range(len(T)):\n",
    "    solucion_exacta.append(float(F.rhs.subs({t: T[i]})))\n",
    "solucion_exacta"
   ]
  },
  {
   "cell_type": "code",
   "execution_count": 33,
   "metadata": {},
   "outputs": [
    {
     "name": "stdout",
     "output_type": "stream",
     "text": [
      "A continuación tenemos los valores de cada t\n"
     ]
    },
    {
     "data": {
      "text/html": [
       "<pre style=\"white-space:pre;overflow-x:auto;line-height:normal;font-family:Menlo,'DejaVu Sans Mono',consolas,'Courier New',monospace\">┏━━━━━━━━┳━━━━━━━━━━━━━━━━━━┳━━━━━━━━━━━━━━━━━━━━┳━━━━━━━━━━━━━━━━━━━━━━┓\n",
       "┃<span style=\"font-weight: bold\"> t_i    </span>┃<span style=\"font-weight: bold\"> y(t_i) Aprox     </span>┃<span style=\"font-weight: bold\"> F(t_i)Exacta       </span>┃<span style=\"font-weight: bold\"> error                </span>┃\n",
       "┡━━━━━━━━╇━━━━━━━━━━━━━━━━━━╇━━━━━━━━━━━━━━━━━━━━╇━━━━━━━━━━━━━━━━━━━━━━┩\n",
       "│ 2.0    │ 1                │ 1.0                │ 0.0                  │\n",
       "│ 2.0025 │ 1.00499376558604 │ 1.004993765586035  │ 0                    │\n",
       "│ 2.005  │ 1.00997512437811 │ 1.0099751243781092 │ 6.66133814775094e-16 │\n",
       "│ 2.0075 │ 1.01494416873449 │ 1.0149441687344911 │ 8.88178419700125e-16 │\n",
       "│ 2.01   │ 1.01990099009901 │ 1.0199009900990093 │ 1.55431223447522e-15 │\n",
       "│ 2.0125 │ 1.02484567901235 │ 1.024845679012346  │ 8.88178419700125e-16 │\n",
       "└────────┴──────────────────┴────────────────────┴──────────────────────┘\n",
       "</pre>\n"
      ],
      "text/plain": [
       "┏━━━━━━━━┳━━━━━━━━━━━━━━━━━━┳━━━━━━━━━━━━━━━━━━━━┳━━━━━━━━━━━━━━━━━━━━━━┓\n",
       "┃\u001b[1m \u001b[0m\u001b[1mt_i   \u001b[0m\u001b[1m \u001b[0m┃\u001b[1m \u001b[0m\u001b[1my(t_i) Aprox    \u001b[0m\u001b[1m \u001b[0m┃\u001b[1m \u001b[0m\u001b[1mF(t_i)Exacta      \u001b[0m\u001b[1m \u001b[0m┃\u001b[1m \u001b[0m\u001b[1merror               \u001b[0m\u001b[1m \u001b[0m┃\n",
       "┡━━━━━━━━╇━━━━━━━━━━━━━━━━━━╇━━━━━━━━━━━━━━━━━━━━╇━━━━━━━━━━━━━━━━━━━━━━┩\n",
       "│ 2.0    │ 1                │ 1.0                │ 0.0                  │\n",
       "│ 2.0025 │ 1.00499376558604 │ 1.004993765586035  │ 0                    │\n",
       "│ 2.005  │ 1.00997512437811 │ 1.0099751243781092 │ 6.66133814775094e-16 │\n",
       "│ 2.0075 │ 1.01494416873449 │ 1.0149441687344911 │ 8.88178419700125e-16 │\n",
       "│ 2.01   │ 1.01990099009901 │ 1.0199009900990093 │ 1.55431223447522e-15 │\n",
       "│ 2.0125 │ 1.02484567901235 │ 1.024845679012346  │ 8.88178419700125e-16 │\n",
       "└────────┴──────────────────┴────────────────────┴──────────────────────┘\n"
      ]
     },
     "metadata": {},
     "output_type": "display_data"
    }
   ],
   "source": [
    "from utils import imprimir_tabla\n",
    "\n",
    "lista_tabla = [[\"t_i\", \"y(t_i) Aprox\", \"F(t_i)Exacta\", \"error\", ]]\n",
    "\n",
    "for i in range(len(T)):\n",
    "    lista_tabla.append(\n",
    "        [\n",
    "            str(T[i]),\n",
    "            str(Y[i]),\n",
    "            str(solucion_exacta[i]),\n",
    "            str(abs(Y[i] - solucion_exacta[i])),\n",
    "        ]\n",
    "    )\n",
    "\n",
    "print(\"A continuación tenemos los valores de cada t\")\n",
    "imprimir_tabla(lista_tabla)"
   ]
  },
  {
   "cell_type": "code",
   "execution_count": 35,
   "metadata": {},
   "outputs": [
    {
     "name": "stdout",
     "output_type": "stream",
     "text": [
      "La solución aproximada de y(161/80) es: 1.02484567901235\n"
     ]
    }
   ],
   "source": [
    "# solución final\n",
    "print(\"La solución aproximada de y(161/80) es:\", Y[len(T)-1])"
   ]
  }
 ],
 "metadata": {
  "kernelspec": {
   "display_name": "venv",
   "language": "python",
   "name": "python3"
  },
  "language_info": {
   "codemirror_mode": {
    "name": "ipython",
    "version": 3
   },
   "file_extension": ".py",
   "mimetype": "text/x-python",
   "name": "python",
   "nbconvert_exporter": "python",
   "pygments_lexer": "ipython3",
   "version": "3.10.12"
  }
 },
 "nbformat": 4,
 "nbformat_minor": 2
}
