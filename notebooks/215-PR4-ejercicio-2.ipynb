{
 "cells": [
  {
   "cell_type": "code",
   "execution_count": 20,
   "metadata": {},
   "outputs": [],
   "source": [
    "from sympy import *\n",
    "from numpy import arange\n",
    "\n",
    "fy = symbols(\"fy\", cls=Function)\n",
    "t, y = symbols(\"t y\")\n",
    "\n",
    "h = 1/50\n",
    "\n",
    "eq = Eq(fy(t).diff(), -(t * fy(t)) / (exp(5*t**2)*(fy(t)**2 + 1)))\n",
    "f = -(t * y) / (exp(5*t**2)*(y**2 + 1))"
   ]
  },
  {
   "cell_type": "code",
   "execution_count": 21,
   "metadata": {},
   "outputs": [
    {
     "data": {
      "text/plain": [
       "[0.0, 0.02, 0.04, 0.06, 0.08, 0.1, 0.12, 0.14, 0.16]"
      ]
     },
     "execution_count": 21,
     "metadata": {},
     "output_type": "execute_result"
    }
   ],
   "source": [
    "# creamos nuestro intervalo\n",
    "T = [t for t in arange(0, 4/25 + h/2, h)]\n",
    "T"
   ]
  },
  {
   "cell_type": "code",
   "execution_count": 22,
   "metadata": {},
   "outputs": [
    {
     "data": {
      "text/plain": [
       "[1,\n",
       " 0.9999000888493944,\n",
       " 0.9996015737944577,\n",
       " 0.9991080193232439,\n",
       " 0.9984252875002212,\n",
       " 0.997561422337429,\n",
       " 0.996526492374229,\n",
       " 0.9953323957399551,\n",
       " 0.9939926329409223]"
      ]
     },
     "execution_count": 22,
     "metadata": {},
     "output_type": "execute_result"
    }
   ],
   "source": [
    "# Declaro la lista con y_0 = 0\n",
    "\n",
    "Y = [1]\n",
    "K1 = [0]\n",
    "K2 = [0]\n",
    "\n",
    "# Hago un for para aplicar la fórmula que corresponde a Heun\n",
    "for i in range(1, len(T)):\n",
    "    k1 = f.evalf(subs={t: T[i-1], y: Y[i-1]})\n",
    "    k2 = f.evalf(subs={t: T[i-1] + (2/3)*h, y: Y[i-1] + (2/3)*h*k1})\n",
    "    K1.append(k1)\n",
    "    K2.append(k2)\n",
    "    Y.append(float(Y[i-1] + (h/4) * (k1 + 3 * k2)))\n",
    "\n",
    "Y"
   ]
  },
  {
   "cell_type": "code",
   "execution_count": 23,
   "metadata": {},
   "outputs": [
    {
     "data": {
      "text/plain": [
       "[1.0,\n",
       " 0.9999000908339452,\n",
       " 0.9996015630568293,\n",
       " 0.9991080462673397,\n",
       " 0.9984253609456863,\n",
       " 0.9975614893123675,\n",
       " 0.9965265516104066,\n",
       " 0.9953324641344418,\n",
       " 0.9939927065338274]"
      ]
     },
     "execution_count": 23,
     "metadata": {},
     "output_type": "execute_result"
    }
   ],
   "source": [
    "# como no fue posible resolver la EDI de forma simbólica, lo hacemos de forma \n",
    "# númerica con scipy\n",
    "from scipy.integrate import solve_ivp\n",
    "\n",
    "# hay que llamar a las funciones trigonométricas y a los e desde numpy\n",
    "import numpy\n",
    "\n",
    "def funcionEq(t, y): \n",
    "    return -(t * y) / (numpy.exp(5*t**2)*(y**2 + 1))\n",
    "\n",
    "solucion = solve_ivp(funcionEq, (0, 4/25), [1], t_eval=T)\n",
    "solucion_exacta = []\n",
    "for i in solucion.y[0]:\n",
    "    solucion_exacta.append(float(i))\n",
    "solucion_exacta"
   ]
  },
  {
   "cell_type": "code",
   "execution_count": 24,
   "metadata": {},
   "outputs": [
    {
     "data": {
      "text/html": [
       "<pre style=\"white-space:pre;overflow-x:auto;line-height:normal;font-family:Menlo,'DejaVu Sans Mono',consolas,'Courier New',monospace\">┏━━━━━━┳━━━━━━━━━━━━━━━━━━━━━┳━━━━━━━━━━━━━━━━━━━━┳━━━━━━━━━━━━━━━━━━━━┳━━━━━━━━━━━━━━━━━━━━┳━━━━━━━━━━━━━━━━━━━━━┓\n",
       "┃<span style=\"font-weight: bold\"> ti   </span>┃<span style=\"font-weight: bold\"> k1                  </span>┃<span style=\"font-weight: bold\"> k2                 </span>┃<span style=\"font-weight: bold\"> Yi                 </span>┃<span style=\"font-weight: bold\"> F(ti)              </span>┃<span style=\"font-weight: bold\"> Error               </span>┃\n",
       "┡━━━━━━╇━━━━━━━━━━━━━━━━━━━━━╇━━━━━━━━━━━━━━━━━━━━╇━━━━━━━━━━━━━━━━━━━━╇━━━━━━━━━━━━━━━━━━━━╇━━━━━━━━━━━━━━━━━━━━━┩\n",
       "│ 0.0  │ 0                   │ 0                  │ 1.0                │ 1.0                │ 0.0                 │\n",
       "│ 0.02 │ 0                   │ -0.006660743373705 │ 0.9999000888493944 │ 0.9999000908339452 │ 1.984550745959268e- │\n",
       "│      │                     │ 40                 │                    │                    │ 09                  │\n",
       "│ 0.04 │ -0.0099800199368568 │ -0.016574330350159 │ 0.9996015737944577 │ 0.9996015630568293 │ 1.073762834202796e- │\n",
       "│      │ 9                   │ 5                  │                    │                    │ 08                  │\n",
       "│ 0.06 │ -0.0198406367213281 │ -0.026290085840478 │ 0.9991080193232439 │ 0.9991080462673397 │ 2.6944095843361993e │\n",
       "│      │                     │ 5                  │                    │                    │ -08                 │\n",
       "│ 0.08 │ -0.0294648192387442 │ -0.035693848455262 │ 0.9984252875002212 │ 0.9984253609456863 │ 7.344546515408723e- │\n",
       "│      │                     │ 2                  │                    │                    │ 08                  │\n",
       "│ 0.1  │ -0.0387402151749787 │ -0.044677605794489 │ 0.997561422337429  │ 0.9975614893123675 │ 6.697493859508796e- │\n",
       "│      │                     │ 4                  │                    │                    │ 08                  │\n",
       "│ 0.12 │ -0.0475613294637880 │ -0.053141554392073 │ 0.996526492374229  │ 0.9965265516104066 │ 5.923617762970679e- │\n",
       "│      │                     │ 0                  │                    │                    │ 08                  │\n",
       "│ 0.14 │ -0.0558315157639361 │ -0.060995937030277 │ 0.9953323957399551 │ 0.9953324641344418 │ 6.839448662976366e- │\n",
       "│      │                     │ 0                  │                    │                    │ 08                  │\n",
       "│ 0.16 │ -0.0634647286826566 │ -0.068162610374632 │ 0.9939926329409223 │ 0.9939927065338274 │ 7.35929051032258e-0 │\n",
       "│      │                     │ 3                  │                    │                    │ 8                   │\n",
       "└──────┴─────────────────────┴────────────────────┴────────────────────┴────────────────────┴─────────────────────┘\n",
       "</pre>\n"
      ],
      "text/plain": [
       "┏━━━━━━┳━━━━━━━━━━━━━━━━━━━━━┳━━━━━━━━━━━━━━━━━━━━┳━━━━━━━━━━━━━━━━━━━━┳━━━━━━━━━━━━━━━━━━━━┳━━━━━━━━━━━━━━━━━━━━━┓\n",
       "┃\u001b[1m \u001b[0m\u001b[1mti  \u001b[0m\u001b[1m \u001b[0m┃\u001b[1m \u001b[0m\u001b[1mk1                 \u001b[0m\u001b[1m \u001b[0m┃\u001b[1m \u001b[0m\u001b[1mk2                \u001b[0m\u001b[1m \u001b[0m┃\u001b[1m \u001b[0m\u001b[1mYi                \u001b[0m\u001b[1m \u001b[0m┃\u001b[1m \u001b[0m\u001b[1mF(ti)             \u001b[0m\u001b[1m \u001b[0m┃\u001b[1m \u001b[0m\u001b[1mError              \u001b[0m\u001b[1m \u001b[0m┃\n",
       "┡━━━━━━╇━━━━━━━━━━━━━━━━━━━━━╇━━━━━━━━━━━━━━━━━━━━╇━━━━━━━━━━━━━━━━━━━━╇━━━━━━━━━━━━━━━━━━━━╇━━━━━━━━━━━━━━━━━━━━━┩\n",
       "│ 0.0  │ 0                   │ 0                  │ 1.0                │ 1.0                │ 0.0                 │\n",
       "│ 0.02 │ 0                   │ -0.006660743373705 │ 0.9999000888493944 │ 0.9999000908339452 │ 1.984550745959268e- │\n",
       "│      │                     │ 40                 │                    │                    │ 09                  │\n",
       "│ 0.04 │ -0.0099800199368568 │ -0.016574330350159 │ 0.9996015737944577 │ 0.9996015630568293 │ 1.073762834202796e- │\n",
       "│      │ 9                   │ 5                  │                    │                    │ 08                  │\n",
       "│ 0.06 │ -0.0198406367213281 │ -0.026290085840478 │ 0.9991080193232439 │ 0.9991080462673397 │ 2.6944095843361993e │\n",
       "│      │                     │ 5                  │                    │                    │ -08                 │\n",
       "│ 0.08 │ -0.0294648192387442 │ -0.035693848455262 │ 0.9984252875002212 │ 0.9984253609456863 │ 7.344546515408723e- │\n",
       "│      │                     │ 2                  │                    │                    │ 08                  │\n",
       "│ 0.1  │ -0.0387402151749787 │ -0.044677605794489 │ 0.997561422337429  │ 0.9975614893123675 │ 6.697493859508796e- │\n",
       "│      │                     │ 4                  │                    │                    │ 08                  │\n",
       "│ 0.12 │ -0.0475613294637880 │ -0.053141554392073 │ 0.996526492374229  │ 0.9965265516104066 │ 5.923617762970679e- │\n",
       "│      │                     │ 0                  │                    │                    │ 08                  │\n",
       "│ 0.14 │ -0.0558315157639361 │ -0.060995937030277 │ 0.9953323957399551 │ 0.9953324641344418 │ 6.839448662976366e- │\n",
       "│      │                     │ 0                  │                    │                    │ 08                  │\n",
       "│ 0.16 │ -0.0634647286826566 │ -0.068162610374632 │ 0.9939926329409223 │ 0.9939927065338274 │ 7.35929051032258e-0 │\n",
       "│      │                     │ 3                  │                    │                    │ 8                   │\n",
       "└──────┴─────────────────────┴────────────────────┴────────────────────┴────────────────────┴─────────────────────┘\n"
      ]
     },
     "metadata": {},
     "output_type": "display_data"
    }
   ],
   "source": [
    "# pasamos todos los datos a una lista anidada para poder desplegarlos en una tabla\n",
    "\n",
    "from utils import imprimir_tabla\n",
    "\n",
    "lista_tabla = [[\"ti\", \"k1\", \"k2\", \"Yi\", \"F(ti)\", \"Error\"]]\n",
    "\n",
    "for i in range(len(T)):\n",
    "    lista_tabla.append(\n",
    "        [\n",
    "            str(float(T[i])),\n",
    "            str(K1[i]),\n",
    "            str(K2[i]),\n",
    "            str(float(Y[i])),\n",
    "            str(solucion_exacta[i]),\n",
    "            str(abs(Y[i] - solucion_exacta[i])),\n",
    "        ]\n",
    "    )\n",
    "\n",
    "imprimir_tabla(lista_tabla)"
   ]
  }
 ],
 "metadata": {
  "kernelspec": {
   "display_name": "venv",
   "language": "python",
   "name": "python3"
  },
  "language_info": {
   "codemirror_mode": {
    "name": "ipython",
    "version": 3
   },
   "file_extension": ".py",
   "mimetype": "text/x-python",
   "name": "python",
   "nbconvert_exporter": "python",
   "pygments_lexer": "ipython3",
   "version": "3.10.12"
  }
 },
 "nbformat": 4,
 "nbformat_minor": 2
}
