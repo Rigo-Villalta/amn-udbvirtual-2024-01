{
 "cells": [
  {
   "cell_type": "markdown",
   "metadata": {},
   "source": [
    "2 - A continuación se proporcionan datos sobre la distancia recorrida por un cohete:\n",
    "\n",
    "t= 0, 25, 50, 75, 100\n",
    "\n",
    "y (km) = 0, 32, 58, 78, 92\n",
    "\n",
    "Determine la velocidad y aceleración del cohete en t=50s."
   ]
  },
  {
   "cell_type": "code",
   "execution_count": 1,
   "metadata": {},
   "outputs": [
    {
     "name": "stdout",
     "output_type": "stream",
     "text": [
      "La velocidad aproximada es t=50s de: 0.92 km/s\n",
      "La aceleración aproximada en t=50s es de: -0.0096 km/s^2\n"
     ]
    }
   ],
   "source": [
    "from sympy import *\n",
    "\n",
    "# como la velocidad es la primer derivada de la distancia y la aceleración\n",
    "# es la segunda, ocupamos las fórmulas de 5 puntos para velocidad y 3\n",
    "# puntos para aceleración; en ambos casos centradas\n",
    "\n",
    "y = [0, 32, 58, 78, 92]\n",
    "\n",
    "h = 25\n",
    "# Para este ejercicio se utilizan los índices del y\n",
    "valor_aproximado_velocidad = (y[0] - 8 * y[1] + 8 * y[3] - y[4]) / (12 * h)\n",
    "\n",
    "valor_aproximado_aceleracion = (y[1] - 2*y[2] + y[3]) / (h**2)\n",
    "\n",
    "print(\"La velocidad aproximada es t=50s de:\", valor_aproximado_velocidad, \"km/s\")\n",
    "print(\"La aceleración aproximada en t=50s es de:\", valor_aproximado_aceleracion, \"km/s^2\")"
   ]
  }
 ],
 "metadata": {
  "kernelspec": {
   "display_name": "venv",
   "language": "python",
   "name": "python3"
  },
  "language_info": {
   "codemirror_mode": {
    "name": "ipython",
    "version": 3
   },
   "file_extension": ".py",
   "mimetype": "text/x-python",
   "name": "python",
   "nbconvert_exporter": "python",
   "pygments_lexer": "ipython3",
   "version": "3.10.12"
  }
 },
 "nbformat": 4,
 "nbformat_minor": 2
}
