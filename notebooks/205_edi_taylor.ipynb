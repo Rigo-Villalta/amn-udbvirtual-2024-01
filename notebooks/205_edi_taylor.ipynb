{
 "cells": [
  {
   "cell_type": "markdown",
   "metadata": {},
   "source": [
    "### Método de Taylor \n",
    "El método de Taylor requiere los siguientes pasos para su solución:\n",
    "- Tener la ecuación de forma: $ \\frac{dy}{dt} = f $, de esta tenemos que sacar tantas derivadas implicitas como el orden menos uno, por ejemplo si nos dice de orden 4 vamos a sacar 3 derivadas implicitas y en cada una se sustituye *y'* por *f*. Hasta el momento todos los ejercicios son de orden 4.\n",
    "- El ejercicio no proporciona un *h* y un intervalo, o nos puede dar los nodos. Simpre con dos de los datos podemos sacar el otro.\n",
    "- Una vez tenemos las derivadas implicitas, *h* y los nodos, aplicamos la fórmula de Taylor de orden superior (Abajo aparece la fórmula en Python ya lista)\n",
    "\n",
    "Ejemplo 1 de clase 14 y video: https://youtu.be/wH5H9m_XfC0?si=qH5u4paBWGz_9WVz\n",
    "\n",
    "Emplee el método de Taylor de orden 4 pra obtener la solución aproximada a la siguiente ecuación diferencial (En realidad sería al siguiente problema de valores iniciales):\n",
    "\n",
    "$$ e^{2t}dy = dt - 2ye^{2t}dt, \\ \\ \\ 0 \\leq t \\leq 0.5, \\ \\ \\ y(0)= 1/10, \\ \\ \\ h= 1/8 $$\n",
    "\n",
    "Solución:\n",
    "\n",
    "La función despejada en la forma $ \\frac{dy}{dt} = f $  y las 3 primeras derivadas de y', luego de sustituir esta en ellas y simplicar cada una nos da:\n",
    "\n",
    "$$ F'(t) = f(t, y) = y' = e^{-2t} - 2y $$\n",
    "$$ F''(t) = f'(t, y) = -4e^{-2t} + 4y $$\n",
    "$$ F'''(t) = f''(t, y) = 12e^{-2t} - 8y $$\n",
    "$$ F^{(4)} (t) = f'''(t, y) = -32e^{-2t} + 16y $$\n",
    "\n",
    "Con estos datos pasamos a las solución en Python:\n"
   ]
  },
  {
   "cell_type": "code",
   "execution_count": 36,
   "metadata": {},
   "outputs": [
    {
     "data": {
      "text/latex": [
       "$\\displaystyle \\operatorname{fy}{\\left(t \\right)} = \\left(t + 0.1\\right) e^{- 2 t}$"
      ],
      "text/plain": [
       "Eq(fy(t), (t + 0.1)*exp(-2*t))"
      ]
     },
     "execution_count": 36,
     "metadata": {},
     "output_type": "execute_result"
    }
   ],
   "source": [
    "from sympy import *\n",
    "\n",
    "\n",
    "fy = symbols(\"fy\", cls=Function)\n",
    "t, y = symbols(\"t y\")\n",
    "\n",
    "h= 0.125\n",
    "\n",
    "# Declaro mi ecuación diferencial y mi función ya que necesito ambas para calcular\n",
    "# La solución exacta y las aproximaciones, no encontré otra forma de hacerlo en Python\n",
    "# En la ecuación las \"y\" siempre seran fy(t)\n",
    "eq = Eq(fy(t).diff(), exp(-2*t) - 2*fy(t))\n",
    "# La segunda ecuación se escribe de forma simbólica normal de Sympy\n",
    "f = exp(-2*t)-2*y\n",
    "\n",
    "# Calculamos la solucion particular F, si nos da una expresión\n",
    "# con números complejos, es que esta EDI no tiene solución simbólica en los reales\n",
    "condiciones_iniciales = {fy(0):0.1}\n",
    "F = dsolve(eq, ics=condiciones_iniciales)\n",
    "F"
   ]
  },
  {
   "cell_type": "code",
   "execution_count": 37,
   "metadata": {},
   "outputs": [
    {
     "data": {
      "text/plain": [
       "[0.0, 0.125, 0.25, 0.375, 0.5]"
      ]
     },
     "execution_count": 37,
     "metadata": {},
     "output_type": "execute_result"
    }
   ],
   "source": [
    "from numpy import arange\n",
    "\n",
    "# para que arrange funcione adecuadamente, al segundo argumento (stop) hay que\n",
    "# agregarle la mitad de h para que tome en cuenta el número en stop\n",
    "# Ojo: Si lo decimales no son adecuados, hay que redondearlos\n",
    "T = [t for t in arange(start=0, stop=0.5 + h/2, step=h)]\n",
    "T"
   ]
  },
  {
   "cell_type": "code",
   "execution_count": 38,
   "metadata": {},
   "outputs": [
    {
     "data": {
      "text/plain": [
       "[0.1,\n",
       " 0.175211588541667,\n",
       " 0.212257538972750,\n",
       " 0.224342066811973,\n",
       " 0.220695310585029]"
      ]
     },
     "execution_count": 38,
     "metadata": {},
     "output_type": "execute_result"
    }
   ],
   "source": [
    "# Asigno variables a las derivadas\n",
    "d1f =  -4*exp(-2*t) + 4*y\n",
    "d2f = 12*exp(-2*t) - 8*y\n",
    "d3f = -32*exp(-2*t) + 16*y\n",
    "\n",
    "# Guardo mis resultados aproximados en una lista Y, inicio en el\n",
    "# valor que me da la condición inicial, en este caso 1/10\n",
    "Y = [0.1]\n",
    "\n",
    "# Este bucle for calcula lo Y, para uno de orden menor solo abria que quitar las\n",
    "# líneas correspondientes, para uno de grado mayor agregarlo.\n",
    "for i in range(len(T)-1):\n",
    "    Y.append(\n",
    "        Y[i] + \n",
    "        h*f.subs({t: T[i],y: Y[i]}) + \n",
    "        ((h**2)/factorial(2)) * d1f.subs({t: T[i],y: Y[i]}) +\n",
    "        ((h**3)/factorial(3)) * d2f.subs({t: T[i],y: Y[i]}) +\n",
    "        ((h**4)/factorial(4)) * d3f.subs({t: T[i],y: Y[i]})\n",
    "    )\n",
    "\n",
    "Y"
   ]
  },
  {
   "cell_type": "code",
   "execution_count": 39,
   "metadata": {},
   "outputs": [
    {
     "data": {
      "text/plain": [
       "[0.1,\n",
       " 0.1752301761910661,\n",
       " 0.21228573089942168,\n",
       " 0.22437411255198197,\n",
       " 0.2207276647028654]"
      ]
     },
     "execution_count": 39,
     "metadata": {},
     "output_type": "execute_result"
    }
   ],
   "source": [
    "# Si la solución particular es viable,\n",
    "# calculamos los valores exactos\n",
    "solucion_exacta = []\n",
    "for i in range(len(T)):\n",
    "    solucion_exacta.append(float(F.rhs.subs({t: T[i]})))\n",
    "solucion_exacta"
   ]
  },
  {
   "cell_type": "code",
   "execution_count": 40,
   "metadata": {},
   "outputs": [
    {
     "name": "stdout",
     "output_type": "stream",
     "text": [
      "A continuación tenemos los valores de cada t\n"
     ]
    },
    {
     "data": {
      "text/html": [
       "<pre style=\"white-space:pre;overflow-x:auto;line-height:normal;font-family:Menlo,'DejaVu Sans Mono',consolas,'Courier New',monospace\">┏━━━━━━━┳━━━━━━━━━━━━━━━━━━━┳━━━━━━━━━━━━━━━━━━━━━┳━━━━━━━━━━━━━━━━━━━━━┓\n",
       "┃<span style=\"font-weight: bold\"> t_i   </span>┃<span style=\"font-weight: bold\"> y(t_i) Aprox      </span>┃<span style=\"font-weight: bold\"> F(t_i)Exacta        </span>┃<span style=\"font-weight: bold\"> error               </span>┃\n",
       "┡━━━━━━━╇━━━━━━━━━━━━━━━━━━━╇━━━━━━━━━━━━━━━━━━━━━╇━━━━━━━━━━━━━━━━━━━━━┩\n",
       "│ 0.0   │ 0.1               │ 0.1                 │ 0.0                 │\n",
       "│ 0.125 │ 0.175211588541667 │ 0.1752301761910661  │ 1.85876493994375e-5 │\n",
       "│ 0.25  │ 0.212257538972750 │ 0.21228573089942168 │ 2.81919266718333e-5 │\n",
       "│ 0.375 │ 0.224342066811973 │ 0.22437411255198197 │ 3.20457400088403e-5 │\n",
       "│ 0.5   │ 0.220695310585029 │ 0.2207276647028654  │ 3.23541178363917e-5 │\n",
       "└───────┴───────────────────┴─────────────────────┴─────────────────────┘\n",
       "</pre>\n"
      ],
      "text/plain": [
       "┏━━━━━━━┳━━━━━━━━━━━━━━━━━━━┳━━━━━━━━━━━━━━━━━━━━━┳━━━━━━━━━━━━━━━━━━━━━┓\n",
       "┃\u001b[1m \u001b[0m\u001b[1mt_i  \u001b[0m\u001b[1m \u001b[0m┃\u001b[1m \u001b[0m\u001b[1my(t_i) Aprox     \u001b[0m\u001b[1m \u001b[0m┃\u001b[1m \u001b[0m\u001b[1mF(t_i)Exacta       \u001b[0m\u001b[1m \u001b[0m┃\u001b[1m \u001b[0m\u001b[1merror              \u001b[0m\u001b[1m \u001b[0m┃\n",
       "┡━━━━━━━╇━━━━━━━━━━━━━━━━━━━╇━━━━━━━━━━━━━━━━━━━━━╇━━━━━━━━━━━━━━━━━━━━━┩\n",
       "│ 0.0   │ 0.1               │ 0.1                 │ 0.0                 │\n",
       "│ 0.125 │ 0.175211588541667 │ 0.1752301761910661  │ 1.85876493994375e-5 │\n",
       "│ 0.25  │ 0.212257538972750 │ 0.21228573089942168 │ 2.81919266718333e-5 │\n",
       "│ 0.375 │ 0.224342066811973 │ 0.22437411255198197 │ 3.20457400088403e-5 │\n",
       "│ 0.5   │ 0.220695310585029 │ 0.2207276647028654  │ 3.23541178363917e-5 │\n",
       "└───────┴───────────────────┴─────────────────────┴─────────────────────┘\n"
      ]
     },
     "metadata": {},
     "output_type": "display_data"
    }
   ],
   "source": [
    "from utils import imprimir_tabla\n",
    "\n",
    "lista_tabla = [[\"t_i\", \"y(t_i) Aprox\", \"F(t_i)Exacta\", \"error\", ]]\n",
    "\n",
    "for i in range(len(T)):\n",
    "    lista_tabla.append(\n",
    "        [\n",
    "            str(T[i]),\n",
    "            str(Y[i]),\n",
    "            str(solucion_exacta[i]),\n",
    "            str(abs(Y[i] - solucion_exacta[i])),\n",
    "        ]\n",
    "    )\n",
    "\n",
    "print(\"A continuación tenemos los valores de cada t\")\n",
    "imprimir_tabla(lista_tabla)"
   ]
  },
  {
   "cell_type": "code",
   "execution_count": 41,
   "metadata": {},
   "outputs": [
    {
     "data": {
      "text/html": [
       "<pre style=\"white-space:pre;overflow-x:auto;line-height:normal;font-family:Menlo,'DejaVu Sans Mono',consolas,'Courier New',monospace\">┏━━━━━━━━━━━━━━━━━━━━━┳━━━━━━━━━━━━━━━━━━━━━┳━━━━━━━━━━━━━━━━━━━━━┳━━━━━━━━━━━━━━━━━━━━━┳━━━━━━━━━━━━━━━━━━━━━┓\n",
       "┃<span style=\"font-weight: bold\"> Qx0                 </span>┃<span style=\"font-weight: bold\"> Qx1                 </span>┃<span style=\"font-weight: bold\"> Qx2                 </span>┃<span style=\"font-weight: bold\"> Qx3                 </span>┃<span style=\"font-weight: bold\"> Qx4                 </span>┃\n",
       "┡━━━━━━━━━━━━━━━━━━━━━╇━━━━━━━━━━━━━━━━━━━━━╇━━━━━━━━━━━━━━━━━━━━━╇━━━━━━━━━━━━━━━━━━━━━╇━━━━━━━━━━━━━━━━━━━━━┩\n",
       "│ 0.1                 │ 0.0                 │ 0.0                 │ 0.0                 │ 0.0                 │\n",
       "│ 0.17521158854166666 │ 0.2805078125        │ 0.0                 │ 0.0                 │ 0.0                 │\n",
       "│ 0.21225753897274985 │ 0.2270759191451831  │ 0.2163895404742197  │ 0.0                 │ 0.0                 │\n",
       "│ 0.22434206681197313 │ 0.21709135010843916 │ 0.22008672081946234 │ 0.21934728475041385 │ 0.0                 │\n",
       "│ 0.220695310585029   │ 0.22653012054813962 │ 0.21897910419637925 │ 0.21956983306202357 │ 0.21948081373737965 │\n",
       "└─────────────────────┴─────────────────────┴─────────────────────┴─────────────────────┴─────────────────────┘\n",
       "</pre>\n"
      ],
      "text/plain": [
       "┏━━━━━━━━━━━━━━━━━━━━━┳━━━━━━━━━━━━━━━━━━━━━┳━━━━━━━━━━━━━━━━━━━━━┳━━━━━━━━━━━━━━━━━━━━━┳━━━━━━━━━━━━━━━━━━━━━┓\n",
       "┃\u001b[1m \u001b[0m\u001b[1mQx0                \u001b[0m\u001b[1m \u001b[0m┃\u001b[1m \u001b[0m\u001b[1mQx1                \u001b[0m\u001b[1m \u001b[0m┃\u001b[1m \u001b[0m\u001b[1mQx2                \u001b[0m\u001b[1m \u001b[0m┃\u001b[1m \u001b[0m\u001b[1mQx3                \u001b[0m\u001b[1m \u001b[0m┃\u001b[1m \u001b[0m\u001b[1mQx4                \u001b[0m\u001b[1m \u001b[0m┃\n",
       "┡━━━━━━━━━━━━━━━━━━━━━╇━━━━━━━━━━━━━━━━━━━━━╇━━━━━━━━━━━━━━━━━━━━━╇━━━━━━━━━━━━━━━━━━━━━╇━━━━━━━━━━━━━━━━━━━━━┩\n",
       "│ 0.1                 │ 0.0                 │ 0.0                 │ 0.0                 │ 0.0                 │\n",
       "│ 0.17521158854166666 │ 0.2805078125        │ 0.0                 │ 0.0                 │ 0.0                 │\n",
       "│ 0.21225753897274985 │ 0.2270759191451831  │ 0.2163895404742197  │ 0.0                 │ 0.0                 │\n",
       "│ 0.22434206681197313 │ 0.21709135010843916 │ 0.22008672081946234 │ 0.21934728475041385 │ 0.0                 │\n",
       "│ 0.220695310585029   │ 0.22653012054813962 │ 0.21897910419637925 │ 0.21956983306202357 │ 0.21948081373737965 │\n",
       "└─────────────────────┴─────────────────────┴─────────────────────┴─────────────────────┴─────────────────────┘\n"
      ]
     },
     "metadata": {},
     "output_type": "display_data"
    }
   ],
   "source": [
    "# Si nos piden una valor aproximado interpolado que no esta en T\n",
    "# Utilizamos Neville\n",
    "\n",
    "# Calculo el valor en y(0.3) con interpolacion de Neville\n",
    "\n",
    "from metodos_interpolacion import neville\n",
    "\n",
    "matriz = neville(T, Y, 0.3)\n",
    "\n",
    "# En esta lista hay que agregar len(T) columnas\n",
    "lista_para_tabular = [[\"Qx0\", \"Qx1\", \"Qx2\", \"Qx3\", \"Qx4\"]]\n",
    "for fila in matriz:\n",
    "    nueva_fila = []\n",
    "    for celda in fila:\n",
    "        nueva_fila.append(str(celda))\n",
    "    lista_para_tabular.append(nueva_fila)\n",
    "\n",
    "imprimir_tabla(lista_para_tabular)"
   ]
  },
  {
   "cell_type": "code",
   "execution_count": 42,
   "metadata": {},
   "outputs": [
    {
     "name": "stdout",
     "output_type": "stream",
     "text": [
      "El valor interpolado de y(0.3) es: 0.21948081373737965\n"
     ]
    }
   ],
   "source": [
    "# El valor interpolado nos tiene que dar algo entre sus valores vecinos\n",
    "print(\"El valor interpolado de y(0.3) es:\", matriz[len(T)-1][len(T)-1])"
   ]
  }
 ],
 "metadata": {
  "kernelspec": {
   "display_name": "venv",
   "language": "python",
   "name": "python3"
  },
  "language_info": {
   "codemirror_mode": {
    "name": "ipython",
    "version": 3
   },
   "file_extension": ".py",
   "mimetype": "text/x-python",
   "name": "python",
   "nbconvert_exporter": "python",
   "pygments_lexer": "ipython3",
   "version": "3.10.12"
  }
 },
 "nbformat": 4,
 "nbformat_minor": 2
}
