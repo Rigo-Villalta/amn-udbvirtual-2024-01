{
 "cells": [
  {
   "cell_type": "code",
   "execution_count": 12,
   "metadata": {},
   "outputs": [
    {
     "data": {
      "text/latex": [
       "$\\displaystyle \\operatorname{fy}{\\left(t \\right)} = \\sqrt{t - 1 + 2 e^{- t}}$"
      ],
      "text/plain": [
       "Eq(fy(t), sqrt(t - 1 + 2*exp(-t)))"
      ]
     },
     "execution_count": 12,
     "metadata": {},
     "output_type": "execute_result"
    }
   ],
   "source": [
    "from sympy import *\n",
    "from numpy import arange\n",
    "\n",
    "fy = symbols(\"fy\", cls=Function)\n",
    "t, y = symbols(\"t y\")\n",
    "\n",
    "h = 1/200\n",
    "\n",
    "eq = Eq(fy(t).diff(), (t - (fy(t))**2) / (2*fy(t)))\n",
    "f = (t - y**2) / (2*y)\n",
    "\n",
    "# Probamos si hay solución exacta\n",
    "condiciones_iniciales = {fy(0):1}\n",
    "F = dsolve(eq, ics=condiciones_iniciales)\n",
    "F"
   ]
  },
  {
   "cell_type": "code",
   "execution_count": 13,
   "metadata": {},
   "outputs": [
    {
     "data": {
      "text/plain": [
       "[0.0, 0.005, 0.01, 0.015, 0.02]"
      ]
     },
     "execution_count": 13,
     "metadata": {},
     "output_type": "execute_result"
    }
   ],
   "source": [
    "# creamos nuestro intervalo\n",
    "T = [t for t in arange(start=0, stop=0.02 + h/2,step=h)]\n",
    "T"
   ]
  },
  {
   "cell_type": "code",
   "execution_count": 14,
   "metadata": {},
   "outputs": [
    {
     "data": {
      "text/plain": [
       "[1,\n",
       " 0.9975093854340568,\n",
       " 0.9950375363575596,\n",
       " 0.9925844679735437,\n",
       " 0.9901501951925442]"
      ]
     },
     "execution_count": 14,
     "metadata": {},
     "output_type": "execute_result"
    }
   ],
   "source": [
    "# Declaro la lista con y_0 = 0\n",
    "\n",
    "Y = [1]\n",
    "K1 = [0]\n",
    "K2 = [0]\n",
    "\n",
    "# Hago un for para aplicar la fórmula que corresponde a Heun\n",
    "for i in range(1, len(T)):\n",
    "    k1 = f.evalf(subs={t: T[i-1], y: Y[i-1]})\n",
    "    k2 = f.evalf(subs={t: T[i-1] + (2/3)*h, y: Y[i-1] + (2/3)*h*k1})\n",
    "    K1.append(k1)\n",
    "    K2.append(k2)\n",
    "    Y.append(float(Y[i-1] + (h/4) * (k1 + 3 * k2)))\n",
    "\n",
    "Y"
   ]
  },
  {
   "cell_type": "code",
   "execution_count": 15,
   "metadata": {},
   "outputs": [
    {
     "data": {
      "text/plain": [
       "[1.0,\n",
       " 0.9975093775926944,\n",
       " 0.9950375206485111,\n",
       " 0.9925844443704149,\n",
       " 0.9901501636688803]"
      ]
     },
     "execution_count": 15,
     "metadata": {},
     "output_type": "execute_result"
    }
   ],
   "source": [
    "# Si la solución particular es viable,\n",
    "# calculamos los valores exactos\n",
    "solucion_exacta = []\n",
    "for i in range(len(T)):\n",
    "    solucion_exacta.append(float(F.rhs.subs({t: T[i]})))\n",
    "solucion_exacta"
   ]
  },
  {
   "cell_type": "code",
   "execution_count": 16,
   "metadata": {},
   "outputs": [
    {
     "data": {
      "text/html": [
       "<pre style=\"white-space:pre;overflow-x:auto;line-height:normal;font-family:Menlo,'DejaVu Sans Mono',consolas,'Courier New',monospace\">┏━━━━━━━┳━━━━━━━━━━━━━━━━━━━━┳━━━━━━━━━━━━━━━━━━━━┳━━━━━━━━━━━━━━━━━━━━┳━━━━━━━━━━━━━━━━━━━━┳━━━━━━━━━━━━━━━━━━━━━┓\n",
       "┃<span style=\"font-weight: bold\"> ti    </span>┃<span style=\"font-weight: bold\"> k1                 </span>┃<span style=\"font-weight: bold\"> k2                 </span>┃<span style=\"font-weight: bold\"> Yi                 </span>┃<span style=\"font-weight: bold\"> F(ti)              </span>┃<span style=\"font-weight: bold\"> Error               </span>┃\n",
       "┡━━━━━━━╇━━━━━━━━━━━━━━━━━━━━╇━━━━━━━━━━━━━━━━━━━━╇━━━━━━━━━━━━━━━━━━━━╇━━━━━━━━━━━━━━━━━━━━╇━━━━━━━━━━━━━━━━━━━━━┩\n",
       "│ 0.0   │ 0                  │ 0                  │ 1.0                │ 1.0                │ 0.0                 │\n",
       "│ 0.005 │ -0.500000000000000 │ -0.497497217584864 │ 0.9975093854340568 │ 0.9975093775926944 │ 7.841362337224211e- │\n",
       "│       │                    │                    │                    │                    │ 09                  │\n",
       "│ 0.01  │ -0.496248450633991 │ -0.493743603521235 │ 0.9950375363575596 │ 0.9950375206485111 │ 1.5709048506451495e │\n",
       "│       │                    │                    │                    │                    │ -08                 │\n",
       "│ 0.015 │ -0.492493832116264 │ -0.489986958365497 │ 0.9925844679735437 │ 0.9925844443704149 │ 2.360312878479931e- │\n",
       "│       │                    │                    │                    │                    │ 08                  │\n",
       "│ 0.02  │ -0.488736201989503 │ -0.486227340936706 │ 0.9901501951925442 │ 0.9901501636688803 │ 3.15236639014671e-0 │\n",
       "│       │                    │                    │                    │                    │ 8                   │\n",
       "└───────┴────────────────────┴────────────────────┴────────────────────┴────────────────────┴─────────────────────┘\n",
       "</pre>\n"
      ],
      "text/plain": [
       "┏━━━━━━━┳━━━━━━━━━━━━━━━━━━━━┳━━━━━━━━━━━━━━━━━━━━┳━━━━━━━━━━━━━━━━━━━━┳━━━━━━━━━━━━━━━━━━━━┳━━━━━━━━━━━━━━━━━━━━━┓\n",
       "┃\u001b[1m \u001b[0m\u001b[1mti   \u001b[0m\u001b[1m \u001b[0m┃\u001b[1m \u001b[0m\u001b[1mk1                \u001b[0m\u001b[1m \u001b[0m┃\u001b[1m \u001b[0m\u001b[1mk2                \u001b[0m\u001b[1m \u001b[0m┃\u001b[1m \u001b[0m\u001b[1mYi                \u001b[0m\u001b[1m \u001b[0m┃\u001b[1m \u001b[0m\u001b[1mF(ti)             \u001b[0m\u001b[1m \u001b[0m┃\u001b[1m \u001b[0m\u001b[1mError              \u001b[0m\u001b[1m \u001b[0m┃\n",
       "┡━━━━━━━╇━━━━━━━━━━━━━━━━━━━━╇━━━━━━━━━━━━━━━━━━━━╇━━━━━━━━━━━━━━━━━━━━╇━━━━━━━━━━━━━━━━━━━━╇━━━━━━━━━━━━━━━━━━━━━┩\n",
       "│ 0.0   │ 0                  │ 0                  │ 1.0                │ 1.0                │ 0.0                 │\n",
       "│ 0.005 │ -0.500000000000000 │ -0.497497217584864 │ 0.9975093854340568 │ 0.9975093775926944 │ 7.841362337224211e- │\n",
       "│       │                    │                    │                    │                    │ 09                  │\n",
       "│ 0.01  │ -0.496248450633991 │ -0.493743603521235 │ 0.9950375363575596 │ 0.9950375206485111 │ 1.5709048506451495e │\n",
       "│       │                    │                    │                    │                    │ -08                 │\n",
       "│ 0.015 │ -0.492493832116264 │ -0.489986958365497 │ 0.9925844679735437 │ 0.9925844443704149 │ 2.360312878479931e- │\n",
       "│       │                    │                    │                    │                    │ 08                  │\n",
       "│ 0.02  │ -0.488736201989503 │ -0.486227340936706 │ 0.9901501951925442 │ 0.9901501636688803 │ 3.15236639014671e-0 │\n",
       "│       │                    │                    │                    │                    │ 8                   │\n",
       "└───────┴────────────────────┴────────────────────┴────────────────────┴────────────────────┴─────────────────────┘\n"
      ]
     },
     "metadata": {},
     "output_type": "display_data"
    }
   ],
   "source": [
    "# pasamos todos los datos a una lista anidada para poder desplegarlos en una tabla\n",
    "\n",
    "from utils import imprimir_tabla\n",
    "\n",
    "lista_tabla = [[\"ti\", \"k1\", \"k2\", \"Yi\", \"F(ti)\", \"Error\"]]\n",
    "\n",
    "for i in range(len(T)):\n",
    "    lista_tabla.append(\n",
    "        [\n",
    "            str(float(T[i])),\n",
    "            str(K1[i]),\n",
    "            str(K2[i]),\n",
    "            str(float(Y[i])),\n",
    "            str(solucion_exacta[i]),\n",
    "            str(abs(Y[i] - solucion_exacta[i])),\n",
    "        ]\n",
    "    )\n",
    "\n",
    "imprimir_tabla(lista_tabla)"
   ]
  }
 ],
 "metadata": {
  "kernelspec": {
   "display_name": "venv",
   "language": "python",
   "name": "python3"
  },
  "language_info": {
   "codemirror_mode": {
    "name": "ipython",
    "version": 3
   },
   "file_extension": ".py",
   "mimetype": "text/x-python",
   "name": "python",
   "nbconvert_exporter": "python",
   "pygments_lexer": "ipython3",
   "version": "3.10.12"
  }
 },
 "nbformat": 4,
 "nbformat_minor": 2
}
