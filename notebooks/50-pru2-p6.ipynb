{
 "cells": [
  {
   "cell_type": "markdown",
   "metadata": {},
   "source": [
    "En un experimento se ha medido el coeficiente de compresibilidad del oxígeno líquido a distintas temperaturas:\n",
    "\n",
    "t(K): 60, 65, 70, 75, 80, 85, 90\n",
    "\n",
    "λ(atm^-1): 0.95E-4, 1.06E-4, 1.2E-4, 1.35E-4, 1.54E-4, 1.78E-4, 2.06E-4\n",
    "\n",
    "Aproxime el coeficiente de compresibilidad a una temperatura de 68.15 K, mediante un trazador cubico empleando el comando de Matlab correspondiente.  Use 15 decimales.\n",
    "\n",
    "NOTA: Copiar y pegar los comandos ejecutados y los resultados obtenidos.\n"
   ]
  },
  {
   "cell_type": "code",
   "execution_count": 10,
   "metadata": {},
   "outputs": [
    {
     "name": "stdout",
     "output_type": "stream",
     "text": [
      "0.00011468859681250002\n"
     ]
    }
   ],
   "source": [
    "from scipy.interpolate import CubicSpline\n",
    "\n",
    "datos_x = [60, 65, 70, 75, 80, 85, 90]\n",
    "datos_y = [0.95E-4, 1.06E-4, 1.2E-4, 1.35E-4, 1.54E-4, 1.78E-4, 2.06E-4]\n",
    "\n",
    "interpolacion = CubicSpline(datos_x, datos_y)\n",
    "\n",
    "aprox = interpolacion(68.15)\n",
    "print(aprox)"
   ]
  }
 ],
 "metadata": {
  "kernelspec": {
   "display_name": "venv",
   "language": "python",
   "name": "python3"
  },
  "language_info": {
   "codemirror_mode": {
    "name": "ipython",
    "version": 3
   },
   "file_extension": ".py",
   "mimetype": "text/x-python",
   "name": "python",
   "nbconvert_exporter": "python",
   "pygments_lexer": "ipython3",
   "version": "3.10.12"
  }
 },
 "nbformat": 4,
 "nbformat_minor": 2
}
