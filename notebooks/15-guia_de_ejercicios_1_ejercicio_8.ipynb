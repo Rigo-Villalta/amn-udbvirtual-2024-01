{
 "cells": [
  {
   "cell_type": "markdown",
   "metadata": {},
   "source": [
    "8. En un circuito, la resistencia, el inductor y el capacitor se encuentran en paralelo. La impedancia del sistema se expresa así:\n",
    "\n",
    "$$ \\frac{1}{z} = \\sqrt{ \\frac{1}{R^2} + \\left( \\omega C - \\frac{1}{\\omega L} \\right)^2 } $$\n",
    "\n",
    "Donde Z es la impedancia en Ω, ω es la frecuencia angular. Emplee el Método de punto fijo para obtener el valor de ‘ω’ que da como resultado una impedancia de 75Ω, considere la resistencia igual a 225Ω, la capacitancia igual a 0.6μF, la inductancia igual a 0.5H, con una precisión de 10-5. Emplee 15 decimales.\n",
    "\n",
    "Primero ocupamos los datos proporcionados para tener una función de una sola variable:\n",
    "\n",
    "$$ \\frac{1}{z} = \\sqrt{ \\frac{1}{225^2} + \\left( \\omega 0.6 * 10^{-6} - \\frac{1}{\\omega 0.5} \\right)^2 } $$\n",
    "\n",
    "Lo cual sería equivalente a (dejo las fracciones y exponentes para mejores aproximaciones):\n",
    "\n",
    "$$ f( \\omega ) = \\sqrt{ \\frac{1}{225^2} + 3.9999976 \\omega ^2 } $$\n"
   ]
  }
 ],
 "metadata": {
  "language_info": {
   "name": "python"
  }
 },
 "nbformat": 4,
 "nbformat_minor": 2
}
