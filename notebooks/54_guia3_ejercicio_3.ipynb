{
 "cells": [
  {
   "cell_type": "markdown",
   "metadata": {},
   "source": [
    "Emplee la extrapolación de Richardson para aproximar *g'(1.65)* mediante *N<sub>7</sub>(h)* si se sabe que: *g(x) = 7ln<sup>2</sup>(x) + 3tan(5x)*. Utilice *h=1/80*. Además, obtenga el valor exacto y el error en la aproximación"
   ]
  },
  {
   "cell_type": "markdown",
   "metadata": {},
   "source": [
    "### Solución\n",
    "\n",
    "Para encontrar la solución necesitamos la siguiente matriz:\n",
    "\n",
    "| N<sub>1</sub>(h) | N<sub>2</sub>(h) | N<sub>3</sub>(h) | N<sub>4</sub>(h) | N<sub>5</sub>(h) | N6(h) | N7(h) |\n",
    "|---|-----|-----|-----|-----|-----|-----|\n",
    "| N<sub>1</sub>h/2) | N<sub>2</sub>(h/2) | N<sub>3</sub>(h/2) | N<sub>4</sub>(h/2) | N<sub>5</sub>(h/2) | N6(h/2) |  |\n",
    "| N<sub>1</sub>h/4) | N<sub>2</sub>(h/4) | N<sub>3</sub>(h/4) | N<sub>4</sub>(h/4) | N<sub>5</sub>(h/4) |  |  |\n",
    "| N<sub>1</sub>h/8) | N<sub>2</sub>(h/8) | N<sub>3</sub>(h/8) | N<sub>4</sub>(h/8) | |  |  |\n",
    "| N<sub>1</sub>h/16) | N<sub>2</sub>(h/16) | N<sub>3</sub>(h/16) ||  |  |  |\n",
    "| N<sub>1</sub>h/32) | N<sub>2</sub>(h/32) |  |  |  |  |  |\n",
    "| N<sub>1</sub>h/64) |  |  |  |  |  |  |\n",
    "\n",
    "En donde encontramos nueestros valores iniciales (primera columna con):\n",
    "\n",
    "$$ N_1(h) = \\frac{g(c+h) - g(c-h)}{2h} $$\n",
    "\n",
    "$$...$$\n",
    "\n",
    "$$ N_7(h) = \\frac{g(c+h/64) - g(c-h/64)}{2(h/64)} $$\n"
   ]
  },
  {
   "cell_type": "code",
   "execution_count": 1,
   "metadata": {},
   "outputs": [
    {
     "name": "stdout",
     "output_type": "stream",
     "text": [
      "[[0. 0. 0. 0. 0. 0. 0.]\n",
      " [0. 0. 0. 0. 0. 0. 0.]\n",
      " [0. 0. 0. 0. 0. 0. 0.]\n",
      " [0. 0. 0. 0. 0. 0. 0.]\n",
      " [0. 0. 0. 0. 0. 0. 0.]\n",
      " [0. 0. 0. 0. 0. 0. 0.]\n",
      " [0. 0. 0. 0. 0. 0. 0.]]\n"
     ]
    }
   ],
   "source": [
    "from sympy import *\n",
    "from numpy import zeros, float64\n",
    "\n",
    "x = symbols(\"x\")\n",
    "g = 7* (ln(x))**2 + 3 * tan(5*x)\n",
    "c = 1.65\n",
    "h = 1/80\n",
    "\n",
    "# Aquí declaro mi n para ocuparla en el resto del ejercicio\n",
    "n=7\n",
    "\n",
    "N = zeros((n, n), dtype=float64)\n",
    "\n",
    "#Imprimo la columna y verifico mi matriz\n",
    "print(N)"
   ]
  },
  {
   "cell_type": "code",
   "execution_count": 2,
   "metadata": {},
   "outputs": [
    {
     "name": "stdout",
     "output_type": "stream",
     "text": [
      "[[107.4989198    0.           0.           0.           0.\n",
      "    0.           0.        ]\n",
      " [105.65409163   0.           0.           0.           0.\n",
      "    0.           0.        ]\n",
      " [105.20366512   0.           0.           0.           0.\n",
      "    0.           0.        ]\n",
      " [105.09171575   0.           0.           0.           0.\n",
      "    0.           0.        ]\n",
      " [105.06376923   0.           0.           0.           0.\n",
      "    0.           0.        ]\n",
      " [105.05678515   0.           0.           0.           0.\n",
      "    0.           0.        ]\n",
      " [105.05503929   0.           0.           0.           0.\n",
      "    0.           0.        ]]\n"
     ]
    }
   ],
   "source": [
    "# Ahora a tráves de un bucle for lleno mi primera columna\n",
    "\n",
    "for i in range(n):\n",
    "    N[i][0] = (g.subs(x, c+h) - g.subs(x, c-h)) / (2*h)\n",
    "    h = h/2\n",
    "\n",
    "# Reinicio H\n",
    "h= 1/80\n",
    "# Verifico N\n",
    "print(N)"
   ]
  },
  {
   "cell_type": "code",
   "execution_count": 3,
   "metadata": {},
   "outputs": [
    {
     "name": "stdout",
     "output_type": "stream",
     "text": [
      "105.054457349555\n"
     ]
    }
   ],
   "source": [
    "# Verifico si los valores son aproximados al \"valor exacto\"\n",
    "# Ya que de no ser así hay algún error en las fórmulas\n",
    "\n",
    "valor_exacto = diff(g).subs(x, 1.65)\n",
    "print(valor_exacto)"
   ]
  },
  {
   "cell_type": "code",
   "execution_count": 4,
   "metadata": {},
   "outputs": [
    {
     "name": "stdout",
     "output_type": "stream",
     "text": [
      "107.49891980447075  105.03914891065487  105.05448121735434  105.0544573402626   105.05445734955771  105.05445734955808  105.05445734955472  \n",
      "\n",
      "105.65409163410884  105.05352294818562  105.05445771334216  105.0544573495214   105.05445734955808  105.05445734955474  0.0                 \n",
      "\n",
      "105.20366511966643  105.05439929051988  105.0544573552061   105.05445734955794  105.05445734955474  0.0                 0.0                 \n",
      "\n",
      "105.09171574780652  105.05445372616322  105.05445734964619  105.05445734955475  0.0                 0.0                 0.0                 \n",
      "\n",
      "105.06376923157404  105.05445712317851  105.05445734955619  0.0                 0.0                 0.0                 0.0                 \n",
      "\n",
      "105.05678515027739  105.05445733540758  0.0                 0.0                 0.0                 0.0                 0.0                 \n",
      "\n",
      "105.05503928912503  0.0                 0.0                 0.0                 0.0                 0.0                 0.0                 \n",
      "\n"
     ]
    }
   ],
   "source": [
    "# Para llenar el resto de la matriz, realizo un bucle for anidado\n",
    "# para todo el resto de elementos\n",
    "\n",
    "for j in range(1, n):\n",
    "    for i in range(n-j):\n",
    "        # La j es diferente a la fórmual por la forma de indexar de Python\n",
    "        N[i][j] = (4**(j) * N[i+1][j-1] - N[i][j-1]) / (4**(j) - 1)\n",
    "\n",
    "#imprimo de forma que se vea bien la matriz\n",
    "for i in N:\n",
    "    for j in i:\n",
    "        print(str(j).ljust(18), end=\"  \")\n",
    "    print(\"\\n\")"
   ]
  },
  {
   "cell_type": "code",
   "execution_count": 5,
   "metadata": {},
   "outputs": [
    {
     "name": "stdout",
     "output_type": "stream",
     "text": [
      "El valor aproximado es:  105.05445734955472\n",
      "El valor exacto es: 105.054457349555\n",
      "El error es de:  6.82121026329696e-13\n"
     ]
    }
   ],
   "source": [
    "# Valores aproximado, exacto y error\n",
    "\n",
    "valor_aproximado = N[0][n-1]\n",
    "print(\"El valor aproximado es: \", valor_aproximado)\n",
    "print(\"El valor exacto es:\", valor_exacto)\n",
    "error = abs(valor_aproximado - valor_exacto)\n",
    "print(\"El error es de: \", error)"
   ]
  }
 ],
 "metadata": {
  "kernelspec": {
   "display_name": "venv",
   "language": "python",
   "name": "python3"
  },
  "language_info": {
   "codemirror_mode": {
    "name": "ipython",
    "version": 3
   },
   "file_extension": ".py",
   "mimetype": "text/x-python",
   "name": "python",
   "nbconvert_exporter": "python",
   "pygments_lexer": "ipython3",
   "version": "3.10.12"
  }
 },
 "nbformat": 4,
 "nbformat_minor": 2
}
