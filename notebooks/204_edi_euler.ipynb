{
 "cells": [
  {
   "cell_type": "markdown",
   "metadata": {},
   "source": [
    "Para desarrollar el método de Euler requiere:\n",
    "- La función de la forma $ \\frac{dy}{dt} = f(t) $\n",
    "- Nos puede dar el *h* o el intervalo y el número de nodos requeridos *n*, si es esto \n",
    "ultimo calculamos $ h = \\frac{x_f -x_i}{n} $\n",
    "- A partir del intervalo y *h* calculamos los nodos, es decir los valores que se someteran al cálculo\n",
    "- El primer valor $y_0$ será proporcionado como la evaluación de la función en el inicio del intervalo y a partir de este calculamos el resto de valores con la fórmula: $ y_i = y_{i-1} + h*f(x_{i-1}, y_{i-1}) $\n",
    "\n",
    "Ejemplo de vídeo: https://youtu.be/wE7DihClCmI?si=A36rCRvIlR_UZDdb\n",
    "(resultados comprobados)\n",
    "\n",
    "Emplee el método de Euler para obtener la solución aproximada de la siguiente ecuación diferencial:\n",
    "\n",
    "$$ dy = cost(2t) dt + sen(3t) dt,\\ \\ 0 \\leq t \\leq 1, \\ \\ y(0) = 1, \\ \\ h = 1/4 $$\n",
    "\n",
    "Solución:\n",
    "\n",
    "Primero despejamos nuestra función para oftener la forma $ \\frac{dy}{dt} = f(t) $:\n",
    "\n",
    "$$ f(t) = \\frac{dy}{dt} = cos(2t) + sen(3t) $$\n",
    "\n",
    "Ahora pasamos a Python todo el código que necesitamos"
   ]
  },
  {
   "cell_type": "code",
   "execution_count": 31,
   "metadata": {},
   "outputs": [
    {
     "data": {
      "text/plain": [
       "[1, 1.25000000000000, 1.63980533047843, 2.02425465359648, 2.23645725323538]"
      ]
     },
     "execution_count": 31,
     "metadata": {},
     "output_type": "execute_result"
    }
   ],
   "source": [
    "from sympy import *\n",
    "from numpy import arange\n",
    "\n",
    "# declaro mi variable y mi función como simbólicas\n",
    "t = symbols(\"t\")\n",
    "Ft = symbols(\"Ft\", cls=Function)\n",
    "\n",
    "h= 0.25\n",
    "\n",
    "eq = Eq(Ft(t).diff(t), cos(2*t) + sin(3*t))\n",
    "\n",
    "# Aquí agrego un número menor a al paso donde finaliza porque si no\n",
    "# arrange no lo toma en cuenta\n",
    "T = [t for t in arange(0,1+0.1,0.25)]\n",
    "\n",
    "# Declaro la lista con y_0 = 1\n",
    "Y = [1]\n",
    "\n",
    "# Aplico la fórmula de Euler a lot T_i desde 1\n",
    "for i in range(1, len(T)):\n",
    "    y = Y[i-1] + h * eq.rhs.subs(t, T[i-1])\n",
    "    Y.append(y)\n",
    "Y"
   ]
  },
  {
   "cell_type": "code",
   "execution_count": 32,
   "metadata": {},
   "outputs": [
    {
     "data": {
      "text/latex": [
       "$\\displaystyle \\operatorname{Ft}{\\left(t \\right)} = \\frac{\\sin{\\left(2 t \\right)}}{2} - \\frac{\\cos{\\left(3 t \\right)}}{3} + \\frac{4}{3}$"
      ],
      "text/plain": [
       "Eq(Ft(t), sin(2*t)/2 - cos(3*t)/3 + 4/3)"
      ]
     },
     "execution_count": 32,
     "metadata": {},
     "output_type": "execute_result"
    }
   ],
   "source": [
    "# Ahora calculamos el valor exacto resolviendo la ecuación diferencial con sympy\n",
    "\n",
    "condiciones_iniciales = {Ft(0):1}\n",
    "\n",
    "solucion_particular = dsolve(eq, ics=condiciones_iniciales)\n",
    "solucion_particular"
   ]
  },
  {
   "cell_type": "code",
   "execution_count": 33,
   "metadata": {},
   "outputs": [
    {
     "data": {
      "text/plain": [
       "[1.0,\n",
       " 1.3291498130108277,\n",
       " 1.7304897585147139,\n",
       " 2.041472034209607,\n",
       " 2.117979545612989]"
      ]
     },
     "execution_count": 33,
     "metadata": {},
     "output_type": "execute_result"
    }
   ],
   "source": [
    "# Ahora calculamos la solución númerica\n",
    "solucion_exacta = []\n",
    "for i in range(len(T)):\n",
    "    solucion_exacta.append(float(solucion_particular.rhs.subs(t, T[i])))\n",
    "solucion_exacta"
   ]
  },
  {
   "cell_type": "code",
   "execution_count": 34,
   "metadata": {},
   "outputs": [
    {
     "name": "stdout",
     "output_type": "stream",
     "text": [
      "La solución aproximada de y(1) es: 2.23645725323538\n",
      "La solución exacta de y(1) es: 2.117979545612989\n",
      "El error es: 0.118477707622393\n"
     ]
    }
   ],
   "source": [
    "# Por lo tanto renemos que\n",
    "print(\"La solución aproximada de y(1) es:\", Y[4])\n",
    "print(\"La solución exacta de y(1) es:\", solucion_exacta[4])\n",
    "error = abs(Y[4] - solucion_exacta[4])\n",
    "print(\"El error es:\", error)"
   ]
  }
 ],
 "metadata": {
  "kernelspec": {
   "display_name": "venv",
   "language": "python",
   "name": "python3"
  },
  "language_info": {
   "codemirror_mode": {
    "name": "ipython",
    "version": 3
   },
   "file_extension": ".py",
   "mimetype": "text/x-python",
   "name": "python",
   "nbconvert_exporter": "python",
   "pygments_lexer": "ipython3",
   "version": "3.10.12"
  }
 },
 "nbformat": 4,
 "nbformat_minor": 2
}
