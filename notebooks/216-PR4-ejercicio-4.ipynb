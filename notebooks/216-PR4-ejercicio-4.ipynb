{
 "cells": [
  {
   "cell_type": "code",
   "execution_count": 9,
   "metadata": {},
   "outputs": [],
   "source": [
    "from sympy import *\n",
    "from numpy import arange\n",
    "\n",
    "fy = symbols(\"fy\", cls=Function)\n",
    "t, y = symbols(\"t y\")\n",
    "\n",
    "h = 1/800\n",
    "\n",
    "eq = Eq(fy(t).diff(), (t * fy(t)) / (exp(4*t**2)*(fy(t)**2 + 1)))\n",
    "f = (t * y) / (exp(4*t**2)*(y**2 + 1))"
   ]
  },
  {
   "cell_type": "code",
   "execution_count": 10,
   "metadata": {},
   "outputs": [
    {
     "data": {
      "text/plain": [
       "[0.0, 0.00125, 0.0025, 0.00375, 0.005, 0.00625, 0.0075, 0.00875]"
      ]
     },
     "execution_count": 10,
     "metadata": {},
     "output_type": "execute_result"
    }
   ],
   "source": [
    "# creamos nuestro intervalo\n",
    "T = [t for t in arange(0, 7/800 + h/2, h)]\n",
    "T"
   ]
  },
  {
   "cell_type": "code",
   "execution_count": 11,
   "metadata": {},
   "outputs": [
    {
     "data": {
      "text/plain": [
       "[1,\n",
       " 1.0000003906243897,\n",
       " 1.0000015624829104,\n",
       " 1.000003515531618,\n",
       " 1.0000062496972755,\n",
       " 1.0000097648773572,\n",
       " 1.0000140609400556,\n",
       " 1.0000191377242895]"
      ]
     },
     "execution_count": 11,
     "metadata": {},
     "output_type": "execute_result"
    }
   ],
   "source": [
    "# Declaro la lista con y_0 = 0\n",
    "\n",
    "Y = [1]\n",
    "K1 = [0]\n",
    "K2 = [0]\n",
    "\n",
    "# Hago un for para aplicar la fórmula\n",
    "for i in range(1, len(T)):\n",
    "    k1 = f.evalf(subs={t: T[i-1], y: Y[i-1]})\n",
    "    k2 = f.evalf(subs={t: T[i-1] + 0.5*h, y: Y[i-1] + 0.5*h*k1})\n",
    "    K1.append(k1)\n",
    "    K2.append(k2)\n",
    "    Y.append(float(Y[i-1] + h * k2))\n",
    "\n",
    "Y"
   ]
  },
  {
   "cell_type": "code",
   "execution_count": 12,
   "metadata": {},
   "outputs": [
    {
     "data": {
      "text/plain": [
       "[1.0,\n",
       " 1.0000003906237795,\n",
       " 1.0000015624804726,\n",
       " 1.0000035155261293,\n",
       " 1.0000062496875106,\n",
       " 1.000009764862096,\n",
       " 1.0000140609180836,\n",
       " 1.0000191376943899]"
      ]
     },
     "execution_count": 12,
     "metadata": {},
     "output_type": "execute_result"
    }
   ],
   "source": [
    "# como no fue posible resolver la EDI de forma simbólica, lo hacemos de forma \n",
    "# númerica con scipy\n",
    "from scipy.integrate import solve_ivp\n",
    "\n",
    "# hay que llamar a las funciones trigonométricas y a los e desde numpy\n",
    "import numpy\n",
    "\n",
    "def funcionEq(t, y): \n",
    "    return (t * y) / (numpy.exp(4*t**2)*(y**2 + 1))\n",
    "\n",
    "solucion = solve_ivp(funcionEq, (float(0), 7/800), [1], t_eval=T)\n",
    "solucion_exacta = []\n",
    "for i in solucion.y[0]:\n",
    "    solucion_exacta.append(float(i))\n",
    "solucion_exacta"
   ]
  },
  {
   "cell_type": "code",
   "execution_count": 13,
   "metadata": {},
   "outputs": [
    {
     "data": {
      "text/html": [
       "<pre style=\"white-space:pre;overflow-x:auto;line-height:normal;font-family:Menlo,'DejaVu Sans Mono',consolas,'Courier New',monospace\">┏━━━━━━━━━┳━━━━━━━━━━━━━━━━━━━━┳━━━━━━━━━━━━━━━━━━━━┳━━━━━━━━━━━━━━━━━━━━┳━━━━━━━━━━━━━━━━━━━━┳━━━━━━━━━━━━━━━━━━━┓\n",
       "┃<span style=\"font-weight: bold\"> ti      </span>┃<span style=\"font-weight: bold\"> k1                 </span>┃<span style=\"font-weight: bold\"> k2                 </span>┃<span style=\"font-weight: bold\"> Yi                 </span>┃<span style=\"font-weight: bold\"> F(ti)              </span>┃<span style=\"font-weight: bold\"> Error             </span>┃\n",
       "┡━━━━━━━━━╇━━━━━━━━━━━━━━━━━━━━╇━━━━━━━━━━━━━━━━━━━━╇━━━━━━━━━━━━━━━━━━━━╇━━━━━━━━━━━━━━━━━━━━╇━━━━━━━━━━━━━━━━━━━┩\n",
       "│ 0.0     │ 0                  │ 0                  │ 1.0                │ 1.0                │ 0.0               │\n",
       "│ 0.00125 │ 0                  │ 0.0003124995117191 │ 1.0000003906243897 │ 1.0000003906237795 │ 6.10178574333986e │\n",
       "│         │                    │ 31                 │                    │                    │ -13               │\n",
       "│ 0.0025  │ 0.0006249960937621 │ 0.0009374868164986 │ 1.0000015624829104 │ 1.0000015624804726 │ 2.437827717471918 │\n",
       "│         │ 59                 │ 61                 │                    │                    │ 7e-12             │\n",
       "│ 0.00375 │ 0.0012499687503891 │ 0.0015624389660315 │ 1.000003515531618  │ 1.0000035155261293 │ 5.488720589141849 │\n",
       "│         │ 0                  │ 4                  │                    │                    │ e-12              │\n",
       "│ 0.005   │ 0.0018748945342046 │ 0.0021873325259184 │ 1.0000062496972755 │ 1.0000062496875106 │ 9.764855590788102 │\n",
       "│         │ 7                  │ 2                  │                    │                    │ e-12              │\n",
       "│ 0.00625 │ 0.0024997500124507 │ 0.0028121440654074 │ 1.0000097648773572 │ 1.000009764862096  │ 1.526112569649740 │\n",
       "│         │ 7                  │ 0                  │                    │                    │ 2e-11             │\n",
       "│ 0.0075  │ 0.0031245117567460 │ 0.0034368501588525 │ 1.0000140609400556 │ 1.0000140609180836 │ 2.197197979114662 │\n",
       "│         │ 2                  │ 1                  │                    │                    │ 3e-11             │\n",
       "│ 0.00875 │ 0.0037491563445441 │ 0.0040614273871718 │ 1.0000191377242895 │ 1.0000191376943899 │ 2.989963832078501 │\n",
       "│         │ 4                  │ 7                  │                    │                    │ 6e-11             │\n",
       "└─────────┴────────────────────┴────────────────────┴────────────────────┴────────────────────┴───────────────────┘\n",
       "</pre>\n"
      ],
      "text/plain": [
       "┏━━━━━━━━━┳━━━━━━━━━━━━━━━━━━━━┳━━━━━━━━━━━━━━━━━━━━┳━━━━━━━━━━━━━━━━━━━━┳━━━━━━━━━━━━━━━━━━━━┳━━━━━━━━━━━━━━━━━━━┓\n",
       "┃\u001b[1m \u001b[0m\u001b[1mti     \u001b[0m\u001b[1m \u001b[0m┃\u001b[1m \u001b[0m\u001b[1mk1                \u001b[0m\u001b[1m \u001b[0m┃\u001b[1m \u001b[0m\u001b[1mk2                \u001b[0m\u001b[1m \u001b[0m┃\u001b[1m \u001b[0m\u001b[1mYi                \u001b[0m\u001b[1m \u001b[0m┃\u001b[1m \u001b[0m\u001b[1mF(ti)             \u001b[0m\u001b[1m \u001b[0m┃\u001b[1m \u001b[0m\u001b[1mError            \u001b[0m\u001b[1m \u001b[0m┃\n",
       "┡━━━━━━━━━╇━━━━━━━━━━━━━━━━━━━━╇━━━━━━━━━━━━━━━━━━━━╇━━━━━━━━━━━━━━━━━━━━╇━━━━━━━━━━━━━━━━━━━━╇━━━━━━━━━━━━━━━━━━━┩\n",
       "│ 0.0     │ 0                  │ 0                  │ 1.0                │ 1.0                │ 0.0               │\n",
       "│ 0.00125 │ 0                  │ 0.0003124995117191 │ 1.0000003906243897 │ 1.0000003906237795 │ 6.10178574333986e │\n",
       "│         │                    │ 31                 │                    │                    │ -13               │\n",
       "│ 0.0025  │ 0.0006249960937621 │ 0.0009374868164986 │ 1.0000015624829104 │ 1.0000015624804726 │ 2.437827717471918 │\n",
       "│         │ 59                 │ 61                 │                    │                    │ 7e-12             │\n",
       "│ 0.00375 │ 0.0012499687503891 │ 0.0015624389660315 │ 1.000003515531618  │ 1.0000035155261293 │ 5.488720589141849 │\n",
       "│         │ 0                  │ 4                  │                    │                    │ e-12              │\n",
       "│ 0.005   │ 0.0018748945342046 │ 0.0021873325259184 │ 1.0000062496972755 │ 1.0000062496875106 │ 9.764855590788102 │\n",
       "│         │ 7                  │ 2                  │                    │                    │ e-12              │\n",
       "│ 0.00625 │ 0.0024997500124507 │ 0.0028121440654074 │ 1.0000097648773572 │ 1.000009764862096  │ 1.526112569649740 │\n",
       "│         │ 7                  │ 0                  │                    │                    │ 2e-11             │\n",
       "│ 0.0075  │ 0.0031245117567460 │ 0.0034368501588525 │ 1.0000140609400556 │ 1.0000140609180836 │ 2.197197979114662 │\n",
       "│         │ 2                  │ 1                  │                    │                    │ 3e-11             │\n",
       "│ 0.00875 │ 0.0037491563445441 │ 0.0040614273871718 │ 1.0000191377242895 │ 1.0000191376943899 │ 2.989963832078501 │\n",
       "│         │ 4                  │ 7                  │                    │                    │ 6e-11             │\n",
       "└─────────┴────────────────────┴────────────────────┴────────────────────┴────────────────────┴───────────────────┘\n"
      ]
     },
     "metadata": {},
     "output_type": "display_data"
    }
   ],
   "source": [
    "# pasamos todos los datos a una lista anidada para poder desplegarlos en una tabla\n",
    "\n",
    "from utils import imprimir_tabla\n",
    "\n",
    "lista_tabla = [[\"ti\", \"k1\", \"k2\", \"Yi\", \"F(ti)\", \"Error\"]]\n",
    "\n",
    "for i in range(len(T)):\n",
    "    lista_tabla.append(\n",
    "        [\n",
    "            str(float(T[i])),\n",
    "            str(K1[i]),\n",
    "            str(K2[i]),\n",
    "            str(float(Y[i])),\n",
    "            str(solucion_exacta[i]),\n",
    "            str(abs(Y[i] - solucion_exacta[i])),\n",
    "        ]\n",
    "    )\n",
    "\n",
    "imprimir_tabla(lista_tabla)"
   ]
  }
 ],
 "metadata": {
  "kernelspec": {
   "display_name": "venv",
   "language": "python",
   "name": "python3"
  },
  "language_info": {
   "codemirror_mode": {
    "name": "ipython",
    "version": 3
   },
   "file_extension": ".py",
   "mimetype": "text/x-python",
   "name": "python",
   "nbconvert_exporter": "python",
   "pygments_lexer": "ipython3",
   "version": "3.10.12"
  }
 },
 "nbformat": 4,
 "nbformat_minor": 2
}
