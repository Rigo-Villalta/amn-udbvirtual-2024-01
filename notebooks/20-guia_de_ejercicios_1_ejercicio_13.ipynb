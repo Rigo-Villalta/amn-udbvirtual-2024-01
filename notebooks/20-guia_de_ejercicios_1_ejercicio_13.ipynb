{
 "cells": [
  {
   "cell_type": "markdown",
   "metadata": {},
   "source": [
    "13 La curva de encendido de televisores en la ciudad de San Salvador está en función de la hora del\n",
    "día y del día de la semana.\n",
    "Suponga que en un intervalo de 4 horas, un determinado día, el porcentaje de televisores\n",
    "encendidos está dado por la función\n",
    "\n",
    "$$ P(x) = \\frac{1}{2.5} \\left( -10 sen\\left( \\frac{12x}{7} \\right) e^{\\frac{-24x}{7} } + \\frac{48}{7} x e^{ \\frac{-8x}{7}}  + 0.8  \\right) $$\n",
    "\n",
    "En donde: \n",
    "x: Tiempo en horas, en el intervalo: 0<=x<=4\n",
    "p: porcentaje en horas de televisores encendidos\n",
    "\n",
    "Emplee el método de Newton-Raphson para encontrar el máximo de la función con una\n",
    "precisión de 10-12. Emplee 15 decimales.\n",
    "\n",
    "Primero Operamos el factor fuera del paréntesis:\n",
    "\n",
    "$$ P(x) =  -4 sen\\left( \\frac{12x}{7} \\right) e^{\\frac{-24x}{7} } + \\frac{96x}{35} e^{ \\frac{-8x}{7}}  + \\frac{8}{25}  $$\n",
    "\n",
    "Luego derivamos toda la función y tenemos:\n",
    "$$ P'(x) = \\frac{96}{7} sen \\left( \\frac{12x}{7} \\right) e^{ \\frac{-24x}{7}} - \\frac{48}{7} cos \\left( \\frac{12x}{7} \\right) e^{ \\frac{-24x}{7} } + \\frac{96}{35} e^{ \\frac{-8x}{7}} - \\frac{768}{245} x e^{ \\frac{-8x}{7} } $$\n",
    "\n",
    "Y ya que buscamos un máximo necesitamos la segunda derivada:\n",
    "$$  \\frac{2304}{49} cos \\left( \\frac{12x}{7} \\right)  e^{-\\frac{24x}{7}} - \\frac{1728}{49} sen \\left( \\frac{12x}{7} \\right) e^{-\\frac{24x}{7} } + \\frac{6144}{1715}  x e^{-\\frac{8x}{7}} - \\frac{1536}{245}e^{-\\frac{8x}{7}} $$"
   ]
  },
  {
   "cell_type": "code",
   "execution_count": 27,
   "metadata": {},
   "outputs": [
    {
     "data": {
      "image/png": "[encoded data removed]",
      "text/plain": [
       "<Figure size 500x500 with 1 Axes>"
      ]
     },
     "metadata": {},
     "output_type": "display_data"
    },
    {
     "data": {
      "text/html": [
       "<pre style=\"white-space:pre;overflow-x:auto;line-height:normal;font-family:Menlo,'DejaVu Sans Mono',consolas,'Courier New',monospace\">┏━━━━━━━━━━━━━━━━┳━━━━━━━━━━━━━━━━━━━┳━━━━━━━━━━━━━━━━━━━┳━━━━━━━━━━━━━━━━━━━┓\n",
       "┃<span style=\"font-weight: bold\"> # de iteración </span>┃<span style=\"font-weight: bold\"> x0                </span>┃<span style=\"font-weight: bold\"> x1                </span>┃<span style=\"font-weight: bold\"> error             </span>┃\n",
       "┡━━━━━━━━━━━━━━━━╇━━━━━━━━━━━━━━━━━━━╇━━━━━━━━━━━━━━━━━━━╇━━━━━━━━━━━━━━━━━━━┩\n",
       "│ 1              │ 1.250000000000000 │ 1.187288181107185 │ 0.062711818892815 │\n",
       "│ 2              │ 1.187288181107185 │ 1.194296209690190 │ 0.007008028583005 │\n",
       "│ 3              │ 1.194296209690190 │ 1.194146610774405 │ 0.000149598915785 │\n",
       "│ 4              │ 1.194146610774405 │ 1.194151314596844 │ &lt;-- solución      │\n",
       "└────────────────┴───────────────────┴───────────────────┴───────────────────┘\n",
       "</pre>\n"
      ],
      "text/plain": [
       "┏━━━━━━━━━━━━━━━━┳━━━━━━━━━━━━━━━━━━━┳━━━━━━━━━━━━━━━━━━━┳━━━━━━━━━━━━━━━━━━━┓\n",
       "┃\u001b[1m \u001b[0m\u001b[1m# de iteración\u001b[0m\u001b[1m \u001b[0m┃\u001b[1m \u001b[0m\u001b[1mx0               \u001b[0m\u001b[1m \u001b[0m┃\u001b[1m \u001b[0m\u001b[1mx1               \u001b[0m\u001b[1m \u001b[0m┃\u001b[1m \u001b[0m\u001b[1merror            \u001b[0m\u001b[1m \u001b[0m┃\n",
       "┡━━━━━━━━━━━━━━━━╇━━━━━━━━━━━━━━━━━━━╇━━━━━━━━━━━━━━━━━━━╇━━━━━━━━━━━━━━━━━━━┩\n",
       "│ 1              │ 1.250000000000000 │ 1.187288181107185 │ 0.062711818892815 │\n",
       "│ 2              │ 1.187288181107185 │ 1.194296209690190 │ 0.007008028583005 │\n",
       "│ 3              │ 1.194296209690190 │ 1.194146610774405 │ 0.000149598915785 │\n",
       "│ 4              │ 1.194146610774405 │ 1.194151314596844 │ <-- solución      │\n",
       "└────────────────┴───────────────────┴───────────────────┴───────────────────┘\n"
      ]
     },
     "metadata": {},
     "output_type": "display_data"
    }
   ],
   "source": [
    "import numpy\n",
    "\n",
    "from math import sin, cos, e\n",
    "from matplotlib import pyplot\n",
    "\n",
    "from metodos_numericos import newton_raphson\n",
    "from utils import imprimir_tabla\n",
    "\n",
    "\n",
    "def funcion_tiempo_televisores(x):\n",
    "    return round(\n",
    "        (-4 * sin((12 * x) / 7) * e**((-24 * x) / 7))\n",
    "        + (((96 * x) / 35) * e**((-8 * x) / 7))\n",
    "        + (8/25),\n",
    "        15\n",
    "    )\n",
    "\n",
    "def derivada_tiempo_televisores(x):\n",
    "    return round(\n",
    "        ((96/7) * sin((12*x)/7) * e**((-24*x)/7))\n",
    "        - ((48/7) * cos((12*x)/7) * e**((-24*x)/7))\n",
    "        + ((96/ 35) * e**((-8 * x) / 7))\n",
    "        - (((768 * x) / 245) * e**((-8 * x) / 7))\n",
    "        ,\n",
    "        15\n",
    "    )\n",
    "\n",
    "def segunda_derivada_de_televisores(x):\n",
    "    return round(\n",
    "        (\n",
    "            ((2034/49) * cos((12*x) / 7) * e**((-24*x)/7))\n",
    "            - ((1728/49) * sin((12*x) / 7 ) * e**((-24*x)/7))\n",
    "            + ((6144/1715) * x * e**((-8*x)/7))\n",
    "            - ((1536/245) * e**((-8*x)/7))\n",
    "        ),\n",
    "        15\n",
    "    )\n",
    "\n",
    "# graficamos la función para ver en que intervalo podemos tener  un resultado\n",
    "eje_x = [x for x in numpy.arange(0, 4, 0.05)]\n",
    "eje_y = [funcion_tiempo_televisores(x) for x in eje_x]\n",
    "\n",
    "eje_y_derivada = [derivada_tiempo_televisores(x) for x in eje_x]\n",
    "eje_y_segunda_derivada = [segunda_derivada_de_televisores(x) for x in eje_x]\n",
    "\n",
    "plot_carga_en_tiempo = pyplot.figure(figsize=(5,5),) \n",
    "pyplot.plot(eje_x, eje_y)\n",
    "pyplot.plot(eje_x, eje_y_derivada)\n",
    "pyplot.plot(eje_x, eje_y_segunda_derivada)\n",
    "pyplot.grid(visible=True)\n",
    "pyplot.axvline(0, color=\"g\")\n",
    "pyplot.axhline(0, color=\"g\")\n",
    "pyplot.show()\n",
    "\n",
    "# observamos que el resultado puede estar muy cerca de 1.25, así que\n",
    "# lo tomamos como x0\n",
    "\n",
    "resultado = newton_raphson(1.25, derivada_tiempo_televisores, segunda_derivada_de_televisores, resultado=[])\n",
    "imprimir_tabla(resultado)"
   ]
  }
 ],
 "metadata": {
  "kernelspec": {
   "display_name": "venv",
   "language": "python",
   "name": "python3"
  },
  "language_info": {
   "codemirror_mode": {
    "name": "ipython",
    "version": 3
   },
   "file_extension": ".py",
   "mimetype": "text/x-python",
   "name": "python",
   "nbconvert_exporter": "python",
   "pygments_lexer": "ipython3",
   "version": "3.10.12"
  }
 },
 "nbformat": 4,
 "nbformat_minor": 2
}
