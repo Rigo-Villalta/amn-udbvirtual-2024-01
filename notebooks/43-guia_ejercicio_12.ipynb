{
 "cells": [
  {
   "cell_type": "markdown",
   "metadata": {},
   "source": [
    "12 - Dados los valores de x: -1.87, -1.63, -1.27, -0.89, -0.15, 0.1, 0.18, 0.75, 0.99 y la función:\n",
    " $$ f(x) tan\\left( \\frac{\\pi x}{8} \\right) $$\n",
    "Aproxime el valor de f(−1.435). Además, obtenga el valor exacto y el error de aproximación. Use 9 decimales.\n",
    "\n",
    "Debe mostrarse:\n",
    "- Los valores de la tabla de diferencia construida\n",
    "- El polinomio de interpolación"
   ]
  },
  {
   "cell_type": "code",
   "execution_count": 2,
   "metadata": {},
   "outputs": [
    {
     "name": "stdout",
     "output_type": "stream",
     "text": [
      "Los valores de la tabla de diferencia construida son:\n"
     ]
    },
    {
     "data": {
      "text/html": [
       "<pre style=\"white-space:pre;overflow-x:auto;line-height:normal;font-family:Menlo,'DejaVu Sans Mono',consolas,'Courier New',monospace\">┏━━━━━━━━━━━━┳━━━━━━━━━━━━┳━━━━━━━━━━━━┳━━━━━━━━━━━━┳━━━━━━━━━━━┳━━━━━━━━━━━━┳━━━━━━━━━━━┳━━━━━━━━━━━━┳━━━━━━━━━━━┓\n",
       "┃<span style=\"font-weight: bold\"> x          </span>┃<span style=\"font-weight: bold\"> 1ad        </span>┃<span style=\"font-weight: bold\"> 2ad        </span>┃<span style=\"font-weight: bold\"> 3ad        </span>┃<span style=\"font-weight: bold\"> 4ad       </span>┃<span style=\"font-weight: bold\"> 5ad        </span>┃<span style=\"font-weight: bold\"> 6ad       </span>┃<span style=\"font-weight: bold\"> 7ad        </span>┃<span style=\"font-weight: bold\"> 8ad       </span>┃\n",
       "┡━━━━━━━━━━━━╇━━━━━━━━━━━━╇━━━━━━━━━━━━╇━━━━━━━━━━━━╇━━━━━━━━━━━╇━━━━━━━━━━━━╇━━━━━━━━━━━╇━━━━━━━━━━━━╇━━━━━━━━━━━┩\n",
       "│ -0.9027771 │ 0.0        │ 0.0        │ 0.0        │ 0.0       │ 0.0        │ 0.0       │ 0.0        │ 0.0       │\n",
       "│ -0.7446985 │ 0.65866065 │ 0.0        │ 0.0        │ 0.0       │ 0.0        │ 0.0       │ 0.0        │ 0.0       │\n",
       "│ -0.5446518 │ 0.55568534 │ -0.171625… │ 0.0        │ 0.0       │ 0.0        │ 0.0       │ 0.0        │ 0.0       │\n",
       "│ -0.364464… │ 0.4741772  │ -0.110146… │ 0.06273407 │ 0.0       │ 0.0        │ 0.0       │ 0.0        │ 0.0       │\n",
       "│ -0.058973… │ 0.4128262  │ -0.054777… │ 0.03741111 │ -0.01472… │ 0.0        │ 0.0       │ 0.0        │ 0.0       │\n",
       "│ 0.0392901… │ 0.39305276 │ -0.019973… │ 0.02540474 │ -0.00694… │ 0.0039505… │ 0.0       │ 0.0        │ 0.0       │\n",
       "│ 0.0708038  │ 0.39392114 │ 0.0026314… │ 0.0211258… │ -0.00295… │ 0.0022039… │ -0.00085… │ 0.0        │ 0.0       │\n",
       "│ 0.3033467  │ 0.40797    │ 0.0216136… │ 0.02109133 │ -2.10376… │ 0.0014504… │ -0.00031… │ 0.0002043… │ 0.0       │\n",
       "│ 0.40962026 │ 0.4428065  │ 0.0430080… │ 0.02403862 │ 0.002585… │ 0.0013863… │ -2.83583… │ 0.0001100… │ -3.29878… │\n",
       "└────────────┴────────────┴────────────┴────────────┴───────────┴────────────┴───────────┴────────────┴───────────┘\n",
       "</pre>\n"
      ],
      "text/plain": [
       "┏━━━━━━━━━━━━┳━━━━━━━━━━━━┳━━━━━━━━━━━━┳━━━━━━━━━━━━┳━━━━━━━━━━━┳━━━━━━━━━━━━┳━━━━━━━━━━━┳━━━━━━━━━━━━┳━━━━━━━━━━━┓\n",
       "┃\u001b[1m \u001b[0m\u001b[1mx         \u001b[0m\u001b[1m \u001b[0m┃\u001b[1m \u001b[0m\u001b[1m1ad       \u001b[0m\u001b[1m \u001b[0m┃\u001b[1m \u001b[0m\u001b[1m2ad       \u001b[0m\u001b[1m \u001b[0m┃\u001b[1m \u001b[0m\u001b[1m3ad       \u001b[0m\u001b[1m \u001b[0m┃\u001b[1m \u001b[0m\u001b[1m4ad      \u001b[0m\u001b[1m \u001b[0m┃\u001b[1m \u001b[0m\u001b[1m5ad       \u001b[0m\u001b[1m \u001b[0m┃\u001b[1m \u001b[0m\u001b[1m6ad      \u001b[0m\u001b[1m \u001b[0m┃\u001b[1m \u001b[0m\u001b[1m7ad       \u001b[0m\u001b[1m \u001b[0m┃\u001b[1m \u001b[0m\u001b[1m8ad      \u001b[0m\u001b[1m \u001b[0m┃\n",
       "┡━━━━━━━━━━━━╇━━━━━━━━━━━━╇━━━━━━━━━━━━╇━━━━━━━━━━━━╇━━━━━━━━━━━╇━━━━━━━━━━━━╇━━━━━━━━━━━╇━━━━━━━━━━━━╇━━━━━━━━━━━┩\n",
       "│ -0.9027771 │ 0.0        │ 0.0        │ 0.0        │ 0.0       │ 0.0        │ 0.0       │ 0.0        │ 0.0       │\n",
       "│ -0.7446985 │ 0.65866065 │ 0.0        │ 0.0        │ 0.0       │ 0.0        │ 0.0       │ 0.0        │ 0.0       │\n",
       "│ -0.5446518 │ 0.55568534 │ -0.171625… │ 0.0        │ 0.0       │ 0.0        │ 0.0       │ 0.0        │ 0.0       │\n",
       "│ -0.364464… │ 0.4741772  │ -0.110146… │ 0.06273407 │ 0.0       │ 0.0        │ 0.0       │ 0.0        │ 0.0       │\n",
       "│ -0.058973… │ 0.4128262  │ -0.054777… │ 0.03741111 │ -0.01472… │ 0.0        │ 0.0       │ 0.0        │ 0.0       │\n",
       "│ 0.0392901… │ 0.39305276 │ -0.019973… │ 0.02540474 │ -0.00694… │ 0.0039505… │ 0.0       │ 0.0        │ 0.0       │\n",
       "│ 0.0708038  │ 0.39392114 │ 0.0026314… │ 0.0211258… │ -0.00295… │ 0.0022039… │ -0.00085… │ 0.0        │ 0.0       │\n",
       "│ 0.3033467  │ 0.40797    │ 0.0216136… │ 0.02109133 │ -2.10376… │ 0.0014504… │ -0.00031… │ 0.0002043… │ 0.0       │\n",
       "│ 0.40962026 │ 0.4428065  │ 0.0430080… │ 0.02403862 │ 0.002585… │ 0.0013863… │ -2.83583… │ 0.0001100… │ -3.29878… │\n",
       "└────────────┴────────────┴────────────┴────────────┴───────────┴────────────┴───────────┴────────────┴───────────┘\n"
      ]
     },
     "metadata": {},
     "output_type": "display_data"
    },
    {
     "name": "stdout",
     "output_type": "stream",
     "text": [
      "El polinomio de interpolación es:  0.65866065*x + (-0.17162551*x - 0.320939703)*(x + 1.63) + (-0.014722651*x - 0.027531357)*(x + 0.89)*(x + 1.27)*(x + 1.63) + (-0.000851999*x - 0.001593238)*(x - 0.1)*(x + 0.15)*(x + 0.89)*(x + 1.27)*(x + 1.63) + (-3.2988e-5*x - 6.1687e-5)*(x - 0.75)*(x - 0.18)*(x - 0.1)*(x + 0.15)*(x + 0.89)*(x + 1.27)*(x + 1.63) + (0.000204356*x + 0.000382145)*(x - 0.18)*(x - 0.1)*(x + 0.15)*(x + 0.89)*(x + 1.27)*(x + 1.63) + (0.003950535*x + 0.0073875)*(x + 0.15)*(x + 0.89)*(x + 1.27)*(x + 1.63) + (0.062734067*x + 0.117312706)*(x + 1.27)*(x + 1.63) + 0.32891834\n",
      "El valor de aproximación de -1.435 en la función es:  -0.631866422\n",
      "El valor exacto al evaluar -1.435 es de: -0.631868445\n",
      "El error es de: 2.0E-6\n"
     ]
    }
   ],
   "source": [
    "from math import tan, pi\n",
    "\n",
    "from sympy import Number\n",
    "\n",
    "from metodos_interpolacion import diferencias_divididas\n",
    "from utils import imprimir_tabla\n",
    "\n",
    "\n",
    "datos_x = [-1.87, -1.63, -1.27, -0.89, -0.15, 0.1, 0.18, 0.75, 0.99]\n",
    "datos_y = [tan((pi *x) / 8) for x in datos_x]\n",
    "\n",
    "resultado = diferencias_divididas(datos_x, datos_y, -1.435)\n",
    "\n",
    "matriz = resultado[0]\n",
    "polinomio = resultado[1]\n",
    "valor_de_aproximacion = round(resultado[2], 9)\n",
    "\n",
    "lista_para_tabular = [[\"x\", \"1ad\", \"2ad\", \"3ad\", \"4ad\", \"5ad\", \"6ad\", \"7ad\", \"8ad\"]]\n",
    "for fila in matriz:\n",
    "    nueva_fila = []\n",
    "    for celda in fila:\n",
    "        nueva_fila.append(str(celda))\n",
    "    lista_para_tabular.append(nueva_fila)\n",
    "\n",
    "print(\"Los valores de la tabla de diferencia construida son:\")\n",
    "imprimir_tabla(lista_para_tabular)\n",
    "\n",
    "print(\n",
    "    \"El polinomio de interpolación es: \",\n",
    "     polinomio.xreplace({n: round(n, 9) for n in polinomio.atoms(Number)})\n",
    "    )\n",
    "\n",
    "print(\"El valor de aproximación de -1.435 en la función es: \", valor_de_aproximacion)\n",
    "\n",
    "valor_exacto = round(tan((pi * -1.435) / 8), 9)\n",
    "print(f\"El valor exacto al evaluar -1.435 es de: {valor_exacto}\")\n",
    "\n",
    "error = abs(valor_exacto - valor_de_aproximacion)\n",
    "print(f\"El error es de: {error:,.1E}\")\n"
   ]
  }
 ],
 "metadata": {
  "kernelspec": {
   "display_name": "venv",
   "language": "python",
   "name": "python3"
  },
  "language_info": {
   "codemirror_mode": {
    "name": "ipython",
    "version": 3
   },
   "file_extension": ".py",
   "mimetype": "text/x-python",
   "name": "python",
   "nbconvert_exporter": "python",
   "pygments_lexer": "ipython3",
   "version": "3.10.12"
  }
 },
 "nbformat": 4,
 "nbformat_minor": 2
}
