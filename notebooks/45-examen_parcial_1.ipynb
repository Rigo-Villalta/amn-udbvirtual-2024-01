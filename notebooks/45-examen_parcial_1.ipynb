{
 "cells": [
  {
   "cell_type": "markdown",
   "metadata": {},
   "source": [
    "Examen parcial 1. AMN Ciclo 01-2024\n",
    "Rigoberto Alcides Villalta  VV000329\n",
    "\n",
    "NOTA: En todos los códigos tomo los algoritmos (si no es necesario modificarlos) de los módulos que importo, junto a esta notebook voy a adjuntor esos módulos de Python."
   ]
  },
  {
   "cell_type": "markdown",
   "metadata": {},
   "source": [
    "1 - La siguiente tabla muestra los volts e   y los kilowatts  p  en una curva de pérdida en el núcleo para un motor eléctrico.\n",
    "\n",
    "| e | 40 | 60 | 80 | 100 | 120 | 140 | 160 |\n",
    "|---|-----|-----|-----|-----|-----|-----|------|\n",
    "| p | 0.63 | 1.36 | 2.18 | 3.0 | 3.93 | 6.22 | 8.59 | \n",
    "\n",
    "Emplee el Método de Neville para aproximar el valor de p correspondiente a e=90. Use 15 decimales\n"
   ]
  },
  {
   "cell_type": "code",
   "execution_count": 4,
   "metadata": {},
   "outputs": [
    {
     "name": "stdout",
     "output_type": "stream",
     "text": [
      "La raíz aproximada es de: 2.621337890625\n"
     ]
    }
   ],
   "source": [
    "# Importo el algoritmo de neville\n",
    "\n",
    "from metodos_interpolacion import neville\n",
    "\n",
    "# declaro mis datos 'x' e 'y'\n",
    "datos_x = [40, 60, 80, 100, 120, 140, 160]\n",
    "datos_y = [0.63, 1.36, 2.18, 3.0, 3.93, 6.22, 8.59]\n",
    "\n",
    "#El resultado me devuelve una matriz cuyo índice [n][n] es la aproximación\n",
    "\n",
    "resultado = neville(datos_x, datos_y, 90)\n",
    "\n",
    "print(\"La raíz aproximada es de:\", round(resultado[6][6], 15))"
   ]
  },
  {
   "cell_type": "markdown",
   "metadata": {},
   "source": [
    "2 - La velocidad vertical de un cohete se calcula mediate la fórmula:\n",
    "\n",
    "$$ v = u * ln \\left( \\frac{m_0}{m_0 - qt} \\right) - gt $$\n",
    "\n",
    "Donde: g= 9.81m/s^2,  q= 2700 kg/s,  u=2000 m/s,  m0 = 150,000 kg.\n",
    "\n",
    "Determine el tiempo para el cual el cohete alcanza una velocidad de 750 m/s usando el Método de Steffensen. Use 15 decimales y una precición de 10^-12. Verque que los criterios de convergencia de la función g(x) seleccionada.\n",
    "\n",
    "### Solución\n",
    "\n",
    "primero sustituyo los datos en la ecuación:\n",
    "\n",
    "$$ 750 m/s = 2000 m/s * ln \\left( \\frac{150,000 kg}{150,000 kg- 2700 kg/s * t} \\right) - 9.81m/s^2*t $$\n",
    "\n",
    "despejo mi t:\n",
    "\n",
    "$$ 9.81*t  = 2000  * ln \\left( \\frac{150000}{150000 - 2700 * t} \\right) - 750  $$\n",
    "\n",
    "$$ t  = \\frac{2000  * ln \\left( \\frac{150,000 kg}{150,000 kg- 2700 * t} \\right) - 750}{9.81m/s^2} $$\n",
    "\n",
    "despejo ln usando \"e\" y obtengo:\n",
    "\n",
    "$$ t = \\frac{150000}{2700}*(1- e^{\\frac{9.81*t+750}{2000}}) $$\n",
    "\n",
    "\n",
    "Hice 3 despejes y en todos me da error, no llego a un resultado aceptable\n",
    "\n"
   ]
  },
  {
   "cell_type": "code",
   "execution_count": 26,
   "metadata": {},
   "outputs": [
    {
     "data": {
      "text/html": [
       "<pre style=\"white-space:pre;overflow-x:auto;line-height:normal;font-family:Menlo,'DejaVu Sans Mono',consolas,'Courier New',monospace\">┏━━━━━━━━━━━━━━━━┳━━━━━━━━━━━━━━━━━━━━┳━━━━━━━━━━━━━━━━━━━━┳━━━━━━━━━━━━━━━━━━━┳━━━━━━━━━━━━━━━━━━━━┳━━━━━━━━━━━━━┓\n",
       "┃<span style=\"font-weight: bold\"> # de iteración </span>┃<span style=\"font-weight: bold\"> x0                 </span>┃<span style=\"font-weight: bold\"> x1                 </span>┃<span style=\"font-weight: bold\"> x2                </span>┃<span style=\"font-weight: bold\"> x3                 </span>┃<span style=\"font-weight: bold\"> error       </span>┃\n",
       "┡━━━━━━━━━━━━━━━━╇━━━━━━━━━━━━━━━━━━━━╇━━━━━━━━━━━━━━━━━━━━╇━━━━━━━━━━━━━━━━━━━╇━━━━━━━━━━━━━━━━━━━━╇━━━━━━━━━━━━━┩\n",
       "│ 1              │ 31.500000000000000 │ -38.7830994703366… │ -11.274466943502… │ -19.0125941659376… │ 5.05126E+01 │\n",
       "│ 2              │ -19.0125941659376… │ -18.0799076486303… │ -18.417548917290… │ -18.3278070195204… │ 6.84787E-01 │\n",
       "│ 3              │ -18.3278070195204… │ -18.3276562495670… │ -18.327710888189… │ -18.3276963543314… │ 1.10665E-04 │\n",
       "│ 4              │ -18.3276963543314… │ -18.3276963543274… │ -18.327696354328… │ -18.3276963543285… │ 2.89901E-12 │\n",
       "└────────────────┴────────────────────┴────────────────────┴───────────────────┴────────────────────┴─────────────┘\n",
       "</pre>\n"
      ],
      "text/plain": [
       "┏━━━━━━━━━━━━━━━━┳━━━━━━━━━━━━━━━━━━━━┳━━━━━━━━━━━━━━━━━━━━┳━━━━━━━━━━━━━━━━━━━┳━━━━━━━━━━━━━━━━━━━━┳━━━━━━━━━━━━━┓\n",
       "┃\u001b[1m \u001b[0m\u001b[1m# de iteración\u001b[0m\u001b[1m \u001b[0m┃\u001b[1m \u001b[0m\u001b[1mx0                \u001b[0m\u001b[1m \u001b[0m┃\u001b[1m \u001b[0m\u001b[1mx1                \u001b[0m\u001b[1m \u001b[0m┃\u001b[1m \u001b[0m\u001b[1mx2               \u001b[0m\u001b[1m \u001b[0m┃\u001b[1m \u001b[0m\u001b[1mx3                \u001b[0m\u001b[1m \u001b[0m┃\u001b[1m \u001b[0m\u001b[1merror      \u001b[0m\u001b[1m \u001b[0m┃\n",
       "┡━━━━━━━━━━━━━━━━╇━━━━━━━━━━━━━━━━━━━━╇━━━━━━━━━━━━━━━━━━━━╇━━━━━━━━━━━━━━━━━━━╇━━━━━━━━━━━━━━━━━━━━╇━━━━━━━━━━━━━┩\n",
       "│ 1              │ 31.500000000000000 │ -38.7830994703366… │ -11.274466943502… │ -19.0125941659376… │ 5.05126E+01 │\n",
       "│ 2              │ -19.0125941659376… │ -18.0799076486303… │ -18.417548917290… │ -18.3278070195204… │ 6.84787E-01 │\n",
       "│ 3              │ -18.3278070195204… │ -18.3276562495670… │ -18.327710888189… │ -18.3276963543314… │ 1.10665E-04 │\n",
       "│ 4              │ -18.3276963543314… │ -18.3276963543274… │ -18.327696354328… │ -18.3276963543285… │ 2.89901E-12 │\n",
       "└────────────────┴────────────────────┴────────────────────┴───────────────────┴────────────────────┴─────────────┘\n"
      ]
     },
     "metadata": {},
     "output_type": "display_data"
    },
    {
     "data": {
      "text/html": [
       "<pre style=\"white-space:pre;overflow-x:auto;line-height:normal;font-family:Menlo,'DejaVu Sans Mono',consolas,'Courier New',monospace\">┏━━━━━━━━━━━━━━━━┳━━━━━━━━━━━━━━━━━━━━┳━━━━━━━━━━━━━━━━━━━━┳━━━━━━━━━━━━━━━━━━━━┳━━━━━━━━━━━━━━━━━━━┳━━━━━━━━━━━━━┓\n",
       "┃<span style=\"font-weight: bold\"> # de iteración </span>┃<span style=\"font-weight: bold\"> x0                 </span>┃<span style=\"font-weight: bold\"> x1                 </span>┃<span style=\"font-weight: bold\"> x2                 </span>┃<span style=\"font-weight: bold\"> x3                </span>┃<span style=\"font-weight: bold\"> error       </span>┃\n",
       "┡━━━━━━━━━━━━━━━━╇━━━━━━━━━━━━━━━━━━━━╇━━━━━━━━━━━━━━━━━━━━╇━━━━━━━━━━━━━━━━━━━━╇━━━━━━━━━━━━━━━━━━━╇━━━━━━━━━━━━━┩\n",
       "│ 1              │ 31.500000000000000 │ 94.193180627858737 │ -2.414479803732756 │ 56.1730329300050… │ 2.46730E+01 │\n",
       "│ 2              │ 56.173032930005093 │ 840.8759169836523… │ -616.454274653377… │ 330.816000029151… │ 2.74643E+02 │\n",
       "│ 3              │ 330.8160000291511… │ -402.718491173306… │ -506.642984584759… │ -523.79693761714… │ 8.54613E+02 │\n",
       "│ 4              │ -523.796937617145… │ -554.439871099741… │ -564.947592001402… │ -570.43112976408… │ 4.66342E+01 │\n",
       "│ 5              │ -570.431129764085… │ -570.223359904278… │ -570.155681435858… │ -570.12298581450… │ 3.08144E-01 │\n",
       "│ 6              │ -570.122985814506… │ -570.122977764156… │ -570.122975140998… │ -570.12297387313… │ 1.19414E-05 │\n",
       "│ 7              │ -570.122973873131… │ -570.122973873131… │ -570.122973873131… │ -570.12297387313… │ 1.13687E-13 │\n",
       "└────────────────┴────────────────────┴────────────────────┴────────────────────┴───────────────────┴─────────────┘\n",
       "</pre>\n"
      ],
      "text/plain": [
       "┏━━━━━━━━━━━━━━━━┳━━━━━━━━━━━━━━━━━━━━┳━━━━━━━━━━━━━━━━━━━━┳━━━━━━━━━━━━━━━━━━━━┳━━━━━━━━━━━━━━━━━━━┳━━━━━━━━━━━━━┓\n",
       "┃\u001b[1m \u001b[0m\u001b[1m# de iteración\u001b[0m\u001b[1m \u001b[0m┃\u001b[1m \u001b[0m\u001b[1mx0                \u001b[0m\u001b[1m \u001b[0m┃\u001b[1m \u001b[0m\u001b[1mx1                \u001b[0m\u001b[1m \u001b[0m┃\u001b[1m \u001b[0m\u001b[1mx2                \u001b[0m\u001b[1m \u001b[0m┃\u001b[1m \u001b[0m\u001b[1mx3               \u001b[0m\u001b[1m \u001b[0m┃\u001b[1m \u001b[0m\u001b[1merror      \u001b[0m\u001b[1m \u001b[0m┃\n",
       "┡━━━━━━━━━━━━━━━━╇━━━━━━━━━━━━━━━━━━━━╇━━━━━━━━━━━━━━━━━━━━╇━━━━━━━━━━━━━━━━━━━━╇━━━━━━━━━━━━━━━━━━━╇━━━━━━━━━━━━━┩\n",
       "│ 1              │ 31.500000000000000 │ 94.193180627858737 │ -2.414479803732756 │ 56.1730329300050… │ 2.46730E+01 │\n",
       "│ 2              │ 56.173032930005093 │ 840.8759169836523… │ -616.454274653377… │ 330.816000029151… │ 2.74643E+02 │\n",
       "│ 3              │ 330.8160000291511… │ -402.718491173306… │ -506.642984584759… │ -523.79693761714… │ 8.54613E+02 │\n",
       "│ 4              │ -523.796937617145… │ -554.439871099741… │ -564.947592001402… │ -570.43112976408… │ 4.66342E+01 │\n",
       "│ 5              │ -570.431129764085… │ -570.223359904278… │ -570.155681435858… │ -570.12298581450… │ 3.08144E-01 │\n",
       "│ 6              │ -570.122985814506… │ -570.122977764156… │ -570.122975140998… │ -570.12297387313… │ 1.19414E-05 │\n",
       "│ 7              │ -570.122973873131… │ -570.122973873131… │ -570.122973873131… │ -570.12297387313… │ 1.13687E-13 │\n",
       "└────────────────┴────────────────────┴────────────────────┴────────────────────┴───────────────────┴─────────────┘\n"
      ]
     },
     "metadata": {},
     "output_type": "display_data"
    }
   ],
   "source": [
    "import math\n",
    "\n",
    "from metodos_numericos import steffensen\n",
    "from utils import imprimir_tabla\n",
    "\n",
    "\n",
    "def g_de_x(t):\n",
    "    return (150000 * (1 - math.exp((750 + 9.81 * t) / 2000))) / 2700\n",
    "\n",
    "\n",
    "# Graficando veo que la raiz está cerca de 32 sustituyo en el método\n",
    "\n",
    "resultado = steffensen(31.5, g_de_x, 10e-12, 1, [])\n",
    "\n",
    "# En el caso de Steffensen el resultado es una tabla de dos dimensiones la\n",
    "# cual dispuse así para poder utilizar una utilidad de tabulación\n",
    "\n",
    "imprimir_tabla(resultado)\n",
    "\n",
    "# Probando el valor absoluto del logaritmo igual no sale.\n",
    "def g_de_x2(t):\n",
    "    return (2000 * math.log(abs(150000 / (150000 - 2700 * t))) - 750) / 9.81\n",
    "\n",
    "resultado_2 = steffensen(31.5, g_de_x2, 10e-12, 1, [])\n",
    "imprimir_tabla(resultado_2)"
   ]
  },
  {
   "cell_type": "markdown",
   "metadata": {},
   "source": [
    "3 . Ejercicio 3"
   ]
  },
  {
   "cell_type": "code",
   "execution_count": 23,
   "metadata": {},
   "outputs": [
    {
     "name": "stdout",
     "output_type": "stream",
     "text": [
      "-12.548221095806577\n"
     ]
    },
    {
     "ename": "ZeroDivisionError",
     "evalue": "float division by zero",
     "output_type": "error",
     "traceback": [
      "\u001b[0;31m---------------------------------------------------------------------------\u001b[0m",
      "\u001b[0;31mZeroDivisionError\u001b[0m                         Traceback (most recent call last)",
      "Cell \u001b[0;32mIn[23], line 47\u001b[0m\n\u001b[1;32m     43\u001b[0m     \u001b[38;5;28;01mreturn\u001b[39;00m \u001b[38;5;28mround\u001b[39m(\u001b[38;5;241m-\u001b[39m\u001b[38;5;241m0.008\u001b[39m \u001b[38;5;241m*\u001b[39m math\u001b[38;5;241m.\u001b[39mexp(\u001b[38;5;241m-\u001b[39m\u001b[38;5;241m0.4\u001b[39m\u001b[38;5;241m*\u001b[39mt)\u001b[38;5;241m*\u001b[39mt \u001b[38;5;241m+\u001b[39m \u001b[38;5;241m0.0032\u001b[39m \u001b[38;5;241m*\u001b[39m math\u001b[38;5;241m.\u001b[39mexp(\u001b[38;5;241m-\u001b[39m\u001b[38;5;241m0.4\u001b[39m\u001b[38;5;241m*\u001b[39mt), \u001b[38;5;241m15\u001b[39m)\n\u001b[1;32m     45\u001b[0m \u001b[38;5;66;03m# Ahora hago el resultado:\u001b[39;00m\n\u001b[0;32m---> 47\u001b[0m resultado \u001b[38;5;241m=\u001b[39m \u001b[43mchebyshev\u001b[49m\u001b[43m(\u001b[49m\u001b[38;5;241;43m6.15\u001b[39;49m\u001b[43m,\u001b[49m\u001b[43m \u001b[49m\u001b[43mfuncion\u001b[49m\u001b[43m,\u001b[49m\u001b[43m \u001b[49m\u001b[43mderivada\u001b[49m\u001b[43m,\u001b[49m\u001b[43m \u001b[49m\u001b[43msegunda_derivada\u001b[49m\u001b[43m,\u001b[49m\u001b[43m \u001b[49m\u001b[38;5;241;43m10E-12\u001b[39;49m\u001b[43m,\u001b[49m\u001b[43m \u001b[49m\u001b[38;5;241;43m1\u001b[39;49m\u001b[43m,\u001b[49m\u001b[43m \u001b[49m\u001b[43m[\u001b[49m\u001b[43m]\u001b[49m\u001b[43m)\u001b[49m\n",
      "Cell \u001b[0;32mIn[23], line 23\u001b[0m, in \u001b[0;36mchebyshev\u001b[0;34m(x0, funcion, derivada, segunda_derivada, tolerancia, iteracion, resultado)\u001b[0m\n\u001b[1;32m     19\u001b[0m \u001b[38;5;28;01melse\u001b[39;00m:\n\u001b[1;32m     20\u001b[0m     resultado\u001b[38;5;241m.\u001b[39mappend(\n\u001b[1;32m     21\u001b[0m         [\u001b[38;5;28mstr\u001b[39m(iteracion), \u001b[38;5;124mf\u001b[39m\u001b[38;5;124m\"\u001b[39m\u001b[38;5;132;01m{\u001b[39;00mx0\u001b[38;5;132;01m:\u001b[39;00m\u001b[38;5;124m,.15f\u001b[39m\u001b[38;5;132;01m}\u001b[39;00m\u001b[38;5;124m\"\u001b[39m, \u001b[38;5;124mf\u001b[39m\u001b[38;5;124m\"\u001b[39m\u001b[38;5;132;01m{\u001b[39;00mx1\u001b[38;5;132;01m:\u001b[39;00m\u001b[38;5;124m,.15f\u001b[39m\u001b[38;5;132;01m}\u001b[39;00m\u001b[38;5;124m\"\u001b[39m, \u001b[38;5;124mf\u001b[39m\u001b[38;5;124m\"\u001b[39m\u001b[38;5;132;01m{\u001b[39;00merror\u001b[38;5;132;01m:\u001b[39;00m\u001b[38;5;124m,.5E\u001b[39m\u001b[38;5;132;01m}\u001b[39;00m\u001b[38;5;124m\"\u001b[39m]\n\u001b[1;32m     22\u001b[0m     )\n\u001b[0;32m---> 23\u001b[0m     \u001b[38;5;28;01mreturn\u001b[39;00m \u001b[43mchebyshev\u001b[49m\u001b[43m(\u001b[49m\n\u001b[1;32m     24\u001b[0m \u001b[43m        \u001b[49m\u001b[43mx0\u001b[49m\u001b[38;5;241;43m=\u001b[39;49m\u001b[43mx1\u001b[49m\u001b[43m,\u001b[49m\n\u001b[1;32m     25\u001b[0m \u001b[43m        \u001b[49m\u001b[43mfuncion\u001b[49m\u001b[38;5;241;43m=\u001b[39;49m\u001b[43mfuncion\u001b[49m\u001b[43m,\u001b[49m\n\u001b[1;32m     26\u001b[0m \u001b[43m        \u001b[49m\u001b[43mderivada\u001b[49m\u001b[38;5;241;43m=\u001b[39;49m\u001b[43mderivada\u001b[49m\u001b[43m,\u001b[49m\n\u001b[1;32m     27\u001b[0m \u001b[43m        \u001b[49m\u001b[43msegunda_derivada\u001b[49m\u001b[38;5;241;43m=\u001b[39;49m\u001b[43msegunda_derivada\u001b[49m\u001b[43m,\u001b[49m\n\u001b[1;32m     28\u001b[0m \u001b[43m        \u001b[49m\u001b[43mtolerancia\u001b[49m\u001b[38;5;241;43m=\u001b[39;49m\u001b[43mtolerancia\u001b[49m\u001b[43m,\u001b[49m\n\u001b[1;32m     29\u001b[0m \u001b[43m        \u001b[49m\u001b[43miteracion\u001b[49m\u001b[38;5;241;43m=\u001b[39;49m\u001b[43miteracion\u001b[49m\u001b[43m \u001b[49m\u001b[38;5;241;43m+\u001b[39;49m\u001b[43m \u001b[49m\u001b[38;5;241;43m1\u001b[39;49m\u001b[43m,\u001b[49m\n\u001b[1;32m     30\u001b[0m \u001b[43m        \u001b[49m\u001b[43mresultado\u001b[49m\u001b[38;5;241;43m=\u001b[39;49m\u001b[43mresultado\u001b[49m\u001b[43m,\u001b[49m\n\u001b[1;32m     31\u001b[0m \u001b[43m    \u001b[49m\u001b[43m)\u001b[49m\n",
      "Cell \u001b[0;32mIn[23], line 13\u001b[0m, in \u001b[0;36mchebyshev\u001b[0;34m(x0, funcion, derivada, segunda_derivada, tolerancia, iteracion, resultado)\u001b[0m\n\u001b[1;32m      9\u001b[0m     resultado\u001b[38;5;241m.\u001b[39mappend(\n\u001b[1;32m     10\u001b[0m         [\u001b[38;5;28mstr\u001b[39m(iteracion), \u001b[38;5;124mf\u001b[39m\u001b[38;5;124m\"\u001b[39m\u001b[38;5;132;01m{\u001b[39;00mx0\u001b[38;5;132;01m:\u001b[39;00m\u001b[38;5;124m,.15f\u001b[39m\u001b[38;5;132;01m}\u001b[39;00m\u001b[38;5;124m\"\u001b[39m, \u001b[38;5;124m\"\u001b[39m\u001b[38;5;124mMáximas iteraciones\u001b[39m\u001b[38;5;124m\"\u001b[39m, \u001b[38;5;124m\"\u001b[39m\u001b[38;5;124mposibles\u001b[39m\u001b[38;5;124m\"\u001b[39m]\n\u001b[1;32m     11\u001b[0m     )\n\u001b[1;32m     12\u001b[0m     \u001b[38;5;28;01mreturn\u001b[39;00m resultado\n\u001b[0;32m---> 13\u001b[0m x1 \u001b[38;5;241m=\u001b[39m x0 \u001b[38;5;241m-\u001b[39m (\u001b[38;5;241m1\u001b[39m \u001b[38;5;241m-\u001b[39m \u001b[38;5;241m0.5\u001b[39m \u001b[38;5;241m*\u001b[39m (\u001b[43m(\u001b[49m\u001b[43msegunda_derivada\u001b[49m\u001b[43m(\u001b[49m\u001b[43mx0\u001b[49m\u001b[43m)\u001b[49m\u001b[43m \u001b[49m\u001b[38;5;241;43m*\u001b[39;49m\u001b[43m \u001b[49m\u001b[43mfuncion\u001b[49m\u001b[43m(\u001b[49m\u001b[43mx0\u001b[49m\u001b[43m)\u001b[49m\u001b[43m)\u001b[49m\u001b[43m \u001b[49m\u001b[38;5;241;43m/\u001b[39;49m\u001b[43m \u001b[49m\u001b[38;5;28;43mround\u001b[39;49m\u001b[43m(\u001b[49m\u001b[43mderivada\u001b[49m\u001b[43m(\u001b[49m\u001b[43mx0\u001b[49m\u001b[38;5;241;43m*\u001b[39;49m\u001b[38;5;241;43m*\u001b[39;49m\u001b[38;5;241;43m2\u001b[39;49m\u001b[43m)\u001b[49m\u001b[43m,\u001b[49m\u001b[43m \u001b[49m\u001b[38;5;241;43m15\u001b[39;49m\u001b[43m)\u001b[49m))\u001b[38;5;241m*\u001b[39m(funcion(x0)\u001b[38;5;241m/\u001b[39mderivada(x0))\n\u001b[1;32m     14\u001b[0m \u001b[38;5;28mprint\u001b[39m(x1)\n\u001b[1;32m     15\u001b[0m error \u001b[38;5;241m=\u001b[39m \u001b[38;5;28mabs\u001b[39m(x1 \u001b[38;5;241m-\u001b[39m x0)\n",
      "\u001b[0;31mZeroDivisionError\u001b[0m: float division by zero"
     ]
    }
   ],
   "source": [
    "import math\n",
    "\n",
    "# Copio el método de Newton-Raphson y modifico, obtengo:\n",
    "\n",
    "def chebyshev(x0, funcion, derivada, segunda_derivada, tolerancia=0.00001, iteracion=1, resultado=[]):\n",
    "    if iteracion == 1:\n",
    "        resultado.append([\"# de iteración\", \"x0\", \"x1\", \"error\"])\n",
    "    elif iteracion == 100:\n",
    "        resultado.append(\n",
    "            [str(iteracion), f\"{x0:,.15f}\", \"Máximas iteraciones\", \"posibles\"]\n",
    "        )\n",
    "        return resultado\n",
    "    x1 = x0 - (1 - 0.5 * ((segunda_derivada(x0) * funcion(x0)) / (derivada(x0**2), 15)))*(funcion(x0)/derivada(x0))\n",
    "    print(x1)\n",
    "    error = abs(x1 - x0)\n",
    "    if error < tolerancia:\n",
    "        resultado.append([str(iteracion), f\"{x0:,.15f}\", f\"{x1:,.15f}\", f\"{error:,.5E}\"])\n",
    "        return resultado\n",
    "    else:\n",
    "        resultado.append(\n",
    "            [str(iteracion), f\"{x0:,.15f}\", f\"{x1:,.15f}\", f\"{error:,.5E}\"]\n",
    "        )\n",
    "        return chebyshev(\n",
    "            x0=x1,\n",
    "            funcion=funcion,\n",
    "            derivada=derivada,\n",
    "            segunda_derivada=segunda_derivada,\n",
    "            tolerancia=tolerancia,\n",
    "            iteracion=iteracion + 1,\n",
    "            resultado=resultado,\n",
    "        )\n",
    "\n",
    "\n",
    "# Declaro en python la función y sus derivadas:\n",
    "\n",
    "def funcion(t):\n",
    "    return round(0.78 - 0.7395 - 0.05 * t * math.exp(-0.4 * t) - 0.23 * math.exp(-0.4 * t), 15)\n",
    "\n",
    "def derivada(t):\n",
    "    return round(0.02*math.exp(-0.4*t)*t + 0.042*math.exp(-0.4*t), 15)\n",
    "\n",
    "def segunda_derivada(t):\n",
    "    return round(-0.008 * math.exp(-0.4*t)*t + 0.0032 * math.exp(-0.4*t), 15)\n",
    "\n",
    "# Ahora hago el resultado:\n",
    "\n",
    "resultado = chebyshev(6.15, funcion, derivada, segunda_derivada, 10E-12, 1, [])\n"
   ]
  },
  {
   "cell_type": "markdown",
   "metadata": {},
   "source": [
    "### aquí por más que trate en el 3, siempre me da división entre cero."
   ]
  }
 ],
 "metadata": {
  "kernelspec": {
   "display_name": "venv",
   "language": "python",
   "name": "python3"
  },
  "language_info": {
   "codemirror_mode": {
    "name": "ipython",
    "version": 3
   },
   "file_extension": ".py",
   "mimetype": "text/x-python",
   "name": "python",
   "nbconvert_exporter": "python",
   "pygments_lexer": "ipython3",
   "version": "3.10.12"
  }
 },
 "nbformat": 4,
 "nbformat_minor": 2
}
