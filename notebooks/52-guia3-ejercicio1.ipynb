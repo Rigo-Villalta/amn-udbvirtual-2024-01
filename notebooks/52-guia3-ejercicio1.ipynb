{
 "cells": [
  {
   "cell_type": "markdown",
   "metadata": {},
   "source": [
    "#La distancia recorrida por un automóvil se muestra en la siguiente tabla:\n",
    "\n",
    "t = [12, 12.25, 12.5, 12.75, 13]\n",
    "d = [35.08359483, 36.31303902, 37.55533578, 38.81016778, 40.07722551]\n",
    "\n",
    "Determine:\n",
    "\n",
    "a) El valor aproximado de la velocidad v(12.5) empleando una fórmula de 5 puntos\n",
    "\n",
    "b) El valor exacto de la velocidad si d(t) = −70 + 7t + 70e-t/10, Además, determine el error de aproximación."
   ]
  },
  {
   "cell_type": "code",
   "execution_count": 6,
   "metadata": {},
   "outputs": [
    {
     "name": "stdout",
     "output_type": "stream",
     "text": [
      "7 - 7*exp(-t/10)\n",
      "4.99446642197867\n",
      "4.994466466666677\n",
      "4.46880070725797e-8\n"
     ]
    }
   ],
   "source": [
    "# Ocupando la fórmula de 5 puntos centrada la velocidad\n",
    "\n",
    "from sympy import *\n",
    "\n",
    "t = symbols(\"t\")\n",
    "\n",
    "f = -70 + 7*t + 70*exp(-t / 10)\n",
    "h= 0.25\n",
    "c=12.5\n",
    "\n",
    "velocidad = diff(f)\n",
    "valor_exacto_velocidad = velocidad.subs(t, c)\n",
    "\n",
    "valor_aproximado_velocidad_c_5 = (\n",
    "    35.08359483\n",
    "    - 8 * 36.31303902\n",
    "    + 8 * 38.81016778\n",
    "    - 40.07722551\n",
    ") / (12 * h)\n",
    "\n",
    "error = abs(valor_exacto_velocidad - valor_aproximado_velocidad_c_5)\n",
    "\n",
    "print(valor_exacto_velocidad)\n",
    "print(valor_aproximado_velocidad_c_5)\n",
    "print(error)\n"
   ]
  }
 ],
 "metadata": {
  "kernelspec": {
   "display_name": "venv",
   "language": "python",
   "name": "python3"
  },
  "language_info": {
   "codemirror_mode": {
    "name": "ipython",
    "version": 3
   },
   "file_extension": ".py",
   "mimetype": "text/x-python",
   "name": "python",
   "nbconvert_exporter": "python",
   "pygments_lexer": "ipython3",
   "version": "3.10.12"
  }
 },
 "nbformat": 4,
 "nbformat_minor": 2
}
