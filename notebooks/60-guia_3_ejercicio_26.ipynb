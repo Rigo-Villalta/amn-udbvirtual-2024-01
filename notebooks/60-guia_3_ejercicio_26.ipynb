{
 "cells": [
  {
   "cell_type": "markdown",
   "metadata": {},
   "source": [
    "26. Aproxime la siguiente integral usando el método de cuadratura Gaussiana con n=7\n",
    "\n",
    "$$ \\int_{0}^{1} \\frac{1}{\\sqrt{2 \\pi}} e^{\\frac{-t^2}{2}}dt $$\n",
    "\n",
    "### Solución\n",
    "\n",
    "Primer hago el cambio para que los límites me queden en el intervalos [-1, 1], en este caso como la variable estaba en términos de *t*, utilizo *x* para el cambio:\n",
    "\n",
    "$$ t = \\frac{1}{2} [(b-a)x + a + b] $$\n",
    "\n",
    "$$ t = \\frac{1}{2} [(1-0)x + 0 + 1] = \\frac{1}{2} (x + 1) = \\frac{x + 1}{2}  $$\n",
    "\n",
    "$$ dt = \\frac{1}{2} (b-a)dx  = \\frac{1}{2} (1-0)dx  = \\frac{dx}{2} $$\n",
    "\n",
    "Por lo tanto mi función queda como:\n",
    "\n",
    "$$ \\int_{-1}^{1} \\frac{1}{\\sqrt{2 \\pi}} e^{\\frac{-(\\frac{x + 1}{2})^2}{2}} \\frac{dx}{2}$$\n",
    "\n",
    "Ahora resuelvo con software."
   ]
  },
  {
   "cell_type": "code",
   "execution_count": 17,
   "metadata": {},
   "outputs": [
    {
     "name": "stdout",
     "output_type": "stream",
     "text": [
      "[-0.949107912342759, -0.741531185599394, -0.405845151377397, 0, 0.405845151377397, 0.741531185599394, 0.949107912342759]\n"
     ]
    }
   ],
   "source": [
    "# Solución en Python\n",
    "\n",
    "from sympy import *\n",
    "\n",
    "x = symbols(\"x\")\n",
    "\n",
    "# Declaro mi función original para encontrar el valor exacto\n",
    "g = (1 / sqrt(2*pi)) * exp(-x**2/2)\n",
    "\n",
    "# declaro mi función\n",
    "f= (1 / sqrt(2*pi)) * exp(-((x+1)/2)**2 / 2) * 0.5\n",
    "\n",
    "# Ocupo el polinomio de Legendre P_7(x)\n",
    "pl7 = x**7 - (21/13)*x**5 + (105/143)*x**3 - (35/429)*x\n",
    "\n",
    "# Obtengo las raíces\n",
    "\n",
    "raices = nroots(pl7)\n",
    "\n",
    "print(raices)\n",
    "\n"
   ]
  },
  {
   "cell_type": "code",
   "execution_count": 18,
   "metadata": {},
   "outputs": [
    {
     "name": "stdout",
     "output_type": "stream",
     "text": [
      "[0.1294849661688699, 0.2797053914892788, 0.3818300505051178, 0.41795918367347046, 0.38183005050511837, 0.2797053914892784, 0.12948496616886984]\n"
     ]
    }
   ],
   "source": [
    "# declaro la derivada simbólica del polinomio\n",
    "\n",
    "dp7 = diff(pl7)\n",
    "# obtengo los pesos en una lista con el siguiente for\n",
    "pesos = []\n",
    "for i in range(7):\n",
    "    pesos.append(\n",
    "        float(\n",
    "            (1 / dp7.subs(x, raices[i])) * \n",
    "            integrate(pl7 / (x - raices[i]), (x, -1, 1))\n",
    "        )\n",
    "    )\n",
    "\n",
    "print(pesos)"
   ]
  },
  {
   "cell_type": "code",
   "execution_count": 19,
   "metadata": {},
   "outputs": [
    {
     "name": "stdout",
     "output_type": "stream",
     "text": [
      "El valor aproximado de la integral es:0.3413447460685426\n"
     ]
    }
   ],
   "source": [
    "# ahora obtengo el valor aproximado con un bucle\n",
    "\n",
    "valor_aproximado = 0\n",
    "\n",
    "for i in range(7):\n",
    "    valor_aproximado += pesos[i]*f.subs(x, raices[i])\n",
    "\n",
    "print(f\"El valor aproximado de la integral es:{float(valor_aproximado)}\")"
   ]
  },
  {
   "cell_type": "code",
   "execution_count": 20,
   "metadata": {},
   "outputs": [
    {
     "name": "stdout",
     "output_type": "stream",
     "text": [
      "0.3413447460685429\n"
     ]
    }
   ],
   "source": [
    "# Obtengo el valor exacto en la función original como corroboración.\n",
    "\n",
    "valor_exacto = float(integrate(g, (x, 0, 1)))\n",
    "print(valor_exacto)"
   ]
  }
 ],
 "metadata": {
  "kernelspec": {
   "display_name": "venv",
   "language": "python",
   "name": "python3"
  },
  "language_info": {
   "codemirror_mode": {
    "name": "ipython",
    "version": 3
   },
   "file_extension": ".py",
   "mimetype": "text/x-python",
   "name": "python",
   "nbconvert_exporter": "python",
   "pygments_lexer": "ipython3",
   "version": "3.10.12"
  }
 },
 "nbformat": 4,
 "nbformat_minor": 2
}
