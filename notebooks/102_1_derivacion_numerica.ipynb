{
 "cells": [
  {
   "cell_type": "code",
   "execution_count": 1,
   "metadata": {},
   "outputs": [
    {
     "name": "stdout",
     "output_type": "stream",
     "text": [
      "-0.939540784971094\n"
     ]
    }
   ],
   "source": [
    "# Ejemplo de la derivación numérica en clase 9\n",
    "\n",
    "# Fórmulas de derivación interpolatoria\n",
    "# Para estas fórmulas se ocupa una función, un h que es la variación\n",
    "# entre c y los siguientes valores y un c que es el valor en que se evaluán\n",
    "# las expresiones y es el valor a evaluar en las derivadas, es decir buscamos\n",
    "# la derivada f'(c)\n",
    "\n",
    "from sympy import *\n",
    "\n",
    "# Usualmente con declarar solo x como simbólica basta\n",
    "x = symbols(\"x\")\n",
    "\n",
    "# Declaramos la función como f y nos servirá para el resto de fórmulas\n",
    "f = 2*log(x)**2 + 3*sin(x)\n",
    "# Declarar h y c\n",
    "h= 1/400\n",
    "c=2.5\n",
    "\n",
    "# Para primeras derivadas\n",
    "# Fórmula primera derivada progresiva de 2 puntos\n",
    "valor_aproximado_p =  (f.subs(x, c+ h) - f.subs(x,c)) /h\n",
    "print(valor_aproximado_p)"
   ]
  },
  {
   "cell_type": "code",
   "execution_count": 2,
   "metadata": {},
   "outputs": [
    {
     "name": "stdout",
     "output_type": "stream",
     "text": [
      "-0.937365675642153\n"
     ]
    }
   ],
   "source": [
    "valor_exacto = diff(f).subs(x, c)\n",
    "print(valor_exacto)"
   ]
  },
  {
   "cell_type": "code",
   "execution_count": 3,
   "metadata": {},
   "outputs": [
    {
     "name": "stdout",
     "output_type": "stream",
     "text": [
      "2.1751E-3\n"
     ]
    }
   ],
   "source": [
    "error = abs(valor_aproximado_p - valor_exacto)\n",
    "print(f\"{error:.4E}\")"
   ]
  },
  {
   "cell_type": "code",
   "execution_count": 4,
   "metadata": {},
   "outputs": [
    {
     "name": "stdout",
     "output_type": "stream",
     "text": [
      "-0.935186181790826\n"
     ]
    }
   ],
   "source": [
    "# Fórmula primera derivada regresiva de 2 puntos\n",
    "valor_approximado_r = (f.subs(x, c) - f.subs(x, c-h))/ h\n",
    "print(valor_approximado_r)"
   ]
  },
  {
   "cell_type": "code",
   "execution_count": 5,
   "metadata": {},
   "outputs": [
    {
     "name": "stdout",
     "output_type": "stream",
     "text": [
      "2.1795E-3\n"
     ]
    }
   ],
   "source": [
    "error = round(abs(valor_approximado_r - valor_exacto), 15)\n",
    "print(f\"{error:.4E}\")"
   ]
  },
  {
   "cell_type": "code",
   "execution_count": 6,
   "metadata": {},
   "outputs": [
    {
     "name": "stdout",
     "output_type": "stream",
     "text": [
      "-0.937370069364185\n"
     ]
    }
   ],
   "source": [
    "# Fórmula primera derivada progresiva de 3 puntos\n",
    "valor_aproximado_r_3 = ( -3 * f.subs(x, c) + 4 * f.subs(x, c + h) - f.subs(x, c + 2*h) ) / (2*h)\n",
    "print(valor_aproximado_r_3)"
   ]
  },
  {
   "cell_type": "code",
   "execution_count": 7,
   "metadata": {},
   "outputs": [
    {
     "name": "stdout",
     "output_type": "stream",
     "text": [
      "4.3937E-6\n"
     ]
    }
   ],
   "source": [
    "# Calculo el error para este valor aproximado\n",
    "error = abs(valor_aproximado_r_3 - valor_exacto)\n",
    "print(f\"{error:.4E}\")"
   ]
  },
  {
   "cell_type": "code",
   "execution_count": 8,
   "metadata": {},
   "outputs": [
    {
     "name": "stdout",
     "output_type": "stream",
     "text": [
      "-0.937363483380960\n"
     ]
    }
   ],
   "source": [
    "# Fórmula primera derivada centrada de 3 puntos\n",
    "valor_aproximado_c_3 = ( f.subs(x, c+h) - f.subs(x, c-h)) / (2*h)\n",
    "print(valor_aproximado_c_3)"
   ]
  },
  {
   "cell_type": "code",
   "execution_count": 9,
   "metadata": {},
   "outputs": [
    {
     "name": "stdout",
     "output_type": "stream",
     "text": [
      "2.1923E-6\n"
     ]
    }
   ],
   "source": [
    "error = abs(valor_aproximado_c_3 - valor_exacto)\n",
    "print(f\"{error:.4E}\")"
   ]
  },
  {
   "cell_type": "code",
   "execution_count": 10,
   "metadata": {},
   "outputs": [
    {
     "name": "stdout",
     "output_type": "stream",
     "text": [
      "-0.937370050935904\n"
     ]
    }
   ],
   "source": [
    "# Fórmula primera derivada regresiva de 3 puntos\n",
    "valor_aproximado_r_3   = (3 * f.subs(x, c) - 4 * f.subs(x, c-h) + f.subs(x, c - 2*h)) / (2*h)\n",
    "print(valor_aproximado_r_3)"
   ]
  },
  {
   "cell_type": "code",
   "execution_count": 11,
   "metadata": {},
   "outputs": [
    {
     "name": "stdout",
     "output_type": "stream",
     "text": [
      "4.3753E-6\n"
     ]
    }
   ],
   "source": [
    "error = abs(valor_aproximado_r_3 - valor_exacto)\n",
    "print(f\"{error:.4E}\")"
   ]
  },
  {
   "cell_type": "code",
   "execution_count": 12,
   "metadata": {},
   "outputs": [
    {
     "name": "stdout",
     "output_type": "stream",
     "text": [
      "-0.937365675613696\n",
      "2.8457E-11\n"
     ]
    }
   ],
   "source": [
    "# Fórmulas de 5 puntos.\n",
    "# Fórmula primera derivada progresiva de 5 puntos\n",
    "valor_aproximado_p_5 = (\n",
    "    -25 * f.subs(x, c)\n",
    "    + 48 * f.subs(x, c + h)\n",
    "    - 36 * f.subs(x, c + 2 * h)\n",
    "    + 16 * f.subs(x, c + 3 * h)\n",
    "    - 3 * f.subs(x, c + 4 * h)\n",
    ") / (12 * h)\n",
    "print(valor_aproximado_p_5)\n",
    "error = abs(valor_exacto - valor_aproximado_p_5)\n",
    "print(f\"{error:.4E}\")"
   ]
  },
  {
   "cell_type": "code",
   "execution_count": 13,
   "metadata": {},
   "outputs": [
    {
     "name": "stdout",
     "output_type": "stream",
     "text": [
      "-0.937365675637351\n",
      "4.8019E-12\n"
     ]
    }
   ],
   "source": [
    "# Fórmula primera derivada centrada de 5 puntos centrada\n",
    "valor_aproximado_c_5 = (\n",
    "    f.subs(x, c - 2 * h)\n",
    "    - 8 * f.subs(x, c - h)\n",
    "    + 8 * f.subs(x, c + h)\n",
    "    - f.subs(x, c + 2 * h)\n",
    ") / (12 * h)\n",
    "print(valor_aproximado_c_5)\n",
    "error = abs(valor_exacto - valor_aproximado_c_5)\n",
    "print(f\"{error:.4E}\")"
   ]
  },
  {
   "cell_type": "code",
   "execution_count": 14,
   "metadata": {},
   "outputs": [
    {
     "name": "stdout",
     "output_type": "stream",
     "text": [
      "-0.937365675613873\n",
      "2.8279E-11\n"
     ]
    }
   ],
   "source": [
    "# Fórmula primera derivada de 5 puntos regresiva\n",
    "valor_aproximado_r_5 = (\n",
    "    25 * f.subs(x, c)\n",
    "    - 48 * f.subs(x, c - h)\n",
    "    + 36 * f.subs(x, c - 2 * h)\n",
    "    - 16 * f.subs(x, c - 3 * h)\n",
    "    + 3 * f.subs(x, c - 4 * h)\n",
    ") / (12 * h)\n",
    "print(valor_aproximado_r_5)\n",
    "error = abs(valor_exacto - valor_aproximado_r_5)\n",
    "print(f\"{error:.4E}\")"
   ]
  },
  {
   "cell_type": "code",
   "execution_count": 15,
   "metadata": {},
   "outputs": [
    {
     "name": "stdout",
     "output_type": "stream",
     "text": [
      "-1.74184250071133\n"
     ]
    }
   ],
   "source": [
    "valor_exacto_segunda_derivada = diff(diff(f)).subs(x, c)\n",
    "print(valor_exacto_segunda_derivada)"
   ]
  },
  {
   "cell_type": "code",
   "execution_count": 16,
   "metadata": {},
   "outputs": [
    {
     "name": "stdout",
     "output_type": "stream",
     "text": [
      "-1.73657248552672\n"
     ]
    }
   ],
   "source": [
    "# Segundas derivadas\n",
    "# Fórmula segunda derivada progresiva de 3 puntos\n",
    "valor_aproximado_3_p_sd_p = (f.subs(x, c) - 2*f.subs(x, c+h) + f.subs(x, c + 2*h)) / (h**2)\n",
    "print(valor_aproximado_3_p_sd_p)"
   ]
  },
  {
   "cell_type": "code",
   "execution_count": 17,
   "metadata": {},
   "outputs": [
    {
     "name": "stdout",
     "output_type": "stream",
     "text": [
      "5.2700E-3\n"
     ]
    }
   ],
   "source": [
    "error = abs(valor_exacto_segunda_derivada - valor_aproximado_3_p_sd_p)\n",
    "print(f\"{error:.4E}\")"
   ]
  },
  {
   "cell_type": "code",
   "execution_count": 18,
   "metadata": {},
   "outputs": [
    {
     "name": "stdout",
     "output_type": "stream",
     "text": [
      "-1.74184127210708\n"
     ]
    }
   ],
   "source": [
    "# Fórmula segunda derivada centrada de 3 puntos\n",
    "valor_aproximado_3_p_sd_c = (f.subs(x, c-h) - 2*f.subs(x, c) + f.subs(x, c+h)) / (h**2)\n",
    "print(valor_aproximado_3_p_sd_c)"
   ]
  },
  {
   "cell_type": "code",
   "execution_count": 19,
   "metadata": {},
   "outputs": [
    {
     "name": "stdout",
     "output_type": "stream",
     "text": [
      "1.2286E-6\n"
     ]
    }
   ],
   "source": [
    "error = abs(valor_exacto_segunda_derivada - valor_aproximado_3_p_sd_c)\n",
    "print(f\"{error:.4E}\")"
   ]
  },
  {
   "cell_type": "code",
   "execution_count": 20,
   "metadata": {},
   "outputs": [
    {
     "name": "stdout",
     "output_type": "stream",
     "text": [
      "-1.74709531606254\n"
     ]
    }
   ],
   "source": [
    "# Fórmula segunda derivada regresiva de 3 puntos\n",
    "valor_aproximado_3_p_sd_r = (f.subs(x, c-2*h) - 2*f.subs(x, c-h) + f.subs(x, c)) / (h**2)\n",
    "print(valor_aproximado_3_p_sd_r)"
   ]
  },
  {
   "cell_type": "code",
   "execution_count": 21,
   "metadata": {},
   "outputs": [
    {
     "name": "stdout",
     "output_type": "stream",
     "text": [
      "5.2528E-3\n"
     ]
    }
   ],
   "source": [
    "error = abs(valor_exacto_segunda_derivada - valor_aproximado_3_p_sd_r)\n",
    "print(f\"{error:.4E}\")"
   ]
  },
  {
   "cell_type": "markdown",
   "metadata": {},
   "source": [
    "Derivación numérica por Extrapolación de Richardson\n",
    "\n",
    "Para este método necesitamos una función g, un h y un n que nos son dado y un c\n",
    "que es el valor buscado a evaluar g'(c)\n",
    "\n",
    "Ejemplo en vídeos: https://youtu.be/ZCwVhiLd1K4?si=JzNuJz_ynK34G5OI, \n",
    "https://youtu.be/UU2hEsAJvrw?si=lgt8AarGwZPOeTBj\n",
    "\n",
    "Ejemplo: Emplee la extrapolación de Richardson para aproximar g'(0.35) mediante N<sub>5</sub> si:\n",
    "\n",
    "$$ g(x) = x tan^2(x) + x^2 cot^{-1}(e{5x}) $$\n",
    "\n",
    "User un h=1/100. Además, obtenga el valor exacto y el error de aproximación con 15 decimales."
   ]
  },
  {
   "cell_type": "code",
   "execution_count": 22,
   "metadata": {},
   "outputs": [],
   "source": [
    "# Declaramos nuestra función g, h, c y n:\n",
    "\n",
    "g = x * (tan(x))**2 + x**2 * acot(exp(5*x))\n",
    "\n",
    "h = 1/100\n",
    "c = 0.35\n",
    "n=5"
   ]
  },
  {
   "cell_type": "markdown",
   "metadata": {},
   "source": [
    "El ing nos va a pedir tablas de la matriz y nuestros N<sub>i<\\sub> iniciales, lo podemos colocar adaptandolo de lo siguiente:\n",
    "\n",
    "\n",
    "| N<sub>1</sub>(h) | N<sub>2</sub>(h) | N<sub>3</sub>(h) | N<sub>4</sub>(h) | N<sub>5</sub>(h) | N6(h) | N7(h) |\n",
    "|---|-----|-----|-----|-----|-----|-----|\n",
    "| N<sub>1</sub>(h/2) | N<sub>2</sub>(h/2) | N<sub>3</sub>(h/2) | N<sub>4</sub>(h/2) | N<sub>5</sub>(h/2) | N6(h/2) |  |\n",
    "| N<sub>1</sub>(h/4) | N<sub>2</sub>(h/4) | N<sub>3</sub>(h/4) | N<sub>4</sub>(h/4) | N<sub>5</sub>(h/4) |  |  |\n",
    "| N<sub>1</sub>(h/8) | N<sub>2</sub>(h/8) | N<sub>3</sub>(h/8) | N<sub>4</sub>(h/8) | |  |  |\n",
    "| N<sub>1</sub>(h/16) | N<sub>2</sub>(h/16) | N<sub>3</sub>(h/16) ||  |  |  |\n",
    "| N<sub>1</sub>(h/32) | N<sub>2</sub>(h/32) |  |  |  |  |  |\n",
    "| N<sub>1</sub>(h/64) |  |  |  |  |  |  |\n",
    "\n",
    "En donde encontramos nuestros valores iniciales (primera columna con):\n",
    "\n",
    "$$ N_1(h) = \\frac{g(c+h) - g(c-h)}{2h} $$\n",
    "\n",
    "$$...$$\n",
    "\n",
    "$$ N_1(\\frac{h}{2^{i-1}}) = \\frac{g(c+\\frac{h}{2^{i-1}}) - g(c-\\frac{h}{2^{i-1}})}{2(\\frac{h}{2^{i-1}})} $$\n",
    "\n",
    "Por ejemplo para nuestro n=5:\n",
    "\n",
    "$$ 2^{5-1} = 2{4} = 16 $$\n",
    "\n",
    "Tenemos entonces:\n",
    "$$ N_1(h) = \\frac{g(c+h) - g(c-h)}{2h} $$\n",
    "\n",
    "$$...$$\n",
    "\n",
    "$$ N_1(\\frac{h}{16}) = \\frac{g(c+\\frac{h}{16}) - g(c-\\frac{h}{16})}{2(\\frac{h}{16})} $$"
   ]
  },
  {
   "cell_type": "code",
   "execution_count": 23,
   "metadata": {},
   "outputs": [
    {
     "name": "stdout",
     "output_type": "stream",
     "text": [
      "El valor exacto es: 0.439935117177152\n",
      "0.44016142848901235  0.4399351150969358   0.43993511717713407  0.4399351171771432   0.43993511717713757  \n",
      "\n",
      "0.4399916934449549   0.4399351170471217   0.43993511717714306  0.43993511717713757  0.0                  \n",
      "\n",
      "0.43994926114657995  0.43993511716901673  0.4399351171771376   0.0                  0.0                  \n",
      "\n",
      "0.4399386531634075   0.4399351171766301   0.0                  0.0                  0.0                  \n",
      "\n",
      "0.43993600117332443  0.0                  0.0                  0.0                  0.0                  \n",
      "\n",
      "El valor aproximado es: 0.439935117177138\n",
      "El error  es: 1.42663658664333e-14\n"
     ]
    }
   ],
   "source": [
    "# Ahora vamos a seguir los siguiente pasos (en todos es necesario ir imprimiendo para verificar):\n",
    "\n",
    "# Declaro mi matriz basada en n para llenarla\n",
    "\n",
    "from numpy import zeros, float64\n",
    "\n",
    "N = zeros((n, n), dtype=float64)\n",
    "\n",
    "# Con un bucle lleno mi primera columna\n",
    "\n",
    "for i in range(n):\n",
    "    N[i][0] = (g.subs(x, c+h) - g.subs(x, c-h)) / (2*h)\n",
    "    h = h/2\n",
    "\n",
    "\n",
    "# Verifico si los valores son aproximados al \"valor exacto\"\n",
    "# Ya que de no ser así hay algún error en las fórmulas\n",
    "\n",
    "valor_exacto = diff(g).subs(x, c)\n",
    "print(\"El valor exacto es:\", round(valor_exacto,15))\n",
    "\n",
    "# Para llenar el resto de la matriz, realizo un bucle for anidado\n",
    "# para todo el resto de elementos\n",
    "\n",
    "for j in range(1, n):\n",
    "    for i in range(n-j):\n",
    "        # La j es diferente a la fórmula por la forma de indexar de Python\n",
    "        N[i][j] = (4**(j) * N[i+1][j-1] - N[i][j-1]) / (4**(j) - 1)\n",
    "\n",
    "#imprimo de forma que se vea bien la matriz\n",
    "for i in N:\n",
    "    for j in i:\n",
    "        print(str(j).ljust(19), end=\"  \")\n",
    "    print(\"\\n\")\n",
    "\n",
    "# La posición (0, n-1), es decir el último valor de izquierda a derecha en la primer fila,\n",
    "# nos da el valor aproximado\n",
    "    \n",
    "aproximado = N[0][n-1]\n",
    "print(\"El valor aproximado es:\", round(aproximado, 15))\n",
    "error = abs(aproximado - valor_exacto)\n",
    "print(\"El error  es:\", error)\n"
   ]
  }
 ],
 "metadata": {
  "kernelspec": {
   "display_name": "venv",
   "language": "python",
   "name": "python3"
  },
  "language_info": {
   "codemirror_mode": {
    "name": "ipython",
    "version": 3
   },
   "file_extension": ".py",
   "mimetype": "text/x-python",
   "name": "python",
   "nbconvert_exporter": "python",
   "pygments_lexer": "ipython3",
   "version": "3.10.12"
  }
 },
 "nbformat": 4,
 "nbformat_minor": 2
}
