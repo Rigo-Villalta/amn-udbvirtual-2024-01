{
 "cells": [
  {
   "cell_type": "markdown",
   "metadata": {},
   "source": [
    "La distancia recorrida por un automóvil viene dada así:  D(t)=3te^t-cos⁡(t).\n",
    "\n",
    "A partir de los siguientes valores de t:  0.4, 0.6, 0.8, 1.0, 1.2\n",
    "\n",
    "Determine el valor aproximado de v(0.8). Además, obtenga el valor exacto y el error de aproximación. Utilice 15 decimales. Copie y pegue los comandos de Matlab ejecutados y los resultados obtenidos.\n",
    "\n",
    "### Solución en Python"
   ]
  },
  {
   "cell_type": "code",
   "execution_count": 23,
   "metadata": {},
   "outputs": [],
   "source": [
    "from sympy import *\n",
    "\n",
    "x = symbols(\"x\")\n",
    "\n",
    "f = 3 * x * exp(x) - cos(x)\n",
    "\n",
    "t = [0.4, 0.6, 0.8, 1.0, 1.2]\n"
   ]
  },
  {
   "cell_type": "code",
   "execution_count": 24,
   "metadata": {},
   "outputs": [
    {
     "name": "stdout",
     "output_type": "stream",
     "text": [
      "El valor aproximado es: 12.7331604606324\n"
     ]
    }
   ],
   "source": [
    "# ocupo la fórmula de la primera derivada de 5 puntos centrada\n",
    "c = 0.8\n",
    "h = 0.2\n",
    "valor_aproximado = (\n",
    "    f.subs(x, c - 2 * h)\n",
    "    - 8 * f.subs(x, c - h)\n",
    "    + 8 * f.subs(x, c + h)\n",
    "    - f.subs(x, c + 2 * h)\n",
    ") / (12 * h)\n",
    "print(\"El valor aproximado es:\", round(valor_aproximado, 15))"
   ]
  },
  {
   "cell_type": "code",
   "execution_count": 25,
   "metadata": {},
   "outputs": [
    {
     "name": "stdout",
     "output_type": "stream",
     "text": [
      "El valor exacto es: 12.7352771047587\n"
     ]
    }
   ],
   "source": [
    "# Calculamos el valor exacto\n",
    "\n",
    "valor_exacto = diff(f).subs(x, 0.8)\n",
    "\n",
    "print(\"El valor exacto es:\", round(valor_exacto, 15))"
   ]
  },
  {
   "cell_type": "code",
   "execution_count": 26,
   "metadata": {},
   "outputs": [
    {
     "name": "stdout",
     "output_type": "stream",
     "text": [
      "El error de aproximación es: 0.002116644126440\n"
     ]
    }
   ],
   "source": [
    "# Error de aproximación\n",
    "\n",
    "error = abs(valor_aproximado-valor_exacto)\n",
    "print(\"El error de aproximación es:\", round(error, 15))"
   ]
  },
  {
   "cell_type": "markdown",
   "metadata": {},
   "source": [
    "**Nota: Aunque ocupé 15 decimales Python solo lanzó 12 en los valores**"
   ]
  }
 ],
 "metadata": {
  "kernelspec": {
   "display_name": "venv",
   "language": "python",
   "name": "python3"
  },
  "language_info": {
   "codemirror_mode": {
    "name": "ipython",
    "version": 3
   },
   "file_extension": ".py",
   "mimetype": "text/x-python",
   "name": "python",
   "nbconvert_exporter": "python",
   "pygments_lexer": "ipython3",
   "version": "3.10.12"
  }
 },
 "nbformat": 4,
 "nbformat_minor": 2
}
