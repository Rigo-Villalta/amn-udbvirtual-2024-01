{
 "cells": [
  {
   "cell_type": "markdown",
   "metadata": {},
   "source": [
    "15- La viscosidad de un aceite varía con la temperatura, a continuación se muestran los siguientes\n",
    "resultados:\n",
    "\n",
    "| T(K)| 273 | 280 | 290 | 300 | 310 | 320 | 330 | 340 |\n",
    "|---|-----|-----|-----|-----|-----|-----|------|-----|\n",
    "| μ(Ns / m^2) | 3.85 | 2.17 | 0.999 | 0.486 | 0.253 | 0.141 | 0.0836 | 0.0531 |\n",
    "\n",
    "Aproxime la viscosidad del aceite cuando la temperatura es 304.25 K. Use 9 decimales.\n",
    "\n",
    "Debe mostrarse:\n",
    "- Los valores de la tabla de diferencia construida\n",
    "- El polinomio de interpolación\n",
    "- El valor aproximado de la función"
   ]
  },
  {
   "cell_type": "code",
   "execution_count": 4,
   "metadata": {},
   "outputs": [
    {
     "name": "stdout",
     "output_type": "stream",
     "text": [
      "Los valores de la tabla de diferencia construida son:\n"
     ]
    },
    {
     "data": {
      "text/html": [
       "<pre style=\"white-space:pre;overflow-x:auto;line-height:normal;font-family:Menlo,'DejaVu Sans Mono',consolas,'Courier New',monospace\">┏━━━━━━━━┳━━━━━━━━━━━━━━┳━━━━━━━━━━━━━━┳━━━━━━━━━━━━━━┳━━━━━━━━━━━━━━┳━━━━━━━━━━━━━━┳━━━━━━━━━━━━━━┳━━━━━━━━━━━━━━┓\n",
       "┃<span style=\"font-weight: bold\"> x      </span>┃<span style=\"font-weight: bold\"> 1ad          </span>┃<span style=\"font-weight: bold\"> 2ad          </span>┃<span style=\"font-weight: bold\"> 3ad          </span>┃<span style=\"font-weight: bold\"> 4ad          </span>┃<span style=\"font-weight: bold\"> 5ad          </span>┃<span style=\"font-weight: bold\"> 6ad          </span>┃<span style=\"font-weight: bold\"> 7ad          </span>┃\n",
       "┡━━━━━━━━╇━━━━━━━━━━━━━━╇━━━━━━━━━━━━━━╇━━━━━━━━━━━━━━╇━━━━━━━━━━━━━━╇━━━━━━━━━━━━━━╇━━━━━━━━━━━━━━╇━━━━━━━━━━━━━━┩\n",
       "│ 3.85   │ 0.0          │ 0.0          │ 0.0          │ 0.0          │ 0.0          │ 0.0          │ 0.0          │\n",
       "│ 2.17   │ -0.23999998  │ 0.0          │ 0.0          │ 0.0          │ 0.0          │ 0.0          │ 0.0          │\n",
       "│ 0.999  │ -0.1171      │ 0.0072294106 │ 0.0          │ 0.0          │ 0.0          │ 0.0          │ 0.0          │\n",
       "│ 0.486  │ -0.0513      │ 0.00329      │ -0.00014590… │ 0.0          │ 0.0          │ 0.0          │ 0.0          │\n",
       "│ 0.253  │ -0.023300001 │ 0.0014       │ -6.3e-05     │ 2.2406512e-… │ 0.0          │ 0.0          │ 0.0          │\n",
       "│ 0.141  │ -0.011199999 │ 0.0006050001 │ -2.6499994e… │ 9.125001e-07 │ -2.8258533e… │ 0.0          │ 0.0          │\n",
       "│ 0.0836 │ -0.00574000… │ 0.000272999… │ -1.1066673e… │ 3.8583303e-… │ -1.0533342e… │ 3.1096828e-… │ 0.0          │\n",
       "│ 0.0531 │ -0.00305     │ 0.000134500… │ -4.6166633e… │ 1.6125026e-… │ -4.4916555e… │ 1.0069478e-… │ -3.1384103e… │\n",
       "└────────┴──────────────┴──────────────┴──────────────┴──────────────┴──────────────┴──────────────┴──────────────┘\n",
       "</pre>\n"
      ],
      "text/plain": [
       "┏━━━━━━━━┳━━━━━━━━━━━━━━┳━━━━━━━━━━━━━━┳━━━━━━━━━━━━━━┳━━━━━━━━━━━━━━┳━━━━━━━━━━━━━━┳━━━━━━━━━━━━━━┳━━━━━━━━━━━━━━┓\n",
       "┃\u001b[1m \u001b[0m\u001b[1mx     \u001b[0m\u001b[1m \u001b[0m┃\u001b[1m \u001b[0m\u001b[1m1ad         \u001b[0m\u001b[1m \u001b[0m┃\u001b[1m \u001b[0m\u001b[1m2ad         \u001b[0m\u001b[1m \u001b[0m┃\u001b[1m \u001b[0m\u001b[1m3ad         \u001b[0m\u001b[1m \u001b[0m┃\u001b[1m \u001b[0m\u001b[1m4ad         \u001b[0m\u001b[1m \u001b[0m┃\u001b[1m \u001b[0m\u001b[1m5ad         \u001b[0m\u001b[1m \u001b[0m┃\u001b[1m \u001b[0m\u001b[1m6ad         \u001b[0m\u001b[1m \u001b[0m┃\u001b[1m \u001b[0m\u001b[1m7ad         \u001b[0m\u001b[1m \u001b[0m┃\n",
       "┡━━━━━━━━╇━━━━━━━━━━━━━━╇━━━━━━━━━━━━━━╇━━━━━━━━━━━━━━╇━━━━━━━━━━━━━━╇━━━━━━━━━━━━━━╇━━━━━━━━━━━━━━╇━━━━━━━━━━━━━━┩\n",
       "│ 3.85   │ 0.0          │ 0.0          │ 0.0          │ 0.0          │ 0.0          │ 0.0          │ 0.0          │\n",
       "│ 2.17   │ -0.23999998  │ 0.0          │ 0.0          │ 0.0          │ 0.0          │ 0.0          │ 0.0          │\n",
       "│ 0.999  │ -0.1171      │ 0.0072294106 │ 0.0          │ 0.0          │ 0.0          │ 0.0          │ 0.0          │\n",
       "│ 0.486  │ -0.0513      │ 0.00329      │ -0.00014590… │ 0.0          │ 0.0          │ 0.0          │ 0.0          │\n",
       "│ 0.253  │ -0.023300001 │ 0.0014       │ -6.3e-05     │ 2.2406512e-… │ 0.0          │ 0.0          │ 0.0          │\n",
       "│ 0.141  │ -0.011199999 │ 0.0006050001 │ -2.6499994e… │ 9.125001e-07 │ -2.8258533e… │ 0.0          │ 0.0          │\n",
       "│ 0.0836 │ -0.00574000… │ 0.000272999… │ -1.1066673e… │ 3.8583303e-… │ -1.0533342e… │ 3.1096828e-… │ 0.0          │\n",
       "│ 0.0531 │ -0.00305     │ 0.000134500… │ -4.6166633e… │ 1.6125026e-… │ -4.4916555e… │ 1.0069478e-… │ -3.1384103e… │\n",
       "└────────┴──────────────┴──────────────┴──────────────┴──────────────┴──────────────┴──────────────┴──────────────┘\n"
      ]
     },
     "metadata": {},
     "output_type": "display_data"
    },
    {
     "name": "stdout",
     "output_type": "stream",
     "text": [
      "\n",
      "El valor de la viscosidad aproximada a 304.24 K es de:  0.364865451 μ Ns/m^2\n",
      "\n",
      "El polinomio de interpolación es:  -0.23999998*x + (7.715e-6 - 2.8e-8*x)*(x - 310)*(x - 300)*(x - 290)*(x - 280) + (0.039831818 - 0.000145904*x)*(x - 290)*(x - 280) + (2.241e-6*x - 0.000611698)*(x - 300)*(x - 290)*(x - 280) + (0.007229411*x - 1.973629088)*(x - 280) + 1.0e-9*(x - 330)*(x - 320)*(x - 310)*(x - 300)*(x - 290)*(x - 280) - 8.5e-8*(x - 320)*(x - 310)*(x - 300)*(x - 290)*(x - 280) + 69.369994372\n"
     ]
    }
   ],
   "source": [
    "from sympy import Number\n",
    "\n",
    "from metodos_interpolacion import diferencias_divididas\n",
    "from utils import imprimir_tabla\n",
    "\n",
    "datos_x = [273, 280, 290, 300, 310, 320, 330, 340]\n",
    "datos_y = [3.85, 2.17, 0.999, 0.486, 0.253, 0.141, 0.0836, 0.0531]\n",
    "\n",
    "resultado = diferencias_divididas(datos_x, datos_y, 304.25)\n",
    "\n",
    "matriz = resultado[0]\n",
    "polinomio = resultado[1]\n",
    "valor_de_aproximacion = round(resultado[2], 9)\n",
    "lista_para_tabular = [[\"x\", \"1ad\", \"2ad\", \"3ad\", \"4ad\", \"5ad\", \"6ad\", \"7ad\"]]\n",
    "for fila in matriz:\n",
    "    nueva_fila = []\n",
    "    for celda in fila:\n",
    "        nueva_fila.append(str(celda))\n",
    "    lista_para_tabular.append(nueva_fila)\n",
    "\n",
    "print(\"Los valores de la tabla de diferencia construida son:\")\n",
    "imprimir_tabla(lista_para_tabular)\n",
    "\n",
    "print(\"\\nEl valor de la viscosidad aproximada a 304.24 K es de: \", valor_de_aproximacion, \"μ Ns/m^2\")\n",
    "\n",
    "print(\n",
    "    \"\\nEl polinomio de interpolación es: \",\n",
    "     polinomio.xreplace({n: round(n, 9) for n in polinomio.atoms(Number)})\n",
    "    )\n"
   ]
  }
 ],
 "metadata": {
  "kernelspec": {
   "display_name": "venv",
   "language": "python",
   "name": "python3"
  },
  "language_info": {
   "codemirror_mode": {
    "name": "ipython",
    "version": 3
   },
   "file_extension": ".py",
   "mimetype": "text/x-python",
   "name": "python",
   "nbconvert_exporter": "python",
   "pygments_lexer": "ipython3",
   "version": "3.10.12"
  }
 },
 "nbformat": 4,
 "nbformat_minor": 2
}
