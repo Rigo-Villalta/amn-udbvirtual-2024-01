{
 "cells": [
  {
   "cell_type": "markdown",
   "metadata": {},
   "source": [
    "### Integración de Romberg\n",
    "\n",
    "Para la integración de Romberg necesitamos:\n",
    "\n",
    "- Un R<sub>nn</sub>: Donde \"n\" se utilizará en los siguientes pasos\n",
    "- Una integral definida planteada adecuadamente\n",
    "\n",
    "Método:\n",
    "\n",
    "- Se identifica la función a integrar y los límites de integración\n",
    "- A partir de los límites desde \"a\" a \"b\" determino mi \"h\" como \"b-a\"\n",
    "- Se genera una matriz de ceros de orden (n, n)\n",
    "- La primera fila de la matriz se llena con el uso de la regla compuesta del trapecio utilizando n = 2^i, donde i empieza en zero hasta n-1\n",
    "- Saco el valor exacto y lo comparo con el último valor de los valores de la primera columna de la matriz, no debe ser demasiado diferente\n",
    "- Lleno el resto de valores de la matriz con la versión espejo de la extrapolación de Richarson."
   ]
  },
  {
   "cell_type": "code",
   "execution_count": 1,
   "metadata": {},
   "outputs": [
    {
     "name": "stdout",
     "output_type": "stream",
     "text": [
      "0.0                 0.0                 0.0                 0.0                 0.0                 \n",
      "\n",
      "50.26548245743669   67.02064327658225   0.0                 0.0                 0.0                 \n",
      "\n",
      "65.74788952106772   70.9086918756114    71.16789511554667   0.0                 0.0                 \n",
      "\n",
      "70.63191326526466   72.25992117999697   72.35000313362268   72.36876675295723   0.0                 \n",
      "\n",
      "72.20723444372594   72.73234150321304   72.76383619142743   72.77040497012274   72.77198002195477   \n",
      "\n",
      "El valor exacto es: 72.98873924264856\n",
      "El valor aproximado es: 72.77198002195477\n",
      "El error es: 0.21675922069378828\n",
      "El error relativo es: 0.297%\n"
     ]
    }
   ],
   "source": [
    "# Ejemplo de vídeo https://youtu.be/5jsUtiX8DOI?si=irHUXJBdd-buyssl\n",
    "\n",
    "from sympy import *\n",
    "from numpy import zeros, float64\n",
    "\n",
    "x = symbols(\"x\")\n",
    "\n",
    "f = pi * ( (1+ sqrt(4 - x**2))**2 -1)\n",
    "\n",
    "#\n",
    "n = 5\n",
    "a = -2\n",
    "b = 2\n",
    "\n",
    "# declaro mi matriz (n, n)\n",
    "R = zeros((n, n), dtype=float64)\n",
    "\n",
    "\n",
    "# Utilizo la función que he desarrollado para la regla compuesta del trapecio\n",
    "\n",
    "def regla_compuesta_del_trapecio(f, a, b, n):\n",
    "    # Defino mi h dentro de la función\n",
    "    h = (b-a) / n\n",
    "    # La suma interna es el factor de la fórmula, la inicio con f(x_0)\n",
    "    suma_interna = f.subs(x, a)\n",
    "    # Aquí hago la sumatoria desde f(x_1) hasta f(x_(n-1)) \n",
    "    for i in range(1, n):\n",
    "        suma_interna += 2 * f.subs(x, a + i*h)\n",
    "    # Sumo f(x_n)\n",
    "    suma_interna += f.subs(x, b)\n",
    "    return (h/2) * suma_interna\n",
    "\n",
    "# Y encuentro cada valor con mi función donde \"n\" de la regla compuesta\n",
    "# Se duplica en cada iteración\n",
    "\n",
    "R11 = float(regla_compuesta_del_trapecio(f, a, b, 1))\n",
    "R21 = float(regla_compuesta_del_trapecio(f, a, b, 2))\n",
    "R31 = float(regla_compuesta_del_trapecio(f, a, b, 4))\n",
    "R41 = float(regla_compuesta_del_trapecio(f, a, b, 8))\n",
    "R51 = float(regla_compuesta_del_trapecio(f, a, b, 16))\n",
    "\n",
    "# Ahora estos valor les pongo el la primera columna de mi matriz R\n",
    "\n",
    "R[0][0] = R11\n",
    "R[1][0] = R21\n",
    "R[2][0] = R31\n",
    "R[3][0] = R41\n",
    "R[4][0] = R51\n",
    "\n",
    "# Saco mi valor exacto a modo de verificación\n",
    "\n",
    "valor_exacto = float(integrate(f, (x, a, b)))\n",
    "\n",
    "\n",
    "# Ahora lleno el resto de la matriz con la versión espejo de la\n",
    "# Interpolación de Richarson\n",
    "\n",
    "for j in range(1, n):\n",
    "    for i in range(j, n):\n",
    "        # La j es diferente a la fórmula por la forma de indexar de Python\n",
    "        R[i][j] = (4**(j) * R[i][j-1] - R[i-1][j-1]) / (4**(j) - 1)\n",
    "\n",
    "#imprimo de forma que se vea bien la matriz\n",
    "for i in R:\n",
    "    for j in i:\n",
    "        print(str(j).ljust(18), end=\"  \")\n",
    "    print(\"\\n\")\n",
    "\n",
    "# el valor R[n-1][n-1] es el valor aproximado\n",
    "\n",
    "valor_aproximado = R[n-1][n-1]\n",
    "error = abs(valor_aproximado - valor_exacto)\n",
    "error_relativo = round(float(error/valor_exacto * 100), 4)\n",
    "\n",
    "print(\"El valor exacto es:\", valor_exacto)\n",
    "print(\"El valor aproximado es:\", valor_aproximado)\n",
    "print(\"El error es:\", error)\n",
    "print(f\"El error relativo es: {error_relativo}%\")"
   ]
  },
  {
   "cell_type": "markdown",
   "metadata": {},
   "source": [
    "### Integración por método de Cuadratura Gaussiana\n",
    "\n",
    "Para integrar por cuadratura Gaussiana:\n",
    "\n",
    "- Planteo mi integral con los límites establecidos. En métodos numéricos las constantes deben estar dentro de la integral.\n",
    "- Hago el cambio de variable y de límites, para trasladar la integral a un intervalo [-1,1] con la fórmulas:\n",
    "\n",
    "$$ x = \\frac{1}{2} [(b-a)t + a + b] $$\n",
    "$$ dx = \\frac{1}{2} (b-a)dt $$\n",
    "\n",
    "- Sustituyo \"x\" y \"dx\" (o la variable que corresponda) en la integral y cambio los límites a *a=-1*, *b=1*.\n",
    "- Obtengo las raices del polinomio de legendre que nos diga el problema, para ello uno el *n* que se me proporcione. Saco estas raíces con el comando *nroots(pln)*.\n",
    "- Obtengo los pesos con el bucle *for* que indico abajo. Este for tiene que llegar hasta *n*.\n",
    "- Obtengo el valor aproximado con el bucle *for* como en el ejemplo abajo, este for tienen que llegar hasta *n*.\n",
    "- obtengo el valor exacto en la función y límites originales y comparo.\n",
    "\n",
    "\n"
   ]
  },
  {
   "cell_type": "code",
   "execution_count": 2,
   "metadata": {},
   "outputs": [
    {
     "name": "stdout",
     "output_type": "stream",
     "text": [
      "[-0.906179845938664, -0.538469310105683, 0, 0.538469310105683, 0.906179845938664]\n",
      "[0.2369268850561892, 0.47862867049936686, 0.5688888888888886, 0.47862867049936675, 0.2369268850561892]\n"
     ]
    }
   ],
   "source": [
    "\n",
    "pl2 = x**2 - (1/3)\n",
    "pl3 = x**3 - (3/5)*x\n",
    "pl4 = x**4 - (6/7)*x**2 + (3/35)\n",
    "pl5 = x**5 - (10/9)*x**3 + (5/21)*x\n",
    "pl6 = x**6 - (15/11)*x**4 + (5/11)*x**2 - (5/231)\n",
    "pl7 = x**7 - (21/13)*x**5 + (105/143)*x**3 - (35/429)*x\n",
    "pl8 = x**8 - (28/15)*x**6 + (14/13)*x**4 - (28/143)*x**2 + (7/1287)\n",
    "\n",
    "\n",
    "raices = nroots(pl5)\n",
    "print(raices)\n",
    "\n",
    "#Derivada del polonomio 5\n",
    "dp5 = diff(pl5)\n",
    "\n",
    "# obtengo los pesos en una lista con el siguiente for\n",
    "pesos = []\n",
    "for i in range(5):\n",
    "    pesos.append(float((1/ dp5.subs(x, raices[i])) * integrate(pl5 / (x-raices[i]), (x, -1, 1))))\n",
    "\n",
    "print(pesos)"
   ]
  },
  {
   "cell_type": "code",
   "execution_count": 7,
   "metadata": {},
   "outputs": [
    {
     "name": "stdout",
     "output_type": "stream",
     "text": [
      "7.222637820180375\n",
      "7.318477362067681\n"
     ]
    }
   ],
   "source": [
    "# Ejemplo de https://youtu.be/AcKbL3ttDDM?si=Ex56SMUSihavWvjj que utiliza \n",
    "\n",
    "# La integral planteada en el ejercicio es:\n",
    "\n",
    "f = 2.5 * sqrt(1 + (0.5 * pi * cos(pi * x + pi))**2)\n",
    "\n",
    "valor_aproximado = 0\n",
    "\n",
    "for i in range(5):\n",
    "    valor_aproximado += pesos[i]*f.subs(x, raices[i])\n",
    "\n",
    "print(float(valor_aproximado))\n",
    "\n",
    "# Obtengo el valor exacto en la función original\n",
    "g = 25*sqrt(1 + (0.5* pi * cos(10*pi*x))**2)\n",
    "\n",
    "\n",
    "valor_exacto = float(integrate(g, (x, 0, 0.2)))\n",
    "print(valor_exacto)\n",
    "\n",
    "# NOTA: El resultado da lo mismo independientemente del orden de las raices. "
   ]
  }
 ],
 "metadata": {
  "kernelspec": {
   "display_name": "venv",
   "language": "python",
   "name": "python3"
  },
  "language_info": {
   "codemirror_mode": {
    "name": "ipython",
    "version": 3
   },
   "file_extension": ".py",
   "mimetype": "text/x-python",
   "name": "python",
   "nbconvert_exporter": "python",
   "pygments_lexer": "ipython3",
   "version": "3.10.12"
  }
 },
 "nbformat": 4,
 "nbformat_minor": 2
}
