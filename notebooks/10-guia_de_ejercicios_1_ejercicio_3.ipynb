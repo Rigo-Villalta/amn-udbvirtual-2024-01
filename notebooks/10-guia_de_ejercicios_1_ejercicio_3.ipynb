{
 "cells": [
  {
   "cell_type": "markdown",
   "metadata": {},
   "source": [
    "3. En un circuito RLC, la carga, que circula cuando se cierra un interruptor, en función del tiempo viene dada por la ecuación:\n",
    "\n",
    "$$ q(t) = q_0 e^{\\frac{-Rt}{2L}} cos \\left( \\sqrt{ \\frac{1}{LC} - \\left(\\frac{R}{2L} \\right)^2 t } \\right) $$\n",
    "\n",
    "Emplee el Método de Bisección para determinar el resistor apropiado para disipar energía a una\n",
    "razón específica. Suponga que la carga se debe disipar a 1% de su valor original en un tiempo\n",
    "igual a 0.05seg, considere la inductancia igual a 5H y la capacitancia igual a 100μF, con una\n",
    "precisión de 10-5 . Emplee 15 decimales.\n",
    "\n",
    "Para la resolución del problema primero sustituimos valores, los cuales serían:\n",
    "\n",
    "1% de disipación de la carga:\n",
    "$$ q_0 = 0.01 $$ \n",
    "\n",
    "Tiempo de disipación:\n",
    "$$ t= 0.05 segundos $$ \n",
    "\n",
    "Inductancia de la bonina que tendría el circuito:\n",
    "$$ L = 5h $$ \n",
    "\n",
    "Capacitancia:\n",
    "$$ C = 100 \\mu F $$\n",
    "\n",
    "Datos sustituidos:\n",
    "\n",
    "$$ q(0.05) = 0.01 e^{\\frac{-0.05R}{2 * 5h}} cos \\left( \\sqrt{ \\frac{1}{5h * (100 * 10^{-6} F)} - \\left(\\frac{R}{2* 5h} \\right)^2  } t \\right) $$\n",
    "\n",
    "Efectuando las operaciónes aritméticas tenemos una función en base al resistor:\n",
    "\n",
    "$$ q(t) = 0.01 e^{-0.005R} cos \\left( \\sqrt{ 2000 - \\left(\\frac{R^2}{100} \\right)  } * (0.05) \\right) $$\n",
    "\n",
    "Dado que la raiz que necesitamos debe ser mayor a cero para poder existir en los reales, solo podemos tomar valores que cumplan la siguiente ecuación:\n",
    "\n",
    "$$ 2000 >= \\frac{R^2}{100} $$\n",
    "$$ R <= 447 $$\n",
    "Como valor aproximado, por lo cual nuestro intervalo para graficar será [0, 425]. Con esto pasamos al códificar la función, graficarla, encontrar un intervalo más cerca a la raíz y solucionarlo por bisección.\n",
    "NOTA: Tomamos el coseno de radianes."
   ]
  },
  {
   "cell_type": "code",
   "execution_count": 1,
   "metadata": {},
   "outputs": [
    {
     "name": "stdout",
     "output_type": "stream",
     "text": [
      "-0.001530918656742\n"
     ]
    },
    {
     "data": {
      "image/png": "[encoded data removed]",
      "text/plain": [
       "<Figure size 300x300 with 1 Axes>"
      ]
     },
     "metadata": {},
     "output_type": "display_data"
    },
    {
     "data": {
      "text/html": [
       "<pre style=\"white-space:pre;overflow-x:auto;line-height:normal;font-family:Menlo,'DejaVu Sans Mono',consolas,'Courier New',monospace\">┏━━━━━━━━━━━━━━━━┳━━━━━━━━━━━━━━━━━━━━━┳━━━━━━━━━━━━━━━━━━━━━┳━━━━━━━━━━━━━━━━━━━━━┳━━━━━━━━━━━━━━━━━━━━━━┓\n",
       "┃<span style=\"font-weight: bold\"> # de iteración </span>┃<span style=\"font-weight: bold\"> a                   </span>┃<span style=\"font-weight: bold\"> b                   </span>┃<span style=\"font-weight: bold\"> c                   </span>┃<span style=\"font-weight: bold\"> error                </span>┃\n",
       "┡━━━━━━━━━━━━━━━━╇━━━━━━━━━━━━━━━━━━━━━╇━━━━━━━━━━━━━━━━━━━━━╇━━━━━━━━━━━━━━━━━━━━━╇━━━━━━━━━━━━━━━━━━━━━━┩\n",
       "│ 1              │ 300.000000000000000 │ 340.000000000000000 │ 320.000000000000000 │ 0.000017658434973    │\n",
       "│ 2              │ 300.000000000000000 │ 320.000000000000000 │ 310.000000000000000 │ 10.000000000000000   │\n",
       "│ 3              │ 320.000000000000000 │ 310.000000000000000 │ 315.000000000000000 │ 5.000000000000000    │\n",
       "│ 4              │ 320.000000000000000 │ 315.000000000000000 │ 317.500000000000000 │ 2.500000000000000    │\n",
       "│ 5              │ 320.000000000000000 │ 317.500000000000000 │ 318.750000000000000 │ 1.250000000000000    │\n",
       "│ 6              │ 317.500000000000000 │ 318.750000000000000 │ 318.125000000000000 │ 0.625000000000000    │\n",
       "│ 7              │ 318.750000000000000 │ 318.125000000000000 │ 318.437500000000000 │ 0.312500000000000    │\n",
       "│ 8              │ 318.125000000000000 │ 318.437500000000000 │ 318.281250000000000 │ 0.156250000000000    │\n",
       "│ 9              │ 318.437500000000000 │ 318.281250000000000 │ 318.359375000000000 │ 0.078125000000000    │\n",
       "│ 10             │ 318.281250000000000 │ 318.359375000000000 │ 318.320312500000000 │ 0.039062500000000    │\n",
       "│ 11             │ 318.281250000000000 │ 318.320312500000000 │ 318.300781250000000 │ 0.019531250000000    │\n",
       "│ 12             │ 318.281250000000000 │ 318.300781250000000 │ 318.291015625000000 │ 0.009765625000000    │\n",
       "│ 13             │ 318.281250000000000 │ 318.291015625000000 │ 318.286132812500000 │ 0.004882812500000    │\n",
       "│ 14             │ 318.281250000000000 │ 318.286132812500000 │ 318.283691406250000 │ 0.002441406250000    │\n",
       "│ 15             │ 318.281250000000000 │ 318.283691406250000 │ 318.282470703125000 │ 0.001220703125000    │\n",
       "│ 16             │ 318.283691406250000 │ 318.282470703125000 │ 318.283081054687500 │ 0.000610351562500    │\n",
       "│ 17             │ 318.282470703125000 │ 318.283081054687500 │ 318.282775878906250 │ 0.000305175781250    │\n",
       "│ 18             │ 318.283081054687500 │ 318.282775878906250 │ 318.282928466796875 │ 0.000152587890625    │\n",
       "│ 19             │ 318.282775878906250 │ 318.282928466796875 │ 318.282852172851562 │ 0.000076293945312    │\n",
       "│ 20             │ 318.282775878906250 │ 318.282852172851562 │ 318.282814025878906 │ 0.000038146972656    │\n",
       "│ 21             │ 318.282852172851562 │ 318.282814025878906 │ 318.282833099365234 │ 0.000019073486328    │\n",
       "│ 22             │ 318.282814025878906 │ 318.282833099365234 │ 318.282823562622070 │ &lt;-- raíz aproximada. │\n",
       "└────────────────┴─────────────────────┴─────────────────────┴─────────────────────┴──────────────────────┘\n",
       "</pre>\n"
      ],
      "text/plain": [
       "┏━━━━━━━━━━━━━━━━┳━━━━━━━━━━━━━━━━━━━━━┳━━━━━━━━━━━━━━━━━━━━━┳━━━━━━━━━━━━━━━━━━━━━┳━━━━━━━━━━━━━━━━━━━━━━┓\n",
       "┃\u001b[1m \u001b[0m\u001b[1m# de iteración\u001b[0m\u001b[1m \u001b[0m┃\u001b[1m \u001b[0m\u001b[1ma                  \u001b[0m\u001b[1m \u001b[0m┃\u001b[1m \u001b[0m\u001b[1mb                  \u001b[0m\u001b[1m \u001b[0m┃\u001b[1m \u001b[0m\u001b[1mc                  \u001b[0m\u001b[1m \u001b[0m┃\u001b[1m \u001b[0m\u001b[1merror               \u001b[0m\u001b[1m \u001b[0m┃\n",
       "┡━━━━━━━━━━━━━━━━╇━━━━━━━━━━━━━━━━━━━━━╇━━━━━━━━━━━━━━━━━━━━━╇━━━━━━━━━━━━━━━━━━━━━╇━━━━━━━━━━━━━━━━━━━━━━┩\n",
       "│ 1              │ 300.000000000000000 │ 340.000000000000000 │ 320.000000000000000 │ 0.000017658434973    │\n",
       "│ 2              │ 300.000000000000000 │ 320.000000000000000 │ 310.000000000000000 │ 10.000000000000000   │\n",
       "│ 3              │ 320.000000000000000 │ 310.000000000000000 │ 315.000000000000000 │ 5.000000000000000    │\n",
       "│ 4              │ 320.000000000000000 │ 315.000000000000000 │ 317.500000000000000 │ 2.500000000000000    │\n",
       "│ 5              │ 320.000000000000000 │ 317.500000000000000 │ 318.750000000000000 │ 1.250000000000000    │\n",
       "│ 6              │ 317.500000000000000 │ 318.750000000000000 │ 318.125000000000000 │ 0.625000000000000    │\n",
       "│ 7              │ 318.750000000000000 │ 318.125000000000000 │ 318.437500000000000 │ 0.312500000000000    │\n",
       "│ 8              │ 318.125000000000000 │ 318.437500000000000 │ 318.281250000000000 │ 0.156250000000000    │\n",
       "│ 9              │ 318.437500000000000 │ 318.281250000000000 │ 318.359375000000000 │ 0.078125000000000    │\n",
       "│ 10             │ 318.281250000000000 │ 318.359375000000000 │ 318.320312500000000 │ 0.039062500000000    │\n",
       "│ 11             │ 318.281250000000000 │ 318.320312500000000 │ 318.300781250000000 │ 0.019531250000000    │\n",
       "│ 12             │ 318.281250000000000 │ 318.300781250000000 │ 318.291015625000000 │ 0.009765625000000    │\n",
       "│ 13             │ 318.281250000000000 │ 318.291015625000000 │ 318.286132812500000 │ 0.004882812500000    │\n",
       "│ 14             │ 318.281250000000000 │ 318.286132812500000 │ 318.283691406250000 │ 0.002441406250000    │\n",
       "│ 15             │ 318.281250000000000 │ 318.283691406250000 │ 318.282470703125000 │ 0.001220703125000    │\n",
       "│ 16             │ 318.283691406250000 │ 318.282470703125000 │ 318.283081054687500 │ 0.000610351562500    │\n",
       "│ 17             │ 318.282470703125000 │ 318.283081054687500 │ 318.282775878906250 │ 0.000305175781250    │\n",
       "│ 18             │ 318.283081054687500 │ 318.282775878906250 │ 318.282928466796875 │ 0.000152587890625    │\n",
       "│ 19             │ 318.282775878906250 │ 318.282928466796875 │ 318.282852172851562 │ 0.000076293945312    │\n",
       "│ 20             │ 318.282775878906250 │ 318.282852172851562 │ 318.282814025878906 │ 0.000038146972656    │\n",
       "│ 21             │ 318.282852172851562 │ 318.282814025878906 │ 318.282833099365234 │ 0.000019073486328    │\n",
       "│ 22             │ 318.282814025878906 │ 318.282833099365234 │ 318.282823562622070 │ <-- raíz aproximada. │\n",
       "└────────────────┴─────────────────────┴─────────────────────┴─────────────────────┴──────────────────────┘\n"
      ]
     },
     "metadata": {},
     "output_type": "display_data"
    }
   ],
   "source": [
    "from math import e, cos, sqrt\n",
    "from matplotlib import pyplot\n",
    "\n",
    "from metodos_numericos import biseccion\n",
    "from utils import imprimir_tabla\n",
    "\n",
    "# Creo una función de python en base a R\n",
    "def carga_en_tiempo(r):\n",
    "    return round(0.01 * e**(-0.005 * r) * cos(sqrt(2000 - (r**2 / 100)) * 0.05), 15)\n",
    "\n",
    "print(carga_en_tiempo(200)) # Test de la función\n",
    "\n",
    "# Grafico la función\n",
    "# Primero Creo un vector para representar el eje x en el intervalo dado.\n",
    "eje_x = [x for x in range(0, 425, 1)]\n",
    "eje_y = [carga_en_tiempo(x) for x in eje_x]\n",
    "\n",
    "#\n",
    "plot_carga_en_tiempo = pyplot.figure(figsize=(3,3),) \n",
    "pyplot.plot(eje_x, eje_y)\n",
    "pyplot.grid(visible=True)\n",
    "pyplot.axvline(0, color=\"g\")\n",
    "pyplot.axhline(0, color=\"g\")\n",
    "pyplot.show()\n",
    "\n",
    "\n",
    "# Verificamos con la gráfica que la raíz de la función está muy cerca de 300, pero es menor a 340,\n",
    "# usamos ese intervalo para encontrar con el método de bisección la raiz aproximada.\n",
    "resultado = biseccion(a=300, b=340, func=carga_en_tiempo)\n",
    "\n",
    "imprimir_tabla(resultado)"
   ]
  },
  {
   "cell_type": "markdown",
   "metadata": {},
   "source": [
    "Con esto pordemos concluir que se necesita una resistencia de aproximadamente 318.282823562622070 Ω para que la corriente se disipe a 1% de su valor original en 0.05 segundos con esta función y datos."
   ]
  }
 ],
 "metadata": {
  "kernelspec": {
   "display_name": "venv",
   "language": "python",
   "name": "python3"
  },
  "language_info": {
   "codemirror_mode": {
    "name": "ipython",
    "version": 3
   },
   "file_extension": ".py",
   "mimetype": "text/x-python",
   "name": "python",
   "nbconvert_exporter": "python",
   "pygments_lexer": "ipython3",
   "version": "3.10.12"
  }
 },
 "nbformat": 4,
 "nbformat_minor": 2
}
