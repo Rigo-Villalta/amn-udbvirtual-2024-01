{
 "cells": [
  {
   "cell_type": "markdown",
   "metadata": {
    "vscode": {
     "languageId": "plaintext"
    }
   },
   "source": [
    "### Integración  numérica múltiple\n",
    "\n",
    "La integración múltiple se obtiene integrando la integral interna por una de las reglas de integración compuesta (regla del trapecio compuesta o simpsons) lo cual nos retorna una función simbólica y luego integrando nuevamente esta función con uno de los dos métodos."
   ]
  },
  {
   "cell_type": "code",
   "execution_count": 9,
   "metadata": {},
   "outputs": [
    {
     "name": "stdout",
     "output_type": "stream",
     "text": [
      "x**5*(x - 2)**2*((x - 2)**2 + 2)/4\n",
      "El resultado aproximado es:  0.9660511688385917\n",
      "El valor exacto es: 0.9650793650793651\n",
      "El error es: 0.0009718037592265638\n"
     ]
    }
   ],
   "source": [
    "# Ejemplo de clase 11.2 para momento de inercia\n",
    "\n",
    "# nos pide utilizar regla de simpson compuesta con n= 12\n",
    "\n",
    "from sympy import *\n",
    "\n",
    "x = symbols(\"x\")\n",
    "y = symbols(\"y\")\n",
    "\n",
    "def regla_compuesta_del_simpsons_y(f, a, b, n):\n",
    "    # Defino mi h dentro de la función\n",
    "    h = (b-a) / n\n",
    "    # La suma interna es el factor de la fórmula, la inicio con f(x_0)\n",
    "    suma_interna = f.subs(y, a)\n",
    "    # Aquí hago las sumatorias desde f(x_1) hasta f(x_(n-1)) y hasta f(x_(n-2))\n",
    "    # No es necesario el n-2 si n es par así que hago un solo for\n",
    "    # Recordando que en Python los índices son iguales que en la fórmula\n",
    "    for i in range(1, n):\n",
    "        if i%2 == 0:\n",
    "            suma_interna += 2 * f.subs(y, a + i*h)\n",
    "        else:\n",
    "            suma_interna += 4 * f.subs(y, a + i*h)\n",
    "    # Sumo f(x_n)\n",
    "    suma_interna += f.subs(y, b)\n",
    "    return (h/3) * suma_interna\n",
    "\n",
    "f = x**3 * y + x * y**3\n",
    "a=0\n",
    "b= 2*x - x**2\n",
    "n = 12\n",
    "\n",
    "# Aquí nos da lo mismo que en el ejemplo de la clase\n",
    "integral_interna = simplify(regla_compuesta_del_simpsons_y(f=f, a=a, b=b, n=n))\n",
    "print(integral_interna)\n",
    "\n",
    "# Ahora desarrollo la misma función para la variable x\n",
    "def regla_compuesta_del_simpsons(f, a, b, n):\n",
    "    # Defino mi h dentro de la función\n",
    "    h = (b-a) / n\n",
    "    # La suma interna es el factor de la fórmula, la inicio con f(x_0)\n",
    "    suma_interna = f.subs(x, a)\n",
    "    # Aquí hago las sumatorias desde f(x_1) hasta f(x_(n-1)) y hasta f(x_(n-2))\n",
    "    # No es necesario el n-2 si n es par así que hago un solo for\n",
    "    # Recordando que en Python los índices son iguales que en la fórmula\n",
    "    for i in range(1, n):\n",
    "        if i%2 == 0:\n",
    "            suma_interna += 2 * f.subs(x, a + i*h)\n",
    "        else:\n",
    "            suma_interna += 4 * f.subs(x, a + i*h)\n",
    "    # Sumo f(x_n)\n",
    "    suma_interna += f.subs(x, b)\n",
    "    return (h/3) * suma_interna\n",
    "\n",
    "c = 0\n",
    "d = 2\n",
    "\n",
    "valor_aproximado = float(regla_compuesta_del_simpsons(f=integral_interna, a=c, b=d, n=n))\n",
    "print(\"El resultado aproximado es: \", valor_aproximado)\n",
    "\n",
    "valor_exacto = float(integrate(integrate(f, (y,a,b)),(x,c,d)))\n",
    "print(\"El valor exacto es:\", valor_exacto)\n",
    "\n",
    "error = abs(valor_exacto-valor_aproximado)\n",
    "print(\"El error es:\", error)\n",
    "\n"
   ]
  }
 ],
 "metadata": {
  "kernelspec": {
   "display_name": "venv",
   "language": "python",
   "name": "python3"
  },
  "language_info": {
   "codemirror_mode": {
    "name": "ipython",
    "version": 3
   },
   "file_extension": ".py",
   "mimetype": "text/x-python",
   "name": "python",
   "nbconvert_exporter": "python",
   "pygments_lexer": "ipython3",
   "version": "3.10.12"
  }
 },
 "nbformat": 4,
 "nbformat_minor": 2
}
