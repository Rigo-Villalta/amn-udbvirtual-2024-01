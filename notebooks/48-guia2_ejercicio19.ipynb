{
 "cells": [
  {
   "cell_type": "markdown",
   "metadata": {},
   "source": [
    "Dados los valores de x: 0.2, 0.4, 0.6, 0.8, 1.0, 1.2, 1.4, 1.6 y la función:\n",
    "$$ 𝑓(𝑥) = 8 𝑠𝑒𝑛^2 (\\frac{𝜋𝑥}{12} + 𝑒^{−𝑥} − 0.25) $$\n",
    "Determine el valor aproximado de 𝑓(1.48). Además, calcule el valor exacto y el error de aproximación. Use 9 decimales"
   ]
  },
  {
   "cell_type": "code",
   "execution_count": 1,
   "metadata": {},
   "outputs": [
    {
     "name": "stdout",
     "output_type": "stream",
     "text": [
      "El trazador 1 es: 9.11262470472819*x - 6.7048119026029*(x - 0.2)**3 + 4.0129762620652\n",
      "El trazador 2 es: 2.01872460967822*x - 5.78420715409563*(x - 0.4)**3 - 4.02288714156174*(x - 0.4)**2 + 6.79689780486436\n",
      "El trazador 3 es: -10.9021285377913*x + 2.78994823388703*(x - 0.6)**3 - 7.49341143401912*(x - 0.6)**2 + 14.3422205504509\n",
      "El trazador 4 es: -19.9858593054379*x + 20.8521232825976*(x - 0.8)**3 - 5.8194424936869*(x - 0.8)**2 + 21.3317882930784\n",
      "El trazador 5 es: -6.83078444924459*x + 35.0625401473583*(x - 1.0)**3 + 6.69183147587163*(x - 1.0)**2 + 8.11075272339845\n",
      "El trazador 6 es: 24.9997878797992*x - 149.154777629306*(0.833333333333333*x - 1)**3 + 39.9302720125728*(0.833333333333333*x - 1)**2 - 29.5377604912404\n",
      "El trazador 7 es: 7.46352328945114*x + 110.036676510311*(0.714285714285714*x - 1)**3 - 47.1585756472761*(0.714285714285714*x - 1)**2 - 4.56834722009506\n"
     ]
    }
   ],
   "source": [
    "from math import exp, pi, sin\n",
    "\n",
    "from metodos_interpolacion import trazador_cubico_natural\n",
    "\n",
    "def f_de_x(x):\n",
    "    return 8 * (sin((((pi * x) /12)) + exp(x) - 0.25))**2\n",
    "\n",
    "\n",
    "datos_x = [0.2, 0.4, 0.6, 0.8, 1.0, 1.2, 1.4, 1.6]\n",
    "\n",
    "resultado = trazador_cubico_natural(datos_x, [f_de_x(x) for x in datos_x])\n",
    "\n",
    "contador = 1\n",
    "for pol in resultado[2]:\n",
    "    print(f\"El trazador {contador} es:\", pol)\n",
    "    contador += 1"
   ]
  }
 ],
 "metadata": {
  "kernelspec": {
   "display_name": "venv",
   "language": "python",
   "name": "python3"
  },
  "language_info": {
   "codemirror_mode": {
    "name": "ipython",
    "version": 3
   },
   "file_extension": ".py",
   "mimetype": "text/x-python",
   "name": "python",
   "nbconvert_exporter": "python",
   "pygments_lexer": "ipython3",
   "version": "3.10.12"
  }
 },
 "nbformat": 4,
 "nbformat_minor": 2
}
