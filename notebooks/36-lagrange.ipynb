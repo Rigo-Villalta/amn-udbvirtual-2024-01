{
 "cells": [
  {
   "cell_type": "code",
   "execution_count": 1,
   "metadata": {},
   "outputs": [
    {
     "name": "stdout",
     "output_type": "stream",
     "text": [
      "75.0*x*(1.3 - 0.1*x)*(1.6 - 0.2*x) + 77.875*x*(2.6 - 0.2*x)*(0.2*x - 0.6) + 76.3846153846154*x*(0.1*x - 0.3)*(0.2*x - 1.6)\n",
      "778.026923076923191\n",
      "-15.0*x*(1.3 - 0.1*x) - 7.5*x*(1.6 - 0.2*x) + 15.575*x*(2.6 - 0.2*x) + 15.2769230769231*x*(0.1*x - 0.3) + 7.63846153846154*x*(0.2*x - 1.6) - 15.575*x*(0.2*x - 0.6) + 75.0*(1.3 - 0.1*x)*(1.6 - 0.2*x) + 77.875*(2.6 - 0.2*x)*(0.2*x - 0.6) + 76.3846153846154*(0.1*x - 0.3)*(0.2*x - 1.6)\n",
      "3.07076923076923 - 0.523846153846153*x\n"
     ]
    },
    {
     "data": {
      "text/latex": [
       "$\\displaystyle -1.643846153846141$"
      ],
      "text/plain": [
       "-1.643846153846141"
      ]
     },
     "execution_count": 1,
     "metadata": {},
     "output_type": "execute_result"
    }
   ],
   "source": [
    "from sympy import diff\n",
    "from metodos_interpolacion import lagrange\n",
    "\n",
    "t = [0, 3, 8, 13]\n",
    "ft = [0, 225, 623, 993]\n",
    "\n",
    "polinomio = lagrange(t, ft, 17)\n",
    "print(polinomio)\n",
    "print(polinomio.evalf(18, subs={\"x\": 10}))\n",
    "velocidad = diff(polinomio)\n",
    "# Aquí en el vídeo  la velocidad es 778.026923076923030\n",
    "print(velocidad)\n",
    "velocidad.evalf(17, subs={\"x\": 5})\n",
    "aceleracion = diff(velocidad)\n",
    "print(aceleracion)\n",
    "# en el video es -1.643846153846154\n",
    "aceleracion.evalf(16, subs={\"x\": 9})"
   ]
  },
  {
   "cell_type": "code",
   "execution_count": 1,
   "metadata": {},
   "outputs": [
    {
     "name": "stdout",
     "output_type": "stream",
     "text": [
      "0.799733866*(1.25 - 1.25*x)*(1.333333333 - 1.666666667*x)*(1.5 - 2.5*x)*(2.0 - 5.0*x) + 0.995767337*(1.666666667 - 1.666666667*x)*(2.0 - 2.5*x)*(3.0 - 5.0*x)*(5.0*x - 1.0) + 1.578785484*(2.5 - 2.5*x)*(4.0 - 5.0*x)*(2.5*x - 0.5)*(5.0*x - 2.0) + 2.533884873*(5.0 - 5.0*x)*(1.666666667*x - 0.333333333)*(2.5*x - 1.0)*(5.0*x - 3.0) + 3.841470985*(1.25*x - 0.25)*(1.666666667*x - 0.666666667)*(2.5*x - 1.5)*(5.0*x - 4.0)\n",
      "El valor aproximado en la función para 0.365 es: 0.9331767716\n",
      "El valor exacto para la función en 0.365 es : 0.933186492\n",
      "El error de aproximación es 9.7E-6\n"
     ]
    }
   ],
   "source": [
    "# video 2\n",
    "# https://www.youtube.com/watch?v=zKvtqvT0ULg&list=PLtqGwSACq5Q2rGASEvPHp2nMaMsOePRqB&index=4\n",
    "\n",
    "from math import sin\n",
    "\n",
    "from metodos_interpolacion import lagrange\n",
    "\n",
    "def f_de_x(x):\n",
    "    return round((x * sin(x) + 4 * x**2 - 2 * x + 1), 9)\n",
    "\n",
    "lx =[0.2, 0.4, 0.6, 0.8, 1]\n",
    "ly = [f_de_x(x) for x in lx]\n",
    "\n",
    "polinomio = lagrange(lx, ly, 9)\n",
    "print(polinomio)\n",
    "\n",
    "f1 = polinomio.evalf(10, subs={\"x\": 0.365})\n",
    "f2 = round((0.365 * sin(0.365) + 4 * 0.365**2 - 2 * 0.365 + 1), 9)\n",
    "\n",
    "error = abs(f1 - f2)\n",
    "\n",
    "# En el vídeo la función da 0.933174245\n",
    "print(f\"El valor aproximado en la función para 0.365 es: {f1}\" )\n",
    "print(f\"El valor exacto para la función en 0.365 es : {f2}\")\n",
    "# El error es un poquito menor aquí, incluso si le reduzco a 7 dígitos\n",
    "print(f\"El error de aproximación es {error:.1E}\")"
   ]
  }
 ],
 "metadata": {
  "kernelspec": {
   "display_name": "venv",
   "language": "python",
   "name": "python3"
  },
  "language_info": {
   "codemirror_mode": {
    "name": "ipython",
    "version": 3
   },
   "file_extension": ".py",
   "mimetype": "text/x-python",
   "name": "python",
   "nbconvert_exporter": "python",
   "pygments_lexer": "ipython3",
   "version": "3.10.12"
  }
 },
 "nbformat": 4,
 "nbformat_minor": 2
}
