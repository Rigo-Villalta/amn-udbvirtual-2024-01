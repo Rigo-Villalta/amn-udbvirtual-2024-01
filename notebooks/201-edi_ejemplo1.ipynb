{
 "cells": [
  {
   "cell_type": "markdown",
   "metadata": {},
   "source": [
    "La mayoría de problemas con ecuaciones diferenciales tendrán los siguiente:\n",
    "- Una o más ecuaciones diferenciales\n",
    "- Una o más condiciones iniciales\n",
    "- Un intervalo en el cual se evalua la solución\n",
    "- Un valor h, el cual sirve para segmentar el intervalo\n",
    "\n",
    "Ejemplo 1: Resuelva el siguiente VPI usando el comando dsolve: $ 2y+y'=2sen(2t)-1 $ \n",
    "\n",
    "Con la condición inicial:  $ y(\\frac{\\pi}{4})=0 $ \n",
    "\n",
    "En el intervalo: $ \\frac{\\pi}{4} \\leq {t} \\leq \\frac{41}{100} \\pi $ en donde: $ h = \\frac{\\pi}{50} $\n",
    "\n",
    "Para la solución en Python:"
   ]
  },
  {
   "cell_type": "code",
   "execution_count": 9,
   "metadata": {},
   "outputs": [
    {
     "data": {
      "text/latex": [
       "$\\displaystyle 2 \\operatorname{Ft}{\\left(t \\right)} + \\frac{d}{d t} \\operatorname{Ft}{\\left(t \\right)} = 2 \\sin{\\left(2 t \\right)} - 1$"
      ],
      "text/plain": [
       "Eq(2*Ft(t) + Derivative(Ft(t), t), 2*sin(2*t) - 1)"
      ]
     },
     "execution_count": 9,
     "metadata": {},
     "output_type": "execute_result"
    }
   ],
   "source": [
    "from sympy import *\n",
    "\n",
    "# Declaramos las variables simbólicas\n",
    "t = symbols(\"t\")\n",
    "\n",
    "# También las funciones\n",
    "Ft = symbols(\"Ft\", cls=Function)\n",
    "\n",
    "# Ahora declaramos las ecuaciones como objetos eq\n",
    "# Las funciones tienen que declarar \n",
    "\n",
    "eq1 = Eq(2*Ft(t) + Ft(t).diff(t), + 2*sin(2*t) - 1)\n",
    "eq1"
   ]
  },
  {
   "cell_type": "code",
   "execution_count": 10,
   "metadata": {},
   "outputs": [
    {
     "data": {
      "text/latex": [
       "$\\displaystyle \\operatorname{Ft}{\\left(t \\right)} = \\frac{\\sin{\\left(2 t \\right)}}{2} - \\frac{\\cos{\\left(2 t \\right)}}{2} - \\frac{1}{2}$"
      ],
      "text/plain": [
       "Eq(Ft(t), sin(2*t)/2 - cos(2*t)/2 - 1/2)"
      ]
     },
     "execution_count": 10,
     "metadata": {},
     "output_type": "execute_result"
    }
   ],
   "source": [
    "# declaramos las condiciones iniciales\n",
    "\n",
    "condiciones_iniciales = {Ft(pi/4): 0}\n",
    "\n",
    "# Calculamos la solución algebraica con dsolve\n",
    "\n",
    "solucion_particular = dsolve(eq1, ics=condiciones_iniciales)\n",
    "solucion_particular"
   ]
  },
  {
   "cell_type": "code",
   "execution_count": 11,
   "metadata": {},
   "outputs": [
    {
     "data": {
      "text/plain": [
       "[pi/4,\n",
       " 27*pi/100,\n",
       " 29*pi/100,\n",
       " 31*pi/100,\n",
       " 33*pi/100,\n",
       " 7*pi/20,\n",
       " 37*pi/100,\n",
       " 39*pi/100,\n",
       " 41*pi/100]"
      ]
     },
     "execution_count": 11,
     "metadata": {},
     "output_type": "execute_result"
    }
   ],
   "source": [
    "# Creo un array para evaluar en la solución\n",
    "\n",
    "from numpy import arange\n",
    "\n",
    "# en este caso siempre voy a aumentar la mitad de h, ya que en Python no se\n",
    "# Toma en cuenta el stop\n",
    "\n",
    "T = [x for x in arange(pi/4, (41*pi)/100+ pi/100, pi/50)]\n",
    "T"
   ]
  },
  {
   "cell_type": "code",
   "execution_count": 12,
   "metadata": {},
   "outputs": [
    {
     "data": {
      "text/plain": [
       "[0.0,\n",
       " 0.05872396743939104,\n",
       " 0.10863652414674295,\n",
       " 0.1489505192864647,\n",
       " 0.17903017707278943,\n",
       " 0.19840112333371027,\n",
       " 0.20675786667505008,\n",
       " 0.20396861626223947,\n",
       " 0.19007736024050584]"
      ]
     },
     "execution_count": 12,
     "metadata": {},
     "output_type": "execute_result"
    }
   ],
   "source": [
    "# ahora evaluo la parte derecha de la ecuación solución en cada punto de Y\n",
    "# rhs representa la parte derecha, que es la que tiene la solución\n",
    "# La solución es verificada y da lo mismo que en la guía\n",
    "\n",
    "solucion_exacta = []\n",
    "for i in range(len(T)):\n",
    "    solucion_exacta.append(float(solucion_particular.rhs.subs(t, T[i])))\n",
    "solucion_exacta"
   ]
  }
 ],
 "metadata": {
  "kernelspec": {
   "display_name": "venv",
   "language": "python",
   "name": "python3"
  },
  "language_info": {
   "codemirror_mode": {
    "name": "ipython",
    "version": 3
   },
   "file_extension": ".py",
   "mimetype": "text/x-python",
   "name": "python",
   "nbconvert_exporter": "python",
   "pygments_lexer": "ipython3",
   "version": "3.10.12"
  }
 },
 "nbformat": 4,
 "nbformat_minor": 2
}
