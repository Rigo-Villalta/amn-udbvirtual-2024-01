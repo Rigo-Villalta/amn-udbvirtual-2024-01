{
 "cells": [
  {
   "cell_type": "markdown",
   "metadata": {},
   "source": [
    "Emplee el método de la secante para obtener la solución de la siguiente ecuación en el intervalo especificado. Emplee una precisión de 10-12. Use 15 decimales.\n",
    "\n",
    "$$ 2x \\: cos \\: cos(2x) = (x-2)^2  $$\n",
    "\n",
    "Para el punto [2, 3]\n",
    "\n",
    "Pasamos la función a la forma *f(X) = 0*:\n",
    "\n",
    "$$ 2x \\: cos \\: cos(2x) - (x-2)^2 = 0  $$"
   ]
  },
  {
   "cell_type": "code",
   "execution_count": 10,
   "metadata": {},
   "outputs": [
    {
     "data": {
      "text/html": [
       "<pre style=\"white-space:pre;overflow-x:auto;line-height:normal;font-family:Menlo,'DejaVu Sans Mono',consolas,'Courier New',monospace\">┏━━━━━━━━━━━━━━━━┳━━━━━━━━━━━━━━━━━━━┳━━━━━━━━━━━━━━━━━━━┳━━━━━━━━━━━━━━━━━━━┳━━━━━━━━━━━━━━━━━━━┓\n",
       "┃<span style=\"font-weight: bold\"> # de iteración </span>┃<span style=\"font-weight: bold\"> x0                </span>┃<span style=\"font-weight: bold\"> x1                </span>┃<span style=\"font-weight: bold\"> x2                </span>┃<span style=\"font-weight: bold\"> error             </span>┃\n",
       "┡━━━━━━━━━━━━━━━━╇━━━━━━━━━━━━━━━━━━━╇━━━━━━━━━━━━━━━━━━━╇━━━━━━━━━━━━━━━━━━━╇━━━━━━━━━━━━━━━━━━━┩\n",
       "│ 1              │ 2.000000000000000 │ 3.000000000000000 │ 2.354489916661185 │ 0.645510083338815 │\n",
       "│ 2              │ 3.000000000000000 │ 2.354489916661185 │ 2.373148783425577 │ 0.018658866764392 │\n",
       "│ 3              │ 2.354489916661185 │ 2.373148783425577 │ 2.370674115720369 │ 0.002474667705208 │\n",
       "│ 4              │ 2.373148783425577 │ 2.370674115720369 │ 2.370686907966889 │ 0.000012792246520 │\n",
       "│ 5              │ 2.370674115720369 │ 2.370686907966889 │ 2.370686917662300 │ 0.000000009695411 │\n",
       "│ 6              │ 2.370686907966889 │ 2.370686917662300 │ 2.370686917662262 │ &lt;-- solución      │\n",
       "└────────────────┴───────────────────┴───────────────────┴───────────────────┴───────────────────┘\n",
       "</pre>\n"
      ],
      "text/plain": [
       "┏━━━━━━━━━━━━━━━━┳━━━━━━━━━━━━━━━━━━━┳━━━━━━━━━━━━━━━━━━━┳━━━━━━━━━━━━━━━━━━━┳━━━━━━━━━━━━━━━━━━━┓\n",
       "┃\u001b[1m \u001b[0m\u001b[1m# de iteración\u001b[0m\u001b[1m \u001b[0m┃\u001b[1m \u001b[0m\u001b[1mx0               \u001b[0m\u001b[1m \u001b[0m┃\u001b[1m \u001b[0m\u001b[1mx1               \u001b[0m\u001b[1m \u001b[0m┃\u001b[1m \u001b[0m\u001b[1mx2               \u001b[0m\u001b[1m \u001b[0m┃\u001b[1m \u001b[0m\u001b[1merror            \u001b[0m\u001b[1m \u001b[0m┃\n",
       "┡━━━━━━━━━━━━━━━━╇━━━━━━━━━━━━━━━━━━━╇━━━━━━━━━━━━━━━━━━━╇━━━━━━━━━━━━━━━━━━━╇━━━━━━━━━━━━━━━━━━━┩\n",
       "│ 1              │ 2.000000000000000 │ 3.000000000000000 │ 2.354489916661185 │ 0.645510083338815 │\n",
       "│ 2              │ 3.000000000000000 │ 2.354489916661185 │ 2.373148783425577 │ 0.018658866764392 │\n",
       "│ 3              │ 2.354489916661185 │ 2.373148783425577 │ 2.370674115720369 │ 0.002474667705208 │\n",
       "│ 4              │ 2.373148783425577 │ 2.370674115720369 │ 2.370686907966889 │ 0.000012792246520 │\n",
       "│ 5              │ 2.370674115720369 │ 2.370686907966889 │ 2.370686917662300 │ 0.000000009695411 │\n",
       "│ 6              │ 2.370686907966889 │ 2.370686917662300 │ 2.370686917662262 │ <-- solución      │\n",
       "└────────────────┴───────────────────┴───────────────────┴───────────────────┴───────────────────┘\n"
      ]
     },
     "metadata": {},
     "output_type": "display_data"
    }
   ],
   "source": [
    "from math import cos\n",
    "from metodos_numericos import metodo_de_secante\n",
    "from  utils import imprimir_tabla\n",
    "\n",
    "def f_de_x(x):\n",
    "    return (2 * x) * ( cos(2 *x)) - (x - 2)**2\n",
    "\n",
    "resultado = metodo_de_secante(2, 3, f=f_de_x, tolerancia=1E-12, resultado=[])\n",
    "imprimir_tabla(resultado)"
   ]
  }
 ],
 "metadata": {
  "kernelspec": {
   "display_name": "venv",
   "language": "python",
   "name": "python3"
  },
  "language_info": {
   "codemirror_mode": {
    "name": "ipython",
    "version": 3
   },
   "file_extension": ".py",
   "mimetype": "text/x-python",
   "name": "python",
   "nbconvert_exporter": "python",
   "pygments_lexer": "ipython3",
   "version": "3.10.12"
  }
 },
 "nbformat": 4,
 "nbformat_minor": 2
}
