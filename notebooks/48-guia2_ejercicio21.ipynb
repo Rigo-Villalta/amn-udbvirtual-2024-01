{
 "cells": [
  {
   "cell_type": "markdown",
   "metadata": {},
   "source": [
    "Dados los valores de x: 0.2, 0.4, 0.6, 0.8, 1.0, 1.2, 1.4, 1.6 y la función:\n",
    "$$ 𝑓(𝑥) = 8 𝑠𝑒𝑛^2 (\\frac{𝜋𝑥}{12} + 𝑒^{−𝑥} − 0.25) $$\n",
    "Determine el valor aproximado de 𝑓(1.48). Además, calcule el valor exacto y el error de aproximación. Use 9 decimales"
   ]
  },
  {
   "cell_type": "code",
   "execution_count": 1,
   "metadata": {},
   "outputs": [
    {
     "name": "stderr",
     "output_type": "stream",
     "text": [
      "<>:6: SyntaxWarning: 'int' object is not callable; perhaps you missed a comma?\n",
      "<>:6: SyntaxWarning: 'int' object is not callable; perhaps you missed a comma?\n",
      "/tmp/ipykernel_7204/3740238335.py:6: SyntaxWarning: 'int' object is not callable; perhaps you missed a comma?\n",
      "  return 8 * sin**2((((pi * x) /12)) + exp(x) - 0.25)\n",
      "/tmp/ipykernel_7204/3740238335.py:6: SyntaxWarning: 'int' object is not callable; perhaps you missed a comma?\n",
      "  return 8 * sin**2((((pi * x) /12)) + exp(x) - 0.25)\n",
      "/tmp/ipykernel_7204/3740238335.py:6: SyntaxWarning: 'int' object is not callable; perhaps you missed a comma?\n",
      "  return 8 * sin**2((((pi * x) /12)) + exp(x) - 0.25)\n",
      "/tmp/ipykernel_7204/3740238335.py:6: SyntaxWarning: 'int' object is not callable; perhaps you missed a comma?\n",
      "  return 8 * sin**2((((pi * x) /12)) + exp(x) - 0.25)\n",
      "/tmp/ipykernel_7204/3740238335.py:6: SyntaxWarning: 'int' object is not callable; perhaps you missed a comma?\n",
      "  return 8 * sin**2((((pi * x) /12)) + exp(x) - 0.25)\n",
      "/tmp/ipykernel_7204/3740238335.py:6: SyntaxWarning: 'int' object is not callable; perhaps you missed a comma?\n",
      "  return 8 * sin**2((((pi * x) /12)) + exp(x) - 0.25)\n",
      "/tmp/ipykernel_7204/3740238335.py:6: SyntaxWarning: 'int' object is not callable; perhaps you missed a comma?\n",
      "  return 8 * sin**2((((pi * x) /12)) + exp(x) - 0.25)\n"
     ]
    },
    {
     "ename": "TypeError",
     "evalue": "'int' object is not callable",
     "output_type": "error",
     "traceback": [
      "\u001b[0;31m---------------------------------------------------------------------------\u001b[0m",
      "\u001b[0;31mTypeError\u001b[0m                                 Traceback (most recent call last)",
      "Cell \u001b[0;32mIn[1], line 11\u001b[0m\n\u001b[1;32m      6\u001b[0m     \u001b[38;5;28;01mreturn\u001b[39;00m \u001b[38;5;241m8\u001b[39m \u001b[38;5;241m*\u001b[39m sin\u001b[38;5;241m*\u001b[39m\u001b[38;5;241m*\u001b[39m\u001b[38;5;241m2\u001b[39m((((pi \u001b[38;5;241m*\u001b[39m x) \u001b[38;5;241m/\u001b[39m\u001b[38;5;241m12\u001b[39m)) \u001b[38;5;241m+\u001b[39m exp(x) \u001b[38;5;241m-\u001b[39m \u001b[38;5;241m0.25\u001b[39m)\n\u001b[1;32m      9\u001b[0m datos_x \u001b[38;5;241m=\u001b[39m [\u001b[38;5;241m0.2\u001b[39m, \u001b[38;5;241m0.4\u001b[39m, \u001b[38;5;241m0.6\u001b[39m, \u001b[38;5;241m0.8\u001b[39m, \u001b[38;5;241m1.0\u001b[39m, \u001b[38;5;241m1.2\u001b[39m, \u001b[38;5;241m1.4\u001b[39m, \u001b[38;5;241m1.6\u001b[39m]\n\u001b[0;32m---> 11\u001b[0m resultado \u001b[38;5;241m=\u001b[39m trazador_cubico_natural(datos_x, [f_de_x(x) \u001b[38;5;28;01mfor\u001b[39;00m x \u001b[38;5;129;01min\u001b[39;00m datos_x])\n\u001b[1;32m     13\u001b[0m contador \u001b[38;5;241m=\u001b[39m \u001b[38;5;241m1\u001b[39m\n\u001b[1;32m     14\u001b[0m \u001b[38;5;28;01mfor\u001b[39;00m pol \u001b[38;5;129;01min\u001b[39;00m resultado[\u001b[38;5;241m2\u001b[39m]:\n",
      "Cell \u001b[0;32mIn[1], line 11\u001b[0m, in \u001b[0;36m<listcomp>\u001b[0;34m(.0)\u001b[0m\n\u001b[1;32m      6\u001b[0m     \u001b[38;5;28;01mreturn\u001b[39;00m \u001b[38;5;241m8\u001b[39m \u001b[38;5;241m*\u001b[39m sin\u001b[38;5;241m*\u001b[39m\u001b[38;5;241m*\u001b[39m\u001b[38;5;241m2\u001b[39m((((pi \u001b[38;5;241m*\u001b[39m x) \u001b[38;5;241m/\u001b[39m\u001b[38;5;241m12\u001b[39m)) \u001b[38;5;241m+\u001b[39m exp(x) \u001b[38;5;241m-\u001b[39m \u001b[38;5;241m0.25\u001b[39m)\n\u001b[1;32m      9\u001b[0m datos_x \u001b[38;5;241m=\u001b[39m [\u001b[38;5;241m0.2\u001b[39m, \u001b[38;5;241m0.4\u001b[39m, \u001b[38;5;241m0.6\u001b[39m, \u001b[38;5;241m0.8\u001b[39m, \u001b[38;5;241m1.0\u001b[39m, \u001b[38;5;241m1.2\u001b[39m, \u001b[38;5;241m1.4\u001b[39m, \u001b[38;5;241m1.6\u001b[39m]\n\u001b[0;32m---> 11\u001b[0m resultado \u001b[38;5;241m=\u001b[39m trazador_cubico_natural(datos_x, [\u001b[43mf_de_x\u001b[49m\u001b[43m(\u001b[49m\u001b[43mx\u001b[49m\u001b[43m)\u001b[49m \u001b[38;5;28;01mfor\u001b[39;00m x \u001b[38;5;129;01min\u001b[39;00m datos_x])\n\u001b[1;32m     13\u001b[0m contador \u001b[38;5;241m=\u001b[39m \u001b[38;5;241m1\u001b[39m\n\u001b[1;32m     14\u001b[0m \u001b[38;5;28;01mfor\u001b[39;00m pol \u001b[38;5;129;01min\u001b[39;00m resultado[\u001b[38;5;241m2\u001b[39m]:\n",
      "Cell \u001b[0;32mIn[1], line 6\u001b[0m, in \u001b[0;36mf_de_x\u001b[0;34m(x)\u001b[0m\n\u001b[1;32m      5\u001b[0m \u001b[38;5;28;01mdef\u001b[39;00m \u001b[38;5;21mf_de_x\u001b[39m(x):\n\u001b[0;32m----> 6\u001b[0m     \u001b[38;5;28;01mreturn\u001b[39;00m \u001b[38;5;241m8\u001b[39m \u001b[38;5;241m*\u001b[39m sin\u001b[38;5;241m*\u001b[39m\u001b[38;5;241m*\u001b[39m\u001b[38;5;241;43m2\u001b[39;49m\u001b[43m(\u001b[49m\u001b[43m(\u001b[49m\u001b[43m(\u001b[49m\u001b[43m(\u001b[49m\u001b[43mpi\u001b[49m\u001b[43m \u001b[49m\u001b[38;5;241;43m*\u001b[39;49m\u001b[43m \u001b[49m\u001b[43mx\u001b[49m\u001b[43m)\u001b[49m\u001b[43m \u001b[49m\u001b[38;5;241;43m/\u001b[39;49m\u001b[38;5;241;43m12\u001b[39;49m\u001b[43m)\u001b[49m\u001b[43m)\u001b[49m\u001b[43m \u001b[49m\u001b[38;5;241;43m+\u001b[39;49m\u001b[43m \u001b[49m\u001b[43mexp\u001b[49m\u001b[43m(\u001b[49m\u001b[43mx\u001b[49m\u001b[43m)\u001b[49m\u001b[43m \u001b[49m\u001b[38;5;241;43m-\u001b[39;49m\u001b[43m \u001b[49m\u001b[38;5;241;43m0.25\u001b[39;49m\u001b[43m)\u001b[49m\n",
      "\u001b[0;31mTypeError\u001b[0m: 'int' object is not callable"
     ]
    }
   ],
   "source": [
    "from math import exp, pi, sin\n",
    "\n",
    "from metodos_interpolacion import trazador_cubico_natural\n",
    "\n",
    "def f_de_x(x):\n",
    "    return 8 * (sin((((pi * x) /12)) + exp(x) - 0.25))**2\n",
    "\n",
    "\n",
    "datos_x = [0.2, 0.4, 0.6, 0.8, 1.0, 1.2, 1.4, 1.6]\n",
    "\n",
    "resultado = trazador_cubico_natural(datos_x, [f_de_x(x) for x in datos_x])\n",
    "\n",
    "contador = 1\n",
    "for pol in resultado[2]:\n",
    "    print(f\"El trazador {contador} es:\", pol)\n",
    "    contador += 1"
   ]
  }
 ],
 "metadata": {
  "kernelspec": {
   "display_name": "venv",
   "language": "python",
   "name": "python3"
  },
  "language_info": {
   "codemirror_mode": {
    "name": "ipython",
    "version": 3
   },
   "file_extension": ".py",
   "mimetype": "text/x-python",
   "name": "python",
   "nbconvert_exporter": "python",
   "pygments_lexer": "ipython3",
   "version": "3.10.12"
  }
 },
 "nbformat": 4,
 "nbformat_minor": 2
}
