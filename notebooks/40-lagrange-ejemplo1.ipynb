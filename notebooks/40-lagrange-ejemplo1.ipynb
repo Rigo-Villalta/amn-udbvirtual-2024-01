{
 "cells": [
  {
   "cell_type": "code",
   "execution_count": 8,
   "metadata": {},
   "outputs": [
    {
     "name": "stdout",
     "output_type": "stream",
     "text": [
      "L_0(10)=  0.134615384615385\n",
      "El L_0 es: \n",
      "(x - 13)*(x - 8)*(x - 3)\n",
      "------------------------------\n",
      "            -312.0 \n",
      "\n",
      "L_1(10)=  -0.4\n",
      "El L_1 es: \n",
      "x*(x - 13)*(x - 8)\n",
      "----------------------\n",
      "        150.0 \n",
      "\n",
      "L_2(10)=  1.05\n",
      "El L_2 es: \n",
      "x*(x - 13)*(x - 3)\n",
      "----------------------\n",
      "        -200.0 \n",
      "\n",
      "L_3(10)=  0.215384615384615\n",
      "El L_3 es: \n",
      "x*(x - 8)*(x - 3)\n",
      "---------------------\n",
      "        650.0 \n",
      "\n",
      "El polinomio de lagrange es:  3*x*(x - 13)*(x - 8)/2 - 623*x*(x - 13)*(x - 3)/200 + 993*x*(x - 8)*(x - 3)/650 \n",
      "\n",
      "El valor aproximado de 10 en la función es: 778.026923076923077\n",
      "\n"
     ]
    }
   ],
   "source": [
    "from sympy import nsimplify, symbols, simplify\n",
    "\n",
    "x = symbols(\"x\", positive=True)\n",
    "valor_a_aproximar = 10\n",
    "datos_x = [0, 3, 8, 13]\n",
    "datos_y = [0, 225, 623, 993]\n",
    "n = len(datos_x)\n",
    "polinomio = float(0.0)\n",
    "for i in range(n):\n",
    "    numerador = float(1.0)\n",
    "    denominador = float(1.0)\n",
    "    for j in range(n):\n",
    "        if j != i:\n",
    "            numerador = numerador * (x - datos_x[j])\n",
    "            denominador = denominador * (datos_x[i] - datos_x[j])\n",
    "    L = nsimplify(\n",
    "        numerador / float(denominador), tolerance=0.00001, rational_conversion=True\n",
    "    )\n",
    "    valor_evaluado = round(float(L.evalf(subs={x: valor_a_aproximar})), 15)\n",
    "    print(f\"L_{i}({valor_a_aproximar})= \", valor_evaluado)\n",
    "    L_formateado = f\"{nsimplify(numerador)}\\n{'-'* len(str(numerador))}\\n{' ' * ((len(str(numerador))- len(str(denominador))) // 2)}{denominador}\"\n",
    "    print(f\"El L_{i} es: \")\n",
    "    print(f\"{str(L_formateado)}\", \"\\n\")\n",
    "    polinomio += L * datos_y[i]\n",
    "print(\"El polinomio de lagrange es: \", str(nsimplify(polinomio)), \"\\n\")\n",
    "valor_aproximado = round(polinomio.evalf(18, subs={x: valor_a_aproximar}), 15)\n",
    "print(\n",
    "    f\"El valor aproximado de {valor_a_aproximar} en la función es: {valor_aproximado}\\n\"\n",
    ")"
   ]
  }
 ],
 "metadata": {
  "kernelspec": {
   "display_name": "venv",
   "language": "python",
   "name": "python3"
  },
  "language_info": {
   "codemirror_mode": {
    "name": "ipython",
    "version": 3
   },
   "file_extension": ".py",
   "mimetype": "text/x-python",
   "name": "python",
   "nbconvert_exporter": "python",
   "pygments_lexer": "ipython3",
   "version": "3.10.12"
  }
 },
 "nbformat": 4,
 "nbformat_minor": 2
}
