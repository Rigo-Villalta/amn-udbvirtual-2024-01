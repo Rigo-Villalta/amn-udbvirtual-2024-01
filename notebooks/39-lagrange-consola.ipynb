{
 "cells": [
  {
   "cell_type": "code",
   "execution_count": 6,
   "metadata": {},
   "outputs": [
    {
     "name": "stdout",
     "output_type": "stream",
     "text": [
      "L_0(0.365)=  0.0623713867187500\n",
      "El L_0 es: \n",
      "(x - 1)*(x - 9/10)*(x - 3/5)*(x - 2/5)\n",
      "-----------------------------------------\n",
      "                 0.0448 \n",
      "\n",
      "L_1(0.365)=  1.09773640625000\n",
      "El L_1 es: \n",
      "(x - 1)*(x - 9/10)*(x - 3/5)*(x - 1/5)\n",
      "-----------------------------------------\n",
      "          -0.011999999999999999 \n",
      "\n",
      "L_2(0.365)=  -0.204365820312500\n",
      "El L_2 es: \n",
      "(x - 1)*(x - 9/10)*(x - 2/5)*(x - 1/5)\n",
      "-----------------------------------------\n",
      "                 0.0096 \n",
      "\n",
      "L_3(0.365)=  0.0820737500000000\n",
      "El L_3 es: \n",
      "(x - 1)*(x - 3/5)*(x - 2/5)*(x - 1/5)\n",
      "-----------------------------------------\n",
      "          -0.010499999999999999 \n",
      "\n",
      "L_4(0.365)=  -0.0378157226562500\n",
      "El L_4 es: \n",
      "(x - 9/10)*(x - 3/5)*(x - 2/5)*(x - 1/5)\n",
      "-------------------------------------------\n",
      "           0.019199999999999995 \n",
      "\n",
      "El polinomio de lagrange es:  11157001481013*(x - 1)*(x - 9/10)*(x - 3/5)*(x - 2/5)/625000000000 - 207451528525721*(x - 1)*(x - 9/10)*(x - 3/5)*(x - 1/5)/2500000000000 + 5139275664183*(x - 1)*(x - 9/10)*(x - 2/5)*(x - 1/5)/31250000000 - 299523258920451*(x - 1)*(x - 3/5)*(x - 2/5)*(x - 1/5)/1000000000000 + 100038306896039*(x - 9/10)*(x - 3/5)*(x - 2/5)*(x - 1/5)/500000000000 \n",
      "\n",
      "El valor aproximado de 0.365 en la función es: 0.933174245\n",
      "\n",
      "El valor real  de 0.365 evaluado en  la función es: 0.9331864924840726\n",
      "\n",
      "El error es de 1.2E-5\n"
     ]
    }
   ],
   "source": [
    "from math import sin\n",
    "from sympy import nsimplify, symbols\n",
    "\n",
    "def f_de_x(y):\n",
    "    return y * sin(y) + 4*y**2 - 2*y + 1\n",
    "\n",
    "\n",
    "x = symbols(\"x\", positive = True)\n",
    "valor_a_aproximar = 0.365\n",
    "datos_x = [0.2, 0.4, 0.6, 0.9, 1]\n",
    "datos_y = [f_de_x(y) for y in datos_x]\n",
    "n = len(datos_x)\n",
    "polinomio = float(0.0)\n",
    "for i in range(n):\n",
    "    numerador = float(1.0)\n",
    "    denominador = float(1.0)\n",
    "    for j in range(n):\n",
    "        if j != i:\n",
    "            numerador = numerador * (x - datos_x[j])\n",
    "            denominador = denominador * (datos_x[i] - datos_x[j])\n",
    "    L =  nsimplify(numerador / float(denominador), tolerance=0.00001, rational_conversion=True)\n",
    "    valor_evaluado = L.evalf(subs={x: valor_a_aproximar})\n",
    "    print(f\"L_{i}({valor_a_aproximar})= \", valor_evaluado)\n",
    "    L_formateado = f\"{nsimplify(numerador)}\\n{'-'* len(str(numerador))}\\n{' ' * ((len(str(numerador))- len(str(denominador))) // 2)}{denominador}\"\n",
    "    print(f\"El L_{i} es: \")\n",
    "    print(f\"{str(L_formateado)}\", \"\\n\")\n",
    "    polinomio += L * datos_y[i]\n",
    "print(\"El polinomio de lagrange es: \", str(nsimplify(polinomio)), \"\\n\")\n",
    "valor_aproximado = round(polinomio.evalf(18, subs={x: valor_a_aproximar}), 9)\n",
    "print(f\"El valor aproximado de {valor_a_aproximar} en la función es: {valor_aproximado}\\n\")\n",
    "valor_real = f_de_x(0.365)\n",
    "print(f\"El valor real  de {valor_a_aproximar} evaluado en  la función es: {valor_real}\\n\")\n",
    "error = abs(valor_aproximado - valor_real)\n",
    "print(f\"El error es de {error:.1E}\")"
   ]
  }
 ],
 "metadata": {
  "kernelspec": {
   "display_name": "venv",
   "language": "python",
   "name": "python3"
  },
  "language_info": {
   "codemirror_mode": {
    "name": "ipython",
    "version": 3
   },
   "file_extension": ".py",
   "mimetype": "text/x-python",
   "name": "python",
   "nbconvert_exporter": "python",
   "pygments_lexer": "ipython3",
   "version": "3.10.12"
  }
 },
 "nbformat": 4,
 "nbformat_minor": 2
}
